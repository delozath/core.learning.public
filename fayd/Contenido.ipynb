{
 "cells": [
  {
   "cell_type": "markdown",
   "id": "4a138063",
   "metadata": {},
   "source": [
    "# Filtrado Analógico y Digital (FAyD)\n",
    "\n",
    "La Unidad Enseñanza Aprendizaje *Filtrado Analógico y digital* de la licenciatura en [Ingeniería Biomédica](http://die.izt.uam.mx/index.php/ingenieria-biomedica/) de la [Universidad Autónonoma Metropolitana Unidad Iztapalapa](http://www.izt.uam.mx/) tiene como propósito que los alumnos utilicen diseñen e implementen filtros digitales analógicos y digitales óptimos con aplicaciones en señales biomédicas reales.\n",
    "\n",
    "Este repositorio se encuentra actualizandose (2022.12.07) por lo que algunos enlaces o scripts podrían modificars.\n",
    "\n",
    "---\n",
    "# Contenido\n",
    "## Introducción\n",
    "\n",
    "1. [Números complejos](src/Introducción/Numeros%20Complejos.ipynb)\n",
    "1. [Sistemas Lineales Inveriantes en el Tiempo](src/Introducción/Sistemas%20Lineales%20Inveriantes%20en%20el%20Tiempo.ipynb)\n",
    "1. [Espectro de frecuencias de una señal](src/Introducción/Espectro%20de%20frecuencias%20de%20una%20señal.ipynb)\n",
    "1. [Diagramas de Bode](src/Introducción/Diagramas%20de%20Bode.ipynb)\n",
    "\n",
    "\n",
    "[Licencia (CC BY-NC 3.0)](https://creativecommons.org/licenses/by-nc/3.0/)\n",
    "\n",
    "[Dr. Omar Piña Ramírez](https://www.researchgate.net/profile/Omar_Pina-Ramirez) "
   ]
  }
 ],
 "metadata": {
  "kernelspec": {
   "display_name": "Python 3",
   "language": "python",
   "name": "python3"
  },
  "language_info": {
   "codemirror_mode": {
    "name": "ipython",
    "version": 3
   },
   "file_extension": ".py",
   "mimetype": "text/x-python",
   "name": "python",
   "nbconvert_exporter": "python",
   "pygments_lexer": "ipython3",
   "version": "3.10.6"
  }
 },
 "nbformat": 4,
 "nbformat_minor": 5
}
