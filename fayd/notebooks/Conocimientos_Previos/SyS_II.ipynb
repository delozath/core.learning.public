{
 "cells": [
  {
   "cell_type": "markdown",
   "id": "8137d03f",
   "metadata": {},
   "source": [
    "# Señales II<a class=\"anchor\" id=\"s2\"></a>\n",
    "---"
   ]
  },
  {
   "cell_type": "markdown",
   "id": "910ac304",
   "metadata": {
    "id": "910ac304"
   },
   "source": [
    "# Tabla de contenido\n",
    "\n",
    "* [Señales II](#s2)\n",
    "  * [Laplace](#l)\n",
    "    * [Transformada de Laplace](#tl)\n",
    "      * [Uso de fracciones parciales en la ecuación de transferencia](#U)\n",
    "      * [Graficación](#G)\n",
    "    * [Transformada Inversa de Laplace](#TI)\n",
    "    * [Ecuación de transferencia ](#edt)\n",
    "    * [Estabilidad del sistema](#e)\n",
    "    * [Tabla de Transformadas de Laplace](#ttl)\n",
    "    * [Tabla de propiedades de la Transformada de Laplace](#tpt)\n",
    "  * [Filtro pasa bajas](#fpb)\n",
    "     * [Filtro pasa bajas de primer orden con Python](#fpb1)\n",
    "     * [Filtro pasa bajas de segundo orden](#fpb2)\n",
    "  * [ Filtro pasa altas](#fba)\n",
    "  * [ Filtro pasa banda](#fp)\n",
    "  * [ Filtro rechaza banda](#fr)\n",
    "  * [Números complejos](#nc)\n",
    "  * [ Transformación Z](#TZ)\n",
    "  * [ Fourier](#F)\n",
    "     * [ La Transformada de Fourier ](#ltf)\n",
    "     * [ Función de transferecia](#fT)\n",
    "     * [ Tablas](#T)"
   ]
  },
  {
   "cell_type": "markdown",
   "id": "892a7852",
   "metadata": {
    "id": "892a7852"
   },
   "source": [
    "---"
   ]
  },
  {
   "cell_type": "markdown",
   "id": "198b2d63",
   "metadata": {
    "id": "198b2d63"
   },
   "source": [
    "# Laplace<a class=\"anchor\" id=\"l\"></a>"
   ]
  },
  {
   "cell_type": "markdown",
   "id": "5dd5e461",
   "metadata": {
    "id": "5dd5e461"
   },
   "source": [
    "Usaremos las librerías ya conocidas para esta parte"
   ]
  },
  {
   "cell_type": "code",
   "execution_count": 2,
   "id": "28b64f50",
   "metadata": {
    "id": "28b64f50"
   },
   "outputs": [],
   "source": [
    "import numpy as np\n",
    "import matplotlib.pyplot as plt"
   ]
  },
  {
   "cell_type": "code",
   "execution_count": 3,
   "id": "aa272c20",
   "metadata": {
    "id": "aa272c20"
   },
   "outputs": [],
   "source": [
    "import sympy as sym"
   ]
  },
  {
   "cell_type": "markdown",
   "id": "61059910",
   "metadata": {
    "id": "61059910"
   },
   "source": [
    "**SymPy** es una biblioteca de matemáticas simbólicas en Python que permite realizar cálculos simbólicos, manipulaciones algebraicas, resolver ecuaciones, realizar integración y diferenciación simbólica, trabajar con expresiones matemáticas simbólicas y mucho más. Proporciona una amplia gama de funciones y herramientas para trabajar con símbolos matemáticos en lugar de valores numéricos."
   ]
  },
  {
   "cell_type": "markdown",
   "id": "c96ba001",
   "metadata": {
    "id": "c96ba001"
   },
   "source": [
    "## Uso de fracciones parciales en la ecuación de transferencia <a class=\"anchor\" id=\"U\"></a>\n",
    "Algunas veces podemos resolver la ecuación de transferencia $H(s)$ de un sistema, mediante fracciones parciales. Dependiendo del orden del sistema.\n",
    "\n",
    "Por ejemplo:\n",
    "Si tenemos una función de transferencia de tipo: $H(S)= \\dfrac{1}{(s+1)(s+2)}$\n",
    "\n",
    "Podemos obtener el valor de los coeficientes, con la siguiente estructura de código:"
   ]
  },
  {
   "cell_type": "code",
   "execution_count": 4,
   "id": "6c3b6b05",
   "metadata": {
    "id": "6c3b6b05"
   },
   "outputs": [],
   "source": [
    "s = sym.Symbol('s')\n",
    "\n",
    "Hs = 1/((s+1)*(s+2))"
   ]
  },
  {
   "cell_type": "markdown",
   "id": "92547819",
   "metadata": {
    "id": "92547819"
   },
   "source": [
    "<code>**sym.Symbol('s')**</code> crea un símbolo matemático llamado \"s\" (o cualquier otra letra) que se puede utilizar para representar variables simbólicas en SymPy."
   ]
  },
  {
   "cell_type": "code",
   "execution_count": 5,
   "id": "0be200c9",
   "metadata": {
    "id": "0be200c9"
   },
   "outputs": [],
   "source": [
    "Hs_parcial = sym.apart(Hs,s)"
   ]
  },
  {
   "cell_type": "markdown",
   "id": "cfcc14d3",
   "metadata": {
    "id": "cfcc14d3"
   },
   "source": [
    "La función <code>**sym.apart(Hs, s)**</code> en SymPy se utiliza para descomponer una expresión racional en fracciones parciales con respecto a una variable simbólica dada.\n",
    "\n",
    "<br> El primer argumento de la función <code>**sym.apart()**</code> es la expresión racional que se desea descomponer en fracciones parciales, y el segundo argumento especifica la variable con respecto a la cual se realizará la descomposición.\n",
    "\n",
    "<br> En el codigo tenemos una expresión racional **Hs** que involucra la variable simbólica **\"s\"** y que se quiere descomponer en fracciones parciales con respecto a **\"s\"**"
   ]
  },
  {
   "cell_type": "code",
   "execution_count": 6,
   "id": "feaf7efb",
   "metadata": {
    "colab": {
     "base_uri": "https://localhost:8080/"
    },
    "id": "feaf7efb",
    "outputId": "381d2452-bcd0-4d1a-bf43-deed0c2605b4"
   },
   "outputs": [
    {
     "name": "stdout",
     "output_type": "stream",
     "text": [
      "H(s):\n",
      "       1       \n",
      "───────────────\n",
      "(s + 1)⋅(s + 2)\n",
      "\n",
      " H(s) en  fracciones parciales:\n",
      "    1       1  \n",
      "- ───── + ─────\n",
      "  s + 2   s + 1\n"
     ]
    }
   ],
   "source": [
    "print('H(s):')\n",
    "sym.pprint(Hs)\n",
    "print('\\n H(s) en  fracciones parciales:')\n",
    "sym.pprint(Hs_parcial)"
   ]
  },
  {
   "cell_type": "markdown",
   "id": "2a9b2504",
   "metadata": {
    "id": "2a9b2504"
   },
   "source": [
    "La función <code>**sym.pprint()**</code> en SymPy se utiliza para imprimir de manera más legible y formateada una expresión matemática o un objeto simbólico en la consola."
   ]
  },
  {
   "cell_type": "code",
   "execution_count": 7,
   "id": "c2ff65fe",
   "metadata": {
    "colab": {
     "base_uri": "https://localhost:8080/"
    },
    "id": "c2ff65fe",
    "outputId": "7a976cd2-dae3-4e62-e9c7-9f2a416d007b"
   },
   "outputs": [
    {
     "name": "stdout",
     "output_type": "stream",
     "text": [
      "Forma normal:\n",
      "sin(x)/x\n",
      "\n",
      "Forma pretty print:\n",
      "sin(x)\n",
      "──────\n",
      "  x   \n"
     ]
    }
   ],
   "source": [
    "#Ejemplo de uso de sym.pprint()\n",
    "x = sym.Symbol('x')\n",
    "expr = sym.sin(x) / x\n",
    "\n",
    "print(\"Forma normal:\")\n",
    "print(expr)\n",
    "\n",
    "print(\"\\nForma pretty print:\")\n",
    "sym.pprint(expr)"
   ]
  },
  {
   "cell_type": "markdown",
   "id": "8008f3d6",
   "metadata": {
    "id": "8008f3d6"
   },
   "source": [
    "## Transformada de Laplace <a class=\"anchor\" id=\"tl\"></a>\n",
    " La transformada de Laplace permite simplificar el proceso de solución de ecuaciones integro-diferenciales usando operaciones más simples al cambiar desde el dominio del tiempo **'t'** al dominio **'s'**.\n",
    "\n",
    "Para una señal contínua **x(t)**, la transformada de Laplace esta definida como:\n",
    "\n",
    "$${ \\LARGE X(s) = \\int_{-\\infty}^{\\infty} x(t)e^{-st}dt} $$\n",
    "\n",
    "\n",
    "Para el caso de señales contínuas, lineales y causales, se define una señal **x(t)** que tiene un componente escalón unitario **μ(t)**, por lo que la integral se desarrolla de forma unilateral. Se enfatiza que se entiende como transformada de Laplace unilateral si cada señal **x(t)** es cero para **t<0**, y es apropiado indicarlo al multiplicar la señal por el escalón unitario **μ(t)**\n",
    "\n",
    "$${\\Large X(s) = \\int_{-\\infty}^{\\infty} x(t)\\mu(t)e^{-st}dt =  \\int_{0}^{\\infty} x(t)\\mu(t)e^{-st}dt}$$\n",
    "\n",
    "\n",
    "Para la transformada de Laplace unilateral, existe una transformada inversa de **X(s)** que es única. En consecuencia, no hay necesidad de especificar la región de convergencia **(ROC)** de forma explícita. Motivo por el que generalmente no se menciona la ROC para transformadas unilaterales. **(Lathi p337)**.\n",
    "\n",
    "La señal **x(t)** es la inversa de la transformada **X(s)**, que se obtiene de la forma:\n",
    "\n",
    "$$ {\\LARGE x(t) = \\dfrac{1}{2 \\pi j}\\int_{c-\\infty}^{c+\\infty} x(s)e^{-st}dt}$$\n",
    "\n",
    "\n",
    "donde **c** es una constante seleccionada para asegurar la convergencia de la integral.\n",
    "\n",
    "Los pares de ecuaciones conocidos como «Pares de la transformada de Laplace» se escriben de forma simbólica:\n",
    "\n",
    "$${\\LARGE X(s)\\Rightarrow \\mathscr{L}[x(t)]}$$\n",
    "<br> $${\\LARGE x(t)\\Rightarrow \\mathscr{L}^{-1}[X(s)]}$$\n",
    "\n",
    "que tienen algunas propiedades de interés para señales y sistemas como la linealidad,\n",
    "\n",
    "$${\\LARGE \\mathscr{L} [a_{1}x_{1}(t) + a_{2}x_{2}(t)] = a_{1}X_{1}(s) + a_{2}X_{2}(s)}$$\n",
    "\n",
    "Por ejemplo:\n",
    "Para una señal $x(t)=e^{-at}μ(t)$, encuentre la transformada **X(s)** y su región de convergencia **(ROC)**.\n",
    "\n",
    "$${\\LARGE x(t) = e^{-at}\\mu(t)}$$\n",
    "\n",
    "Considerando que **μ(t)=0** para **t<0** y **μ(t)=1** para **t≥0**:\n",
    "\n",
    "$$ {\\LARGE X(s) = \\int_{}^{\\infty} e^{-at}e^{-st} \\delta t}$$\n",
    "<br> $$ {\\LARGE X(s) = \\dfrac{1}{s +a}}$$\n",
    "\n",
    "Se puede observar que la región de convergencia, **ROC**, de **X(s)** es **Re(s)>-a**, como se muestra en la gráfica. Para otros valores de s el integral no converge.\n",
    "\n",
    "Para el ejemplo, siendo **a=2,** se obtiene con el algoritmo el resultado y las gráficas presentadas:"
   ]
  },
  {
   "cell_type": "code",
   "execution_count": 8,
   "id": "c1acce6c",
   "metadata": {
    "id": "c1acce6c"
   },
   "outputs": [],
   "source": [
    "# Ingreso\n",
    "t = sym.Symbol('t', real=True)\n",
    "a = sym.Symbol('a', real=True)\n",
    "s = sym.Symbol('s')\n",
    "u = sym.Heaviside(t)"
   ]
  },
  {
   "cell_type": "markdown",
   "id": "770c4114",
   "metadata": {
    "id": "770c4114"
   },
   "source": [
    "Define los símbolos **t**, **a** y **s** utilizando la función <code>**sym.Symbol**</code> de SymPy."
   ]
  },
  {
   "cell_type": "code",
   "execution_count": 9,
   "id": "2127075f",
   "metadata": {
    "id": "2127075f"
   },
   "outputs": [],
   "source": [
    "ft = sym.exp(-a*t)*u"
   ]
  },
  {
   "cell_type": "markdown",
   "id": "ba87b173",
   "metadata": {
    "id": "ba87b173"
   },
   "source": [
    "Define la función de tiempo **ft** utilizando los símbolos y la función escalón <code>**sym.Heaviside.**</code> La función **ft** es una función exponencial decreciente multiplicada por el escalón de Heaviside.\n"
   ]
  },
  {
   "cell_type": "code",
   "execution_count": 10,
   "id": "b5efad73",
   "metadata": {
    "id": "b5efad73"
   },
   "outputs": [],
   "source": [
    "a_k = 2 # valor de 'a' constante\n",
    "# Grafica, intervalo tiempo [t_a,t_b]\n",
    "t_a = -1 ; t_b = 10\n",
    "muestras = 101  # 51 resolucion grafica"
   ]
  },
  {
   "cell_type": "markdown",
   "id": "21c17179",
   "metadata": {
    "id": "21c17179"
   },
   "source": [
    "Define un valor constante **a_k** para el parámetro **a**.\n",
    "\n",
    "Define los intervalos de tiempo para la gráfica y el número de muestras."
   ]
  },
  {
   "cell_type": "code",
   "execution_count": 11,
   "id": "fed2fa79",
   "metadata": {
    "id": "fed2fa79"
   },
   "outputs": [],
   "source": [
    "fts = ft*sym.exp(-s*t) # f(t,s) para integrar\n",
    "fts = sym.expand(fts)  # expresion de sumas\n",
    "fts = sym.powsimp(fts) # simplifica exponentes"
   ]
  },
  {
   "cell_type": "markdown",
   "id": "ea401067",
   "metadata": {
    "id": "ea401067"
   },
   "source": [
    "* La función <code>**sym.exp()**</code> es una función en SymPy que calcula la función exponencial de un argumento dado.<br>\n",
    "* La función <code>**sym.expand()**</code> es una función en SymPy que se utiliza para expandir expresiones algebraicas.<br>Cuando se aplica <code>**sym.expand()**</code> a una expresión algebraica, SymPy trata de simplificar y expandir la expresión algebraica de la manera más conveniente posible. Esto implica expandir productos y sumas, combinar términos similares y simplificar la expresión en general.\n",
    "* La función <code>**sym.powsimp()**</code> es una función en SymPy que se utiliza para simplificar exponentes en una expresión algebraica.<br>Cuando se aplica <code>**sym.powsimp()**</code> a una expresión, SymPy intenta simplificar los exponentes en la expresión algebraica. Esto implica aplicar reglas de simplificación de exponentes, como combinar exponentes con la misma base o aplicar propiedades de potencias."
   ]
  },
  {
   "cell_type": "code",
   "execution_count": 12,
   "id": "e9be61bf",
   "metadata": {
    "id": "e9be61bf"
   },
   "outputs": [],
   "source": [
    "# integral Laplace unilateral\n",
    "Fs_L = sym.integrate(fts,(t,0,sym.oo))\n",
    "Fs = Fs_L.args[0] # primera ecuacion e intervalo\n",
    "Fs = Fs[0]        # solo expresion"
   ]
  },
  {
   "cell_type": "markdown",
   "id": "84a57254",
   "metadata": {
    "id": "84a57254"
   },
   "source": [
    "* La función <code>**sym.integrate()**</code> es una función de SymPy que se utiliza para realizar la integración simbólica de una función o expresión.\n",
    "<br>Cuando se aplica <code>**sym.integrate(f, var)**</code>, donde **f** es la función o expresión a integrar y **var** es la variable de integración, SymPy intenta calcular la integral indefinida de **f** con respecto a la variable **var**.\n",
    "* En SymPy, el atributo <code>**.args**</code> se utiliza para obtener los argumentos de una expresión matemática. Devuelve una tupla de los argumentos de la expresión en el orden en que aparecen.<br>Cuando se aplica .args a una expresión, SymPy analiza la expresión y extrae sus componentes individuales como argumentos. Estos componentes pueden ser símbolos, números, operaciones matemáticas, funciones, etc.\n",
    "Por lo tanto en el\n",
    "\n",
    "En resumen esta parte del codigo calcula la integral de Laplace unilateral de **fts** con respecto a **t** utilizando la función <code>**sym.integrate**</code>. Obtiene la expresión **Fs_L** que representa la transformada de Laplace de **ft** en términos de **s** y Realiza el procesamiento adicional para extraer la expresión **Fs** de **Fs_L**."
   ]
  },
  {
   "cell_type": "code",
   "execution_count": 13,
   "id": "46593ad3",
   "metadata": {
    "id": "46593ad3"
   },
   "outputs": [],
   "source": [
    "# polos y ceros en Fs\n",
    "[P,Q] = Fs.as_numer_denom()\n",
    "P = sym.poly(P,s)\n",
    "Q = sym.poly(Q,s)\n",
    "P_ceros = sym.roots(P)\n",
    "Q_polos = sym.roots(Q)"
   ]
  },
  {
   "cell_type": "markdown",
   "id": "8059ef8d",
   "metadata": {
    "id": "8059ef8d"
   },
   "source": [
    "* El método <code>**.as_numer_denom()**</code> se utiliza en SymPy para separar una expresión matemática en su numerador y denominador. Devuelve una tupla de dos elementos, donde el primer elemento es el numerador y el segundo elemento es el denominador de la expresión original.\n",
    "* El método <code>**sym.poly()**</code> se utiliza en SymPy para crear un objeto de tipo Polinomio a partir de una expresión algebraica. Toma una expresión simbólica y la convierte en un polinomio manipulable.\n",
    "* La función <code>**sym.roots()**</code> en SymPy se utiliza para encontrar las raíces de un polinomio simbólico. Toma un polinomio simbólico como argumento y devuelve un diccionario que contiene las raíces junto con sus multiplicidades.\n",
    "\n",
    "En resumen esta parte del codigo encuentra los polos y ceros de **Fs** utilizando las funciones <code>**sym.poly**</code>,<code>**sym.roots**</code> y  guarda los resultados en **P_ceros** y **Q_polos**."
   ]
  },
  {
   "cell_type": "code",
   "execution_count": 14,
   "id": "63940788",
   "metadata": {
    "colab": {
     "base_uri": "https://localhost:8080/"
    },
    "id": "63940788",
    "outputId": "da9f6892-fa90-4b6b-89b0-e9088d8fb04c"
   },
   "outputs": [
    {
     "name": "stdout",
     "output_type": "stream",
     "text": [
      "Polinomio: Poly(x**2 + 3*x - 2, x, domain='ZZ')\n",
      "Grado: 2\n",
      "Coeficientes: [1, 3, -2]\n",
      "Raíces: {-2: 1, 2: 1}\n"
     ]
    }
   ],
   "source": [
    "#Ejemplo del uso de sym.poly y sym.roots\n",
    "x = sym.Symbol('x')\n",
    "expr = x**2 + 3*x - 2\n",
    "\n",
    "poly = sym.poly(expr, x)\n",
    "print(\"Polinomio:\", poly)\n",
    "print(\"Grado:\", poly.degree())\n",
    "print(\"Coeficientes:\", poly.all_coeffs())\n",
    "\n",
    "x = sym.Symbol('y')\n",
    "expr = x**2 - 4\n",
    "\n",
    "roots = sym.roots(expr, x)\n",
    "print(\"Raíces:\", roots)"
   ]
  },
  {
   "cell_type": "code",
   "execution_count": 15,
   "id": "dc15cc77",
   "metadata": {
    "colab": {
     "base_uri": "https://localhost:8080/"
    },
    "id": "dc15cc77",
    "outputId": "6d0f2130-d4aa-4f00-8481-f0ab0e25a998"
   },
   "outputs": [
    {
     "name": "stdout",
     "output_type": "stream",
     "text": [
      " dentro de integral f(t)*e(-st):\n",
      " -t⋅(a + s)     \n",
      "ℯ          ⋅θ(t)\n",
      "\n",
      " expresion F(s):\n",
      "  1  \n",
      "─────\n",
      "a + s\n",
      "\n",
      " {Q_polos:veces}:  {-a: 1}\n",
      " {P_ceros:veces}:  {}\n"
     ]
    }
   ],
   "source": [
    "print(' dentro de integral f(t)*e(-st):')\n",
    "sym.pprint(fts)\n",
    "print('\\n expresion F(s):')\n",
    "sym.pprint(Fs)\n",
    "print('\\n {Q_polos:veces}: ',Q_polos)\n",
    "print(' {P_ceros:veces}: ',P_ceros)"
   ]
  },
  {
   "cell_type": "markdown",
   "id": "4273571f",
   "metadata": {
    "id": "4273571f"
   },
   "source": [
    "Finalmente se imprime la expresión **fts**, la expresión **Fs**, los polos en **Q_polos** y los ceros en **P_ceros** utilizando la función sym.pprint para obtener una salida formateada y legible."
   ]
  },
  {
   "cell_type": "markdown",
   "id": "b32ada81",
   "metadata": {
    "id": "b32ada81"
   },
   "source": [
    "# Graficación<a class=\"anchor\" id=\"G\"></a>"
   ]
  },
  {
   "cell_type": "code",
   "execution_count": 16,
   "id": "90042d9c",
   "metadata": {
    "id": "90042d9c"
   },
   "outputs": [],
   "source": [
    "ft = ft.subs(a,a_k)\n",
    "Fs = Fs.subs(a,a_k)"
   ]
  },
  {
   "cell_type": "markdown",
   "id": "a50d3ac1",
   "metadata": {
    "id": "a50d3ac1"
   },
   "source": [
    "La función <code>**.subs()**</code> se utiliza en SymPy para realizar sustituciones de variables simbólicas en expresiones matemáticas. Permite reemplazar una variable o una expresión en una expresión simbólica por otro valor o expresión.\n",
    "\n",
    "Entonces esta parte del codigo sustituye el valor de **a** por **a_k** en la expresión **ft** y **Fs**."
   ]
  },
  {
   "cell_type": "code",
   "execution_count": 17,
   "id": "fcb15a89",
   "metadata": {
    "id": "fcb15a89"
   },
   "outputs": [],
   "source": [
    "ti  = np.linspace(t_a,t_b,muestras)\n",
    "f_t = sym.lambdify(t,ft)\n",
    "fti = f_t(ti)"
   ]
  },
  {
   "cell_type": "markdown",
   "id": "15281ba0",
   "metadata": {
    "id": "15281ba0"
   },
   "source": [
    "la función <code>**sym.lambdify**</code> de SymPy se utiliza para convertir una expresión simbólica en una función lambda de Python que se puede evaluar numéricamente.\n",
    "\n",
    "Entonces esta parte del codigo:\n",
    "* Evalúa la función **ft** en un intervalo de tiempo definido por **t_a** y **t_b**, generando una serie de puntos de muestra **ti**.\n",
    "* Convierte la expresión **ft** en una función lambda utilizando <code>**sym.lambdify()**</code>.\n",
    "* Evalúa la función lambda en los puntos de muestra **ti** para obtener los valores de **fti**."
   ]
  },
  {
   "cell_type": "code",
   "execution_count": 18,
   "id": "8e29740e",
   "metadata": {
    "id": "8e29740e"
   },
   "outputs": [],
   "source": [
    "[P,Q] = Fs.as_numer_denom()\n",
    "Q = Q.as_poly(s)\n",
    "Q_polos = sym.roots(Q)"
   ]
  },
  {
   "cell_type": "markdown",
   "id": "3c123d1b",
   "metadata": {
    "id": "3c123d1b"
   },
   "source": [
    "Obtiene el polinomio del denominador **Q** de **Fs** y encuentra las raíces de **Q**"
   ]
  },
  {
   "cell_type": "code",
   "execution_count": 19,
   "id": "435cd0a9",
   "metadata": {
    "id": "435cd0a9"
   },
   "outputs": [],
   "source": [
    "s_a = 0 ; s_b = 0\n",
    "polos = list(Q_polos.keys())\n",
    "s_a = int(min(s_a,min(polos)))-1\n",
    "s_b = int(max(s_b,max(polos)))+1"
   ]
  },
  {
   "cell_type": "markdown",
   "id": "08c0aaeb",
   "metadata": {
    "id": "08c0aaeb"
   },
   "source": [
    "* En Python, el método <code>**.keys()**</code> se utiliza en los diccionarios para obtener una vista de todas las claves **(keys)** presentes en el diccionario.\n",
    "* La función <code>**list()**</code> en Python se utiliza para crear una lista a partir de un iterable, como una tupla, un conjunto, una cadena de texto o incluso otra lista.\n",
    "* La función <code>**int()**</code> se utiliza para convertir un valor en un entero. Puede recibir diferentes tipos de datos como argumento y devuelve su equivalente entero, si es posible realizar la conversión.\n",
    "\n",
    "Entonces esta parte del codigo estima el intervalo para s basado en las raíces reales encontradas en el paso anterior."
   ]
  },
  {
   "cell_type": "code",
   "execution_count": 20,
   "id": "844cb1ad",
   "metadata": {
    "colab": {
     "base_uri": "https://localhost:8080/"
    },
    "id": "844cb1ad",
    "outputId": "3037e9c7-2b22-4335-b35a-868dff8e52cb"
   },
   "outputs": [
    {
     "name": "stderr",
     "output_type": "stream",
     "text": [
      "<lambdifygenerated-2>:2: RuntimeWarning: divide by zero encountered in reciprocal\n",
      "  return (s + 2)**(-1.0)\n"
     ]
    }
   ],
   "source": [
    "F_s = sym.lambdify(s,Fs)\n",
    "s_i = np.linspace(s_a,s_b,muestras)\n",
    "Fsi = F_s(s_i) # Revisar cuando s es complejo"
   ]
  },
  {
   "cell_type": "markdown",
   "id": "15cfccfe",
   "metadata": {
    "id": "15cfccfe"
   },
   "source": [
    "Convierte la expresión Fs en una función lambda utilizando <code>**sym.lambdify(s)**</code> y evalúa la función lambda en los puntos del intervalo **s_i** para obtener los valores de **Fsi**."
   ]
  },
  {
   "cell_type": "code",
   "execution_count": 72,
   "id": "2627ec5a",
   "metadata": {
    "colab": {
     "base_uri": "https://localhost:8080/",
     "height": 472
    },
    "id": "2627ec5a",
    "outputId": "3ea00040-d67a-4a9b-eaad-a57864e62419"
   },
   "outputs": [
    {
     "data": {
      "image/png": "[encoded data removed]",
      "text/plain": [
       "<Figure size 432x288 with 1 Axes>"
      ]
     },
     "metadata": {
      "needs_background": "light"
     },
     "output_type": "display_data"
    }
   ],
   "source": [
    "fig_ft, graf_ft = plt.subplots()\n",
    "plt.plot(ti,fti,label='f(t)')\n",
    "plt.xlabel('t')\n",
    "plt.ylabel('f(t)')\n",
    "plt.title('f(t) = '+str(ft)+' ; a='+str(a_k))\n",
    "plt.grid()\n"
   ]
  },
  {
   "cell_type": "markdown",
   "id": "40d808f3",
   "metadata": {
    "id": "40d808f3"
   },
   "source": [
    "En el contexto del código la expresión <code>**'+str(ft)+'**</code> se utiliza para convertir el objeto **ft** en una cadena de texto y concatenarla con otras cadenas en el contexto de una operación de concatenación de strings.\n",
    "\n",
    "La función <code>**str()**</code> se utiliza para convertir un objeto en su representación de cadena de texto en Python. Al llamar <code>**str(ft)**</code>, estás convirtiendo el objeto ft en una cadena de texto.\n",
    "\n",
    "Luego, el operador <code>**+**</code> se utiliza para concatenar cadenas de texto. En este caso, <code>**'+str(ft)+'**</code> se usa para concatenar la cadena resultante de <code>**str(ft)**</code> con otras cadenas que pueden estar presentes en el código.\n",
    "\n",
    "Esta linea de codigo entonces. Grafica la función **f(t)** en función del tiempo **t** utilizando los valores de muestra **ti**."
   ]
  },
  {
   "cell_type": "code",
   "execution_count": 76,
   "id": "613bb47f",
   "metadata": {
    "colab": {
     "base_uri": "https://localhost:8080/",
     "height": 472
    },
    "id": "613bb47f",
    "outputId": "53fbccdf-18ef-4898-ac22-49ad1a41014f"
   },
   "outputs": [
    {
     "data": {
      "image/png": "[encoded data removed]",
      "text/plain": [
       "<Figure size 432x288 with 1 Axes>"
      ]
     },
     "metadata": {
      "needs_background": "light"
     },
     "output_type": "display_data"
    }
   ],
   "source": [
    "# grafica F(s) , corte en plano real\n",
    "fig_Fs, graf_Fs = plt.subplots()\n",
    "plt.plot(s_i,Fsi, color='green',label='F(s)')\n",
    "for raiz in Q_polos.keys():\n",
    "    plt.axvline(sym.re(raiz),color='red')\n",
    "    plt.scatter(sym.re(raiz),sym.im(raiz),label='polo:'+str(raiz),marker='x',color='red')\n",
    "plt.axvline(0,color='gray')\n",
    "plt.legend()\n",
    "plt.xlabel('s')\n",
    "plt.ylabel('F(s)')\n",
    "plt.title('F(s) = '+str(Fs)+' ; a='+str(a_k))\n",
    "plt.grid()\n",
    "plt.show()"
   ]
  },
  {
   "cell_type": "markdown",
   "id": "b968a2db",
   "metadata": {
    "id": "b968a2db"
   },
   "source": [
    "* for raiz in <code>**Q_polos.keys()**</code>:: Itera sobre las claves de los polos en **Q_polos**.\n",
    "* <code>**plt.axvline(sym.re(raiz), color='red')**</code>: Traza una línea vertical en el eje x en la posición correspondiente a la parte real del polo raiz. Esto se hace para visualizar los polos en la gráfica.\n",
    "* <code>**plt.scatter(sym.re(raiz), sym.im(raiz), label='polo:'+str(raiz), marker='x', color='red')**</code>: Traza un marcador en la posición del polo, utilizando la parte real como coordenada x (sym.re(raiz)) y la parte imaginaria como coordenada y (sym.im(raiz)). El parámetro label='polo:'+str(raiz) establece la etiqueta del marcador en la leyenda y marker='x' especifica que se utilice una cruz como marcador.\n",
    "* <code>**plt.axvline(0, color='gray')**</code>: Traza una línea vertical en el eje x en la posición 0, para resaltar el eje y facilitar la visualización de la gráfica.\n",
    "* <code>**plt.legend()**</code>: Muestra la leyenda de la gráfica, que incluirá las etiquetas establecidas en las líneas de trazado."
   ]
  },
  {
   "cell_type": "markdown",
   "id": "17725401",
   "metadata": {
    "id": "17725401"
   },
   "source": [
    "## Transformada Inversa de Laplace <a class=\"anchor\" id=\"TI\"></a>\n",
    "\n",
    "Se dice que la señal **x(t)** es la transformada inversa de Laplace **X(s)** se determina como:\n",
    "\n",
    "$$ {\\LARGE x(t) = \\dfrac{1}{2 \\pi j}\\int_{c-\\infty}^{c+\\infty}X(s)e^{-st}ds}$$\n",
    "\n",
    "\n",
    "Donde **c** es una constante seleccionada para asegurar la convergencia de la integral.\n",
    "\n",
    "La operación para encontrar la transformada inversa de Laplace requiere un integral en el plano complejo. El camino de integración es a lo largo de c+jω, siendo que ω varía entre $-∞\\quad a\\quad ∞$.\n",
    "\n",
    "Para la señal $x(t)=e^{-at}μ(t)$ es posible si $c>-a$, por ejemplo para un punto $c=1$ con **ω** desde $-∞\\quad a\\quad ∞$. Sin embargo esto requiere aplicar conocimientos en teoría de funciones de variable compleja. Es posible evitar estos ‘detalles’ usando la tabla de transformadas de Laplace, donde encontrar la transformada inversa consiste en buscar el modelo de expresión en el domino **‘s‘** y buscar la pareja en el dominio del tiempo **‘t‘**.\n",
    "\n",
    "La transformada inversa de Laplace con Sympy tiene la instrucción <code>**sym.inverse_laplace_transform**</code> **(Fs,s,t)**, que para términos simples, facilita el proceso de desarrollar del integral hacia el dominio del tiempo. Para simplificar los términos de la expresión **F(s)** se usan las instrucciones como s<code>ym.expand</code> **(Fs,s)** o para fracciones parciales sym.apart**(Fs,s)**."
   ]
  },
  {
   "cell_type": "code",
   "execution_count": 23,
   "id": "9af3273d",
   "metadata": {
    "id": "9af3273d"
   },
   "outputs": [],
   "source": [
    "# INGRESO\n",
    "t = sym.Symbol('t', real=True)\n",
    "s = sym.Symbol('s')\n",
    "\n",
    "Fs = s/(s**2+3*s+2)"
   ]
  },
  {
   "cell_type": "markdown",
   "id": "fd35e427",
   "metadata": {
    "id": "fd35e427"
   },
   "source": [
    "* Define el símbolo **'t'** como una variable real\n",
    "*Define el símbolo **'s'** como una variable simbólica.\n",
    "* Define la función **F(s)** dada en el enunciado."
   ]
  },
  {
   "cell_type": "code",
   "execution_count": 24,
   "id": "4eef2724",
   "metadata": {
    "id": "4eef2724"
   },
   "outputs": [],
   "source": [
    "Fs = sym.sympify(Fs)\n",
    "Fs = sym.expand_power_exp(Fs)\n",
    "Fs = sym.expand(Fs,s)"
   ]
  },
  {
   "cell_type": "markdown",
   "id": "360ed492",
   "metadata": {
    "id": "360ed492"
   },
   "source": [
    "* La función <code>**sym.sympify()**</code> en SymPy se utiliza para convertir una expresión o cadena de texto en un objeto SymPy. Toma como entrada una expresión matemática en forma de cadena de texto o un objeto SymPy existente y devuelve una versión simbólica de la expresión.\n",
    "* La función <code>**sym.expand_power_exp()**</code> en SymPy se utiliza para expandir las expresiones que contienen exponenciales constantes. Toma una expresión como entrada y busca términos que involucren exponenciales de la forma a**b, donde a y b son constantes. Luego, expande estos términos utilizando las reglas de potenciación."
   ]
  },
  {
   "cell_type": "code",
   "execution_count": 25,
   "id": "927cee34",
   "metadata": {
    "id": "927cee34"
   },
   "outputs": [],
   "source": [
    "if not(Fs.has(sym.exp)):\n",
    "    Fs = sym.apart(Fs,s)"
   ]
  },
  {
   "cell_type": "markdown",
   "id": "cf900c30",
   "metadata": {
    "id": "cf900c30"
   },
   "source": [
    "* El método <code>**.has()**</code> es utilizado en SymPy para verificar si una expresión matemática contiene una cierta subexpresión o característica. Toma como argumento la subexpresión o característica que se desea verificar y devuelve True si está presente en la expresión y False en caso contrario.\n",
    "* **if not(Fs.has(sym.exp)): Fs =sym.apart(Fs, s)**: Verifica si la expresión de F(s) no contiene exponenciales y, en ese caso, aplica la función apart() para descomponer la fracción en fracciones parciales."
   ]
  },
  {
   "cell_type": "code",
   "execution_count": 26,
   "id": "401023fa",
   "metadata": {
    "id": "401023fa"
   },
   "outputs": [],
   "source": [
    "ft  = sym.inverse_laplace_transform(Fs,s,t)"
   ]
  },
  {
   "cell_type": "markdown",
   "id": "05c8a5d6",
   "metadata": {
    "id": "05c8a5d6"
   },
   "source": [
    "<code>**sym.inverse_laplace_transform()**</code> es una función de SymPy que se utiliza para calcular la transformada inversa de Laplace de una función en el dominio de Laplace. Toma dos argumentos: la función en el dominio de Laplace y la variable de Laplace, y devuelve la función en el dominio del tiempo."
   ]
  },
  {
   "cell_type": "code",
   "execution_count": 27,
   "id": "497efab0",
   "metadata": {
    "id": "497efab0"
   },
   "outputs": [],
   "source": [
    "lista_escalon = ft.atoms(sym.Heaviside)\n",
    "ft = sym.expand(ft,t) # terminos suma\n",
    "ft = sym.collect(ft,lista_escalon)"
   ]
  },
  {
   "cell_type": "markdown",
   "id": "26f06b2f",
   "metadata": {
    "id": "26f06b2f"
   },
   "source": [
    "* <code>**.atoms()**</code> es un método de SymPy que se utiliza para extraer todos los átomos de una expresión simbólica. Un átomo en SymPy es un objeto indivisible que no se puede descomponer más. Por ejemplo, variables, constantes, números, funciones y operadores son átomos.<br>El método <code>**.atoms()**</code> devuelve un conjunto de todos los átomos presentes en la expresión. Cada átomo se representa como un objeto individual en el conjunto.\n",
    "* El método <code>**sym.collect()**</code> se utiliza en SymPy para agrupar términos similares en una expresión. Toma una expresión simbólica y la reorganiza en una forma en la que los términos con variables similares se agrupan juntos.<br>La sintaxis general de <code>**sym.collect()**</code> es la siguiente: <code>**sym.collect(expresion, variable)** </code><br>**expresion**: La expresión simbólica en la que se desean agrupar los términos.\n",
    "<br>**variable**: La variable con respecto a la cual se desea agrupar los términos."
   ]
  },
  {
   "cell_type": "code",
   "execution_count": 28,
   "id": "4316b86e",
   "metadata": {
    "colab": {
     "base_uri": "https://localhost:8080/"
    },
    "id": "4316b86e",
    "outputId": "21a5b329-5db1-4f17-9fae-469b5f0bb5e9"
   },
   "outputs": [
    {
     "name": "stdout",
     "output_type": "stream",
     "text": [
      "\n",
      " F(s): \n",
      "  2       1  \n",
      "───── - ─────\n",
      "s + 2   s + 1\n",
      "\n",
      " f(t): \n",
      "⎛   -t      -2⋅t⎞     \n",
      "⎝- ℯ   + 2⋅ℯ    ⎠⋅θ(t)\n"
     ]
    }
   ],
   "source": [
    "# SALIDA\n",
    "print('\\n F(s): ')\n",
    "sym.pprint(Fs)\n",
    "\n",
    "print('\\n f(t): ')\n",
    "sym.pprint(ft)"
   ]
  },
  {
   "cell_type": "markdown",
   "id": "7f8cd648",
   "metadata": {
    "id": "7f8cd648"
   },
   "source": [
    "\n",
    "\n",
    "---\n",
    "\n",
    "# Ecuación de transferencia <a class=\"anchor\" id=\"edt\"></a>\n",
    "La función de transferencia de un sistema lineal invariante con el tiempo se define como la transformada de Laplace de la respuesta al impulso, con todas las condiciones iniciales iguales a cero."
   ]
  },
  {
   "cell_type": "markdown",
   "id": "46f38aa0",
   "metadata": {},
   "source": [
    "\\begin{array}{c}\n",
    "\\color{blue}{Dominio\\hspace{2mm}del\\hspace{2mm}tiempo}\\\\\n",
    "\\color{blue}{x(t)} & \\color{blue}{\\rightarrow} & \\color{blue}{\\fbox{h(t)}} & \\color{blue}{\\rightarrow} & \\color{blue}{y(t)=h(t)*x(t)}\\\\ \n",
    "\\downarrow  & & \\downarrow & &\\uparrow\\\\\n",
    "Laplace  & & Laplace & &Laplace\\hspace{2mm}inversa\\\\\n",
    "\\downarrow  & & \\downarrow & &\\uparrow\\\\\n",
    "\\color{red}{X(s)} & \\color{red}{\\rightarrow} & \\color{red}{\\fbox{H(s)}} & \\color{red}{\\rightarrow} & \\color{red}{Y(s)=H(s)*X(s)}\\\\ \n",
    "\\color{red}{Dominio\\hspace{2mm}de\\hspace{2mm}la\\hspace{2mm}frecuencia}\\\\\n",
    "\\end{array}"
   ]
  },
  {
   "cell_type": "markdown",
   "id": "47460c9c",
   "metadata": {
    "id": "47460c9c"
   },
   "source": [
    "Suponga que **H(s)** denota la función de transferencia de un sistema con una entrada y una salida, con entrada **x(t)** y salida **y(t)** y respuesta al impulso **h(t)**. Entonces la función de transferencia **H(s)** se define como:\n",
    "\n",
    "$${\\LARGE H(s) = \\mathscr{L}[h(t)] = \\dfrac{P(s)}{Q(s)}}$$\n",
    "\n",
    "Las propiedades de la función de transferencia resumidas son:\n",
    "\n",
    "1. La función de transferencia está definida solamente para un sistema lineal invariante con el tiempo. No está definida para sistemas no lineales\n",
    "\n",
    "2. La función de transferencia entre una variable de entrada y una variable de salida de un sistema está definida como la transformada de Laplace de la respuesta al impulso. Es decir, la función de transferencia entre un par de variables de entrada y salida es la relación entre la transformada de Laplace de la salida y la transformada de Laplace de la entrada\n",
    "\n",
    "3. Todas las condiciones iniciales del sistema son iguales a cero.\n",
    "\n",
    "4. La función de transferencia es independiente de la entrada del sistema\n",
    "\n",
    "5. La función de transferencia de un sistema en tiempo contínuo se expresa solo como una función de la variable compleja s. No es función de la variable real, tiempo, o cualquier otra variable que se utilice como la variable independiente.\n"
   ]
  },
  {
   "cell_type": "markdown",
   "id": "ac87dbf0",
   "metadata": {
    "id": "ac87dbf0"
   },
   "source": [
    "## Estabilidad del sistema\n",
    "En un sistema acotado (bounded) estable, sometido a una señal de entrada en la que se conoce que su salida siempre es la misma, se lo considera un sistema BIBO-estable. (Bounded input, Boundes output)\n",
    "\n",
    "La función de transferencia H(s) de un sistema es una descripción externa con la forma:\n",
    "\n",
    "$${\\LARGE H(s) = \\dfrac{P(s)}{Q(s)}}$$\n",
    "\n",
    "\n",
    "El polinomio **Q(s)** representa una descripción interna, en la que si todos los polos de **H(s)** se encuentran en la parte izquierda del plano **(left half plane, LHP)**, todos los términos **h(t)** son exponenciales decrecientes y **h(t)** es absolutamente integrable. En consecuencia el sistema es BIBO-estable.\n",
    "\n",
    "Se asume que **H(s)** es una función en la que **M ≤ N**, siendo **M** el grado de **P(s)** y **N** e grado de **Q(s)**, caso contrario el sistema es es BIBO-inestable.\n",
    "\n",
    "1. Un sistema LTI CT es asintóticamente estable si y solo si todos los polos de su función de transferencia **H(s)** se encuentran en el lado izquierdo del plano, pudiendo ser simples o repetidos.\n",
    "\n",
    "2. Un sistema LTI CT es inestable si y solo si se dan una o ambas de las condiciones:<br>2.1 Existe al menos un polo de **H(s)** en el lado derecho del plano RHP.<br>2.2 Existen polos repetidos de **H(s)** en el eje imaginario.\n",
    "\n",
    "3. Un sistema LTI CT es marginalmente estable si y solo si, no hay polos de H(s) en el lado derecho del plano RHP y algunos polos NO repetidos sobre en el eje imaginario (parte Real = 0)."
   ]
  },
  {
   "cell_type": "markdown",
   "id": "5ca6e8db",
   "metadata": {
    "id": "5ca6e8db"
   },
   "source": [
    "## Tabla de Transformadas de Laplace <a class=\"anchor\" id=\"ttl\"></a>\n",
    "\n",
    "\\begin{array}{|c|c|} \\hline\n",
    "f(t) = \\mathscr{L}^{-1}\\{F(s)\\} & F(s)=\\mathscr{L}\\{f(t)\\}\\\\ \\hline\n",
    " 1 & \\dfrac{1}{s} \\\\ \\hline\n",
    " t & \\dfrac{1}{s^{2}} \\\\ \\hline\n",
    " {t^{n}} & \\dfrac{n!}{s^{n+1}}, donde \\hspace{2mm}n \\hspace{2mm}es\\hspace{2mm} un\\hspace{2mm} entero\\hspace{2mm} positivo \\\\ \\hline\n",
    "{t^{-1/2}} & \\sqrt{\\dfrac{π}{s}} \\\\ \\hline\n",
    "{t^{1/2}} & \\dfrac{\\sqrt{\\pi}}{2s^{3/2}} \\\\ \\hline\n",
    "{t^{α}} & \\dfrac{Γ({α+1})}{s^{a+1}}, \\hspace{2mm}{α>-1} \\\\ \\hline\n",
    "\\sin{kt} & \\dfrac{k}{s^{2}+k^{2}} \\\\ \\hline\n",
    "\\cos{kt} & \\dfrac{s}{s^{2}+k^{2}} \\\\ \\hline\n",
    "\\sin^{2}{kt} & \\dfrac{2k^{2}}{s({s^{2}+4k^{2}})} \\\\ \\hline\n",
    "\\cos^{2}{kt} & \\dfrac{s^{2}+2k^{2}}{s({s^{2}+4k^{2}})} \\\\ \\hline\n",
    " {e^{at}} & \\dfrac{1}{s-a} \\\\ \\hline\n",
    " \\sinh{kt} & \\dfrac{k}{s^{2}-k^{2}} \\\\ \\hline\n",
    " \\cosh{kt} & \\dfrac{s}{s^{2}-k^{2}} \\\\ \\hline\n",
    " \\sinh^{2}{kt} & \\dfrac{2k^{2}}{s({s^{2}-4k^{2}})} \\\\ \\hline\n",
    " \\cosh^{2}{kt} & \\dfrac{s^{2}-2k^{2}}{s({s^{2}-4k^{2}})} \\\\ \\hline\n",
    " {te^{at}} & \\dfrac{1}{(s-a)^{2}} \\\\ \\hline\n",
    "\\end{array}\n",
    "\n",
    "\\begin{array}{|c|c|} \\hline\n",
    "f(t) = \\mathscr{L}^{-1}\\{F(s)\\} & F(s)=\\mathscr{L}\\{f(t)\\}\\\\ \\hline\n",
    " t^{n}e^{at} & \\dfrac{n!}{(s-a)^{n}}, n \\hspace{2mm}es \\hspace{2mm}un\\hspace{2mm} entero\\hspace{2mm} positivo\\\\ \\hline\n",
    " e^{at}\\sin(kt) & \\dfrac{k}{(s-a)^{2}+k^{2}} \\\\ \\hline\n",
    " e^{at}\\cos(kt) & \\dfrac{s-a}{(s-a)^{2}+k^{2}} \\\\ \\hline\n",
    " e^{at}\\sinh(kt) & \\dfrac{k}{(s-a)^{2}-k^{2}} \\\\ \\hline\n",
    " e^{at}\\cosh (kt) & \\dfrac{s-a}{(s-a)^{2}-k^{2}} \\\\ \\hline\n",
    " t\\sin(kt) & \\dfrac{2ks}{(s^{2}+k^{2})^{2}} \\\\ \\hline\n",
    " t\\cos(kt) & \\dfrac{s^{2}-k^{2}}{(s^{2}+k^{2})^{2}} \\\\ \\hline\n",
    " \\sin(kt)+kt\\cos(kt) & \\dfrac{2ks^{2}}{(s^{2}+k^{2})^{2}} \\\\ \\hline\n",
    " \\sin(kt)-kt\\cos(kt) & \\dfrac{2k^{3}}{(s^{2}+k^{2})^{2}} \\\\ \\hline\n",
    " t\\sinh(kt) & \\dfrac{2ks}{(s^{2}-k^{2})^{2}} \\\\ \\hline\n",
    " t\\cosh(kt) & \\dfrac{s^{2}+k^{2}}{(s^{2}-k^{2})^{2}} \\\\ \\hline\n",
    " \\dfrac{e^{at}-e^{at}}{a-b} & \\dfrac{1}{(s-a)(s-a)} \\\\ \\hline\n",
    " \\dfrac{ae^{at}-be^{at}}{a-b} & \\dfrac{s}{(s-a)(s-a)} \\\\ \\hline\n",
    " 1-\\cos(kt) & \\dfrac{k^{2}}{s(s^{2}+k^{2})} \\\\ \\hline\n",
    " kt-\\sin(kt) & \\dfrac{k^{3}}{s(s^{2}+k^{2})} \\\\ \\hline\n",
    " \\dfrac{kt-a\\sin(bt)-b\\cos(at)}{ab(a^{2}-b^{2})} & \\dfrac{1}{(s^{2}+a^{2})(s^{2}+a^{2})} \\\\ \\hline\n",
    "\\end{array}"
   ]
  },
  {
   "cell_type": "markdown",
   "id": "4063716a",
   "metadata": {
    "id": "4063716a"
   },
   "source": [
    "## Tabla de propiedades de la Transformada de Laplace<a class=\"anchor\" id=\"tpt\"></a>\n",
    "\n",
    "#### Tabla de propiedades de la Transformada de Laplace:\n",
    "\n",
    "\\begin{array}{|c|c|} \\hline\n",
    "& {\\mathscr{L}[af(t)]=aF(s)} \\\\ \\hline\n",
    "Linealidad &{\\mathscr{L}}\\lceil f_{1}(t)+f_{2}(t)\\rceil=F_{1}(s)+F_{2}(s)\\\\ \\hline\n",
    "Desplazamiento \\hspace{2mm} en \\hspace{2mm} el \\hspace{2mm}tiempo & {\\mathscr{L}[f(t-{τ})u(t-{τ})]=e^{-st}F(s)} \\\\ \\hline\n",
    "Impulso & {\\mathscr{L}[{δ}(t)]}=1\\\\ \\hline\n",
    "Desplazamiento \\hspace{2mm} de \\hspace{2mm} frecuencia & {\\mathscr{L}[e^{-at}f(t)]=F(s+a)} \\\\ \\hline\n",
    "Derivada & {\\mathscr{L}[{\\dfrac{df(t)}{dt}}]=sF(s)-f(0)} \\\\ \\hline\n",
    "Integral  & {\\mathscr{L}[\\int_{a}^{t}{f(t)dt}]={\\dfrac{F(s)}{s}}+{\\dfrac{[\\int_{a}^{t}{f(t)dt}]_{t=0}}{s}}} \\\\ \\hline\n",
    "Teorema \\hspace{2mm}del\\hspace{2mm} valor \\hspace{2mm}inicial & {\\lim_{t\\to0}f(t)}={\\lim_{s\\to{∞}}sF(s)} \\\\ \\hline\n",
    "Teorema \\hspace{2mm} del \\hspace{2mm}valor\\hspace{2mm} final   & {\\lim_{t\\to{∞}}f(t)={\\lim_{s\\to0}}sF(s)} \\\\ \\hline  \n",
    "Tiempo \\hspace{2mm}por \\hspace{2mm}una \\hspace{2mm}funcion    & {\\mathscr{L}[tf(t)]={\\dfrac{-dF(s)}{ds}}}   donde  F(s)={\\mathscr{L}[f(t)]} \\\\ \\hline\n",
    "& {\\mathscr{L}[f(at)]={\\dfrac{1}{a}}F{\\left(\\dfrac{s}{a}\\right)}} \\\\ \\hline\n",
    "&{\\mathscr{L}[t^{n}f(t)]=(-1)^{n}{\\dfrac{d^{n}F(s)}{ds^{n}}}}\\\\ \\hline\n",
    "& {\\mathscr{L}[f({\\dfrac{t}{a}})]=aF(as)}\\\\ \\hline\n",
    "& {\\mathscr{L}[{\\dfrac{f(t)}{t}]={\\int_{s}^{∞}}F(s)ds}}\\\\ \\hline\n",
    "\\end{array}\n",
    "\n",
    "#### Pares de Transformadas de Laplace:\n",
    "\n",
    "\\begin{array}{|c|c|} \\hline\n",
    "f(t)  & F(s)\\\\ \\hline\n",
    " 1 \\hspace{2mm} Impulso \\hspace{2mm} unitario & 1 \\\\ \\hline\n",
    " a(t)\\hspace{2mm} Ecalón \\hspace{2mm} unitario & \\dfrac{1}{s}\\\\ \\hline\n",
    " a \\hspace{2mm} Ecalón & \\dfrac{a}{s} \\\\ \\hline\n",
    "at\\hspace{2mm} Rampa & \\dfrac{a}{s^{2}} \\\\ \\hline\n",
    " e^{\\pm at} Exponencial &\\dfrac{1}{s\\pm a} \\\\ \\hline\n",
    " \\sin (\\omega t) Seno & \\dfrac{\\omega}{s^{2} + \\omega^{2}} \\\\ \\hline\n",
    " \\cos (\\omega t) Coseno &\\dfrac{s}{s^{2} + \\omega^{2}}\\\\ \\hline\n",
    " e^{-at}\\sin (\\omega t) \\hspace{2mm}seno \\hspace{2mm}amortiguado & \\dfrac{\\omega}{(s+a)^{2} + \\omega^{2}}\\\\ \\hline\n",
    " e^{-at}\\cos (\\omega t) \\hspace{2mm} coseno \\hspace{2mm} amortiguado & \\dfrac{s+a}{(s+a)^{2} + \\omega^{2}} \\\\ \\hline\n",
    " t^{n} & \\dfrac{n!}{s^{n+1}} \\\\ \\hline\n",
    " t^{n}e^{at} & \\dfrac{n!}{(s+a)^{n+1}} \\\\ \\hline\n",
    " t\\cos(\\omega t) & \\dfrac{s^{2}-\\omega ^{2}}{(s^{2}+\\omega ^{2})^2}\\\\ \\hline\n",
    " \\dfrac{t}{2\\omega}\\sin(\\omega t) & \\dfrac{s}{(s^{2}+\\omega ^{2})^2} \\\\ \\hline\n",
    " \\dfrac{t^{n-1}}{(n-1)!} & \\dfrac{1}{s^{n}} \\\\ \\hline\n",
    " \\dfrac{t^{n-1}e^{\\pm at}}{(n-1)!} \\hspace{2mm} Rampa \\hspace{2mm}amortiguada & \\dfrac{1}{(s \\pm a)^{n}}\\\\ \\hline\n",
    "\\dfrac{1}{a}(1-e^{-at}) & \\dfrac{1}{s(s+a)} \\\\ \\hline\n",
    " \\dfrac{1}{a^{2}}(at-1+e^{-at}) & \\dfrac{1}{s^{2}(s+a)}\\\\ \\hline\n",
    " \\dfrac{1}{b-a}(e^{-at}-e^{-bt}) & \\dfrac{1}{(s+a)(s+b)} \\\\ \\hline\n",
    " \\frac{1}{ab}\\lceil1+\\dfrac{1}{a-b}(be^{-at}-ae^{-bt})\\rceil & \\dfrac{1}{s(s+a)(s+b)} \\\\ \\hline\n",
    " \\sin{\\omega t} & \\dfrac{\\omega}{s^{2}+\\omega^{2}} \\\\ \\hline\n",
    " \\cos{\\omega t} & \\dfrac{s}{s^{2}+\\omega^{2}} \\\\ \\hline  \n",
    "\\end{array}\n",
    "\n",
    "\n",
    "\n",
    "\n"
   ]
  },
  {
   "cell_type": "markdown",
   "id": "8ea53dbc",
   "metadata": {
    "id": "8ea53dbc"
   },
   "source": [
    "# Filtro pasa bajas <a class=\"anchor\" id=\"fpb\"></a>\n",
    "![image.png](data:image/png;base64,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)\n",
    "\n",
    "Imagen tomada de la siguiente referencia: Filtro pasa bajas. (n.d.). https://lc.fie.umich.mx/~jfelix/InstruII/PB/PB.htm\n",
    "\n",
    "Un filtro pasa bajas permite el paso de una banda especifica de frecuencias\n",
    "\n",
    "Esta banda de frecuencias es llamada banda de paso, en el caso del filtro pasa bajas, esta frecuencia es desde DC (cero hertz.) hasta una frecuencia FH\n",
    "\n",
    "En frecuencias superiores a FH, se tiene una atenuación en el voltaje de salida, pero a una frecuencia especificada como FS, definida como banda de paro, debe de existir una atenuación mínima.\n",
    "\n",
    "La banda de frecuencias mayores a FS es llamada banda de paso.\n",
    "\n",
    "La banda de frecuencias entre FH y FS es conocida como banda de transición.\n",
    "\n",
    "Existen filtros pasa bajas activos y pasivos, de primer orden y segundo orden, de tipo RC y RL, asi como de mayor orden y RCL, sin embargo ese tipo de filtros los abordaremos más adelante en el curso, por ahora nos interesa conocer el comportamiento de un filtro pasa bajas, para que sirven y como podemos programarlos en Python."
   ]
  },
  {
   "cell_type": "markdown",
   "id": "21cf35c4",
   "metadata": {
    "id": "21cf35c4"
   },
   "source": [
    "## Filtro pasa bajas de primer orden con Python<a class=\"anchor\" id=\"fpb1\"></a>\n",
    "$${\\LARGE H(s) = \\dfrac{1}{s+1}}$$"
   ]
  },
  {
   "cell_type": "markdown",
   "id": "ca8b07a8",
   "metadata": {
    "id": "ca8b07a8"
   },
   "source": [
    "A continuación, veremos un código en el cual podemos observar la programación en Python de un filtro pasa bajas de primer orden.\n",
    "\n",
    "Este código utiliza la biblioteca ipywidgets para crear una interfaz interactiva en Jupyter Notebook. La interfaz permite ajustar el parámetro wc mediante un deslizador y visualizar la respuesta en frecuencia de un sistema.\n",
    "\n",
    "El código se divide en las siguientes secciones:\n",
    "\n",
    "1. Importación de bibliotecas: Se importan las bibliotecas necesarias, incluyendo ipywidgets, numpy y matplotlib.pyplot.\n",
    "\n",
    "2. Definición de la clase respuesta_f: Se define una clase llamada respuesta_f que tiene métodos para calcular y trazar la respuesta en frecuencia de un sistema. El constructor __init__ inicializa los parámetros necesarios, como la frecuencia de muestreo SR y la frecuencia máxima w_max. El método set_Hs se utiliza para calcular la respuesta en frecuencia del sistema dado los valores de Y y X. Los métodos plot_mag y plot_phase trazan la magnitud y la fase de la respuesta en frecuencia, respectivamente.\n",
    "\n",
    "3. Definición de funciones interactivas: Se definen dos funciones interactivas utilizando el decorador @widgets.interact. Cada función tiene un argumento wc que representa la frecuencia de corte. Dentro de cada función, se crea una instancia de la clase respuesta_f y se calcula la respuesta en frecuencia del sistema utilizando el método set_Hs. Luego, se traza la magnitud o la fase de la respuesta en frecuencia utilizando los métodos plot_mag o plot_phase, respectivamente.\n",
    "\n",
    "4. Configuración de la interfaz: Se establece el rango de valores para el parámetro wc mediante el argumento (1, 100) en el decorador @widgets.interact. Esto crea un deslizador que permite ajustar el valor de wc dentro de ese rango.\n",
    "\n",
    "Al ejecutar el código en Jupyter Notebook, se mostrarán dos interfaces interactivas. La primera permite ajustar wc y visualizar la magnitud de la respuesta en frecuencia del sistema. La segunda permite ajustar wc y visualizar la fase de la respuesta en frecuencia del sistema. Al mover el deslizador, la respuesta en frecuencia se actualiza en tiempo real y se actualiza la visualización correspondiente. Esto permite explorar cómo cambia la respuesta en frecuencia del sistema a medida que se ajusta el parámetro wc."
   ]
  },
  {
   "cell_type": "code",
   "execution_count": 29,
   "id": "897a8b7b",
   "metadata": {
    "colab": {
     "base_uri": "https://localhost:8080/",
     "height": 1000,
     "referenced_widgets": [
      "3a4f12da0c7b44a2801803473aee2cb3",
      "46094de2c7e043e48b11937a27f55e1e",
      "7b5ec0fd27e54fe79085774d753947a1",
      "2f19ebb224b743b98bfa95dead366a27",
      "5cc9586b043c4ef58e0db2c7ebfe205b",
      "dc94f28230e94a6abf66eab6068ccd19",
      "e885b8ac5b8d44fcbe9d98d7dc61fee1",
      "8da6a7b41d914c4f86d9c4d368f3d5ed",
      "e6bcbc6620d245b0bb72131b63430d40",
      "92847502deb54b0a9164d9a40ad78d31",
      "f2257fe9c4b445178ced4339a25c4d06",
      "23b11fe0f7f9427fb31ca43a22d55fbb",
      "c21eb9e2267a4a4294271187e3421db2",
      "8e5b2ec7ffe84de2ba79884b125b7042"
     ]
    },
    "id": "897a8b7b",
    "outputId": "7a448082-5297-4d2c-9bee-4fd3acf1827d"
   },
   "outputs": [
    {
     "data": {
      "application/vnd.jupyter.widget-view+json": {
       "model_id": "6cd33f9cc8644a6dbcd9127d06381a0e",
       "version_major": 2,
       "version_minor": 0
      },
      "text/plain": [
       "interactive(children=(IntSlider(value=1, description='wc', min=1), Output()), _dom_classes=('widget-interact',…"
      ]
     },
     "metadata": {},
     "output_type": "display_data"
    },
    {
     "data": {
      "application/vnd.jupyter.widget-view+json": {
       "model_id": "a71391b393684df68c26b66c304344df",
       "version_major": 2,
       "version_minor": 0
      },
      "text/plain": [
       "interactive(children=(IntSlider(value=1, description='wc', min=1), Output()), _dom_classes=('widget-interact',…"
      ]
     },
     "metadata": {},
     "output_type": "display_data"
    }
   ],
   "source": [
    "import ipywidgets as widgets\n",
    "from ipywidgets import HBox, VBox\n",
    "from IPython.display import display\n",
    "%matplotlib inline\n",
    "\n",
    "\n",
    "class respuesta_f:\n",
    "    def __init__(self, w_max=1000):\n",
    "        SR         = 5\n",
    "        self.w_max = w_max\n",
    "        self.w     = np.arange(1, SR*w_max)/SR\n",
    "    #\n",
    "    def set_Hs(self, Y, X):\n",
    "        self.Hs = Y/X\n",
    "    #\n",
    "    @staticmethod\n",
    "    def plot_mag(H, w, color='orange'):\n",
    "        M_dB = 20*np.log10(np.abs(H))\n",
    "        #\n",
    "        plt.figure('Magnitud [dB]', figsize=(12, 6))\n",
    "        plt.semilogx(w, M_dB, color, linewidth=3)\n",
    "        plt.grid(True)\n",
    "        #plt.show()\n",
    "\n",
    "    @staticmethod\n",
    "    def plot_phase(H, w, color='blue'):\n",
    "        angle = np.angle(H, deg=True)\n",
    "        #\n",
    "        plt.figure('Fase [°]', figsize=(12, 7))\n",
    "        plt.semilogx(w, angle, color, linewidth=3)\n",
    "        plt.grid(True)\n",
    "        #plt.show()\n",
    "\n",
    "w_max = 100000\n",
    "@widgets.interact(wc=(1, 100))\n",
    "def magnitud(wc=1):\n",
    "    h1 = respuesta_f(w_max)\n",
    "    #\n",
    "    s  = 1j*h1.w\n",
    "    Ys = wc\n",
    "    Xs = s + wc\n",
    "    h1.set_Hs(Ys, Xs)\n",
    "    respuesta_f.plot_mag(h1.Hs, h1.w)\n",
    "\n",
    "@widgets.interact(wc=(1, 100))\n",
    "def fase(wc=1):\n",
    "    h1 = respuesta_f(w_max)\n",
    "    #\n",
    "    s  = 1j*h1.w\n",
    "    Ys = wc\n",
    "    Xs = s + wc\n",
    "    h1.set_Hs(Ys, Xs)\n",
    "    respuesta_f.plot_phase(h1.Hs, h1.w)"
   ]
  },
  {
   "cell_type": "markdown",
   "id": "93b5b7e9",
   "metadata": {
    "id": "93b5b7e9"
   },
   "source": [
    "## Filtro pasa bajas de segundo orden<a class=\"anchor\" id=\"fpb2\"></a>\n",
    "\n",
    "$${\\LARGE H(s)= \\dfrac{{\\omega^{2}_{o}}}{s^{2}+\\dfrac{{\\omega}_{o}}{Q}s+{\\omega^{2}_{o}}}}$$"
   ]
  },
  {
   "cell_type": "markdown",
   "id": "1c81d30e",
   "metadata": {
    "id": "1c81d30e"
   },
   "source": [
    "Como habiamos visto anteriormente,este código utiliza la biblioteca ipywidgets para crear interfaces interactivas en Jupyter Notebook. Las interfaces permiten ajustar los parámetros wc y eps mediante deslizadores y visualizar la respuesta en frecuencia de un sistema.\n",
    "\n",
    "El código se divide en tres partes, cada una con una función interactiva diferente:\n",
    "\n",
    "1. Función magnitud: Esta función muestra la magnitud de la respuesta en frecuencia de un sistema. El parámetro wc representa la frecuencia de corte y se puede ajustar mediante un deslizador en el rango de 1 a 100. La función crea una instancia de la clase respuesta_f con un valor máximo de frecuencia w_max. Luego, se calcula la respuesta en frecuencia del sistema utilizando los valores de wc. Finalmente, se traza la magnitud de la respuesta en frecuencia utilizando el método plot_mag de la clase respuesta_f.\n",
    "\n",
    "2. Función magnitud con eps: Esta función es similar a la anterior, pero tiene un parámetro adicional eps. El parámetro eps representa una cantidad de amortiguamiento y también se puede ajustar mediante un deslizador en el rango de 0.01 a 3. La función crea una instancia de la clase respuesta_f con un valor máximo de frecuencia w_max. Luego, se calcula la respuesta en frecuencia del sistema utilizando los valores de wc y eps. Finalmente, se traza la magnitud de la respuesta en frecuencia utilizando el método plot_mag de la clase respuesta_f.\n",
    "\n",
    "3. Función fase: Esta función muestra la fase de la respuesta en frecuencia de un sistema. Tiene los mismos parámetros wc y eps que la función anterior. La función crea una instancia de la clase respuesta_f con un valor máximo de frecuencia w_max. Luego, se calcula la respuesta en frecuencia del sistema utilizando los valores de wc y eps. Finalmente, se traza la fase de la respuesta en frecuencia utilizando el método plot_phase de la clase respuesta_f.\n",
    "\n",
    "Al ejecutar el código en Jupyter Notebook, se mostrarán tres interfaces interactivas. La primera permite ajustar wc y visualizar la magnitud de la respuesta en frecuencia del sistema. La segunda también permite ajustar wc y eps, y visualiza la magnitud de la respuesta en frecuencia. La tercera permite ajustar wc y eps, y visualiza la fase de la respuesta en frecuencia. Al mover los deslizadores, la respuesta en frecuencia se actualizará en tiempo real y se actualizará la visualización correspondiente. Esto permite explorar cómo cambia la respuesta en frecuencia del sistema al ajustar los parámetros wc y eps.\n"
   ]
  },
  {
   "cell_type": "code",
   "execution_count": 30,
   "id": "d8f103e5",
   "metadata": {
    "colab": {
     "base_uri": "https://localhost:8080/",
     "height": 1000,
     "referenced_widgets": [
      "0b9981b0ecce4a82b25e580cb517d6eb",
      "9dbf52850d424ea190132f8175d1ace5",
      "21b855a5769e4747b4b0b4224088e23d",
      "50e58d3c3ede47f48f6aa9eea93823a0",
      "106b09cdd40147b2a649b0c4bdd1b5e0",
      "311ab13e176a4b0f8d8c16567adb0a7c",
      "f471d35d351c4aa88a4f9d1fab249cb3",
      "151f832d3bbd4c0eaeb4101230447697",
      "32801810d8ee4783a1bddf9ff0c9247b",
      "3c04dd6107584b51928a99dd19cb62f3",
      "86a71670137d48dbbdb3094b84040531",
      "ed677387982a4b34984c84a4ec5092e2",
      "a0943797b8ca4a26862bfa9ba5189556",
      "4f2a63b4414a4f2c93e5c45891ed0db7",
      "2d358ecf57684b8fb868f582b6716157",
      "6fc890118924493d82b1a1526815ef5c",
      "cd30929cabd3417887700aedcc8287e9",
      "f711457862194a3c9980463298849f4f",
      "7532303185404700891036f34e8d3701",
      "1df2ba069b8a4c99a2b19a20c893b458",
      "5abc796326dd457fade6c466018b6d19",
      "4e33aefb7b074223aa5bd18ceaaa0886",
      "805a2ee5f0f247419ed62df7b4f9b151",
      "cf064b8094424390ad9cb5dd4b0c4216",
      "3258c5bb6a094181b5be7af58b7d933c",
      "90a0047c00234dcfb95c73251414b4f0",
      "867cec302f0a41d9812f900eb2cbbc89"
     ]
    },
    "id": "d8f103e5",
    "outputId": "5ebe4bc9-ac8e-4931-d15a-37d41cc7089d"
   },
   "outputs": [
    {
     "data": {
      "application/vnd.jupyter.widget-view+json": {
       "model_id": "7c4bae976eb443a89d80282efc814df7",
       "version_major": 2,
       "version_minor": 0
      },
      "text/plain": [
       "interactive(children=(IntSlider(value=1, description='wc', min=1), Output()), _dom_classes=('widget-interact',…"
      ]
     },
     "metadata": {},
     "output_type": "display_data"
    },
    {
     "data": {
      "application/vnd.jupyter.widget-view+json": {
       "model_id": "4d5cd1995ea0453496495e5373ecea48",
       "version_major": 2,
       "version_minor": 0
      },
      "text/plain": [
       "interactive(children=(IntSlider(value=1, description='wc', min=1), FloatSlider(value=0.5, description='eps', m…"
      ]
     },
     "metadata": {},
     "output_type": "display_data"
    },
    {
     "data": {
      "application/vnd.jupyter.widget-view+json": {
       "model_id": "e78d5b2236d244f3aca82e766d6cc3ea",
       "version_major": 2,
       "version_minor": 0
      },
      "text/plain": [
       "interactive(children=(IntSlider(value=1, description='wc', min=1), FloatSlider(value=0.5, description='eps', m…"
      ]
     },
     "metadata": {},
     "output_type": "display_data"
    }
   ],
   "source": [
    "w_max = 350_000\n",
    "@widgets.interact(wc=(1, 100))\n",
    "def magnitud(wc=1):\n",
    "    h1 = respuesta_f(w_max)\n",
    "    #\n",
    "    s  = 1j*h1.w\n",
    "    Ys = wc**2\n",
    "    Xs = s**2 + 0.5*s + wc**2\n",
    "    h1.set_Hs(Ys, Xs)\n",
    "    respuesta_f.plot_mag(h1.Hs, h1.w)\n",
    "\n",
    "w_max = 350_000\n",
    "@widgets.interact(wc=(1, 100), eps=(0.01, 3))\n",
    "def magnitud(wc=1, eps=0.5):\n",
    "    h1 = respuesta_f(w_max)\n",
    "    #\n",
    "    s  = 1j*h1.w\n",
    "    Ys = wc**2\n",
    "    Xs = s**2 + 2*wc*eps*s + wc**2\n",
    "    h1.set_Hs(Ys, Xs)\n",
    "    respuesta_f.plot_mag(h1.Hs, h1.w)\n",
    "\n",
    "w_max = 350_000\n",
    "@widgets.interact(wc=(1, 100), eps=(0.01, 3))\n",
    "def fase(wc=1, eps=0.5):\n",
    "    h1 = respuesta_f(w_max)\n",
    "    #\n",
    "    s  = 1j*h1.w\n",
    "    Ys = wc**2\n",
    "    Xs = s**2 + 2*wc*eps*s + wc**2\n",
    "    h1.set_Hs(Ys, Xs)\n",
    "    respuesta_f.plot_phase(h1.Hs, h1.w)"
   ]
  },
  {
   "cell_type": "markdown",
   "id": "c6660542",
   "metadata": {
    "id": "c6660542"
   },
   "source": [
    "# Filtro pasa altas <a class=\"anchor\" id=\"fba\"></a>\n",
    "Permite el paso de frecuencias mayores que una frecuencia baja (FL)\n",
    "\n",
    "Todo filtro pasa altas tiene una frecuencia de corte superior, debido a que ningún dispositivo realizable físicamente puede tener un ancho de banda infinita. Por esto se considera a un filtro pasa altas a un dispositivo que deja pasar un rango de frecuencias para la aplicación específica (No se confunda con el filtro pasa banda)\n",
    "\n",
    "\n",
    "![image.png](data:image/png;base64,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)\n",
    "\n",
    "Imagen tomada de la siguiente referencia: Filtro pasa bajas. (n.d.). https://lc.fie.umich.mx/~jfelix/InstruII/PB/PB.htm"
   ]
  },
  {
   "cell_type": "markdown",
   "id": "b1d8f9ef",
   "metadata": {
    "id": "b1d8f9ef"
   },
   "source": [
    "Este código utiliza la biblioteca ipywidgets para crear una interfaz interactiva en Jupyter Notebook que permite ajustar los parámetros de un filtro y visualizar su respuesta en frecuencia.\n",
    "\n",
    "El código define dos funciones interactivas: magnitud y fase. Ambas funciones están anotadas con el decorador @widgets.interact, lo que indica que se deben generar controles interactivos para los parámetros especificados.\n",
    "\n",
    "En la función magnitud, se crea una instancia de la clase respuesta_f con un valor máximo de frecuencia w_max. Luego, se calculan los valores de Ys y Xs que definen la función de transferencia del filtro. Estos valores dependen de los parámetros wc y eps, que se especifican en los controles interactivos. Finalmente, se llama al método estático plot_mag de la clase respuesta_f para trazar el gráfico de magnitud de la respuesta en frecuencia.\n",
    "\n",
    "La función fase sigue un proceso similar. Se crea una instancia de respuesta_f, se calculan los valores de Ys y Xs y se llama al método plot_phase para trazar el gráfico de fase de la respuesta en frecuencia.\n",
    "\n",
    "En resumen, este código crea una interfaz interactiva para ajustar los parámetros de un filtro y visualizar su respuesta en frecuencia en términos de magnitud y fase. Los controles interactivos permiten explorar diferentes configuraciones del filtro y observar su efecto en la respuesta."
   ]
  },
  {
   "cell_type": "code",
   "execution_count": 31,
   "id": "74698a77",
   "metadata": {
    "colab": {
     "base_uri": "https://localhost:8080/",
     "height": 1000,
     "referenced_widgets": [
      "e8b7608ecd37491daa2d1030a1f7c785",
      "65cea1629bbe4c819f5af43b0bc3c0aa",
      "5510562f23ab4c0e88b5895d2453e4e8",
      "1da46751aa264122bad65cc4134f673a",
      "0320a1b9e803435084633a8c665eec14",
      "091b33a51ee74c8b8f754cbac9f5a424",
      "13bc64d7285d4ca1a7176dae61b83dad",
      "7e1634e8485943ebb84a76e9ea75e430",
      "62cccafe14de4b688f745a746b93edca",
      "070eb5860c8b4283b1cb2d0d75eb0581",
      "618100d5ebf848aba4f47868f5ebba5f",
      "731bc5d95395458992c058a63b16d7c9",
      "283737cc95d34353b315a61cec9150aa",
      "a6cab84f388443ffbd55ab8ee3b6c1ee",
      "5f5baf65e9f0497c815e61dc0d815fb7",
      "a7cfe83df1644b74a1f0499527d4f52e",
      "7f1b3ea725204de58fdd106ac6fcd08f",
      "5f8d171630884f8f8f820045f8a123ce",
      "a634b40f329f475d98b35469e962853e",
      "c47f16e7ad9b4c9a851f16bd88323e6d"
     ]
    },
    "id": "74698a77",
    "outputId": "bf60bfbe-4e89-4c4f-8bd3-366d69e0ee03"
   },
   "outputs": [
    {
     "data": {
      "application/vnd.jupyter.widget-view+json": {
       "model_id": "7c642e405eb54abf855363e4254be3d5",
       "version_major": 2,
       "version_minor": 0
      },
      "text/plain": [
       "interactive(children=(IntSlider(value=10, description='wc', min=1), FloatSlider(value=0.6, description='eps', …"
      ]
     },
     "metadata": {},
     "output_type": "display_data"
    },
    {
     "data": {
      "application/vnd.jupyter.widget-view+json": {
       "model_id": "07ea8011295f4692b7660b9237865aca",
       "version_major": 2,
       "version_minor": 0
      },
      "text/plain": [
       "interactive(children=(IntSlider(value=10, description='wc', min=1), FloatSlider(value=0.6, description='eps', …"
      ]
     },
     "metadata": {},
     "output_type": "display_data"
    }
   ],
   "source": [
    "w_max = 350_000\n",
    "@widgets.interact(wc=(1, 100), eps=(0.01, 3))\n",
    "def magnitud(wc=10, eps=0.6):\n",
    "    h1 = respuesta_f(w_max)\n",
    "    #\n",
    "    s  = 1j*h1.w\n",
    "    Ys = (wc*s)**2\n",
    "    Xs = s**2 + 2*wc*eps*s + wc**2\n",
    "    h1.set_Hs(Ys, Xs)\n",
    "    respuesta_f.plot_mag(h1.Hs, h1.w)\n",
    "\n",
    "w_max = 350_000\n",
    "@widgets.interact(wc=(1, 100), eps=(0.01, 3))\n",
    "def fase(wc=10, eps=0.6):\n",
    "    h1 = respuesta_f(w_max)\n",
    "    #\n",
    "    s  = 1j*h1.w\n",
    "    Ys = (wc*s)**2\n",
    "    Xs = s**2 + 2*wc*eps*s + wc**2\n",
    "    h1.set_Hs(Ys, Xs)\n",
    "    respuesta_f.plot_phase(h1.Hs, h1.w)"
   ]
  },
  {
   "cell_type": "markdown",
   "id": "f8263b92",
   "metadata": {
    "id": "f8263b92"
   },
   "source": [
    "# Filtro pasa banda <a class=\"anchor\" id=\"fp\"></a>\n",
    "Los filtros pasa banda obedecen a la siguiente estructura de ecuación de transferencia:\n",
    "\n",
    "\n",
    "$${\\LARGE H(s)= \\dfrac{\\dfrac{{\\omega}_{o}}{Q}s}{s^{2}+\\dfrac{{\\omega}_{o}}{Q}s+{\\omega^{2}_{o}}}}$$"
   ]
  },
  {
   "cell_type": "markdown",
   "id": "730df93e",
   "metadata": {
    "id": "730df93e"
   },
   "source": [
    "Permite el paso de una banda especifica de frecuencias y rechaza a todas las demás\n",
    "![image.png](data:image/png;base64,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)\n",
    "Imagen tomada de la siguiente referencia: Filtro pasa bajas. (n.d.). https://lc.fie.umich.mx/~jfelix/InstruII/PB/PB.htm"
   ]
  },
  {
   "cell_type": "markdown",
   "id": "c15b7c7b",
   "metadata": {
    "id": "c15b7c7b"
   },
   "source": [
    "Este código también utiliza la biblioteca ipywidgets para crear una interfaz interactiva en Jupyter Notebook. En este caso, se definen dos funciones interactivas: magnitud y fase.\n",
    "\n",
    "La función magnitud tiene tres parámetros interactivos: wc_1, wc_2 y eps. Estos parámetros determinan los valores utilizados para calcular los valores de Ys y Xs que definen la función de transferencia del filtro. La función crea una instancia de la clase respuesta_f con un valor máximo de frecuencia w_max, y luego utiliza los parámetros proporcionados para calcular los valores correspondientes de Ys y Xs. Finalmente, llama al método estático plot_mag de la clase respuesta_f para trazar el gráfico de magnitud de la respuesta en frecuencia.\n",
    "\n",
    "La segunda función interactiva, fase, sigue un proceso similar, pero en lugar de llamar al método plot_mag, llama al método plot_phase para trazar el gráfico de fase de la respuesta en frecuencia.\n",
    "\n",
    "En resumen, este código crea una interfaz interactiva que permite ajustar los parámetros de un filtro y visualizar su respuesta en frecuencia en términos de magnitud y fase. Los controles interactivos permiten explorar diferentes configuraciones del filtro y observar su efecto en la respuesta."
   ]
  },
  {
   "cell_type": "code",
   "execution_count": 32,
   "id": "36996224",
   "metadata": {
    "colab": {
     "base_uri": "https://localhost:8080/",
     "height": 1000,
     "referenced_widgets": [
      "12feaeac7c48467c86608df4cf269c72",
      "0d1e6acd24a343f98af9f7e8a1987e1e",
      "3b8c07b4204a4fb6af2a8e90ae714eb8",
      "eddd82bf58e34e89a6a3d1d532231b57",
      "2aff5211de3d43809334392726599d4b",
      "8bb07bcbc82f48a198a1e540164fc3b3",
      "bc770fc2b9df44ca800eb25e47ad36b7",
      "5502a55dc5cd4d538a098b65aaaa66fa",
      "7a1aa8d3171c44469b1faf6190aa1452",
      "152bb7b07ab9425aa3e79f5c94fbedb3",
      "ba73a7647aa0457ea44d8223768b3cbd",
      "94d2989e5b084745a28172173212b1ab",
      "9a759f3f92b94b2bab1cac8dc556a6a3",
      "fc5f47bcadc04f47831f37348887f305",
      "0bdc50d9d0584bb0b4a453e648dd0cfd",
      "5c08b22db952428ebc37252bdd1fa70e",
      "e6144fbd69b24756859d8efbf2db6829",
      "362cd494799341a68f18b2211e553647",
      "beca00d5a3074d16a01581f512b6defc",
      "d2a754db9d694fe9bc0e69421915b1b3",
      "08e91bfbbec64689bf3afed6bbc54a07",
      "0f70cef7325642199f154e5d5d39cadd",
      "319336f3813246119cc76cc2a6ce46b6",
      "440ed9ef810f4f03bdf5088f07c0ffeb",
      "ae4a8784ed1549d5aea9d9b4cc6d9cb2",
      "3ee1e1fc3ca14d2289e5bb3c7e7f1b54"
     ]
    },
    "id": "36996224",
    "outputId": "45cf2f9b-bd71-4820-cc6e-c89932436c68"
   },
   "outputs": [
    {
     "data": {
      "application/vnd.jupyter.widget-view+json": {
       "model_id": "e761a50903e84e17aff594e954b57d3a",
       "version_major": 2,
       "version_minor": 0
      },
      "text/plain": [
       "interactive(children=(FloatSlider(value=1.0, description='wc_1', max=10.0, min=0.1), IntSlider(value=50, descr…"
      ]
     },
     "metadata": {},
     "output_type": "display_data"
    },
    {
     "data": {
      "application/vnd.jupyter.widget-view+json": {
       "model_id": "2d8015fdce5a4020b812efe97ca83dc2",
       "version_major": 2,
       "version_minor": 0
      },
      "text/plain": [
       "interactive(children=(IntSlider(value=58, description='wc_1', min=1), IntSlider(value=62, description='wc_2', …"
      ]
     },
     "metadata": {},
     "output_type": "display_data"
    }
   ],
   "source": [
    "w_max = 10000\n",
    "@widgets.interact(wc_1=(.1, 10), wc_2=(30, 100), eps=(0.01, 3))\n",
    "def magnitud(wc_1=1, wc_2=50, eps=1):\n",
    "    h1 = respuesta_f(w_max)\n",
    "    #\n",
    "    s  = 1j*h1.w\n",
    "    Wo =  wc_1*wc_2\n",
    "    B  = wc_2 - wc_1\n",
    "    Ys = s\n",
    "    Xs = s**2 + eps*B*s + Wo\n",
    "    h1.set_Hs(Ys, Xs)\n",
    "    respuesta_f.plot_mag(h1.Hs, h1.w)\n",
    "\n",
    "w_max = 350_000\n",
    "@widgets.interact(wc_1=(1, 100), wc_2=(1, 100), eps=(0.01, 3))\n",
    "def magnitud(wc_1=58, wc_2=62, eps=1):\n",
    "    h1 = respuesta_f(w_max)\n",
    "    #\n",
    "    s  = 1j*h1.w\n",
    "    Wo =  wc_1*wc_2\n",
    "    B  = wc_2 - wc_1\n",
    "    Ys = s\n",
    "    Xs = s**2 + eps*B*s + Wo\n",
    "    h1.set_Hs(Ys, Xs)\n",
    "    respuesta_f.plot_phase(h1.Hs, h1.w)"
   ]
  },
  {
   "cell_type": "markdown",
   "id": "88f5ff7e",
   "metadata": {
    "id": "88f5ff7e"
   },
   "source": [
    "# Filtro rechaza banda <a class=\"anchor\" id=\"fr\"></a>\n",
    "\n",
    "Los filtros rechaza banda obedecen a la siguiente estructura en su ecuación de transferencia:\n",
    "\n",
    "$${\\LARGE H(s)= \\dfrac{{\\omega}_{o}^{2}+s^{2}}{s^{2}+\\dfrac{{\\omega}_{o}}{Q}s+{\\omega^{2}_{o}}}}$$"
   ]
  },
  {
   "cell_type": "markdown",
   "id": "d873ce91",
   "metadata": {
    "id": "d873ce91"
   },
   "source": [
    "Permite el paso de todas las señales a excepción de las de una banda, las cuales son rechazadas.\n",
    "\n",
    "![image.png](data:image/png;base64,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)\n",
    "Imagen tomada de la siguiente referencia: Filtro pasa bajas. (n.d.). https://lc.fie.umich.mx/~jfelix/InstruII/PB/PB.htm"
   ]
  },
  {
   "cell_type": "markdown",
   "id": "b7a759da",
   "metadata": {
    "id": "b7a759da"
   },
   "source": [
    "Este código también utiliza la biblioteca ipywidgets para crear una interfaz interactiva en Jupyter Notebook. En este caso, se definen dos funciones interactivas: magnitud.\n",
    "\n",
    "La función magnitud tiene tres parámetros interactivos: wc_1, wc_2 y eps. Estos parámetros determinan los valores utilizados para calcular los valores de Ys y Xs que definen la función de transferencia del filtro. La función crea dos instancias de la clase respuesta_f con diferentes valores máximos de frecuencia w_max y luego utiliza los parámetros proporcionados para calcular los valores correspondientes de Ys y Xs en cada instancia. Finalmente, llama al método estático plot_mag de la clase respuesta_f para trazar el gráfico de magnitud de la respuesta en frecuencia para ambas instancias, mostrando diferentes colores para cada gráfico.\n",
    "\n",
    "En resumen, este código crea una interfaz interactiva que permite ajustar los parámetros de dos filtros y visualizar su respuesta en frecuencia en términos de magnitud. Los controles interactivos permiten explorar diferentes configuraciones de los filtros y observar su efecto en la respuesta. Se comparan las respuestas de dos filtros con diferentes características (diferentes valores de wc_1, wc_2 y eps) para analizar sus diferencias en el dominio de la magnitud de la respuesta en frecuencia."
   ]
  },
  {
   "cell_type": "code",
   "execution_count": 33,
   "id": "e2f31088",
   "metadata": {
    "colab": {
     "base_uri": "https://localhost:8080/",
     "height": 719,
     "referenced_widgets": [
      "2df3b47b7f0d4aa0870e2768e2f15e3e",
      "84a0572c9e7a44318f9d51b3e7ef1f0a",
      "32fbffab0a5b4ad183ae162824b4491f",
      "afd7bb7879da4bbfab7dabd3c3401aeb",
      "f6fd022dcc9649269999d5ceedc951dd",
      "734e0785bd56432ab5f0d22fb34d05b8",
      "ac99d8719e7c4dbfbf63889f860b0a02",
      "da85f0de912941cab56a5a6beacd90c8",
      "ca475c8fb6ce4734a03d46f556dd80b6",
      "8da519ea85cf40b1969c3d4cae786ee3",
      "b0263d509e8648bebe714c4db32ba95a",
      "3a29a577da4d4c41ac745ba4c5097721",
      "fc4aaefd76bc4a19a4f921801175b246",
      "1dde0cfa9901490cb5abfc7eee86d869",
      "8c631306885945c782cb0d171af0d49e",
      "90df293a4fe04f2b91d7e3d0ffed5276",
      "1d148a1395634791b964685b71ca111b",
      "3662fba0928140f28a9df1f08857826a",
      "cccbcf8fc4eb4767903251f79e2c5c29",
      "749f828adfe84928b2a2425c162c5b21",
      "103e58e2815b43e7a5dbbe8643c46a73",
      "f351b00216e84a72b407451383c923d6",
      "ad7766298d6c4f0bb01748026a473689",
      "25e6d49ff63142aaa7523e999b8db869",
      "6cdad7aa7bd845b1b53276c65e599ab3",
      "49b19da4a24b4d549d41162774e21acb"
     ]
    },
    "id": "e2f31088",
    "outputId": "cdf6eb91-1224-41f2-98f5-d9530d3ebe13"
   },
   "outputs": [
    {
     "data": {
      "application/vnd.jupyter.widget-view+json": {
       "model_id": "ca398470a22e46d1b18e353b52ff3a60",
       "version_major": 2,
       "version_minor": 0
      },
      "text/plain": [
       "interactive(children=(IntSlider(value=58, description='wc_1', min=1), IntSlider(value=62, description='wc_2', …"
      ]
     },
     "metadata": {},
     "output_type": "display_data"
    },
    {
     "data": {
      "application/vnd.jupyter.widget-view+json": {
       "model_id": "ed92f5d238c24db8925da8286b15e355",
       "version_major": 2,
       "version_minor": 0
      },
      "text/plain": [
       "interactive(children=(IntSlider(value=58, description='wc_1', min=1), IntSlider(value=62, description='wc_2', …"
      ]
     },
     "metadata": {},
     "output_type": "display_data"
    }
   ],
   "source": [
    "w_max = 350_000\n",
    "@widgets.interact(wc_1=(1, 100), wc_2=(1, 100), eps=(0.01, 3))\n",
    "def magnitud(wc_1=58, wc_2=62, eps=1):\n",
    "    h1 = respuesta_f(w_max)\n",
    "    #\n",
    "    s  = 1j*h1.w\n",
    "    Wo =  wc_1*wc_2\n",
    "    Ys = s**2 + Wo\n",
    "    Xs = s**2 + eps*np.sqrt(Wo)*s + Wo\n",
    "    h1.set_Hs(Ys, Xs)\n",
    "    respuesta_f.plot_mag(h1.Hs, h1.w)\n",
    "\n",
    "w_max = 2000\n",
    "@widgets.interact(wc_1=(1, 100), wc_2=(1, 100), eps=(0.01, 3))\n",
    "def magnitud(wc_1=58, wc_2=62, eps=1):\n",
    "    h1 = respuesta_f(w_max)\n",
    "    h2 = respuesta_f(w_max)\n",
    "    #\n",
    "    s  = 1j*h1.w\n",
    "    Wo =  wc_1*wc_2\n",
    "    Ys = s**2 + Wo\n",
    "    Xs = s**2 + eps*np.sqrt(Wo)*s + Wo\n",
    "    h1.set_Hs(Ys, Xs)\n",
    "    #\n",
    "    B  = wc_2 - wc_1\n",
    "    Xs = s**2 + B*s + Wo\n",
    "    h2.set_Hs(Ys, Xs)\n",
    "    respuesta_f.plot_mag(h1.Hs, h1.w)\n",
    "    respuesta_f.plot_mag(h2.Hs, h2.w, color='green')"
   ]
  },
  {
   "cell_type": "markdown",
   "id": "47582198",
   "metadata": {
    "id": "47582198"
   },
   "source": [
    "\n",
    "\n",
    "---\n",
    "# Números complejos <a class=\"anchor\" id=\"nc\"></a>\n",
    "\n",
    "En Python, puedes trabajar con números complejos utilizando la biblioteca NumPy, que proporciona una serie de funciones y métodos para operar con números complejos de manera eficiente.\n",
    "\n",
    "En este ejemplo, utilizamos la función <code>**complex()**</code> para crear un número complejo z con partes real e imaginaria. Luego, utilizamos los métodos **real** e **imag** para acceder a las partes real e imaginaria respectivamente.\n",
    "\n",
    "También podemos utilizar las funciones <code>**np.abs()**</code> y <code>**np.angle()**</code> para calcular el módulo y el argumento de un número complejo.\n",
    "\n",
    "Además de estas funciones básicas, NumPy proporciona muchas otras funciones para realizar operaciones matemáticas con números complejos, como suma, resta, multiplicación, exponenciación, entre otras"
   ]
  },
  {
   "cell_type": "code",
   "execution_count": 34,
   "id": "e14140bc",
   "metadata": {
    "colab": {
     "base_uri": "https://localhost:8080/"
    },
    "id": "e14140bc",
    "outputId": "1c0d06e0-4d3e-43bf-92d5-adcd4a5f3c46"
   },
   "outputs": [
    {
     "name": "stdout",
     "output_type": "stream",
     "text": [
      "Número complejo: (3+4j)\n",
      "Parte real: 3.0\n",
      "Parte imaginaria: 4.0\n",
      "Módulo: 5.0\n",
      "Argumento (en radianes): 0.9272952180016122\n"
     ]
    }
   ],
   "source": [
    "# Crear un número complejo\n",
    "z = complex(3, 4)\n",
    "print(\"Número complejo:\", z)\n",
    "\n",
    "# Acceder a las partes real e imaginaria\n",
    "print(\"Parte real:\", z.real)\n",
    "print(\"Parte imaginaria:\", z.imag)\n",
    "\n",
    "# Calcular el módulo y el argumento\n",
    "mod = np.abs(z)\n",
    "arg = np.angle(z)\n",
    "\n",
    "print(\"Módulo:\", mod)\n",
    "print(\"Argumento (en radianes):\", arg)"
   ]
  },
  {
   "cell_type": "markdown",
   "id": "e73ae813",
   "metadata": {
    "id": "e73ae813"
   },
   "source": [
    "En este ejemplo, utilizamos las funciones <code>**np.add()**</code>, <code>**np.subtract()**</code>, <code>**np.multiply()**</code> y <code>**np.divide()**</code> para realizar la suma, resta, multiplicación y división de números complejos respectivamente.\n",
    "\n",
    "NumPy también proporciona otras funciones útiles, como <code>**np.conj()**</code> para calcular la conjugación de un número complejo, <code>**np.exp()**</code> para calcular la exponenciación de un número complejo, y muchas más."
   ]
  },
  {
   "cell_type": "code",
   "execution_count": 35,
   "id": "319d77a8",
   "metadata": {
    "colab": {
     "base_uri": "https://localhost:8080/"
    },
    "id": "319d77a8",
    "outputId": "c57711be-5201-4978-9c4c-aba6da4d3127"
   },
   "outputs": [
    {
     "name": "stdout",
     "output_type": "stream",
     "text": [
      "Suma de números complejos: (3+5j)\n",
      "Resta de números complejos: (1+1j)\n",
      "Multiplicación de números complejos: (-4+7j)\n",
      "División de números complejos: (1.6-0.2j)\n",
      "Número complejo original: (3+4j)\n",
      "Conjugado: (3-4j)\n",
      "Número complejo original: (1+1j)\n",
      "Exponenciación: (1.4686939399158851+2.2873552871788423j)\n"
     ]
    }
   ],
   "source": [
    "z1 = complex(2, 3)\n",
    "z2 = complex(1, 2)\n",
    "\n",
    "# Suma de números complejos\n",
    "suma = np.add(z1, z2)\n",
    "print(\"Suma de números complejos:\", suma)\n",
    "\n",
    "# Resta de números complejos\n",
    "resta = np.subtract(z1, z2)\n",
    "print(\"Resta de números complejos:\", resta)\n",
    "\n",
    "# Multiplicación de números complejos\n",
    "multiplicacion = np.multiply(z1, z2)\n",
    "print(\"Multiplicación de números complejos:\", multiplicacion)\n",
    "\n",
    "# División de números complejos\n",
    "division = np.divide(z1, z2)\n",
    "print(\"División de números complejos:\", division)\n",
    "\n",
    "# Crear un número complejo\n",
    "z = complex(3, 4)\n",
    "\n",
    "# Calcular el conjugado\n",
    "conjugado = np.conj(z)\n",
    "\n",
    "print(\"Número complejo original:\", z)\n",
    "print(\"Conjugado:\", conjugado)\n",
    "\n",
    "# Crear un número complejo\n",
    "z = complex(1, 1)\n",
    "\n",
    "# Calcular la exponenciación\n",
    "exponenciacion = np.exp(z)\n",
    "\n",
    "print(\"Número complejo original:\", z)\n",
    "print(\"Exponenciación:\", exponenciacion)"
   ]
  },
  {
   "cell_type": "markdown",
   "id": "109b451d",
   "metadata": {
    "id": "109b451d"
   },
   "source": [
    " Explicación paso a paso del código que grafica los números complejos:\n",
    "\n",
    " 1. Creamos una lista de números complejos\n",
    "\n",
    "Se crea una lista llamada **z** que contiene cuatro números complejos. Puedes modificar esta lista y agregar tus propios números complejos."
   ]
  },
  {
   "cell_type": "code",
   "execution_count": 36,
   "id": "234678a8",
   "metadata": {
    "id": "234678a8"
   },
   "outputs": [],
   "source": [
    "z = [2 + 3j, -1 + 2j, 4 - 1j, -2 - 2j]"
   ]
  },
  {
   "cell_type": "markdown",
   "id": "518ae34c",
   "metadata": {
    "id": "518ae34c"
   },
   "source": [
    "2. Obtenemos las partes reales e imaginarias de cada número complejo\n",
    "\n",
    "Se crear una lista real que contiene las partes reales de cada número complejo en la lista z, y una lista imag que contiene las partes imaginarias correspondientes."
   ]
  },
  {
   "cell_type": "code",
   "execution_count": 37,
   "id": "f991484c",
   "metadata": {
    "id": "f991484c"
   },
   "outputs": [],
   "source": [
    "real = [num.real for num in z]\n",
    "imag = [num.imag for num in z]"
   ]
  },
  {
   "cell_type": "markdown",
   "id": "a55cff8c",
   "metadata": {
    "id": "a55cff8c"
   },
   "source": [
    "3. Creamos el gráfico\n",
    "\n",
    "Utilizamos la función <code>**plt.scatter()**</code> de Matplotlib para crear el gráfico de dispersión. Pasamos las listas **real** y **imag** como argumentos para especificar las coordenadas x e y de los puntos respectivamente. El parámetro <code>**color='red'**</code> se utiliza para definir el color de los puntos."
   ]
  },
  {
   "cell_type": "code",
   "execution_count": 38,
   "id": "2c19f7ec",
   "metadata": {
    "colab": {
     "base_uri": "https://localhost:8080/",
     "height": 472
    },
    "id": "2c19f7ec",
    "outputId": "7ae3688b-cf07-4782-eb2d-d3609f77edd4"
   },
   "outputs": [
    {
     "data": {
      "image/png": "[encoded data removed]",
      "text/plain": [
       "<Figure size 432x432 with 1 Axes>"
      ]
     },
     "metadata": {
      "needs_background": "light"
     },
     "output_type": "display_data"
    }
   ],
   "source": [
    "plt.figure(figsize=(6, 6))\n",
    "plt.scatter(real, imag, color='red')\n",
    "plt.xlabel('Parte Real')\n",
    "plt.ylabel('Parte Imaginaria')\n",
    "plt.title('Gráfico de Números Complejos')\n",
    "plt.grid(True)\n",
    "plt.show()"
   ]
  },
  {
   "cell_type": "code",
   "execution_count": 39,
   "id": "95918805",
   "metadata": {
    "colab": {
     "base_uri": "https://localhost:8080/",
     "height": 472
    },
    "id": "95918805",
    "outputId": "c9b1b02a-74e3-446b-b9f8-773e7479bc67"
   },
   "outputs": [
    {
     "data": {
      "image/png": "[encoded data removed]",
      "text/plain": [
       "<Figure size 432x432 with 1 Axes>"
      ]
     },
     "metadata": {
      "needs_background": "light"
     },
     "output_type": "display_data"
    }
   ],
   "source": [
    "# Se puede hacer tambien de esta manera\n",
    "# Crear un número complejo\n",
    "z = complex(3, 2)\n",
    "\n",
    "# Obtener las partes real e imaginaria\n",
    "real = z.real\n",
    "imag = z.imag\n",
    "\n",
    "# Crear el gráfico\n",
    "plt.figure(figsize=(6, 6))\n",
    "plt.plot(real, imag, 'ro')\n",
    "plt.xlabel('Parte Real')\n",
    "plt.ylabel('Parte Imaginaria')\n",
    "plt.title('Gráfico de Número Complejo')\n",
    "plt.grid(True)\n",
    "plt.show()"
   ]
  },
  {
   "cell_type": "code",
   "execution_count": 40,
   "id": "24876cc4",
   "metadata": {
    "id": "24876cc4"
   },
   "outputs": [],
   "source": [
    "# Definición de funciones\n",
    "#resalte de ejes x, y\n",
    "def ptl_format_cartesian(x=0, y=0):\n",
    "    plt.grid('on')\n",
    "    plt.axvline(x, linewidth=3, color='black')\n",
    "    plt.axhline(y, linewidth=3, color='black')\n",
    "    plt.plot([x],[y], 'o', color='black', markersize=8)\n",
    "\n",
    "#aspecto iguan en plano complejo\n",
    "def plt_format_complex(a=-1.5, b=1.5):\n",
    "    plt.axes().set_aspect('equal')\n",
    "    plt.xlim( [a, b] )\n",
    "    plt.ylim( [a, b] )\n",
    "    plt.axvline(0, linewidth=3, color='black')\n",
    "    plt.axhline(0, linewidth=3, color='black')\n",
    "    plt.plot([0],[0], 'o', color='black', markersize=8)\n",
    "    plt.grid('on')"
   ]
  },
  {
   "cell_type": "markdown",
   "id": "f9ead30a",
   "metadata": {
    "id": "f9ead30a"
   },
   "source": [
    "---\n",
    "\n",
    "## Problemas que dan origen a los números complejos\n",
    "¿Cuáles son las soluciones de la ecuación $x^{3}+x=0$?\n",
    "\n",
    "Al factorizar\n",
    " $$x^{3}+x=0$$\n",
    "<br> $$= x(x^{2}+1),$$\n",
    "\n",
    "lo que implica $x = 0$ y $x^{2}=1$\n",
    " y\n",
    "\n",
    "**Actividad:** Graficar $f(x) = x^{3}+ x$ en $x \\in [-2, 2]$\n",
    " considerando una resolución de $0.1$"
   ]
  },
  {
   "cell_type": "code",
   "execution_count": 41,
   "id": "ef05582d",
   "metadata": {
    "id": "ef05582d"
   },
   "outputs": [],
   "source": [
    "a, b, res = -2, 2, 0.01\n",
    "#\n",
    "steps = (b-a)/res\n",
    "x     = np.linspace(a, b, int(steps))\n",
    "y     = x**3 + 1"
   ]
  },
  {
   "cell_type": "code",
   "execution_count": 42,
   "id": "1bdb2f06",
   "metadata": {
    "colab": {
     "base_uri": "https://localhost:8080/",
     "height": 430
    },
    "id": "1bdb2f06",
    "outputId": "58bce45d-cdda-41d2-c9ba-8875bf76f046"
   },
   "outputs": [
    {
     "data": {
      "image/png": "[encoded data removed]",
      "text/plain": [
       "<Figure size 432x288 with 1 Axes>"
      ]
     },
     "metadata": {
      "needs_background": "light"
     },
     "output_type": "display_data"
    }
   ],
   "source": [
    "plt.figure(figsize=(8, 8))\n",
    "plt.close()\n",
    "plt.figure()\n",
    "plt.plot(x, y,\n",
    "         linewidth=3)\n",
    "ptl_format_cartesian(0, 0)\n",
    "plt.show()"
   ]
  },
  {
   "cell_type": "markdown",
   "id": "fdc19294",
   "metadata": {
    "id": "fdc19294"
   },
   "source": [
    "Graficando las factorizaciones $y_{0}=x$, $y_{1}=x^{2}+1$"
   ]
  },
  {
   "cell_type": "code",
   "execution_count": 43,
   "id": "7f5ad858",
   "metadata": {
    "colab": {
     "base_uri": "https://localhost:8080/",
     "height": 445
    },
    "id": "7f5ad858",
    "outputId": "04a33864-9a04-48fb-dae6-9610ba1c8fc9"
   },
   "outputs": [
    {
     "data": {
      "text/plain": [
       "<Figure size 576x576 with 0 Axes>"
      ]
     },
     "metadata": {},
     "output_type": "display_data"
    },
    {
     "data": {
      "image/png": "[encoded data removed]",
      "text/plain": [
       "<Figure size 360x360 with 1 Axes>"
      ]
     },
     "metadata": {
      "needs_background": "light"
     },
     "output_type": "display_data"
    }
   ],
   "source": [
    "y0 = x\n",
    "y1 = x**2 + 1\n",
    "\n",
    "plt.figure(figsize=(8, 8))\n",
    "plt.figure(figsize=(5,5))\n",
    "plt.plot(x, y , color='red'  , linewidth=3)\n",
    "plt.plot(x, y0, color='green', linewidth=3)\n",
    "plt.plot(x, y1, color='blue' , linewidth=3)\n",
    "ptl_format_cartesian(0, 0)\n",
    "plt.show()"
   ]
  },
  {
   "cell_type": "markdown",
   "id": "ddf743eb",
   "metadata": {
    "id": "ddf743eb"
   },
   "source": [
    "**Actividad**: Buscar la solución analítica\n",
    "\n",
    "A partir de la siguiente igualdad $x^{3}+x =x^{3}+0x^{2}+x+0 $\n",
    " se puede uilizar la función <code>np.poly1d</code>."
   ]
  },
  {
   "cell_type": "code",
   "execution_count": 44,
   "id": "e0b7ccfb",
   "metadata": {
    "colab": {
     "base_uri": "https://localhost:8080/"
    },
    "id": "e0b7ccfb",
    "outputId": "920ee790-890d-47a0-d923-127ecdefc600"
   },
   "outputs": [
    {
     "name": "stdout",
     "output_type": "stream",
     "text": [
      "El polinomio es:\n",
      "   3\n",
      "1 x + 1 x\n"
     ]
    }
   ],
   "source": [
    "p = np.poly1d([1, 0, 1, 0])\n",
    "\n",
    "print(f\"El polinomio es:\\n{np.poly1d(p)}\")"
   ]
  },
  {
   "cell_type": "markdown",
   "id": "195d7c03",
   "metadata": {
    "id": "195d7c03"
   },
   "source": [
    "A partir de dicha definición se pueden extraer las raíces"
   ]
  },
  {
   "cell_type": "code",
   "execution_count": 45,
   "id": "12970f60",
   "metadata": {
    "colab": {
     "base_uri": "https://localhost:8080/"
    },
    "id": "12970f60",
    "outputId": "89baac69-0943-41c5-aa4d-44c3cd0a8724"
   },
   "outputs": [
    {
     "name": "stdout",
     "output_type": "stream",
     "text": [
      "(-0+1j)\n",
      "-1j\n",
      "0j\n"
     ]
    }
   ],
   "source": [
    "for r in p.r:\n",
    "    print(r)"
   ]
  },
  {
   "cell_type": "markdown",
   "id": "46e2508e",
   "metadata": {
    "id": "46e2508e"
   },
   "source": [
    "## Conclusión\n",
    "Los números complejos **sí existen** y no son derivados de propiedades geométricas o de cuentas, es decir, son entes completamente abstractos. Son una extensión de los números reales $\\mathbb R$ qué es necesaria, como en este ejemplo, para la resolución de ecuaciones. En las siguientes secciones se discutiran propiedades de los números complejos que son útiles para nuestros propósitos en filtrado y en general para análisis de sistemas.\n"
   ]
  },
  {
   "cell_type": "markdown",
   "id": "4c7814e1",
   "metadata": {
    "id": "4c7814e1"
   },
   "source": [
    "---\n",
    "## Propiedades de los números complejos\n",
    "### Periodicidad\n",
    "#### Ejemplo 1\n",
    "Se define el número complejo $j$ y se grafica en el plano complejo $\\mathbb{C}=\\mathbb R x \\mathbb I$"
   ]
  },
  {
   "cell_type": "code",
   "execution_count": 46,
   "id": "bb976192",
   "metadata": {
    "colab": {
     "base_uri": "https://localhost:8080/"
    },
    "id": "bb976192",
    "outputId": "e406516a-bde8-4bce-ebd7-a447328be5ce"
   },
   "outputs": [
    {
     "name": "stdout",
     "output_type": "stream",
     "text": [
      "1j\n"
     ]
    }
   ],
   "source": [
    "c = 1j\n",
    "print(c)"
   ]
  },
  {
   "cell_type": "code",
   "execution_count": 47,
   "id": "683a12e0",
   "metadata": {
    "colab": {
     "base_uri": "https://localhost:8080/"
    },
    "id": "683a12e0",
    "outputId": "bcf6b568-ecc7-409e-bf7c-a15a4e568d9d"
   },
   "outputs": [
    {
     "name": "stdout",
     "output_type": "stream",
     "text": [
      "c   = 1j\n",
      "c^2 = (-1+0j)\n",
      "c^3 = (-0-1j)\n",
      "c^4 = (1+0j)\n"
     ]
    }
   ],
   "source": [
    "c2 = c**2\n",
    "c3 = c**3\n",
    "c4 = c**4\n",
    "\n",
    "print(f\"c   = {c}\")\n",
    "print(f\"c^2 = {c2}\")\n",
    "print(f\"c^3 = {c3}\")\n",
    "print(f\"c^4 = {c4}\")"
   ]
  },
  {
   "cell_type": "code",
   "execution_count": 48,
   "id": "0a9065bf",
   "metadata": {
    "colab": {
     "base_uri": "https://localhost:8080/",
     "height": 528
    },
    "id": "0a9065bf",
    "outputId": "49b130e6-52b1-40ab-853f-1faab4bb6d71"
   },
   "outputs": [
    {
     "data": {
      "image/png": "[encoded data removed]",
      "text/plain": [
       "<Figure size 432x432 with 1 Axes>"
      ]
     },
     "metadata": {
      "needs_background": "light"
     },
     "output_type": "display_data"
    }
   ],
   "source": [
    "plt.figure(figsize=(8, 8))\n",
    "plt.close()\n",
    "plt.figure(figsize=(6,6))\n",
    "plt_format_complex()\n",
    "plt.plot(c .real, c .imag, 'o', color='orange', markersize=20)\n",
    "plt.plot(c2.real, c2.imag, 'o', color='green' , markersize=20)\n",
    "plt.plot(c3.real, c3.imag, 'o', color='blue'  , markersize=20)\n",
    "plt.plot(c4.real, c4.imag, 'o', color='black' , markersize=20)\n",
    "plt.show()"
   ]
  },
  {
   "cell_type": "markdown",
   "id": "c73fee2e",
   "metadata": {
    "id": "c73fee2e"
   },
   "source": [
    "## Representación polar de los números complejos.\n",
    "\n",
    "\n",
    "Sea $c = a+jb$, un número complejo dado en coordenadas cartesianas $(x,y) \\in \\mathbb R x \\mathbb I$\n",
    ". Este número puede representarse en coordenadas polares $(r, \\theta)$, donde es la distancia de entre el punto $c$ y el origen del sistema coordenado y $\\theta$ el ángulo en radianes entre y la horizontal:\n",
    "\n",
    "$$r = \\sqrt{a^{2}+b^{2}}$$  \n",
    "\n",
    "$$\\theta = \\arctan \\left(\\dfrac{b}{a} \\right)$$ "
   ]
  },
  {
   "cell_type": "code",
   "execution_count": 49,
   "id": "d40b384b",
   "metadata": {
    "colab": {
     "base_uri": "https://localhost:8080/",
     "height": 528
    },
    "id": "d40b384b",
    "outputId": "0925b294-eb53-46bd-db83-d9862c53d6cc"
   },
   "outputs": [
    {
     "data": {
      "image/png": "[encoded data removed]",
      "text/plain": [
       "<Figure size 432x432 with 1 Axes>"
      ]
     },
     "metadata": {
      "needs_background": "light"
     },
     "output_type": "display_data"
    }
   ],
   "source": [
    "c = 1+1j\n",
    "#\n",
    "plt.figure(figsize=(8, 8))\n",
    "plt.close()\n",
    "plt.figure(figsize=(6,6))\n",
    "plt_format_complex()\n",
    "plt.plot( c.real, c.imag, 'or', markersize=12)\n",
    "plt.show()"
   ]
  },
  {
   "cell_type": "code",
   "execution_count": 50,
   "id": "295cdacf",
   "metadata": {
    "colab": {
     "base_uri": "https://localhost:8080/"
    },
    "id": "295cdacf",
    "outputId": "3d83937f-051d-4e56-d5c5-53931f986c94"
   },
   "outputs": [
    {
     "name": "stdout",
     "output_type": "stream",
     "text": [
      "(1+1j)\n",
      "mag(c) = 1.414, ang(c) = 0.785\n",
      "mag(c) = 1.414, ang(c) = 0.785\n"
     ]
    }
   ],
   "source": [
    "print(c)\n",
    "r_np, ang_np = np.absolute(c),  np.angle(c)\n",
    "r_sc, ang_sc = np.sqrt(c.real**2 + c.imag**2),  np.arctan(c.imag/c.real)\n",
    "print(f\"mag(c) = {r_np:5.3f}, ang(c) = {ang_np:5.3f}\")\n",
    "print(f\"mag(c) = {r_sc:5.3f}, ang(c) = {ang_sc:5.3f}\")"
   ]
  },
  {
   "cell_type": "code",
   "execution_count": 51,
   "id": "fb4cbb98",
   "metadata": {
    "colab": {
     "base_uri": "https://localhost:8080/",
     "height": 528
    },
    "id": "fb4cbb98",
    "outputId": "18358ae3-dd01-48eb-bd84-a09959f2d5a9"
   },
   "outputs": [
    {
     "data": {
      "image/png": "[encoded data removed]",
      "text/plain": [
       "<Figure size 432x432 with 1 Axes>"
      ]
     },
     "metadata": {
      "needs_background": "light"
     },
     "output_type": "display_data"
    }
   ],
   "source": [
    "#\n",
    "plt.figure(figsize=(8,8))\n",
    "plt.close()\n",
    "plt.figure(figsize=(6,6))\n",
    "plt_format_complex()\n",
    "plt.plot( c.real, c.imag, 'or', markersize=12)\n",
    "plt.arrow(0, 0, r_sc*np.cos(ang_sc), r_sc*np.sin(ang_sc))\n",
    "plt.show()"
   ]
  },
  {
   "cell_type": "markdown",
   "id": "d42b7cb9",
   "metadata": {
    "id": "d42b7cb9"
   },
   "source": [
    "Ejemplo $c=-1-j$"
   ]
  },
  {
   "cell_type": "code",
   "execution_count": 52,
   "id": "71f2546b",
   "metadata": {
    "colab": {
     "base_uri": "https://localhost:8080/",
     "height": 483
    },
    "id": "71f2546b",
    "outputId": "7806766b-2037-44a3-fd63-d09189b622d8"
   },
   "outputs": [
    {
     "name": "stdout",
     "output_type": "stream",
     "text": [
      "[-1.-1.j]\n",
      "[1.41421356] [-2.35619449]\n",
      "[1.41421356] [0.78539816]\n"
     ]
    },
    {
     "data": {
      "image/png": "[encoded data removed]",
      "text/plain": [
       "<Figure size 432x432 with 1 Axes>"
      ]
     },
     "metadata": {
      "needs_background": "light"
     },
     "output_type": "display_data"
    }
   ],
   "source": [
    "c = np.array( [-1-1j] )\n",
    "plt.figure(figsize=(6, 6))\n",
    "plt.plot( c.real, c.imag, 'or', markersize=12)\n",
    "print(c)\n",
    "print(np.absolute(c), np.angle(c))\n",
    "print(np.sqrt( c.real**2+c.imag**2 ), np.arctan( c.imag/c.real ))"
   ]
  },
  {
   "cell_type": "markdown",
   "id": "51f352f3",
   "metadata": {
    "id": "51f352f3"
   },
   "source": [
    "## Producto de los números complejos\n",
    "\n",
    "Sean $c_{0} = -.2 + j$y $c_{1}=1-0.5j$. ¿Cuál es el valor de $c_{0}(c_{1})$?"
   ]
  },
  {
   "cell_type": "code",
   "execution_count": 53,
   "id": "799276f9",
   "metadata": {
    "colab": {
     "base_uri": "https://localhost:8080/",
     "height": 465
    },
    "id": "799276f9",
    "outputId": "edbc7308-ede9-4ede-e891-625148f05c83"
   },
   "outputs": [
    {
     "name": "stdout",
     "output_type": "stream",
     "text": [
      "[-0.2+1.j], [1.-0.5j]\n"
     ]
    },
    {
     "data": {
      "text/plain": [
       "[<matplotlib.lines.Line2D at 0x1a9bee04a30>]"
      ]
     },
     "execution_count": 53,
     "metadata": {},
     "output_type": "execute_result"
    },
    {
     "data": {
      "image/png": "[encoded data removed]",
      "text/plain": [
       "<Figure size 432x432 with 1 Axes>"
      ]
     },
     "metadata": {
      "needs_background": "light"
     },
     "output_type": "display_data"
    }
   ],
   "source": [
    "c0 = np.array( [-0.2 + 1.0j] )\n",
    "c1 = np.array( [ 1.0 - 0.5j] )\n",
    "\n",
    "print ('%s, %s'%(c0, c1))\n",
    "plt.figure(figsize=(6, 6))\n",
    "plt.plot( c0.real, c0.imag, 'or', markersize=12)\n",
    "plt.plot( c1.real, c1.imag, 'og', markersize=12)\n",
    "\n",
    "#view\n",
    "plt.plot( 0,0, 'ok', markersize=6)"
   ]
  },
  {
   "cell_type": "code",
   "execution_count": 54,
   "id": "85e85a2a",
   "metadata": {
    "colab": {
     "base_uri": "https://localhost:8080/",
     "height": 465
    },
    "id": "85e85a2a",
    "outputId": "1784737a-74d2-489b-eb6a-173225b44e8a"
   },
   "outputs": [
    {
     "name": "stdout",
     "output_type": "stream",
     "text": [
      "[-0.2+1.j], [1.-0.5j]\n"
     ]
    },
    {
     "data": {
      "text/plain": [
       "[<matplotlib.lines.Line2D at 0x1a9c18402e0>]"
      ]
     },
     "execution_count": 54,
     "metadata": {},
     "output_type": "execute_result"
    },
    {
     "data": {
      "image/png": "[encoded data removed]",
      "text/plain": [
       "<Figure size 432x432 with 1 Axes>"
      ]
     },
     "metadata": {
      "needs_background": "light"
     },
     "output_type": "display_data"
    }
   ],
   "source": [
    "print ('%s, %s'%(c0, c1))\n",
    "plt.figure(figsize=(6, 6))\n",
    "plt.plot( c0.real, c0.imag, 'or', markersize=12)\n",
    "plt.plot( c1.real, c1.imag, 'og', markersize=12)\n",
    "\n",
    "#view\n",
    "plt.plot( 0,0, 'ok', markersize=6)"
   ]
  },
  {
   "cell_type": "markdown",
   "id": "5be45e4c",
   "metadata": {
    "id": "5be45e4c"
   },
   "source": [
    "Solución algebraica:\n",
    "$$(-0.2+j) (1-0.5j)= -0.2 (1-0.5j) + j(1-0.5j)$$\n",
    "$$                 = -0.2 + 0.1j + j +0.5$$\n",
    "$$                 = \\color{red}{-0.2 + 0.5} +\\color{blue} {j + 0.1j}$$\n",
    "$$                 = \\color{red}{0.3} + \\color{blue}{ 1.1j}$$"
   ]
  },
  {
   "cell_type": "code",
   "execution_count": 55,
   "id": "c8aee592",
   "metadata": {
    "colab": {
     "base_uri": "https://localhost:8080/",
     "height": 501
    },
    "id": "c8aee592",
    "outputId": "76c7ee1b-0bc3-40b8-d344-4a0cd75b8803"
   },
   "outputs": [
    {
     "name": "stdout",
     "output_type": "stream",
     "text": [
      "[-0.2+1.j]\n",
      "[1.-0.5j]\n",
      "[0.3+1.1j]\n"
     ]
    },
    {
     "data": {
      "text/plain": [
       "[<matplotlib.lines.Line2D at 0x1a9beb31340>]"
      ]
     },
     "execution_count": 55,
     "metadata": {},
     "output_type": "execute_result"
    },
    {
     "data": {
      "image/png": "[encoded data removed]",
      "text/plain": [
       "<Figure size 432x432 with 1 Axes>"
      ]
     },
     "metadata": {
      "needs_background": "light"
     },
     "output_type": "display_data"
    }
   ],
   "source": [
    "c = c0*c1\n",
    "plt.figure(figsize=(6, 6))\n",
    "print ('%s\\n%s\\n%s'%(c0, c1, c))\n",
    "plt.plot(  c.real, c.imag, 'om', markersize=12)\n",
    "plt.plot( c0.real, c0.imag, 'or', markersize=12)\n",
    "plt.plot( c1.real, c1.imag, 'og', markersize=12)\n",
    "\n",
    "#view\n",
    "plt.plot( 0,0, 'ok', markersize=6)"
   ]
  },
  {
   "cell_type": "code",
   "execution_count": 56,
   "id": "82f9535c",
   "metadata": {
    "colab": {
     "base_uri": "https://localhost:8080/",
     "height": 501
    },
    "id": "82f9535c",
    "outputId": "ed77758f-88fe-4ee5-e7e3-0b921da67eb1"
   },
   "outputs": [
    {
     "name": "stdout",
     "output_type": "stream",
     "text": [
      "c0: 1.0198/_1.7682\n",
      "c1: 1.1180/_-0.4636\n",
      "c : 1.1402/_1.3045\n"
     ]
    },
    {
     "data": {
      "text/plain": [
       "[<matplotlib.lines.Line2D at 0x1a9c073ce80>]"
      ]
     },
     "execution_count": 56,
     "metadata": {},
     "output_type": "execute_result"
    },
    {
     "data": {
      "image/png": "[encoded data removed]",
      "text/plain": [
       "<Figure size 432x432 with 1 Axes>"
      ]
     },
     "metadata": {
      "needs_background": "light"
     },
     "output_type": "display_data"
    }
   ],
   "source": [
    "c = c0*c1\n",
    "plt.figure(figsize=(6, 6))\n",
    "print ('c0: %2.4f/_%2.4f'%( np.absolute(c0), np.angle(c0) ))\n",
    "print ('c1: %2.4f/_%2.4f'%( np.absolute(c1), np.angle(c1) ))\n",
    "print ('c : %2.4f/_%2.4f'%( np.absolute(c ), np.angle(c ) ))\n",
    "\n",
    "plt.plot(  c.real, c.imag, 'om', markersize=12)\n",
    "plt.plot( c0.real, c0.imag, 'or', markersize=12)\n",
    "plt.plot( c1.real, c1.imag, 'og', markersize=12)\n",
    "\n",
    "#view\n",
    "plt.plot( 0,0, 'ok', markersize=6)"
   ]
  },
  {
   "cell_type": "markdown",
   "id": "18e613e9",
   "metadata": {
    "id": "18e613e9"
   },
   "source": [
    "**Problema.** Sea $c_{0} = -1 + 2.1j$ y $c_{1} = 1.7 + 1.3j$. ¿Cuál es el valor de $c_{0}(c_{1})$?"
   ]
  },
  {
   "cell_type": "code",
   "execution_count": 57,
   "id": "5207e79d",
   "metadata": {
    "colab": {
     "base_uri": "https://localhost:8080/",
     "height": 519
    },
    "id": "5207e79d",
    "outputId": "cdd382e4-50e8-4987-a5ed-67ad82842ca2"
   },
   "outputs": [
    {
     "name": "stdout",
     "output_type": "stream",
     "text": [
      "[-1.+2.1j], [1.7+1.3j]\n",
      "c0: 2.3259/_2.0152\n",
      "c1: 2.1401/_0.6528\n",
      "c : 4.9777/_2.6681\n"
     ]
    },
    {
     "data": {
      "text/plain": [
       "[<matplotlib.lines.Line2D at 0x1a9beccd8e0>]"
      ]
     },
     "execution_count": 57,
     "metadata": {},
     "output_type": "execute_result"
    },
    {
     "data": {
      "image/png": "[encoded data removed]",
      "text/plain": [
       "<Figure size 432x432 with 1 Axes>"
      ]
     },
     "metadata": {
      "needs_background": "light"
     },
     "output_type": "display_data"
    }
   ],
   "source": [
    "c0 = np.array( [-1.  + 2.1j] )\n",
    "c1 = np.array( [ 1.7 + 1.3j] )\n",
    "\n",
    "plt.figure(figsize=(6, 6))\n",
    "print ('%s, %s'%(c0, c1))\n",
    "\n",
    "c = c0*c1\n",
    "\n",
    "print ('c0: %2.4f/_%2.4f'%( np.absolute(c0), np.angle(c0) ))\n",
    "print ('c1: %2.4f/_%2.4f'%( np.absolute(c1), np.angle(c1) ))\n",
    "print ('c : %2.4f/_%2.4f'%( np.absolute(c ), np.angle(c ) ))\n",
    "\n",
    "plt.plot(  c.real, c.imag, 'om', markersize=12)\n",
    "plt.plot( c0.real, c0.imag, 'or', markersize=12)\n",
    "plt.plot( c1.real, c1.imag, 'og', markersize=12)\n",
    "\n",
    "#view\n",
    "plt.plot( 0,0, 'ok', markersize=6)"
   ]
  },
  {
   "cell_type": "markdown",
   "id": "c3872e53",
   "metadata": {
    "id": "c3872e53"
   },
   "source": [
    "**Conclusión.** Sean $A < \\alpha$ y $B < \\beta$ las representaciones en coordenadas polares de la números $a, b \\in \\mathbb C$ el producto $e = ab$ está dado por\n",
    "\n",
    "$$E < \\eta : E = A + b, \\eta = \\alpha + \\beta$$\n",
    "\n",
    "En otras palabras, el producto entre números complejos afecta la magnitud y la fase. **Este resultado es de vital importancia en el diseño de filtros.**"
   ]
  },
  {
   "cell_type": "markdown",
   "id": "5e128715",
   "metadata": {
    "id": "5e128715"
   },
   "source": [
    "## Identidad de Euler números complejos\n",
    "El número $e$ es una constante irracional que se obtiene cuando $n$ de interés compuesto tiende a infinito\n",
    "\n",
    "$$e = {\\lim_{n\\to \\infty}} \\left(1 + \\dfrac{1}{n}\\right)^{n} $$"
   ]
  },
  {
   "cell_type": "code",
   "execution_count": 58,
   "id": "de3698f6",
   "metadata": {
    "colab": {
     "base_uri": "https://localhost:8080/"
    },
    "id": "de3698f6",
    "outputId": "45885152-20ec-4a94-b20a-f1c889374732"
   },
   "outputs": [
    {
     "name": "stdout",
     "output_type": "stream",
     "text": [
      "2.718281828459045 2.7182817560533206\n"
     ]
    }
   ],
   "source": [
    "n       = 20000000.\n",
    "e_aprox = (1+1/n)**n\n",
    "\n",
    "print (np.exp(1), e_aprox)"
   ]
  },
  {
   "cell_type": "markdown",
   "id": "8db1e83d",
   "metadata": {
    "id": "8db1e83d"
   },
   "source": [
    "De la definición del número $e$ se obtiene que la función $f(x) = e^{x}$ se define como\n",
    "\n",
    "$$e = {\\lim_{m\\to \\infty}}{\\left(1 + \\dfrac{x}{m}\\right)}^{m}$$"
   ]
  },
  {
   "cell_type": "code",
   "execution_count": 59,
   "id": "14e2f1d7",
   "metadata": {
    "colab": {
     "base_uri": "https://localhost:8080/"
    },
    "id": "14e2f1d7",
    "outputId": "1166bea8-cb9b-4331-9c18-54a1e53dd630"
   },
   "outputs": [
    {
     "name": "stdout",
     "output_type": "stream",
     "text": [
      "23.140692632779267 23.14068119246507\n"
     ]
    }
   ],
   "source": [
    "m    = 10000000.\n",
    "x    = np.pi\n",
    "e_pi = ( 1 + x/m)**m\n",
    "\n",
    "print (np.exp( x ), e_pi)"
   ]
  },
  {
   "cell_type": "markdown",
   "id": "93c6e381",
   "metadata": {
    "id": "93c6e381"
   },
   "source": [
    "en general se puede definir la función $f(x) = e^{x}$ para $x \\in \\mathbb C$.\n",
    "\n",
    "Por ejemplo $e^{j \\pi}$ :\n",
    "$$e^{j \\pi} = {\\lim_{m\\to \\infty}}{\\left(1 + \\dfrac{j \\pi}{m}\\right)}$$"
   ]
  },
  {
   "cell_type": "code",
   "execution_count": 60,
   "id": "179b9ea0",
   "metadata": {
    "colab": {
     "base_uri": "https://localhost:8080/"
    },
    "id": "179b9ea0",
    "outputId": "d3de331b-707c-4f29-cfb7-e084eb18f3a5"
   },
   "outputs": [
    {
     "name": "stdout",
     "output_type": "stream",
     "text": [
      "(-1+1.2246467991473532e-16j) (-1.0000049347314757+1.0335461647996648e-11j)\n"
     ]
    }
   ],
   "source": [
    "m     = 1000000.\n",
    "x     = 1j*np.pi\n",
    "e_jpi = (1+x/m)**m\n",
    "\n",
    "print (np.exp( x ), e_jpi)"
   ]
  },
  {
   "cell_type": "markdown",
   "id": "1a5b4bcc",
   "metadata": {
    "id": "1a5b4bcc"
   },
   "source": [
    "$e^{j \\pi} = -1$, a esto se le conoce como la identidad de Euler\n",
    "\n",
    "En general se puede escribir $e^{j \\pi \\omega} = -1$, a esto se le conoce como la identidad de Euler"
   ]
  },
  {
   "cell_type": "code",
   "execution_count": 61,
   "id": "b238d903",
   "metadata": {
    "colab": {
     "base_uri": "https://localhost:8080/",
     "height": 448
    },
    "id": "b238d903",
    "outputId": "09be6d8e-7d04-4d5f-c907-40581c18b7cb"
   },
   "outputs": [
    {
     "data": {
      "text/plain": [
       "[<matplotlib.lines.Line2D at 0x1a9bf0c5a30>]"
      ]
     },
     "execution_count": 61,
     "metadata": {},
     "output_type": "execute_result"
    },
    {
     "data": {
      "image/png": "[encoded data removed]",
      "text/plain": [
       "<Figure size 432x432 with 1 Axes>"
      ]
     },
     "metadata": {
      "needs_background": "light"
     },
     "output_type": "display_data"
    }
   ],
   "source": [
    "w = 0.25\n",
    "c = np.exp( w*x )\n",
    "plt.figure(figsize=(6, 6))\n",
    "plt.plot(  c.real, c.imag, 'ob', markersize=12)\n",
    "\n",
    "#view\n",
    "plt.plot( 0,0, 'ok', markersize=6)"
   ]
  },
  {
   "cell_type": "code",
   "execution_count": 62,
   "id": "d8405c5a",
   "metadata": {
    "colab": {
     "base_uri": "https://localhost:8080/"
    },
    "id": "d8405c5a",
    "outputId": "21768d6a-30f3-49f8-9bcb-05d73dd3d79c"
   },
   "outputs": [
    {
     "name": "stdout",
     "output_type": "stream",
     "text": [
      "[0.         0.12822827 0.25645654 0.38468481 0.51291309 0.64114136\n",
      " 0.76936963 0.8975979  1.02582617 1.15405444 1.28228272 1.41051099\n",
      " 1.53873926 1.66696753 1.7951958  1.92342407 2.05165235 2.17988062\n",
      " 2.30810889 2.43633716 2.56456543 2.6927937  2.82102197 2.94925025\n",
      " 3.07747852 3.20570679 3.33393506 3.46216333 3.5903916  3.71861988\n",
      " 3.84684815 3.97507642 4.10330469 4.23153296 4.35976123 4.48798951\n",
      " 4.61621778 4.74444605 4.87267432 5.00090259 5.12913086 5.25735913\n",
      " 5.38558741 5.51381568 5.64204395 5.77027222 5.89850049 6.02672876\n",
      " 6.15495704 6.28318531]\n"
     ]
    }
   ],
   "source": [
    "w = np.linspace(0, 2*np.pi, 50)\n",
    "#w = np.linspace(0, 20, 21)\n",
    "print (w)"
   ]
  },
  {
   "cell_type": "code",
   "execution_count": 63,
   "id": "9cb898a5",
   "metadata": {
    "colab": {
     "base_uri": "https://localhost:8080/",
     "height": 448
    },
    "id": "9cb898a5",
    "outputId": "cbde5e18-e26f-444a-e376-d9d0f21f1483"
   },
   "outputs": [
    {
     "data": {
      "text/plain": [
       "[<matplotlib.lines.Line2D at 0x1a9c0475cd0>]"
      ]
     },
     "execution_count": 63,
     "metadata": {},
     "output_type": "execute_result"
    },
    {
     "data": {
      "image/png": "[encoded data removed]",
      "text/plain": [
       "<Figure size 576x576 with 1 Axes>"
      ]
     },
     "metadata": {
      "needs_background": "light"
     },
     "output_type": "display_data"
    }
   ],
   "source": [
    "c = np.exp( w*x )\n",
    "\n",
    "plt.figure(figsize=(8,8))\n",
    "plt.plot(  c.real, c.imag, 'ob', markersize=12)\n",
    "\n",
    "#view\n",
    "plt.plot( 0,0, 'ok', markersize=6)"
   ]
  },
  {
   "cell_type": "code",
   "execution_count": 64,
   "id": "928b31fc",
   "metadata": {
    "colab": {
     "base_uri": "https://localhost:8080/",
     "height": 448
    },
    "id": "928b31fc",
    "outputId": "4101c902-c2c2-46ac-bc29-688c30dc34e9",
    "scrolled": true
   },
   "outputs": [
    {
     "data": {
      "text/plain": [
       "[<matplotlib.lines.Line2D at 0x1a9c06a9ee0>]"
      ]
     },
     "execution_count": 64,
     "metadata": {},
     "output_type": "execute_result"
    },
    {
     "data": {
      "image/png": "[encoded data removed]",
      "text/plain": [
       "<Figure size 576x576 with 1 Axes>"
      ]
     },
     "metadata": {
      "needs_background": "light"
     },
     "output_type": "display_data"
    }
   ],
   "source": [
    "a = .2\n",
    "\n",
    "c  =   np.exp( w*x )\n",
    "ca = a*np.exp( w*x )\n",
    "\n",
    "plt.figure(figsize=(8,8))\n",
    "plt.plot(  c .real, c .imag, 'ob', markersize=12)\n",
    "plt.plot(  ca.real, ca.imag, 'or', markersize=12)\n",
    "\n",
    "#view\n",
    "plt.plot( 0,0, 'ok', markersize=6)"
   ]
  },
  {
   "cell_type": "markdown",
   "id": "cd2dedaf",
   "metadata": {
    "id": "cd2dedaf"
   },
   "source": [
    "**Conclusión** Una forma alternativa de representar número complejo $c = r< \\theta$ es\n",
    "\n",
    "$$c=re^{j \\theta}$$\n",
    "\n",
    "**Ejemplo**: Retomando $c^{0} = -0.2 +j$, al hacer la transformación a coordenadas polares:\n",
    "$c_{0} = 1.0198<1.7682 \\Rightarrow c_{0} = 1.0198 e^{j 1.7682}$"
   ]
  },
  {
   "cell_type": "code",
   "execution_count": 65,
   "id": "b637a6f5",
   "metadata": {
    "colab": {
     "base_uri": "https://localhost:8080/"
    },
    "id": "b637a6f5",
    "outputId": "51caf959-2f7c-4ff3-9c6f-8770e48ac161"
   },
   "outputs": [
    {
     "name": "stdout",
     "output_type": "stream",
     "text": [
      "[-0.2+1.j]\n",
      "1.0198/_1.7682\n"
     ]
    }
   ],
   "source": [
    "c0         = np.array( [-0.2 + 1.0j] )\n",
    "c0_r, c0_a = np.absolute(c0),np.angle(c0)\n",
    "\n",
    "print ('%s'%(c0))\n",
    "print ('%2.4f/_%2.4f'%( c0_r, c0_a ))"
   ]
  },
  {
   "cell_type": "code",
   "execution_count": 66,
   "id": "b5e6e5d9",
   "metadata": {
    "colab": {
     "base_uri": "https://localhost:8080/",
     "height": 925
    },
    "id": "b5e6e5d9",
    "outputId": "4d96ad4b-7f67-467c-d598-fecc2ad5163e"
   },
   "outputs": [
    {
     "name": "stdout",
     "output_type": "stream",
     "text": [
      "[-0.2+1.j]\n",
      "1.0198/_1.7682\n"
     ]
    },
    {
     "data": {
      "text/plain": [
       "[<matplotlib.lines.Line2D at 0x1a9bef1ce80>]"
      ]
     },
     "execution_count": 66,
     "metadata": {},
     "output_type": "execute_result"
    },
    {
     "data": {
      "image/png": "[encoded data removed]",
      "text/plain": [
       "<Figure size 432x432 with 1 Axes>"
      ]
     },
     "metadata": {
      "needs_background": "light"
     },
     "output_type": "display_data"
    },
    {
     "data": {
      "image/png": "[encoded data removed]",
      "text/plain": [
       "<Figure size 432x288 with 1 Axes>"
      ]
     },
     "metadata": {
      "needs_background": "light"
     },
     "output_type": "display_data"
    }
   ],
   "source": [
    "c0         = np.array( [-0.2 + 1.0j] )\n",
    "c0_r, c0_a = np.absolute(c0),np.angle(c0)\n",
    "\n",
    "print ('%s'%(c0))\n",
    "print ('%2.4f/_%2.4f'%( c0_r, c0_a ))\n",
    "\n",
    "plt.figure(figsize=(6, 6))\n",
    "plt.polar( c0_a,c0_r,'o', markersize=14)\n",
    "plt.polar( 0,0, 'ok', markersize=6)\n",
    "\n",
    "plt.figure()\n",
    "plt.plot(  c0.real, c0.imag,'o',markersize=14)\n",
    "\n",
    "#view\n",
    "plt.plot( 0,0, 'ok', markersize=6)"
   ]
  },
  {
   "cell_type": "code",
   "execution_count": 67,
   "id": "75c9fa81",
   "metadata": {
    "colab": {
     "base_uri": "https://localhost:8080/"
    },
    "id": "75c9fa81",
    "outputId": "05d52cf5-df5f-4981-bfa2-02dea1141cc5"
   },
   "outputs": [
    {
     "name": "stdout",
     "output_type": "stream",
     "text": [
      "[-0.2+1.j]\n",
      "[-0.2+1.j]\n",
      "1.0198/_1.7682\n"
     ]
    }
   ],
   "source": [
    "c0_exp = c0_r*np.exp( 1j*c0_a )\n",
    "\n",
    "print ('%s'%(c0))\n",
    "print ('%s'%(c0_exp))\n",
    "print ('%2.4f/_%2.4f'%( c0_r, c0_a ))"
   ]
  },
  {
   "cell_type": "markdown",
   "id": "a95bfdd4",
   "metadata": {
    "id": "a95bfdd4"
   },
   "source": [
    "---\n",
    "\n",
    "\n",
    "# Transformada Z <a class=\"anchor\" id=\"TZ\"></a>\n",
    "\n",
    "\n",
    "La transformada Z es una herramienta matemática utilizada en el análisis de señales discretas, especialmente en el campo de los sistemas y señales digitales.\n",
    "\n",
    "La transformada Z toma una secuencia de valores discretos en el tiempo, denotada como ${x[n]}$, y la transforma en una función compleja de una variable compleja z. La variable z se expresa en términos de su magnitud (módulo) y su ángulo de fase. La transformada Z se define mediante la siguiente fórmula:\n",
    "\n",
    "$X(z) = ∑(x[n] * z^{-n}$, donde la suma se toma sobre todos los valores de n en el rango de menos infinito a más infinito."
   ]
  },
  {
   "cell_type": "markdown",
   "id": "adb9395f",
   "metadata": {
    "id": "adb9395f"
   },
   "source": [
    "En esta parte usaremos la función <code>**scipy.signal.czt(x, m=None, w=None, a=1 + 0j, *, axis=-1)**</code> en la biblioteca **SciPy** calcula la respuesta de frecuencia alrededor de una espiral en el plano Z.\n",
    "\n",
    "Parámetros:\n",
    "\n",
    "**x**: array. La señal a transformar.\n",
    "<br>**m**: int, opcional. El número de puntos de salida deseado. El valor predeterminado es la longitud de los datos de entrada.\n",
    "<br>**w**: complex, opcional. La proporción entre puntos en cada paso. Esto debe ser preciso, de lo contrario, el error acumulado degradará la parte final de la secuencia de salida. Por defecto, se utilizan puntos igualmente espaciados alrededor de todo el círculo unitario.\n",
    "<br>**a**: complex, opcional. El punto de inicio en el plano complejo. El valor predeterminado es 1+0j.\n",
    "<br>**axis**: int, opcional. Eje a lo largo del cual se calcula la transformada. Si no se proporciona, se utiliza el último eje."
   ]
  },
  {
   "cell_type": "code",
   "execution_count": 68,
   "id": "2a0e5c25",
   "metadata": {
    "id": "2a0e5c25"
   },
   "outputs": [],
   "source": [
    "import scipy.signal as signal"
   ]
  },
  {
   "cell_type": "code",
   "execution_count": 69,
   "id": "1b93640e",
   "metadata": {
    "colab": {
     "base_uri": "https://localhost:8080/"
    },
    "id": "1b93640e",
    "outputId": "2e3344a1-ea5d-43ae-d38d-1ded2b226956"
   },
   "outputs": [
    {
     "ename": "AttributeError",
     "evalue": "module 'scipy.signal' has no attribute 'czt'",
     "output_type": "error",
     "traceback": [
      "\u001b[1;31m---------------------------------------------------------------------------\u001b[0m",
      "\u001b[1;31mAttributeError\u001b[0m                            Traceback (most recent call last)",
      "Input \u001b[1;32mIn [69]\u001b[0m, in \u001b[0;36m<cell line: 5>\u001b[1;34m()\u001b[0m\n\u001b[0;32m      2\u001b[0m x \u001b[38;5;241m=\u001b[39m np\u001b[38;5;241m.\u001b[39marray([\u001b[38;5;241m1\u001b[39m, \u001b[38;5;241m2\u001b[39m, \u001b[38;5;241m3\u001b[39m, \u001b[38;5;241m4\u001b[39m, \u001b[38;5;241m5\u001b[39m])\n\u001b[0;32m      4\u001b[0m \u001b[38;5;66;03m# Calcular la Transformada Z con CZT\u001b[39;00m\n\u001b[1;32m----> 5\u001b[0m z_transform \u001b[38;5;241m=\u001b[39m \u001b[43msignal\u001b[49m\u001b[38;5;241;43m.\u001b[39;49m\u001b[43mczt\u001b[49m(x)\n\u001b[0;32m      7\u001b[0m \u001b[38;5;66;03m# Imprimir la Transformada Z\u001b[39;00m\n\u001b[0;32m      8\u001b[0m \u001b[38;5;28mprint\u001b[39m(z_transform)\n",
      "\u001b[1;31mAttributeError\u001b[0m: module 'scipy.signal' has no attribute 'czt'"
     ]
    }
   ],
   "source": [
    "# Definir la señal discreta\n",
    "x = np.array([1, 2, 3, 4, 5])\n",
    "\n",
    "# Calcular la Transformada Z con CZT\n",
    "z_transform = signal.czt(x)\n",
    "\n",
    "# Imprimir la Transformada Z\n",
    "print(z_transform)"
   ]
  },
  {
   "cell_type": "markdown",
   "id": "eeb7b508",
   "metadata": {
    "id": "eeb7b508"
   },
   "source": [
    "---\n",
    "\n",
    "\n",
    "# Fourier <a class=\"anchor\" id=\"F\"></a>\n",
    "\n",
    "La serie de Fourier es una representación matemática que permite descomponer una función periódica en una suma infinita de funciones senoidales (o cosenoidales) con diferentes frecuencias y amplitudes. Es una herramienta fundamental en el análisis de señales y sistemas, y tiene aplicaciones en diversas áreas como la física, las matemáticas, la ingeniería y la música.\n",
    "se represeenta con la formula \n",
    "$$\\LARGE f(x) = \\dfrac{a_{0}}{2}  + \\sum [a_{n}\\cos(nx) + b_{n}\\sin(nx)]$$\n",
    "\n",
    "Para calcular la serie de Fourier y mostrar el espectro de amplitud y fase\n",
    "\n",
    "1. Definimos una señal periódica $x(t)$.\n",
    "<br> En este caso, la señal $x(t)$ es la suma de tres componentes sinusoidales con diferentes frecuencias y amplitudes."
   ]
  },
  {
   "cell_type": "code",
   "execution_count": null,
   "id": "a01217c9",
   "metadata": {
    "id": "a01217c9"
   },
   "outputs": [],
   "source": [
    "def x(t):\n",
    "    return np.cos(2*np.pi*2*t) + 0.5*np.sin(2*np.pi*5*t) + 0.3*np.cos(2*np.pi*10*t)"
   ]
  },
  {
   "cell_type": "markdown",
   "id": "0d9967de",
   "metadata": {
    "id": "0d9967de"
   },
   "source": [
    "2. Es importante configurar los parámetros adecuados para el cálculo de la serie de Fourier. Estos incluyen el período de la señal **T** y el número de puntos de muestreo **N**. Puedes ajustar estos valores según tus necesidades."
   ]
  },
  {
   "cell_type": "code",
   "execution_count": null,
   "id": "1941cbb7",
   "metadata": {
    "id": "1941cbb7"
   },
   "outputs": [],
   "source": [
    "T = 2*np.pi  # Período de la señal\n",
    "N = 50  # Número de puntos de muestreo\n",
    "n_coefficients = 20  # Número de coeficientes de Fourier"
   ]
  },
  {
   "cell_type": "markdown",
   "id": "6b2add91",
   "metadata": {
    "id": "6b2add91"
   },
   "source": [
    "3. La línea de código from <code>**scipy.fft import fft, fftfreq</code> importa las funciones <code>fft</code> y <code>fftfreq</code>** del módulo **fft** de la biblioteca SciPy. Estas funciones se utilizan para realizar transformadas de Fourier rápidas (FFT) y calcular las frecuencias correspondientes.\n",
    "\n",
    "* La función **fft** se utiliza para calcular la transformada rápida de Fourier de una señal. Toma como entrada una secuencia de valores de señal y devuelve la transformada de Fourier de esa señal.\n",
    "\n",
    "* La función **fftfreq** se utiliza para generar una matriz de frecuencias correspondientes a las componentes de la FFT. Esta función toma como entrada la longitud de la señal y el intervalo de muestreo y devuelve una matriz de frecuencias en el dominio de la frecuencia para cada punto de la señal transformada.\n",
    "\n",
    "<br> El resultado de **X** será un arreglo que contiene los coeficientes de Fourier de la señal."
   ]
  },
  {
   "cell_type": "code",
   "execution_count": null,
   "id": "70ef81b9",
   "metadata": {
    "id": "70ef81b9"
   },
   "outputs": [],
   "source": [
    "from scipy.fft import fft, fftfreq\n",
    "# Generar el vector de tiempo\n",
    "t = np.linspace(0, T, N)\n",
    "\n",
    "# Calcular la serie de Fourier mediante la transformada rápida de Fourier (FFT)\n",
    "X = fft(x(t))/N"
   ]
  },
  {
   "cell_type": "markdown",
   "id": "98da9159",
   "metadata": {
    "id": "98da9159"
   },
   "source": [
    "4. A partir de los coeficientes de Fourier, podemos calcular el espectro de amplitud y fase correspondiente a cada frecuencia. Para ello, utilizaremos las funciones <code>**.abs**</code> y <code>**.angle**</code> de **numpy** para obtener la magnitud y fase de cada coeficiente respectivamente."
   ]
  },
  {
   "cell_type": "code",
   "execution_count": null,
   "id": "dfec526b",
   "metadata": {
    "id": "dfec526b"
   },
   "outputs": [],
   "source": [
    "X_magnitude = np.abs(X)  # Espectro de amplitud\n",
    "X_phase = np.angle(X)  # Espectro de fase"
   ]
  },
  {
   "cell_type": "markdown",
   "id": "89cfe52c",
   "metadata": {
    "id": "89cfe52c"
   },
   "source": [
    "5. Para visualizar correctamente el espectro, necesitamos configurar las frecuencias correspondientes a los coeficientes de Fourier. Esto se puede hacer utilizando la función <code>**fftfreq**</code> de numpy"
   ]
  },
  {
   "cell_type": "code",
   "execution_count": null,
   "id": "c6249eef",
   "metadata": {
    "id": "c6249eef"
   },
   "outputs": [],
   "source": [
    "frequencies = fftfreq(N, d=T/N)"
   ]
  },
  {
   "cell_type": "markdown",
   "id": "ad472516",
   "metadata": {
    "id": "ad472516"
   },
   "source": [
    "6. Finalmente, utilizaremos **matplotlib** para graficar el espectro de amplitud y fase."
   ]
  },
  {
   "cell_type": "code",
   "execution_count": null,
   "id": "700a4961",
   "metadata": {
    "colab": {
     "base_uri": "https://localhost:8080/",
     "height": 1000
    },
    "id": "700a4961",
    "outputId": "092e75de-4c47-47ed-d3bf-87e97c5bedbf"
   },
   "outputs": [],
   "source": [
    "# Graficar el espectro de amplitud\n",
    "plt.figure(figsize=(8, 6))\n",
    "plt.stem(frequencies, X_magnitude)\n",
    "plt.xlabel('Frecuencia')\n",
    "plt.ylabel('Amplitud')\n",
    "plt.title('Espectro de Amplitud')\n",
    "plt.grid(True)\n",
    "plt.show()\n",
    "\n",
    "# Graficar el espectro de fase\n",
    "plt.figure(figsize=(8, 6))\n",
    "plt.stem(frequencies, X_phase)\n",
    "plt.xlabel('Frecuencia')\n",
    "plt.ylabel('Fase')\n",
    "plt.title('Espectro de Fase')\n",
    "plt.grid(True)\n",
    "plt.show()\n"
   ]
  },
  {
   "cell_type": "code",
   "execution_count": null,
   "id": "b99cfbea",
   "metadata": {
    "colab": {
     "base_uri": "https://localhost:8080/",
     "height": 1000
    },
    "id": "b99cfbea",
    "outputId": "5a4054a8-87d4-4dac-aa53-d54e80b934d7"
   },
   "outputs": [],
   "source": [
    "import numpy as np\n",
    "import matplotlib.pyplot as plt\n",
    "\n",
    "# Definir la señal x(t)\n",
    "def x(t):\n",
    "    return np.cos(2*np.pi*10*t) + np.sin(2*np.pi*20*t)\n",
    "\n",
    "# Parámetros de la señal y la transformada de Fourier\n",
    "T = 1.0  # Duración de la señal en segundos\n",
    "fs = 50  # Tasa de muestreo en Hz\n",
    "N = int(T * fs)  # Número de puntos de muestreo\n",
    "\n",
    "# Generar el vector de tiempo\n",
    "t = np.linspace(0, T, N, endpoint=False)\n",
    "\n",
    "# Calcular la serie de Fourier mediante la transformada de Fourier\n",
    "X = np.fft.fft(x(t))\n",
    "X_magnitude = np.abs(X)  # Espectro de amplitud\n",
    "X_phase = np.angle(X)  # Espectro de fase\n",
    "\n",
    "# Calcular las frecuencias correspondientes\n",
    "frequencies = np.fft.fftfreq(N, d=1/fs)\n",
    "\n",
    "# Graficar el espectro de amplitud\n",
    "plt.figure(figsize=(8, 6))\n",
    "plt.stem(frequencies, X_magnitude)\n",
    "plt.xlabel('Frecuencia [Hz]')\n",
    "plt.ylabel('Amplitud')\n",
    "plt.title('Espectro de Amplitud')\n",
    "plt.grid(True)\n",
    "plt.show()\n",
    "\n",
    "# Graficar el espectro de fase\n",
    "plt.figure(figsize=(8, 6))\n",
    "plt.stem(frequencies, X_phase)\n",
    "plt.xlabel('Frecuencia [Hz]')\n",
    "plt.ylabel('Fase [radianes]')\n",
    "plt.title('Espectro de Fase')\n",
    "plt.grid(True)\n",
    "plt.show()"
   ]
  },
  {
   "cell_type": "markdown",
   "id": "aeacb9ff",
   "metadata": {
    "id": "aeacb9ff"
   },
   "source": [
    "---\n",
    "\n",
    "\n",
    "# La Transformada de Fourier <a class=\"anchor\" id=\"ltf\"></a>\n",
    "Es una herramienta matemática importante para analizar señales en dominio de frecuencia. Permite descomponer una señal en sus componentes frecuenciales y obtener información sobre las amplitudes y fases de esas componentes.\n",
    "\n",
    "1. Se define la señal en el dominio del tiempo. En este caso, se utiliza un vector de tiempo t creado con <code>**np.linspace()**</code>, que va de 0 a 1 con 1000 puntos equidistantes. A continuación, se definen los parámetros de la señal, como la frecuencia y la amplitud. En este ejemplo, se utiliza una señal sinusoidal con una frecuencia de 10 Hz y una amplitud de 1. La señal se calcula utilizando la función <code>**np.sin()**</code> de NumPy."
   ]
  },
  {
   "cell_type": "code",
   "execution_count": null,
   "id": "34fcfe36",
   "metadata": {
    "id": "34fcfe36"
   },
   "outputs": [],
   "source": [
    "# Definir la señal en dominio del tiempo\n",
    "t = np.linspace(0, 1, 1000)  # Vector de tiempo\n",
    "frecuencia = 10  # Frecuencia de la señal\n",
    "amplitud = 1  # Amplitud de la señal\n",
    "señal = amplitud * np.sin(2 * np.pi * frecuencia * t)  # Señal sinusoidal"
   ]
  },
  {
   "cell_type": "markdown",
   "id": "8384155a",
   "metadata": {
    "id": "8384155a"
   },
   "source": [
    "2. Se utiliza la función <code>**np.fft.fft()**</code> para calcular la Transformada de Fourier de la señal. Esta función toma como argumento la señal y devuelve un vector que representa los coeficientes complejos de la Transformada de Fourier. El vector resultante se almacena en la variable **transformada**."
   ]
  },
  {
   "cell_type": "code",
   "execution_count": null,
   "id": "47df55a5",
   "metadata": {
    "id": "47df55a5"
   },
   "outputs": [],
   "source": [
    "# Calcular la Transformada de Fourier\n",
    "transformada = np.fft.fft(señal)"
   ]
  },
  {
   "cell_type": "markdown",
   "id": "5281c390",
   "metadata": {
    "id": "5281c390"
   },
   "source": [
    "3. Aquí, se obtiene el espectro de amplitud tomando el valor absoluto de los coeficientes de la Transformada de Fourier. Esto se hace utilizando la función <code>**np.abs()**</code> de NumPy. El espectro de amplitud resultante se almacena en la variable **espectro_amplitud**."
   ]
  },
  {
   "cell_type": "code",
   "execution_count": null,
   "id": "ff3ea31b",
   "metadata": {
    "id": "ff3ea31b"
   },
   "outputs": [],
   "source": [
    "# Obtener el espectro de amplitud\n",
    "espectro_amplitud = np.abs(transformada)"
   ]
  },
  {
   "cell_type": "markdown",
   "id": "33463a66",
   "metadata": {
    "id": "33463a66"
   },
   "source": [
    " 4. Se utiliza la función <code>**np.fft.fftfreq()**</code> para obtener las frecuencias correspondientes a los coeficientes de la Transformada de Fourier. Esta función toma como argumentos la longitud de la señal **(len(t))** y el intervalo de tiempo entre las muestras **(d=t[1]-t[0])**. Devuelve un vector de frecuencias que se almacena en la variable **frecuencias**."
   ]
  },
  {
   "cell_type": "code",
   "execution_count": null,
   "id": "1760756b",
   "metadata": {
    "id": "1760756b"
   },
   "outputs": [],
   "source": [
    "# Obtener las frecuencias correspondientes\n",
    "frecuencias = np.fft.fftfreq(len(t), d=t[1]-t[0])"
   ]
  },
  {
   "cell_type": "markdown",
   "id": "67864cd9",
   "metadata": {
    "id": "67864cd9"
   },
   "source": [
    "5. Por ultimo, se grafica el espectro de amplitud"
   ]
  },
  {
   "cell_type": "code",
   "execution_count": null,
   "id": "18cea26e",
   "metadata": {
    "colab": {
     "base_uri": "https://localhost:8080/",
     "height": 472
    },
    "id": "18cea26e",
    "outputId": "6fd8ca92-a0d8-4ece-d9e4-d86f04a9286a"
   },
   "outputs": [],
   "source": [
    "# Graficar el espectro de amplitud\n",
    "plt.plot(frecuencias, espectro_amplitud)\n",
    "plt.xlabel('Frecuencia')\n",
    "plt.ylabel('Amplitud')\n",
    "plt.title('Espectro de Amplitud')\n",
    "plt.grid(True)\n",
    "plt.show()"
   ]
  },
  {
   "cell_type": "markdown",
   "id": "947db761",
   "metadata": {
    "id": "947db761"
   },
   "source": [
    "## Función de transferecia<a class=\"anchor\" id=\"fT\"></a>\n",
    "\n",
    "La función de transferencia es una herramienta fundamental en el análisis de sistemas lineales e invariantes en el tiempo. En el contexto de la teoría de control y procesamiento de señales, la función de transferencia describe la relación entre la entrada y la salida de un sistema en el dominio de la frecuencia.\n",
    "\n",
    "En términos generales, la función de transferencia se define como la transformada de Laplace de la respuesta en régimen estable de un sistema, considerando las condiciones iniciales nulas. Se utiliza principalmente en el dominio de la frecuencia para analizar cómo un sistema afecta diferentes componentes de frecuencia de una señal de entrada.\n",
    "\n",
    "1. Definimos la función de transferencia utilizando <code>**signal.TransferFunction()**</code>. Los coeficientes del numerador se especifican en la lista **num**, mientras que los coeficientes del denominador se especifican en la lista **den**. En este ejemplo, se crea una función de transferencia con coeficientes $ [1] $ para el numerador y $[1, 2, 1]$ para el denominador."
   ]
  },
  {
   "cell_type": "code",
   "execution_count": null,
   "id": "5eeb7b6e",
   "metadata": {
    "id": "5eeb7b6e"
   },
   "outputs": [],
   "source": [
    "# Definir la función de transferencia\n",
    "num = [1]\n",
    "den = [1, 2, 1]\n",
    "tf = signal.TransferFunction(num, den)"
   ]
  },
  {
   "cell_type": "markdown",
   "id": "1c7950cb",
   "metadata": {
    "id": "1c7950cb"
   },
   "source": [
    "2.  Generamos una señal de entrada u que será utilizada para obtener la respuesta del sistema en el dominio del tiempo. En este caso, se crea una señal sinusoidal utilizando <code>**numpy.sin()**</code> que varía en el tiempo t, generado mediante <code>**np.linspace()**</code> que va de 0 a 10 con 1000 puntos equidistantes."
   ]
  },
  {
   "cell_type": "code",
   "execution_count": null,
   "id": "33f8ae73",
   "metadata": {
    "id": "33f8ae73"
   },
   "outputs": [],
   "source": [
    "# Generar una señal de entrada\n",
    "t = np.linspace(0, 10, 1000)\n",
    "u = np.sin(t)"
   ]
  },
  {
   "cell_type": "markdown",
   "id": "5a7d3871",
   "metadata": {
    "id": "5a7d3871"
   },
   "source": [
    "3. Utilizamos <code>**signal.lsim()**</code> para calcular la respuesta en el dominio del tiempo del sistema representado por la función de transferencia tf. Esta función toma como argumentos la función de transferencia, la señal de entrada y el vector de tiempo. Devuelve tres arrays: **t** (el vector de tiempo actualizado), **y** (la respuesta del sistema)\n",
    "\n",
    "La función <code>**signal.lsim()**</code> es una función de la biblioteca scipy.signal de Python que se utiliza para calcular la respuesta de un sistema lineal e invariante en el tiempo en el dominio del tiempo.\n",
    "\n",
    "La sintaxis básica de <code>signal.lsim()</code> es la siguiente:\n",
    "\n",
    "<code>t, y, x = signal.lsim(system, u, t, X0=None)</code>\n",
    "Donde:\n",
    "\n",
    "**system**: Especifica el sistema representado por una función de transferencia, una matriz de espacio de estados o un objeto de respuesta impulso.\n",
    "<br>**u**: Es la señal de entrada al sistema. Puede ser un vector o una matriz que representa una señal unidimensional o multidimensional respectivamente.\n",
    "<br>**t**: Es el vector de tiempo en el cual se calcula la respuesta del sistema.\n",
    "<br> **X0** (opcional): Es el estado inicial del sistema. Por defecto es None, lo que significa que se asume que el sistema está inicialmente en reposo.\n",
    "\n",
    "La función <code>**signal.lsim()**</code> devuelve tres arrays:\n",
    "\n",
    "**t**: El vector de tiempo en el cual se calcula la respuesta del sistema. Puede ser el mismo vector de tiempo proporcionado como entrada o puede ser modificado internamente por la función.\n",
    "<br>**y**: La respuesta del sistema en el dominio del tiempo. Es un array que contiene los valores de la salida del sistema en cada instante de tiempo.\n",
    "<br>**x**: El estado del sistema en el dominio del tiempo. Es un array que contiene los valores del estado del sistema en cada instante de tiempo.\n"
   ]
  },
  {
   "cell_type": "code",
   "execution_count": null,
   "id": "a208444f",
   "metadata": {
    "id": "a208444f"
   },
   "outputs": [],
   "source": [
    "# Calcular la respuesta en el dominio del tiempo\n",
    "t, y, _ = signal.lsim(tf, u, t)"
   ]
  },
  {
   "cell_type": "markdown",
   "id": "b5a26bda",
   "metadata": {
    "id": "b5a26bda"
   },
   "source": [
    "4. Grafico"
   ]
  },
  {
   "cell_type": "code",
   "execution_count": null,
   "id": "56fc7b1f",
   "metadata": {
    "colab": {
     "base_uri": "https://localhost:8080/",
     "height": 472
    },
    "id": "56fc7b1f",
    "outputId": "081a1c82-145d-4d5e-99b8-0c4a29ef458a"
   },
   "outputs": [],
   "source": [
    "# Graficar la respuesta en el dominio del tiempo\n",
    "plt.plot(t, y)\n",
    "plt.xlabel('Tiempo')\n",
    "plt.ylabel('Respuesta')\n",
    "plt.title('Respuesta en el dominio del tiempo')\n",
    "plt.grid(True)\n",
    "plt.show()"
   ]
  },
  {
   "cell_type": "markdown",
   "id": "2cd48d4b",
   "metadata": {
    "id": "2cd48d4b"
   },
   "source": [
    "# Tablas <a class=\"anchor\" id=\"T\"></a>"
   ]
  },
  {
   "cell_type": "markdown",
   "id": "fcd56ad8",
   "metadata": {
    "id": "fcd56ad8"
   },
   "source": [
    "#### Tabla de Propiedades Principales de la Transformada de Fourier: \n",
    "\\begin{array}{|c|c|c|} \\hline\n",
    "Propiedades & Señales \\hspace{2mm} Aperiodicas & Transformada \\hspace{2mm} de \\hspace{2mm} Fourier \\\\ \\hline\n",
    "Linealidad & A \\centerdot x(t)+B \\centerdot y(t) & A \\centerdot X(jw)+B \\centerdot Y(jw) \\\\ \\hline\n",
    "Desplazamiento \\hspace{2mm} en \\hspace{2mm} el \\hspace{2mm} tiempo  &      x(t-t_0)  &  e^{-jw_{0}t} \\centerdot X(jw) \\\\ \\hline\n",
    "Desplazamiento \\hspace{2mm} de \\hspace{2mm} frecuencia  & e^{-j{w_{0}}t} x(t) &    X(j(w-w_0))  \\\\ \\hline\n",
    "Conjugación   &  x^{*} (t)  & X^{*}(-jw) \\\\ \\hline\n",
    "Inversión \\hspace{2mm}del\\hspace{2mm} tiempo    & x(-t) & X(-jw) \\\\ \\hline\n",
    "Escalamiento \\hspace{2mm}de \\hspace{2mm}tiempo \\hspace{2mm}y \\hspace{2mm}de \\hspace{2mm}Frecuencia  & x(at) & {\\dfrac{1}{|a|}}.X{\\dfrac{jw}{a}} \\\\ \\hline\n",
    "Convolución   & x(t)*y(t) &     X(jw).Y(jw) \\\\ \\hline\n",
    "Multiplicación & x(t)\\centerdot y(t)   &{\\dfrac{1}{2π}}X(jw)*Y(jw)\\\\ \\hline\n",
    "Diferenciación \\hspace{2mm} en \\hspace{2mm}tiempo   & {\\dfrac{d_{x}(t)}{dt}}    &jw \\centerdot X(jw) \\\\ \\hline\n",
    "\\end{array}"
   ]
  },
  {
   "cell_type": "markdown",
   "id": "4c6bc78a",
   "metadata": {
    "id": "534017e5"
   },
   "source": [
    "#### Tabla de Propiedades Secundarias de la Transformada de Fourier:\n",
    "\n",
    "\\begin{array}{|c|c|c|} \\hline\n",
    "Propiedades & Señales \\hspace{2mm} Aperiodicas & Transformada \\hspace{2mm}de \\hspace{2mm}Fourier \\\\ \\hline\n",
    "Integración &{\\int_{-∞}^{t}x(t)dt} &{\\dfrac{1}{jw}}{{\\centerdot}X(jw)+{π}X(0){δ}(w)} \\\\ \\hline\n",
    "Diferenciación \\hspace{2mm}en \\hspace{2mm}frecuencia   &tx(t) & j{\\dfrac{dX(jw)}{dw}} \\\\ \\hline\n",
    "Simetría \\hspace{2mm}conjugada\\hspace{2mm} para \\hspace{2mm}señales\\hspace{2mm} reales &x(t) \\hspace{2mm} real & X(jw)=X*(jw),  Re[X(jw)]=Re[X(-jw)],  Im[X(jw)]=-Im[X(-jw)],  |X(jw)|=|X(-jw)|,    fase(X(jw))=fase(X(-jw)) \\\\ \\hline\n",
    "Simetría\\hspace{2mm} para\\hspace{2mm} señales\\hspace{2mm} real\\hspace{2mm} y \\hspace{2mm}par    & x(t)\\hspace{2mm}real & X(jw)\\hspace{2mm} real \\hspace{2mm} y \\hspace{2mm} par\\\\ \\hline\n",
    "Simetría \\hspace{2mm} para \\hspace{2mm} señales \\hspace{2mm} real \\hspace{2mm} e \\hspace{2mm}impar   & x(t) \\hspace{2mm} real \\hspace{2mm} e \\hspace{2mm} impar  &X(jw) imaginaria \\hspace{2mm} pura \\hspace{2mm} e \\hspace{2mm} impar \\\\ \\hline\n",
    "Descomposición \\hspace{2mm} par-impar \\hspace{2mm}de \\hspace{2mm}señales \\hspace{2mm} reales & x_e(t)={𝛆}v[x(t)],\\hspace{2mm}x(t) \\hspace{2mm}real, x_0(t)=Od[x(t)],x(t)real    &  Re[X(jw)], jIm[X(jw)]\\\\ \\hline\n",
    "Relación \\hspace{2mm} de \\hspace{2mm} Parseval    &x(t)   & {\\int_{-∞}^{+∞}|x(t)|^{2}dt}={\\dfrac{1}{2π}{\\int_{-∞}^{+∞}|X(jw)|^{2}dw}} \\\\ \\hline\n",
    "\\end{array}"
   ]
  },
  {
   "cell_type": "markdown",
   "id": "2600a18d",
   "metadata": {
    "id": "9bac3ca5"
   },
   "source": [
    "#### Tabla de Pares Básicos de Transformadas de Fourier:\n",
    "\n",
    "\n",
    "\\begin{array}{|c|c|c|} \\hline\n",
    "Señal &Transformada \\hspace{2mm} de \\hspace{2mm} Fourier& Coeficientes\\hspace{2mm} (si\\hspace{2mm}es\\hspace{2mm}periódica)\\\\ \\hline\n",
    "{\\sum_{k=-∞}^{+∞}a_{k}{\\centerdot}e^{jkw_{0}t}} &    {2π}{\\sum_{k=-∞}^{+∞}a_{k}{δ}(w-w_{0})} &     a_{k}\\\\ \\hline\n",
    "e^{jw_{0}t} & {2π}{δ}(w-w_{0}) & a_{1}=1, \\hspace{2mm}  a_{k}=0;{∀}k{\\neq}1 \\\\ \\hline\n",
    "cos(w_{0}t) & {π}[δ(w-w_{0})+δ(w+w_{0})] & a_{1}=a_{-1}={\\dfrac{1}{2j}},\n",
    "\\hspace{2mm} a_{k}=0;{∀}k{\\neq}{\\pm}1\\\\ \\hline\n",
    "sin(w_{0}t) & {\\dfrac{π}{j}}[δ(w-w_{0})-δ(w+w_{0})]& a_{1}=a_{-1}={\\dfrac{1}{2j}}, a_{k}=0;{∀}k{\\neq}{\\pm}1\\\\ \\hline\n",
    "x(t)=1 & {2π}{δ}(w) & a_{0}=1;a_{k}=0,{∀}k{\\neq}0\\\\ \\hline\n",
    "Onda \\hspace{2mm}cuarada \\hspace{2mm}periódica \\hspace{2mm} x(t)=\\begin{Bmatrix}\n",
    "1, \\left | t \\right |< T_{1}\\\\ \n",
    "0, T_{1}<\\left | t \\right |\\leq \\frac{T}{2}\n",
    "\\end{Bmatrix} & {\\sum_{k=-∞}^{+∞} \\dfrac {2\\sin(k\\omega_{0}T_{1})}{k}} \\delta(\\omega-k\\omega_{0}) & \\dfrac{\\sin(k \\omega_{0}T_{1})}{k \\pi}\\\\ \\hline\n",
    "\\end{array}\n",
    "\n",
    "\\begin{array}{|c|c|} \\hline\n",
    "Señal &Transformada \\hspace{2mm} de \\hspace{2mm} Fourier\\\\ \\hline\n",
    "{\\delta(t)} &    1 \\\\ \\hline \n",
    "u(t)   &{\\dfrac{1}{jw}} \\\\ \\hline\n",
    "{\\delta}(t-t_{0})  & e^{-jwt_{0}}\\\\ \\hline\n",
    "e^{-at}{\\centerdot}u(t), {\\mathbb{R}}e(a)>0 &{\\dfrac{1}{a+jw}}\\\\ \\hline\n",
    "te^{-at}{\\centerdot}u(t), {\\mathbb{R}}e(a)>0 & \\dfrac{1}{(a+jw)^2} \\\\ \\hline\n",
    "{\\dfrac{t^{n-1}}{(n-1)!}}{\\centerdot}e^{-at}{\\centerdot}u(t), \n",
    "{\\mathbb{R}}e(a)>0 & {\\dfrac{1}{(a+jw)^n}} \\\\ \\hline\n",
    "\\end{array}"
   ]
  }
 ],
 "metadata": {
  "colab": {
   "provenance": []
  },
  "kernelspec": {
   "display_name": "Python 3",
   "language": "python",
   "name": "python3"
  },
  "language_info": {
   "codemirror_mode": {
    "name": "ipython",
    "version": 3
   },
   "file_extension": ".py",
   "mimetype": "text/x-python",
   "name": "python",
   "nbconvert_exporter": "python",
   "pygments_lexer": "ipython3",
   "version": "3.11.2"
  },
  "widgets": {
   "application/vnd.jupyter.widget-state+json": {
    "0320a1b9e803435084633a8c665eec14": {
     "model_module": "@jupyter-widgets/base",
     "model_module_version": "1.2.0",
     "model_name": "LayoutModel",
     "state": {
      "_model_module": "@jupyter-widgets/base",
      "_model_module_version": "1.2.0",
      "_model_name": "LayoutModel",
      "_view_count": null,
      "_view_module": "@jupyter-widgets/base",
      "_view_module_version": "1.2.0",
      "_view_name": "LayoutView",
      "align_content": null,
      "align_items": null,
      "align_self": null,
      "border": null,
      "bottom": null,
      "display": null,
      "flex": null,
      "flex_flow": null,
      "grid_area": null,
      "grid_auto_columns": null,
      "grid_auto_flow": null,
      "grid_auto_rows": null,
      "grid_column": null,
      "grid_gap": null,
      "grid_row": null,
      "grid_template_areas": null,
      "grid_template_columns": null,
      "grid_template_rows": null,
      "height": null,
      "justify_content": null,
      "justify_items": null,
      "left": null,
      "margin": null,
      "max_height": null,
      "max_width": null,
      "min_height": null,
      "min_width": null,
      "object_fit": null,
      "object_position": null,
      "order": null,
      "overflow": null,
      "overflow_x": null,
      "overflow_y": null,
      "padding": null,
      "right": null,
      "top": null,
      "visibility": null,
      "width": null
     }
    },
    "070eb5860c8b4283b1cb2d0d75eb0581": {
     "model_module": "@jupyter-widgets/base",
     "model_module_version": "1.2.0",
     "model_name": "LayoutModel",
     "state": {
      "_model_module": "@jupyter-widgets/base",
      "_model_module_version": "1.2.0",
      "_model_name": "LayoutModel",
      "_view_count": null,
      "_view_module": "@jupyter-widgets/base",
      "_view_module_version": "1.2.0",
      "_view_name": "LayoutView",
      "align_content": null,
      "align_items": null,
      "align_self": null,
      "border": null,
      "bottom": null,
      "display": null,
      "flex": null,
      "flex_flow": null,
      "grid_area": null,
      "grid_auto_columns": null,
      "grid_auto_flow": null,
      "grid_auto_rows": null,
      "grid_column": null,
      "grid_gap": null,
      "grid_row": null,
      "grid_template_areas": null,
      "grid_template_columns": null,
      "grid_template_rows": null,
      "height": null,
      "justify_content": null,
      "justify_items": null,
      "left": null,
      "margin": null,
      "max_height": null,
      "max_width": null,
      "min_height": null,
      "min_width": null,
      "object_fit": null,
      "object_position": null,
      "order": null,
      "overflow": null,
      "overflow_x": null,
      "overflow_y": null,
      "padding": null,
      "right": null,
      "top": null,
      "visibility": null,
      "width": null
     }
    },
    "08e91bfbbec64689bf3afed6bbc54a07": {
     "model_module": "@jupyter-widgets/controls",
     "model_module_version": "1.5.0",
     "model_name": "SliderStyleModel",
     "state": {
      "_model_module": "@jupyter-widgets/controls",
      "_model_module_version": "1.5.0",
      "_model_name": "SliderStyleModel",
      "_view_count": null,
      "_view_module": "@jupyter-widgets/base",
      "_view_module_version": "1.2.0",
      "_view_name": "StyleView",
      "description_width": "",
      "handle_color": null
     }
    },
    "091b33a51ee74c8b8f754cbac9f5a424": {
     "model_module": "@jupyter-widgets/base",
     "model_module_version": "1.2.0",
     "model_name": "LayoutModel",
     "state": {
      "_model_module": "@jupyter-widgets/base",
      "_model_module_version": "1.2.0",
      "_model_name": "LayoutModel",
      "_view_count": null,
      "_view_module": "@jupyter-widgets/base",
      "_view_module_version": "1.2.0",
      "_view_name": "LayoutView",
      "align_content": null,
      "align_items": null,
      "align_self": null,
      "border": null,
      "bottom": null,
      "display": null,
      "flex": null,
      "flex_flow": null,
      "grid_area": null,
      "grid_auto_columns": null,
      "grid_auto_flow": null,
      "grid_auto_rows": null,
      "grid_column": null,
      "grid_gap": null,
      "grid_row": null,
      "grid_template_areas": null,
      "grid_template_columns": null,
      "grid_template_rows": null,
      "height": null,
      "justify_content": null,
      "justify_items": null,
      "left": null,
      "margin": null,
      "max_height": null,
      "max_width": null,
      "min_height": null,
      "min_width": null,
      "object_fit": null,
      "object_position": null,
      "order": null,
      "overflow": null,
      "overflow_x": null,
      "overflow_y": null,
      "padding": null,
      "right": null,
      "top": null,
      "visibility": null,
      "width": null
     }
    },
    "0b9981b0ecce4a82b25e580cb517d6eb": {
     "model_module": "@jupyter-widgets/controls",
     "model_module_version": "1.5.0",
     "model_name": "VBoxModel",
     "state": {
      "_dom_classes": [
       "widget-interact"
      ],
      "_model_module": "@jupyter-widgets/controls",
      "_model_module_version": "1.5.0",
      "_model_name": "VBoxModel",
      "_view_count": null,
      "_view_module": "@jupyter-widgets/controls",
      "_view_module_version": "1.5.0",
      "_view_name": "VBoxView",
      "box_style": "",
      "children": [
       "IPY_MODEL_9dbf52850d424ea190132f8175d1ace5",
       "IPY_MODEL_21b855a5769e4747b4b0b4224088e23d"
      ],
      "layout": "IPY_MODEL_50e58d3c3ede47f48f6aa9eea93823a0"
     }
    },
    "0bdc50d9d0584bb0b4a453e648dd0cfd": {
     "model_module": "@jupyter-widgets/controls",
     "model_module_version": "1.5.0",
     "model_name": "IntSliderModel",
     "state": {
      "_dom_classes": [],
      "_model_module": "@jupyter-widgets/controls",
      "_model_module_version": "1.5.0",
      "_model_name": "IntSliderModel",
      "_view_count": null,
      "_view_module": "@jupyter-widgets/controls",
      "_view_module_version": "1.5.0",
      "_view_name": "IntSliderView",
      "continuous_update": true,
      "description": "wc_1",
      "description_tooltip": null,
      "disabled": false,
      "layout": "IPY_MODEL_d2a754db9d694fe9bc0e69421915b1b3",
      "max": 100,
      "min": 1,
      "orientation": "horizontal",
      "readout": true,
      "readout_format": "d",
      "step": 1,
      "style": "IPY_MODEL_08e91bfbbec64689bf3afed6bbc54a07",
      "value": 58
     }
    },
    "0d1e6acd24a343f98af9f7e8a1987e1e": {
     "model_module": "@jupyter-widgets/controls",
     "model_module_version": "1.5.0",
     "model_name": "FloatSliderModel",
     "state": {
      "_dom_classes": [],
      "_model_module": "@jupyter-widgets/controls",
      "_model_module_version": "1.5.0",
      "_model_name": "FloatSliderModel",
      "_view_count": null,
      "_view_module": "@jupyter-widgets/controls",
      "_view_module_version": "1.5.0",
      "_view_name": "FloatSliderView",
      "continuous_update": true,
      "description": "wc_1",
      "description_tooltip": null,
      "disabled": false,
      "layout": "IPY_MODEL_bc770fc2b9df44ca800eb25e47ad36b7",
      "max": 10,
      "min": 0.1,
      "orientation": "horizontal",
      "readout": true,
      "readout_format": ".2f",
      "step": 0.1,
      "style": "IPY_MODEL_5502a55dc5cd4d538a098b65aaaa66fa",
      "value": 1
     }
    },
    "0f70cef7325642199f154e5d5d39cadd": {
     "model_module": "@jupyter-widgets/base",
     "model_module_version": "1.2.0",
     "model_name": "LayoutModel",
     "state": {
      "_model_module": "@jupyter-widgets/base",
      "_model_module_version": "1.2.0",
      "_model_name": "LayoutModel",
      "_view_count": null,
      "_view_module": "@jupyter-widgets/base",
      "_view_module_version": "1.2.0",
      "_view_name": "LayoutView",
      "align_content": null,
      "align_items": null,
      "align_self": null,
      "border": null,
      "bottom": null,
      "display": null,
      "flex": null,
      "flex_flow": null,
      "grid_area": null,
      "grid_auto_columns": null,
      "grid_auto_flow": null,
      "grid_auto_rows": null,
      "grid_column": null,
      "grid_gap": null,
      "grid_row": null,
      "grid_template_areas": null,
      "grid_template_columns": null,
      "grid_template_rows": null,
      "height": null,
      "justify_content": null,
      "justify_items": null,
      "left": null,
      "margin": null,
      "max_height": null,
      "max_width": null,
      "min_height": null,
      "min_width": null,
      "object_fit": null,
      "object_position": null,
      "order": null,
      "overflow": null,
      "overflow_x": null,
      "overflow_y": null,
      "padding": null,
      "right": null,
      "top": null,
      "visibility": null,
      "width": null
     }
    },
    "103e58e2815b43e7a5dbbe8643c46a73": {
     "model_module": "@jupyter-widgets/controls",
     "model_module_version": "1.5.0",
     "model_name": "SliderStyleModel",
     "state": {
      "_model_module": "@jupyter-widgets/controls",
      "_model_module_version": "1.5.0",
      "_model_name": "SliderStyleModel",
      "_view_count": null,
      "_view_module": "@jupyter-widgets/base",
      "_view_module_version": "1.2.0",
      "_view_name": "StyleView",
      "description_width": "",
      "handle_color": null
     }
    },
    "106b09cdd40147b2a649b0c4bdd1b5e0": {
     "model_module": "@jupyter-widgets/base",
     "model_module_version": "1.2.0",
     "model_name": "LayoutModel",
     "state": {
      "_model_module": "@jupyter-widgets/base",
      "_model_module_version": "1.2.0",
      "_model_name": "LayoutModel",
      "_view_count": null,
      "_view_module": "@jupyter-widgets/base",
      "_view_module_version": "1.2.0",
      "_view_name": "LayoutView",
      "align_content": null,
      "align_items": null,
      "align_self": null,
      "border": null,
      "bottom": null,
      "display": null,
      "flex": null,
      "flex_flow": null,
      "grid_area": null,
      "grid_auto_columns": null,
      "grid_auto_flow": null,
      "grid_auto_rows": null,
      "grid_column": null,
      "grid_gap": null,
      "grid_row": null,
      "grid_template_areas": null,
      "grid_template_columns": null,
      "grid_template_rows": null,
      "height": null,
      "justify_content": null,
      "justify_items": null,
      "left": null,
      "margin": null,
      "max_height": null,
      "max_width": null,
      "min_height": null,
      "min_width": null,
      "object_fit": null,
      "object_position": null,
      "order": null,
      "overflow": null,
      "overflow_x": null,
      "overflow_y": null,
      "padding": null,
      "right": null,
      "top": null,
      "visibility": null,
      "width": null
     }
    },
    "12feaeac7c48467c86608df4cf269c72": {
     "model_module": "@jupyter-widgets/controls",
     "model_module_version": "1.5.0",
     "model_name": "VBoxModel",
     "state": {
      "_dom_classes": [
       "widget-interact"
      ],
      "_model_module": "@jupyter-widgets/controls",
      "_model_module_version": "1.5.0",
      "_model_name": "VBoxModel",
      "_view_count": null,
      "_view_module": "@jupyter-widgets/controls",
      "_view_module_version": "1.5.0",
      "_view_name": "VBoxView",
      "box_style": "",
      "children": [
       "IPY_MODEL_0d1e6acd24a343f98af9f7e8a1987e1e",
       "IPY_MODEL_3b8c07b4204a4fb6af2a8e90ae714eb8",
       "IPY_MODEL_eddd82bf58e34e89a6a3d1d532231b57",
       "IPY_MODEL_2aff5211de3d43809334392726599d4b"
      ],
      "layout": "IPY_MODEL_8bb07bcbc82f48a198a1e540164fc3b3"
     }
    },
    "13bc64d7285d4ca1a7176dae61b83dad": {
     "model_module": "@jupyter-widgets/controls",
     "model_module_version": "1.5.0",
     "model_name": "SliderStyleModel",
     "state": {
      "_model_module": "@jupyter-widgets/controls",
      "_model_module_version": "1.5.0",
      "_model_name": "SliderStyleModel",
      "_view_count": null,
      "_view_module": "@jupyter-widgets/base",
      "_view_module_version": "1.2.0",
      "_view_name": "StyleView",
      "description_width": "",
      "handle_color": null
     }
    },
    "151f832d3bbd4c0eaeb4101230447697": {
     "model_module": "@jupyter-widgets/controls",
     "model_module_version": "1.5.0",
     "model_name": "VBoxModel",
     "state": {
      "_dom_classes": [
       "widget-interact"
      ],
      "_model_module": "@jupyter-widgets/controls",
      "_model_module_version": "1.5.0",
      "_model_name": "VBoxModel",
      "_view_count": null,
      "_view_module": "@jupyter-widgets/controls",
      "_view_module_version": "1.5.0",
      "_view_name": "VBoxView",
      "box_style": "",
      "children": [
       "IPY_MODEL_32801810d8ee4783a1bddf9ff0c9247b",
       "IPY_MODEL_3c04dd6107584b51928a99dd19cb62f3",
       "IPY_MODEL_86a71670137d48dbbdb3094b84040531"
      ],
      "layout": "IPY_MODEL_ed677387982a4b34984c84a4ec5092e2"
     }
    },
    "152bb7b07ab9425aa3e79f5c94fbedb3": {
     "model_module": "@jupyter-widgets/controls",
     "model_module_version": "1.5.0",
     "model_name": "SliderStyleModel",
     "state": {
      "_model_module": "@jupyter-widgets/controls",
      "_model_module_version": "1.5.0",
      "_model_name": "SliderStyleModel",
      "_view_count": null,
      "_view_module": "@jupyter-widgets/base",
      "_view_module_version": "1.2.0",
      "_view_name": "StyleView",
      "description_width": "",
      "handle_color": null
     }
    },
    "1d148a1395634791b964685b71ca111b": {
     "model_module": "@jupyter-widgets/controls",
     "model_module_version": "1.5.0",
     "model_name": "FloatSliderModel",
     "state": {
      "_dom_classes": [],
      "_model_module": "@jupyter-widgets/controls",
      "_model_module_version": "1.5.0",
      "_model_name": "FloatSliderModel",
      "_view_count": null,
      "_view_module": "@jupyter-widgets/controls",
      "_view_module_version": "1.5.0",
      "_view_name": "FloatSliderView",
      "continuous_update": true,
      "description": "eps",
      "description_tooltip": null,
      "disabled": false,
      "layout": "IPY_MODEL_25e6d49ff63142aaa7523e999b8db869",
      "max": 3,
      "min": 0.01,
      "orientation": "horizontal",
      "readout": true,
      "readout_format": ".2f",
      "step": 0.1,
      "style": "IPY_MODEL_6cdad7aa7bd845b1b53276c65e599ab3",
      "value": 1
     }
    },
    "1da46751aa264122bad65cc4134f673a": {
     "model_module": "@jupyter-widgets/output",
     "model_module_version": "1.0.0",
     "model_name": "OutputModel",
     "state": {
      "_dom_classes": [],
      "_model_module": "@jupyter-widgets/output",
      "_model_module_version": "1.0.0",
      "_model_name": "OutputModel",
      "_view_count": null,
      "_view_module": "@jupyter-widgets/output",
      "_view_module_version": "1.0.0",
      "_view_name": "OutputView",
      "layout": "IPY_MODEL_070eb5860c8b4283b1cb2d0d75eb0581",
      "msg_id": "",
      "outputs": []
     }
    },
    "1dde0cfa9901490cb5abfc7eee86d869": {
     "model_module": "@jupyter-widgets/controls",
     "model_module_version": "1.5.0",
     "model_name": "VBoxModel",
     "state": {
      "_dom_classes": [
       "widget-interact"
      ],
      "_model_module": "@jupyter-widgets/controls",
      "_model_module_version": "1.5.0",
      "_model_name": "VBoxModel",
      "_view_count": null,
      "_view_module": "@jupyter-widgets/controls",
      "_view_module_version": "1.5.0",
      "_view_name": "VBoxView",
      "box_style": "",
      "children": [
       "IPY_MODEL_8c631306885945c782cb0d171af0d49e",
       "IPY_MODEL_90df293a4fe04f2b91d7e3d0ffed5276",
       "IPY_MODEL_1d148a1395634791b964685b71ca111b",
       "IPY_MODEL_3662fba0928140f28a9df1f08857826a"
      ],
      "layout": "IPY_MODEL_cccbcf8fc4eb4767903251f79e2c5c29"
     }
    },
    "1df2ba069b8a4c99a2b19a20c893b458": {
     "model_module": "@jupyter-widgets/controls",
     "model_module_version": "1.5.0",
     "model_name": "FloatSliderModel",
     "state": {
      "_dom_classes": [],
      "_model_module": "@jupyter-widgets/controls",
      "_model_module_version": "1.5.0",
      "_model_name": "FloatSliderModel",
      "_view_count": null,
      "_view_module": "@jupyter-widgets/controls",
      "_view_module_version": "1.5.0",
      "_view_name": "FloatSliderView",
      "continuous_update": true,
      "description": "eps",
      "description_tooltip": null,
      "disabled": false,
      "layout": "IPY_MODEL_3258c5bb6a094181b5be7af58b7d933c",
      "max": 3,
      "min": 0.01,
      "orientation": "horizontal",
      "readout": true,
      "readout_format": ".2f",
      "step": 0.1,
      "style": "IPY_MODEL_90a0047c00234dcfb95c73251414b4f0",
      "value": 0.5
     }
    },
    "21b855a5769e4747b4b0b4224088e23d": {
     "model_module": "@jupyter-widgets/output",
     "model_module_version": "1.0.0",
     "model_name": "OutputModel",
     "state": {
      "_dom_classes": [],
      "_model_module": "@jupyter-widgets/output",
      "_model_module_version": "1.0.0",
      "_model_name": "OutputModel",
      "_view_count": null,
      "_view_module": "@jupyter-widgets/output",
      "_view_module_version": "1.0.0",
      "_view_name": "OutputView",
      "layout": "IPY_MODEL_f471d35d351c4aa88a4f9d1fab249cb3",
      "msg_id": "",
      "outputs": []
     }
    },
    "23b11fe0f7f9427fb31ca43a22d55fbb": {
     "model_module": "@jupyter-widgets/base",
     "model_module_version": "1.2.0",
     "model_name": "LayoutModel",
     "state": {
      "_model_module": "@jupyter-widgets/base",
      "_model_module_version": "1.2.0",
      "_model_name": "LayoutModel",
      "_view_count": null,
      "_view_module": "@jupyter-widgets/base",
      "_view_module_version": "1.2.0",
      "_view_name": "LayoutView",
      "align_content": null,
      "align_items": null,
      "align_self": null,
      "border": null,
      "bottom": null,
      "display": null,
      "flex": null,
      "flex_flow": null,
      "grid_area": null,
      "grid_auto_columns": null,
      "grid_auto_flow": null,
      "grid_auto_rows": null,
      "grid_column": null,
      "grid_gap": null,
      "grid_row": null,
      "grid_template_areas": null,
      "grid_template_columns": null,
      "grid_template_rows": null,
      "height": null,
      "justify_content": null,
      "justify_items": null,
      "left": null,
      "margin": null,
      "max_height": null,
      "max_width": null,
      "min_height": null,
      "min_width": null,
      "object_fit": null,
      "object_position": null,
      "order": null,
      "overflow": null,
      "overflow_x": null,
      "overflow_y": null,
      "padding": null,
      "right": null,
      "top": null,
      "visibility": null,
      "width": null
     }
    },
    "25e6d49ff63142aaa7523e999b8db869": {
     "model_module": "@jupyter-widgets/base",
     "model_module_version": "1.2.0",
     "model_name": "LayoutModel",
     "state": {
      "_model_module": "@jupyter-widgets/base",
      "_model_module_version": "1.2.0",
      "_model_name": "LayoutModel",
      "_view_count": null,
      "_view_module": "@jupyter-widgets/base",
      "_view_module_version": "1.2.0",
      "_view_name": "LayoutView",
      "align_content": null,
      "align_items": null,
      "align_self": null,
      "border": null,
      "bottom": null,
      "display": null,
      "flex": null,
      "flex_flow": null,
      "grid_area": null,
      "grid_auto_columns": null,
      "grid_auto_flow": null,
      "grid_auto_rows": null,
      "grid_column": null,
      "grid_gap": null,
      "grid_row": null,
      "grid_template_areas": null,
      "grid_template_columns": null,
      "grid_template_rows": null,
      "height": null,
      "justify_content": null,
      "justify_items": null,
      "left": null,
      "margin": null,
      "max_height": null,
      "max_width": null,
      "min_height": null,
      "min_width": null,
      "object_fit": null,
      "object_position": null,
      "order": null,
      "overflow": null,
      "overflow_x": null,
      "overflow_y": null,
      "padding": null,
      "right": null,
      "top": null,
      "visibility": null,
      "width": null
     }
    },
    "283737cc95d34353b315a61cec9150aa": {
     "model_module": "@jupyter-widgets/controls",
     "model_module_version": "1.5.0",
     "model_name": "FloatSliderModel",
     "state": {
      "_dom_classes": [],
      "_model_module": "@jupyter-widgets/controls",
      "_model_module_version": "1.5.0",
      "_model_name": "FloatSliderModel",
      "_view_count": null,
      "_view_module": "@jupyter-widgets/controls",
      "_view_module_version": "1.5.0",
      "_view_name": "FloatSliderView",
      "continuous_update": true,
      "description": "eps",
      "description_tooltip": null,
      "disabled": false,
      "layout": "IPY_MODEL_5f8d171630884f8f8f820045f8a123ce",
      "max": 3,
      "min": 0.01,
      "orientation": "horizontal",
      "readout": true,
      "readout_format": ".2f",
      "step": 0.1,
      "style": "IPY_MODEL_a634b40f329f475d98b35469e962853e",
      "value": 0.6
     }
    },
    "2aff5211de3d43809334392726599d4b": {
     "model_module": "@jupyter-widgets/output",
     "model_module_version": "1.0.0",
     "model_name": "OutputModel",
     "state": {
      "_dom_classes": [],
      "_model_module": "@jupyter-widgets/output",
      "_model_module_version": "1.0.0",
      "_model_name": "OutputModel",
      "_view_count": null,
      "_view_module": "@jupyter-widgets/output",
      "_view_module_version": "1.0.0",
      "_view_name": "OutputView",
      "layout": "IPY_MODEL_9a759f3f92b94b2bab1cac8dc556a6a3",
      "msg_id": "",
      "outputs": []
     }
    },
    "2d358ecf57684b8fb868f582b6716157": {
     "model_module": "@jupyter-widgets/base",
     "model_module_version": "1.2.0",
     "model_name": "LayoutModel",
     "state": {
      "_model_module": "@jupyter-widgets/base",
      "_model_module_version": "1.2.0",
      "_model_name": "LayoutModel",
      "_view_count": null,
      "_view_module": "@jupyter-widgets/base",
      "_view_module_version": "1.2.0",
      "_view_name": "LayoutView",
      "align_content": null,
      "align_items": null,
      "align_self": null,
      "border": null,
      "bottom": null,
      "display": null,
      "flex": null,
      "flex_flow": null,
      "grid_area": null,
      "grid_auto_columns": null,
      "grid_auto_flow": null,
      "grid_auto_rows": null,
      "grid_column": null,
      "grid_gap": null,
      "grid_row": null,
      "grid_template_areas": null,
      "grid_template_columns": null,
      "grid_template_rows": null,
      "height": null,
      "justify_content": null,
      "justify_items": null,
      "left": null,
      "margin": null,
      "max_height": null,
      "max_width": null,
      "min_height": null,
      "min_width": null,
      "object_fit": null,
      "object_position": null,
      "order": null,
      "overflow": null,
      "overflow_x": null,
      "overflow_y": null,
      "padding": null,
      "right": null,
      "top": null,
      "visibility": null,
      "width": null
     }
    },
    "2df3b47b7f0d4aa0870e2768e2f15e3e": {
     "model_module": "@jupyter-widgets/controls",
     "model_module_version": "1.5.0",
     "model_name": "VBoxModel",
     "state": {
      "_dom_classes": [
       "widget-interact"
      ],
      "_model_module": "@jupyter-widgets/controls",
      "_model_module_version": "1.5.0",
      "_model_name": "VBoxModel",
      "_view_count": null,
      "_view_module": "@jupyter-widgets/controls",
      "_view_module_version": "1.5.0",
      "_view_name": "VBoxView",
      "box_style": "",
      "children": [
       "IPY_MODEL_84a0572c9e7a44318f9d51b3e7ef1f0a",
       "IPY_MODEL_32fbffab0a5b4ad183ae162824b4491f",
       "IPY_MODEL_afd7bb7879da4bbfab7dabd3c3401aeb",
       "IPY_MODEL_f6fd022dcc9649269999d5ceedc951dd"
      ],
      "layout": "IPY_MODEL_734e0785bd56432ab5f0d22fb34d05b8"
     }
    },
    "2f19ebb224b743b98bfa95dead366a27": {
     "model_module": "@jupyter-widgets/base",
     "model_module_version": "1.2.0",
     "model_name": "LayoutModel",
     "state": {
      "_model_module": "@jupyter-widgets/base",
      "_model_module_version": "1.2.0",
      "_model_name": "LayoutModel",
      "_view_count": null,
      "_view_module": "@jupyter-widgets/base",
      "_view_module_version": "1.2.0",
      "_view_name": "LayoutView",
      "align_content": null,
      "align_items": null,
      "align_self": null,
      "border": null,
      "bottom": null,
      "display": null,
      "flex": null,
      "flex_flow": null,
      "grid_area": null,
      "grid_auto_columns": null,
      "grid_auto_flow": null,
      "grid_auto_rows": null,
      "grid_column": null,
      "grid_gap": null,
      "grid_row": null,
      "grid_template_areas": null,
      "grid_template_columns": null,
      "grid_template_rows": null,
      "height": null,
      "justify_content": null,
      "justify_items": null,
      "left": null,
      "margin": null,
      "max_height": null,
      "max_width": null,
      "min_height": null,
      "min_width": null,
      "object_fit": null,
      "object_position": null,
      "order": null,
      "overflow": null,
      "overflow_x": null,
      "overflow_y": null,
      "padding": null,
      "right": null,
      "top": null,
      "visibility": null,
      "width": null
     }
    },
    "311ab13e176a4b0f8d8c16567adb0a7c": {
     "model_module": "@jupyter-widgets/controls",
     "model_module_version": "1.5.0",
     "model_name": "SliderStyleModel",
     "state": {
      "_model_module": "@jupyter-widgets/controls",
      "_model_module_version": "1.5.0",
      "_model_name": "SliderStyleModel",
      "_view_count": null,
      "_view_module": "@jupyter-widgets/base",
      "_view_module_version": "1.2.0",
      "_view_name": "StyleView",
      "description_width": "",
      "handle_color": null
     }
    },
    "319336f3813246119cc76cc2a6ce46b6": {
     "model_module": "@jupyter-widgets/controls",
     "model_module_version": "1.5.0",
     "model_name": "SliderStyleModel",
     "state": {
      "_model_module": "@jupyter-widgets/controls",
      "_model_module_version": "1.5.0",
      "_model_name": "SliderStyleModel",
      "_view_count": null,
      "_view_module": "@jupyter-widgets/base",
      "_view_module_version": "1.2.0",
      "_view_name": "StyleView",
      "description_width": "",
      "handle_color": null
     }
    },
    "3258c5bb6a094181b5be7af58b7d933c": {
     "model_module": "@jupyter-widgets/base",
     "model_module_version": "1.2.0",
     "model_name": "LayoutModel",
     "state": {
      "_model_module": "@jupyter-widgets/base",
      "_model_module_version": "1.2.0",
      "_model_name": "LayoutModel",
      "_view_count": null,
      "_view_module": "@jupyter-widgets/base",
      "_view_module_version": "1.2.0",
      "_view_name": "LayoutView",
      "align_content": null,
      "align_items": null,
      "align_self": null,
      "border": null,
      "bottom": null,
      "display": null,
      "flex": null,
      "flex_flow": null,
      "grid_area": null,
      "grid_auto_columns": null,
      "grid_auto_flow": null,
      "grid_auto_rows": null,
      "grid_column": null,
      "grid_gap": null,
      "grid_row": null,
      "grid_template_areas": null,
      "grid_template_columns": null,
      "grid_template_rows": null,
      "height": null,
      "justify_content": null,
      "justify_items": null,
      "left": null,
      "margin": null,
      "max_height": null,
      "max_width": null,
      "min_height": null,
      "min_width": null,
      "object_fit": null,
      "object_position": null,
      "order": null,
      "overflow": null,
      "overflow_x": null,
      "overflow_y": null,
      "padding": null,
      "right": null,
      "top": null,
      "visibility": null,
      "width": null
     }
    },
    "32801810d8ee4783a1bddf9ff0c9247b": {
     "model_module": "@jupyter-widgets/controls",
     "model_module_version": "1.5.0",
     "model_name": "IntSliderModel",
     "state": {
      "_dom_classes": [],
      "_model_module": "@jupyter-widgets/controls",
      "_model_module_version": "1.5.0",
      "_model_name": "IntSliderModel",
      "_view_count": null,
      "_view_module": "@jupyter-widgets/controls",
      "_view_module_version": "1.5.0",
      "_view_name": "IntSliderView",
      "continuous_update": true,
      "description": "wc",
      "description_tooltip": null,
      "disabled": false,
      "layout": "IPY_MODEL_a0943797b8ca4a26862bfa9ba5189556",
      "max": 100,
      "min": 1,
      "orientation": "horizontal",
      "readout": true,
      "readout_format": "d",
      "step": 1,
      "style": "IPY_MODEL_4f2a63b4414a4f2c93e5c45891ed0db7",
      "value": 1
     }
    },
    "32fbffab0a5b4ad183ae162824b4491f": {
     "model_module": "@jupyter-widgets/controls",
     "model_module_version": "1.5.0",
     "model_name": "IntSliderModel",
     "state": {
      "_dom_classes": [],
      "_model_module": "@jupyter-widgets/controls",
      "_model_module_version": "1.5.0",
      "_model_name": "IntSliderModel",
      "_view_count": null,
      "_view_module": "@jupyter-widgets/controls",
      "_view_module_version": "1.5.0",
      "_view_name": "IntSliderView",
      "continuous_update": true,
      "description": "wc_2",
      "description_tooltip": null,
      "disabled": false,
      "layout": "IPY_MODEL_ca475c8fb6ce4734a03d46f556dd80b6",
      "max": 100,
      "min": 1,
      "orientation": "horizontal",
      "readout": true,
      "readout_format": "d",
      "step": 1,
      "style": "IPY_MODEL_8da519ea85cf40b1969c3d4cae786ee3",
      "value": 62
     }
    },
    "362cd494799341a68f18b2211e553647": {
     "model_module": "@jupyter-widgets/output",
     "model_module_version": "1.0.0",
     "model_name": "OutputModel",
     "state": {
      "_dom_classes": [],
      "_model_module": "@jupyter-widgets/output",
      "_model_module_version": "1.0.0",
      "_model_name": "OutputModel",
      "_view_count": null,
      "_view_module": "@jupyter-widgets/output",
      "_view_module_version": "1.0.0",
      "_view_name": "OutputView",
      "layout": "IPY_MODEL_3ee1e1fc3ca14d2289e5bb3c7e7f1b54",
      "msg_id": "",
      "outputs": []
     }
    },
    "3662fba0928140f28a9df1f08857826a": {
     "model_module": "@jupyter-widgets/output",
     "model_module_version": "1.0.0",
     "model_name": "OutputModel",
     "state": {
      "_dom_classes": [],
      "_model_module": "@jupyter-widgets/output",
      "_model_module_version": "1.0.0",
      "_model_name": "OutputModel",
      "_view_count": null,
      "_view_module": "@jupyter-widgets/output",
      "_view_module_version": "1.0.0",
      "_view_name": "OutputView",
      "layout": "IPY_MODEL_49b19da4a24b4d549d41162774e21acb",
      "msg_id": "",
      "outputs": []
     }
    },
    "3a29a577da4d4c41ac745ba4c5097721": {
     "model_module": "@jupyter-widgets/controls",
     "model_module_version": "1.5.0",
     "model_name": "SliderStyleModel",
     "state": {
      "_model_module": "@jupyter-widgets/controls",
      "_model_module_version": "1.5.0",
      "_model_name": "SliderStyleModel",
      "_view_count": null,
      "_view_module": "@jupyter-widgets/base",
      "_view_module_version": "1.2.0",
      "_view_name": "StyleView",
      "description_width": "",
      "handle_color": null
     }
    },
    "3a4f12da0c7b44a2801803473aee2cb3": {
     "model_module": "@jupyter-widgets/controls",
     "model_module_version": "1.5.0",
     "model_name": "VBoxModel",
     "state": {
      "_dom_classes": [
       "widget-interact"
      ],
      "_model_module": "@jupyter-widgets/controls",
      "_model_module_version": "1.5.0",
      "_model_name": "VBoxModel",
      "_view_count": null,
      "_view_module": "@jupyter-widgets/controls",
      "_view_module_version": "1.5.0",
      "_view_name": "VBoxView",
      "box_style": "",
      "children": [
       "IPY_MODEL_46094de2c7e043e48b11937a27f55e1e",
       "IPY_MODEL_7b5ec0fd27e54fe79085774d753947a1"
      ],
      "layout": "IPY_MODEL_2f19ebb224b743b98bfa95dead366a27"
     }
    },
    "3b8c07b4204a4fb6af2a8e90ae714eb8": {
     "model_module": "@jupyter-widgets/controls",
     "model_module_version": "1.5.0",
     "model_name": "IntSliderModel",
     "state": {
      "_dom_classes": [],
      "_model_module": "@jupyter-widgets/controls",
      "_model_module_version": "1.5.0",
      "_model_name": "IntSliderModel",
      "_view_count": null,
      "_view_module": "@jupyter-widgets/controls",
      "_view_module_version": "1.5.0",
      "_view_name": "IntSliderView",
      "continuous_update": true,
      "description": "wc_2",
      "description_tooltip": null,
      "disabled": false,
      "layout": "IPY_MODEL_7a1aa8d3171c44469b1faf6190aa1452",
      "max": 100,
      "min": 30,
      "orientation": "horizontal",
      "readout": true,
      "readout_format": "d",
      "step": 1,
      "style": "IPY_MODEL_152bb7b07ab9425aa3e79f5c94fbedb3",
      "value": 50
     }
    },
    "3c04dd6107584b51928a99dd19cb62f3": {
     "model_module": "@jupyter-widgets/controls",
     "model_module_version": "1.5.0",
     "model_name": "FloatSliderModel",
     "state": {
      "_dom_classes": [],
      "_model_module": "@jupyter-widgets/controls",
      "_model_module_version": "1.5.0",
      "_model_name": "FloatSliderModel",
      "_view_count": null,
      "_view_module": "@jupyter-widgets/controls",
      "_view_module_version": "1.5.0",
      "_view_name": "FloatSliderView",
      "continuous_update": true,
      "description": "eps",
      "description_tooltip": null,
      "disabled": false,
      "layout": "IPY_MODEL_2d358ecf57684b8fb868f582b6716157",
      "max": 3,
      "min": 0.01,
      "orientation": "horizontal",
      "readout": true,
      "readout_format": ".2f",
      "step": 0.1,
      "style": "IPY_MODEL_6fc890118924493d82b1a1526815ef5c",
      "value": 0.5
     }
    },
    "3ee1e1fc3ca14d2289e5bb3c7e7f1b54": {
     "model_module": "@jupyter-widgets/base",
     "model_module_version": "1.2.0",
     "model_name": "LayoutModel",
     "state": {
      "_model_module": "@jupyter-widgets/base",
      "_model_module_version": "1.2.0",
      "_model_name": "LayoutModel",
      "_view_count": null,
      "_view_module": "@jupyter-widgets/base",
      "_view_module_version": "1.2.0",
      "_view_name": "LayoutView",
      "align_content": null,
      "align_items": null,
      "align_self": null,
      "border": null,
      "bottom": null,
      "display": null,
      "flex": null,
      "flex_flow": null,
      "grid_area": null,
      "grid_auto_columns": null,
      "grid_auto_flow": null,
      "grid_auto_rows": null,
      "grid_column": null,
      "grid_gap": null,
      "grid_row": null,
      "grid_template_areas": null,
      "grid_template_columns": null,
      "grid_template_rows": null,
      "height": null,
      "justify_content": null,
      "justify_items": null,
      "left": null,
      "margin": null,
      "max_height": null,
      "max_width": null,
      "min_height": null,
      "min_width": null,
      "object_fit": null,
      "object_position": null,
      "order": null,
      "overflow": null,
      "overflow_x": null,
      "overflow_y": null,
      "padding": null,
      "right": null,
      "top": null,
      "visibility": null,
      "width": null
     }
    },
    "440ed9ef810f4f03bdf5088f07c0ffeb": {
     "model_module": "@jupyter-widgets/base",
     "model_module_version": "1.2.0",
     "model_name": "LayoutModel",
     "state": {
      "_model_module": "@jupyter-widgets/base",
      "_model_module_version": "1.2.0",
      "_model_name": "LayoutModel",
      "_view_count": null,
      "_view_module": "@jupyter-widgets/base",
      "_view_module_version": "1.2.0",
      "_view_name": "LayoutView",
      "align_content": null,
      "align_items": null,
      "align_self": null,
      "border": null,
      "bottom": null,
      "display": null,
      "flex": null,
      "flex_flow": null,
      "grid_area": null,
      "grid_auto_columns": null,
      "grid_auto_flow": null,
      "grid_auto_rows": null,
      "grid_column": null,
      "grid_gap": null,
      "grid_row": null,
      "grid_template_areas": null,
      "grid_template_columns": null,
      "grid_template_rows": null,
      "height": null,
      "justify_content": null,
      "justify_items": null,
      "left": null,
      "margin": null,
      "max_height": null,
      "max_width": null,
      "min_height": null,
      "min_width": null,
      "object_fit": null,
      "object_position": null,
      "order": null,
      "overflow": null,
      "overflow_x": null,
      "overflow_y": null,
      "padding": null,
      "right": null,
      "top": null,
      "visibility": null,
      "width": null
     }
    },
    "46094de2c7e043e48b11937a27f55e1e": {
     "model_module": "@jupyter-widgets/controls",
     "model_module_version": "1.5.0",
     "model_name": "IntSliderModel",
     "state": {
      "_dom_classes": [],
      "_model_module": "@jupyter-widgets/controls",
      "_model_module_version": "1.5.0",
      "_model_name": "IntSliderModel",
      "_view_count": null,
      "_view_module": "@jupyter-widgets/controls",
      "_view_module_version": "1.5.0",
      "_view_name": "IntSliderView",
      "continuous_update": true,
      "description": "wc",
      "description_tooltip": null,
      "disabled": false,
      "layout": "IPY_MODEL_5cc9586b043c4ef58e0db2c7ebfe205b",
      "max": 100,
      "min": 1,
      "orientation": "horizontal",
      "readout": true,
      "readout_format": "d",
      "step": 1,
      "style": "IPY_MODEL_dc94f28230e94a6abf66eab6068ccd19",
      "value": 1
     }
    },
    "49b19da4a24b4d549d41162774e21acb": {
     "model_module": "@jupyter-widgets/base",
     "model_module_version": "1.2.0",
     "model_name": "LayoutModel",
     "state": {
      "_model_module": "@jupyter-widgets/base",
      "_model_module_version": "1.2.0",
      "_model_name": "LayoutModel",
      "_view_count": null,
      "_view_module": "@jupyter-widgets/base",
      "_view_module_version": "1.2.0",
      "_view_name": "LayoutView",
      "align_content": null,
      "align_items": null,
      "align_self": null,
      "border": null,
      "bottom": null,
      "display": null,
      "flex": null,
      "flex_flow": null,
      "grid_area": null,
      "grid_auto_columns": null,
      "grid_auto_flow": null,
      "grid_auto_rows": null,
      "grid_column": null,
      "grid_gap": null,
      "grid_row": null,
      "grid_template_areas": null,
      "grid_template_columns": null,
      "grid_template_rows": null,
      "height": null,
      "justify_content": null,
      "justify_items": null,
      "left": null,
      "margin": null,
      "max_height": null,
      "max_width": null,
      "min_height": null,
      "min_width": null,
      "object_fit": null,
      "object_position": null,
      "order": null,
      "overflow": null,
      "overflow_x": null,
      "overflow_y": null,
      "padding": null,
      "right": null,
      "top": null,
      "visibility": null,
      "width": null
     }
    },
    "4e33aefb7b074223aa5bd18ceaaa0886": {
     "model_module": "@jupyter-widgets/base",
     "model_module_version": "1.2.0",
     "model_name": "LayoutModel",
     "state": {
      "_model_module": "@jupyter-widgets/base",
      "_model_module_version": "1.2.0",
      "_model_name": "LayoutModel",
      "_view_count": null,
      "_view_module": "@jupyter-widgets/base",
      "_view_module_version": "1.2.0",
      "_view_name": "LayoutView",
      "align_content": null,
      "align_items": null,
      "align_self": null,
      "border": null,
      "bottom": null,
      "display": null,
      "flex": null,
      "flex_flow": null,
      "grid_area": null,
      "grid_auto_columns": null,
      "grid_auto_flow": null,
      "grid_auto_rows": null,
      "grid_column": null,
      "grid_gap": null,
      "grid_row": null,
      "grid_template_areas": null,
      "grid_template_columns": null,
      "grid_template_rows": null,
      "height": null,
      "justify_content": null,
      "justify_items": null,
      "left": null,
      "margin": null,
      "max_height": null,
      "max_width": null,
      "min_height": null,
      "min_width": null,
      "object_fit": null,
      "object_position": null,
      "order": null,
      "overflow": null,
      "overflow_x": null,
      "overflow_y": null,
      "padding": null,
      "right": null,
      "top": null,
      "visibility": null,
      "width": null
     }
    },
    "4f2a63b4414a4f2c93e5c45891ed0db7": {
     "model_module": "@jupyter-widgets/controls",
     "model_module_version": "1.5.0",
     "model_name": "SliderStyleModel",
     "state": {
      "_model_module": "@jupyter-widgets/controls",
      "_model_module_version": "1.5.0",
      "_model_name": "SliderStyleModel",
      "_view_count": null,
      "_view_module": "@jupyter-widgets/base",
      "_view_module_version": "1.2.0",
      "_view_name": "StyleView",
      "description_width": "",
      "handle_color": null
     }
    },
    "50e58d3c3ede47f48f6aa9eea93823a0": {
     "model_module": "@jupyter-widgets/base",
     "model_module_version": "1.2.0",
     "model_name": "LayoutModel",
     "state": {
      "_model_module": "@jupyter-widgets/base",
      "_model_module_version": "1.2.0",
      "_model_name": "LayoutModel",
      "_view_count": null,
      "_view_module": "@jupyter-widgets/base",
      "_view_module_version": "1.2.0",
      "_view_name": "LayoutView",
      "align_content": null,
      "align_items": null,
      "align_self": null,
      "border": null,
      "bottom": null,
      "display": null,
      "flex": null,
      "flex_flow": null,
      "grid_area": null,
      "grid_auto_columns": null,
      "grid_auto_flow": null,
      "grid_auto_rows": null,
      "grid_column": null,
      "grid_gap": null,
      "grid_row": null,
      "grid_template_areas": null,
      "grid_template_columns": null,
      "grid_template_rows": null,
      "height": null,
      "justify_content": null,
      "justify_items": null,
      "left": null,
      "margin": null,
      "max_height": null,
      "max_width": null,
      "min_height": null,
      "min_width": null,
      "object_fit": null,
      "object_position": null,
      "order": null,
      "overflow": null,
      "overflow_x": null,
      "overflow_y": null,
      "padding": null,
      "right": null,
      "top": null,
      "visibility": null,
      "width": null
     }
    },
    "5502a55dc5cd4d538a098b65aaaa66fa": {
     "model_module": "@jupyter-widgets/controls",
     "model_module_version": "1.5.0",
     "model_name": "SliderStyleModel",
     "state": {
      "_model_module": "@jupyter-widgets/controls",
      "_model_module_version": "1.5.0",
      "_model_name": "SliderStyleModel",
      "_view_count": null,
      "_view_module": "@jupyter-widgets/base",
      "_view_module_version": "1.2.0",
      "_view_name": "StyleView",
      "description_width": "",
      "handle_color": null
     }
    },
    "5510562f23ab4c0e88b5895d2453e4e8": {
     "model_module": "@jupyter-widgets/controls",
     "model_module_version": "1.5.0",
     "model_name": "FloatSliderModel",
     "state": {
      "_dom_classes": [],
      "_model_module": "@jupyter-widgets/controls",
      "_model_module_version": "1.5.0",
      "_model_name": "FloatSliderModel",
      "_view_count": null,
      "_view_module": "@jupyter-widgets/controls",
      "_view_module_version": "1.5.0",
      "_view_name": "FloatSliderView",
      "continuous_update": true,
      "description": "eps",
      "description_tooltip": null,
      "disabled": false,
      "layout": "IPY_MODEL_7e1634e8485943ebb84a76e9ea75e430",
      "max": 3,
      "min": 0.01,
      "orientation": "horizontal",
      "readout": true,
      "readout_format": ".2f",
      "step": 0.1,
      "style": "IPY_MODEL_62cccafe14de4b688f745a746b93edca",
      "value": 0.6
     }
    },
    "5abc796326dd457fade6c466018b6d19": {
     "model_module": "@jupyter-widgets/output",
     "model_module_version": "1.0.0",
     "model_name": "OutputModel",
     "state": {
      "_dom_classes": [],
      "_model_module": "@jupyter-widgets/output",
      "_model_module_version": "1.0.0",
      "_model_name": "OutputModel",
      "_view_count": null,
      "_view_module": "@jupyter-widgets/output",
      "_view_module_version": "1.0.0",
      "_view_name": "OutputView",
      "layout": "IPY_MODEL_867cec302f0a41d9812f900eb2cbbc89",
      "msg_id": "",
      "outputs": []
     }
    },
    "5c08b22db952428ebc37252bdd1fa70e": {
     "model_module": "@jupyter-widgets/controls",
     "model_module_version": "1.5.0",
     "model_name": "IntSliderModel",
     "state": {
      "_dom_classes": [],
      "_model_module": "@jupyter-widgets/controls",
      "_model_module_version": "1.5.0",
      "_model_name": "IntSliderModel",
      "_view_count": null,
      "_view_module": "@jupyter-widgets/controls",
      "_view_module_version": "1.5.0",
      "_view_name": "IntSliderView",
      "continuous_update": true,
      "description": "wc_2",
      "description_tooltip": null,
      "disabled": false,
      "layout": "IPY_MODEL_0f70cef7325642199f154e5d5d39cadd",
      "max": 100,
      "min": 1,
      "orientation": "horizontal",
      "readout": true,
      "readout_format": "d",
      "step": 1,
      "style": "IPY_MODEL_319336f3813246119cc76cc2a6ce46b6",
      "value": 62
     }
    },
    "5cc9586b043c4ef58e0db2c7ebfe205b": {
     "model_module": "@jupyter-widgets/base",
     "model_module_version": "1.2.0",
     "model_name": "LayoutModel",
     "state": {
      "_model_module": "@jupyter-widgets/base",
      "_model_module_version": "1.2.0",
      "_model_name": "LayoutModel",
      "_view_count": null,
      "_view_module": "@jupyter-widgets/base",
      "_view_module_version": "1.2.0",
      "_view_name": "LayoutView",
      "align_content": null,
      "align_items": null,
      "align_self": null,
      "border": null,
      "bottom": null,
      "display": null,
      "flex": null,
      "flex_flow": null,
      "grid_area": null,
      "grid_auto_columns": null,
      "grid_auto_flow": null,
      "grid_auto_rows": null,
      "grid_column": null,
      "grid_gap": null,
      "grid_row": null,
      "grid_template_areas": null,
      "grid_template_columns": null,
      "grid_template_rows": null,
      "height": null,
      "justify_content": null,
      "justify_items": null,
      "left": null,
      "margin": null,
      "max_height": null,
      "max_width": null,
      "min_height": null,
      "min_width": null,
      "object_fit": null,
      "object_position": null,
      "order": null,
      "overflow": null,
      "overflow_x": null,
      "overflow_y": null,
      "padding": null,
      "right": null,
      "top": null,
      "visibility": null,
      "width": null
     }
    },
    "5f5baf65e9f0497c815e61dc0d815fb7": {
     "model_module": "@jupyter-widgets/base",
     "model_module_version": "1.2.0",
     "model_name": "LayoutModel",
     "state": {
      "_model_module": "@jupyter-widgets/base",
      "_model_module_version": "1.2.0",
      "_model_name": "LayoutModel",
      "_view_count": null,
      "_view_module": "@jupyter-widgets/base",
      "_view_module_version": "1.2.0",
      "_view_name": "LayoutView",
      "align_content": null,
      "align_items": null,
      "align_self": null,
      "border": null,
      "bottom": null,
      "display": null,
      "flex": null,
      "flex_flow": null,
      "grid_area": null,
      "grid_auto_columns": null,
      "grid_auto_flow": null,
      "grid_auto_rows": null,
      "grid_column": null,
      "grid_gap": null,
      "grid_row": null,
      "grid_template_areas": null,
      "grid_template_columns": null,
      "grid_template_rows": null,
      "height": null,
      "justify_content": null,
      "justify_items": null,
      "left": null,
      "margin": null,
      "max_height": null,
      "max_width": null,
      "min_height": null,
      "min_width": null,
      "object_fit": null,
      "object_position": null,
      "order": null,
      "overflow": null,
      "overflow_x": null,
      "overflow_y": null,
      "padding": null,
      "right": null,
      "top": null,
      "visibility": null,
      "width": null
     }
    },
    "5f8d171630884f8f8f820045f8a123ce": {
     "model_module": "@jupyter-widgets/base",
     "model_module_version": "1.2.0",
     "model_name": "LayoutModel",
     "state": {
      "_model_module": "@jupyter-widgets/base",
      "_model_module_version": "1.2.0",
      "_model_name": "LayoutModel",
      "_view_count": null,
      "_view_module": "@jupyter-widgets/base",
      "_view_module_version": "1.2.0",
      "_view_name": "LayoutView",
      "align_content": null,
      "align_items": null,
      "align_self": null,
      "border": null,
      "bottom": null,
      "display": null,
      "flex": null,
      "flex_flow": null,
      "grid_area": null,
      "grid_auto_columns": null,
      "grid_auto_flow": null,
      "grid_auto_rows": null,
      "grid_column": null,
      "grid_gap": null,
      "grid_row": null,
      "grid_template_areas": null,
      "grid_template_columns": null,
      "grid_template_rows": null,
      "height": null,
      "justify_content": null,
      "justify_items": null,
      "left": null,
      "margin": null,
      "max_height": null,
      "max_width": null,
      "min_height": null,
      "min_width": null,
      "object_fit": null,
      "object_position": null,
      "order": null,
      "overflow": null,
      "overflow_x": null,
      "overflow_y": null,
      "padding": null,
      "right": null,
      "top": null,
      "visibility": null,
      "width": null
     }
    },
    "618100d5ebf848aba4f47868f5ebba5f": {
     "model_module": "@jupyter-widgets/controls",
     "model_module_version": "1.5.0",
     "model_name": "VBoxModel",
     "state": {
      "_dom_classes": [
       "widget-interact"
      ],
      "_model_module": "@jupyter-widgets/controls",
      "_model_module_version": "1.5.0",
      "_model_name": "VBoxModel",
      "_view_count": null,
      "_view_module": "@jupyter-widgets/controls",
      "_view_module_version": "1.5.0",
      "_view_name": "VBoxView",
      "box_style": "",
      "children": [
       "IPY_MODEL_731bc5d95395458992c058a63b16d7c9",
       "IPY_MODEL_283737cc95d34353b315a61cec9150aa",
       "IPY_MODEL_a6cab84f388443ffbd55ab8ee3b6c1ee"
      ],
      "layout": "IPY_MODEL_5f5baf65e9f0497c815e61dc0d815fb7"
     }
    },
    "62cccafe14de4b688f745a746b93edca": {
     "model_module": "@jupyter-widgets/controls",
     "model_module_version": "1.5.0",
     "model_name": "SliderStyleModel",
     "state": {
      "_model_module": "@jupyter-widgets/controls",
      "_model_module_version": "1.5.0",
      "_model_name": "SliderStyleModel",
      "_view_count": null,
      "_view_module": "@jupyter-widgets/base",
      "_view_module_version": "1.2.0",
      "_view_name": "StyleView",
      "description_width": "",
      "handle_color": null
     }
    },
    "65cea1629bbe4c819f5af43b0bc3c0aa": {
     "model_module": "@jupyter-widgets/controls",
     "model_module_version": "1.5.0",
     "model_name": "IntSliderModel",
     "state": {
      "_dom_classes": [],
      "_model_module": "@jupyter-widgets/controls",
      "_model_module_version": "1.5.0",
      "_model_name": "IntSliderModel",
      "_view_count": null,
      "_view_module": "@jupyter-widgets/controls",
      "_view_module_version": "1.5.0",
      "_view_name": "IntSliderView",
      "continuous_update": true,
      "description": "wc",
      "description_tooltip": null,
      "disabled": false,
      "layout": "IPY_MODEL_091b33a51ee74c8b8f754cbac9f5a424",
      "max": 100,
      "min": 1,
      "orientation": "horizontal",
      "readout": true,
      "readout_format": "d",
      "step": 1,
      "style": "IPY_MODEL_13bc64d7285d4ca1a7176dae61b83dad",
      "value": 10
     }
    },
    "6cdad7aa7bd845b1b53276c65e599ab3": {
     "model_module": "@jupyter-widgets/controls",
     "model_module_version": "1.5.0",
     "model_name": "SliderStyleModel",
     "state": {
      "_model_module": "@jupyter-widgets/controls",
      "_model_module_version": "1.5.0",
      "_model_name": "SliderStyleModel",
      "_view_count": null,
      "_view_module": "@jupyter-widgets/base",
      "_view_module_version": "1.2.0",
      "_view_name": "StyleView",
      "description_width": "",
      "handle_color": null
     }
    },
    "6fc890118924493d82b1a1526815ef5c": {
     "model_module": "@jupyter-widgets/controls",
     "model_module_version": "1.5.0",
     "model_name": "SliderStyleModel",
     "state": {
      "_model_module": "@jupyter-widgets/controls",
      "_model_module_version": "1.5.0",
      "_model_name": "SliderStyleModel",
      "_view_count": null,
      "_view_module": "@jupyter-widgets/base",
      "_view_module_version": "1.2.0",
      "_view_name": "StyleView",
      "description_width": "",
      "handle_color": null
     }
    },
    "731bc5d95395458992c058a63b16d7c9": {
     "model_module": "@jupyter-widgets/controls",
     "model_module_version": "1.5.0",
     "model_name": "IntSliderModel",
     "state": {
      "_dom_classes": [],
      "_model_module": "@jupyter-widgets/controls",
      "_model_module_version": "1.5.0",
      "_model_name": "IntSliderModel",
      "_view_count": null,
      "_view_module": "@jupyter-widgets/controls",
      "_view_module_version": "1.5.0",
      "_view_name": "IntSliderView",
      "continuous_update": true,
      "description": "wc",
      "description_tooltip": null,
      "disabled": false,
      "layout": "IPY_MODEL_a7cfe83df1644b74a1f0499527d4f52e",
      "max": 100,
      "min": 1,
      "orientation": "horizontal",
      "readout": true,
      "readout_format": "d",
      "step": 1,
      "style": "IPY_MODEL_7f1b3ea725204de58fdd106ac6fcd08f",
      "value": 10
     }
    },
    "734e0785bd56432ab5f0d22fb34d05b8": {
     "model_module": "@jupyter-widgets/base",
     "model_module_version": "1.2.0",
     "model_name": "LayoutModel",
     "state": {
      "_model_module": "@jupyter-widgets/base",
      "_model_module_version": "1.2.0",
      "_model_name": "LayoutModel",
      "_view_count": null,
      "_view_module": "@jupyter-widgets/base",
      "_view_module_version": "1.2.0",
      "_view_name": "LayoutView",
      "align_content": null,
      "align_items": null,
      "align_self": null,
      "border": null,
      "bottom": null,
      "display": null,
      "flex": null,
      "flex_flow": null,
      "grid_area": null,
      "grid_auto_columns": null,
      "grid_auto_flow": null,
      "grid_auto_rows": null,
      "grid_column": null,
      "grid_gap": null,
      "grid_row": null,
      "grid_template_areas": null,
      "grid_template_columns": null,
      "grid_template_rows": null,
      "height": null,
      "justify_content": null,
      "justify_items": null,
      "left": null,
      "margin": null,
      "max_height": null,
      "max_width": null,
      "min_height": null,
      "min_width": null,
      "object_fit": null,
      "object_position": null,
      "order": null,
      "overflow": null,
      "overflow_x": null,
      "overflow_y": null,
      "padding": null,
      "right": null,
      "top": null,
      "visibility": null,
      "width": null
     }
    },
    "749f828adfe84928b2a2425c162c5b21": {
     "model_module": "@jupyter-widgets/base",
     "model_module_version": "1.2.0",
     "model_name": "LayoutModel",
     "state": {
      "_model_module": "@jupyter-widgets/base",
      "_model_module_version": "1.2.0",
      "_model_name": "LayoutModel",
      "_view_count": null,
      "_view_module": "@jupyter-widgets/base",
      "_view_module_version": "1.2.0",
      "_view_name": "LayoutView",
      "align_content": null,
      "align_items": null,
      "align_self": null,
      "border": null,
      "bottom": null,
      "display": null,
      "flex": null,
      "flex_flow": null,
      "grid_area": null,
      "grid_auto_columns": null,
      "grid_auto_flow": null,
      "grid_auto_rows": null,
      "grid_column": null,
      "grid_gap": null,
      "grid_row": null,
      "grid_template_areas": null,
      "grid_template_columns": null,
      "grid_template_rows": null,
      "height": null,
      "justify_content": null,
      "justify_items": null,
      "left": null,
      "margin": null,
      "max_height": null,
      "max_width": null,
      "min_height": null,
      "min_width": null,
      "object_fit": null,
      "object_position": null,
      "order": null,
      "overflow": null,
      "overflow_x": null,
      "overflow_y": null,
      "padding": null,
      "right": null,
      "top": null,
      "visibility": null,
      "width": null
     }
    },
    "7532303185404700891036f34e8d3701": {
     "model_module": "@jupyter-widgets/controls",
     "model_module_version": "1.5.0",
     "model_name": "IntSliderModel",
     "state": {
      "_dom_classes": [],
      "_model_module": "@jupyter-widgets/controls",
      "_model_module_version": "1.5.0",
      "_model_name": "IntSliderModel",
      "_view_count": null,
      "_view_module": "@jupyter-widgets/controls",
      "_view_module_version": "1.5.0",
      "_view_name": "IntSliderView",
      "continuous_update": true,
      "description": "wc",
      "description_tooltip": null,
      "disabled": false,
      "layout": "IPY_MODEL_805a2ee5f0f247419ed62df7b4f9b151",
      "max": 100,
      "min": 1,
      "orientation": "horizontal",
      "readout": true,
      "readout_format": "d",
      "step": 1,
      "style": "IPY_MODEL_cf064b8094424390ad9cb5dd4b0c4216",
      "value": 1
     }
    },
    "7a1aa8d3171c44469b1faf6190aa1452": {
     "model_module": "@jupyter-widgets/base",
     "model_module_version": "1.2.0",
     "model_name": "LayoutModel",
     "state": {
      "_model_module": "@jupyter-widgets/base",
      "_model_module_version": "1.2.0",
      "_model_name": "LayoutModel",
      "_view_count": null,
      "_view_module": "@jupyter-widgets/base",
      "_view_module_version": "1.2.0",
      "_view_name": "LayoutView",
      "align_content": null,
      "align_items": null,
      "align_self": null,
      "border": null,
      "bottom": null,
      "display": null,
      "flex": null,
      "flex_flow": null,
      "grid_area": null,
      "grid_auto_columns": null,
      "grid_auto_flow": null,
      "grid_auto_rows": null,
      "grid_column": null,
      "grid_gap": null,
      "grid_row": null,
      "grid_template_areas": null,
      "grid_template_columns": null,
      "grid_template_rows": null,
      "height": null,
      "justify_content": null,
      "justify_items": null,
      "left": null,
      "margin": null,
      "max_height": null,
      "max_width": null,
      "min_height": null,
      "min_width": null,
      "object_fit": null,
      "object_position": null,
      "order": null,
      "overflow": null,
      "overflow_x": null,
      "overflow_y": null,
      "padding": null,
      "right": null,
      "top": null,
      "visibility": null,
      "width": null
     }
    },
    "7b5ec0fd27e54fe79085774d753947a1": {
     "model_module": "@jupyter-widgets/output",
     "model_module_version": "1.0.0",
     "model_name": "OutputModel",
     "state": {
      "_dom_classes": [],
      "_model_module": "@jupyter-widgets/output",
      "_model_module_version": "1.0.0",
      "_model_name": "OutputModel",
      "_view_count": null,
      "_view_module": "@jupyter-widgets/output",
      "_view_module_version": "1.0.0",
      "_view_name": "OutputView",
      "layout": "IPY_MODEL_e885b8ac5b8d44fcbe9d98d7dc61fee1",
      "msg_id": "",
      "outputs": []
     }
    },
    "7e1634e8485943ebb84a76e9ea75e430": {
     "model_module": "@jupyter-widgets/base",
     "model_module_version": "1.2.0",
     "model_name": "LayoutModel",
     "state": {
      "_model_module": "@jupyter-widgets/base",
      "_model_module_version": "1.2.0",
      "_model_name": "LayoutModel",
      "_view_count": null,
      "_view_module": "@jupyter-widgets/base",
      "_view_module_version": "1.2.0",
      "_view_name": "LayoutView",
      "align_content": null,
      "align_items": null,
      "align_self": null,
      "border": null,
      "bottom": null,
      "display": null,
      "flex": null,
      "flex_flow": null,
      "grid_area": null,
      "grid_auto_columns": null,
      "grid_auto_flow": null,
      "grid_auto_rows": null,
      "grid_column": null,
      "grid_gap": null,
      "grid_row": null,
      "grid_template_areas": null,
      "grid_template_columns": null,
      "grid_template_rows": null,
      "height": null,
      "justify_content": null,
      "justify_items": null,
      "left": null,
      "margin": null,
      "max_height": null,
      "max_width": null,
      "min_height": null,
      "min_width": null,
      "object_fit": null,
      "object_position": null,
      "order": null,
      "overflow": null,
      "overflow_x": null,
      "overflow_y": null,
      "padding": null,
      "right": null,
      "top": null,
      "visibility": null,
      "width": null
     }
    },
    "7f1b3ea725204de58fdd106ac6fcd08f": {
     "model_module": "@jupyter-widgets/controls",
     "model_module_version": "1.5.0",
     "model_name": "SliderStyleModel",
     "state": {
      "_model_module": "@jupyter-widgets/controls",
      "_model_module_version": "1.5.0",
      "_model_name": "SliderStyleModel",
      "_view_count": null,
      "_view_module": "@jupyter-widgets/base",
      "_view_module_version": "1.2.0",
      "_view_name": "StyleView",
      "description_width": "",
      "handle_color": null
     }
    },
    "805a2ee5f0f247419ed62df7b4f9b151": {
     "model_module": "@jupyter-widgets/base",
     "model_module_version": "1.2.0",
     "model_name": "LayoutModel",
     "state": {
      "_model_module": "@jupyter-widgets/base",
      "_model_module_version": "1.2.0",
      "_model_name": "LayoutModel",
      "_view_count": null,
      "_view_module": "@jupyter-widgets/base",
      "_view_module_version": "1.2.0",
      "_view_name": "LayoutView",
      "align_content": null,
      "align_items": null,
      "align_self": null,
      "border": null,
      "bottom": null,
      "display": null,
      "flex": null,
      "flex_flow": null,
      "grid_area": null,
      "grid_auto_columns": null,
      "grid_auto_flow": null,
      "grid_auto_rows": null,
      "grid_column": null,
      "grid_gap": null,
      "grid_row": null,
      "grid_template_areas": null,
      "grid_template_columns": null,
      "grid_template_rows": null,
      "height": null,
      "justify_content": null,
      "justify_items": null,
      "left": null,
      "margin": null,
      "max_height": null,
      "max_width": null,
      "min_height": null,
      "min_width": null,
      "object_fit": null,
      "object_position": null,
      "order": null,
      "overflow": null,
      "overflow_x": null,
      "overflow_y": null,
      "padding": null,
      "right": null,
      "top": null,
      "visibility": null,
      "width": null
     }
    },
    "84a0572c9e7a44318f9d51b3e7ef1f0a": {
     "model_module": "@jupyter-widgets/controls",
     "model_module_version": "1.5.0",
     "model_name": "IntSliderModel",
     "state": {
      "_dom_classes": [],
      "_model_module": "@jupyter-widgets/controls",
      "_model_module_version": "1.5.0",
      "_model_name": "IntSliderModel",
      "_view_count": null,
      "_view_module": "@jupyter-widgets/controls",
      "_view_module_version": "1.5.0",
      "_view_name": "IntSliderView",
      "continuous_update": true,
      "description": "wc_1",
      "description_tooltip": null,
      "disabled": false,
      "layout": "IPY_MODEL_ac99d8719e7c4dbfbf63889f860b0a02",
      "max": 100,
      "min": 1,
      "orientation": "horizontal",
      "readout": true,
      "readout_format": "d",
      "step": 1,
      "style": "IPY_MODEL_da85f0de912941cab56a5a6beacd90c8",
      "value": 58
     }
    },
    "867cec302f0a41d9812f900eb2cbbc89": {
     "model_module": "@jupyter-widgets/base",
     "model_module_version": "1.2.0",
     "model_name": "LayoutModel",
     "state": {
      "_model_module": "@jupyter-widgets/base",
      "_model_module_version": "1.2.0",
      "_model_name": "LayoutModel",
      "_view_count": null,
      "_view_module": "@jupyter-widgets/base",
      "_view_module_version": "1.2.0",
      "_view_name": "LayoutView",
      "align_content": null,
      "align_items": null,
      "align_self": null,
      "border": null,
      "bottom": null,
      "display": null,
      "flex": null,
      "flex_flow": null,
      "grid_area": null,
      "grid_auto_columns": null,
      "grid_auto_flow": null,
      "grid_auto_rows": null,
      "grid_column": null,
      "grid_gap": null,
      "grid_row": null,
      "grid_template_areas": null,
      "grid_template_columns": null,
      "grid_template_rows": null,
      "height": null,
      "justify_content": null,
      "justify_items": null,
      "left": null,
      "margin": null,
      "max_height": null,
      "max_width": null,
      "min_height": null,
      "min_width": null,
      "object_fit": null,
      "object_position": null,
      "order": null,
      "overflow": null,
      "overflow_x": null,
      "overflow_y": null,
      "padding": null,
      "right": null,
      "top": null,
      "visibility": null,
      "width": null
     }
    },
    "86a71670137d48dbbdb3094b84040531": {
     "model_module": "@jupyter-widgets/output",
     "model_module_version": "1.0.0",
     "model_name": "OutputModel",
     "state": {
      "_dom_classes": [],
      "_model_module": "@jupyter-widgets/output",
      "_model_module_version": "1.0.0",
      "_model_name": "OutputModel",
      "_view_count": null,
      "_view_module": "@jupyter-widgets/output",
      "_view_module_version": "1.0.0",
      "_view_name": "OutputView",
      "layout": "IPY_MODEL_cd30929cabd3417887700aedcc8287e9",
      "msg_id": "",
      "outputs": []
     }
    },
    "8bb07bcbc82f48a198a1e540164fc3b3": {
     "model_module": "@jupyter-widgets/base",
     "model_module_version": "1.2.0",
     "model_name": "LayoutModel",
     "state": {
      "_model_module": "@jupyter-widgets/base",
      "_model_module_version": "1.2.0",
      "_model_name": "LayoutModel",
      "_view_count": null,
      "_view_module": "@jupyter-widgets/base",
      "_view_module_version": "1.2.0",
      "_view_name": "LayoutView",
      "align_content": null,
      "align_items": null,
      "align_self": null,
      "border": null,
      "bottom": null,
      "display": null,
      "flex": null,
      "flex_flow": null,
      "grid_area": null,
      "grid_auto_columns": null,
      "grid_auto_flow": null,
      "grid_auto_rows": null,
      "grid_column": null,
      "grid_gap": null,
      "grid_row": null,
      "grid_template_areas": null,
      "grid_template_columns": null,
      "grid_template_rows": null,
      "height": null,
      "justify_content": null,
      "justify_items": null,
      "left": null,
      "margin": null,
      "max_height": null,
      "max_width": null,
      "min_height": null,
      "min_width": null,
      "object_fit": null,
      "object_position": null,
      "order": null,
      "overflow": null,
      "overflow_x": null,
      "overflow_y": null,
      "padding": null,
      "right": null,
      "top": null,
      "visibility": null,
      "width": null
     }
    },
    "8c631306885945c782cb0d171af0d49e": {
     "model_module": "@jupyter-widgets/controls",
     "model_module_version": "1.5.0",
     "model_name": "IntSliderModel",
     "state": {
      "_dom_classes": [],
      "_model_module": "@jupyter-widgets/controls",
      "_model_module_version": "1.5.0",
      "_model_name": "IntSliderModel",
      "_view_count": null,
      "_view_module": "@jupyter-widgets/controls",
      "_view_module_version": "1.5.0",
      "_view_name": "IntSliderView",
      "continuous_update": true,
      "description": "wc_1",
      "description_tooltip": null,
      "disabled": false,
      "layout": "IPY_MODEL_749f828adfe84928b2a2425c162c5b21",
      "max": 100,
      "min": 1,
      "orientation": "horizontal",
      "readout": true,
      "readout_format": "d",
      "step": 1,
      "style": "IPY_MODEL_103e58e2815b43e7a5dbbe8643c46a73",
      "value": 58
     }
    },
    "8da519ea85cf40b1969c3d4cae786ee3": {
     "model_module": "@jupyter-widgets/controls",
     "model_module_version": "1.5.0",
     "model_name": "SliderStyleModel",
     "state": {
      "_model_module": "@jupyter-widgets/controls",
      "_model_module_version": "1.5.0",
      "_model_name": "SliderStyleModel",
      "_view_count": null,
      "_view_module": "@jupyter-widgets/base",
      "_view_module_version": "1.2.0",
      "_view_name": "StyleView",
      "description_width": "",
      "handle_color": null
     }
    },
    "8da6a7b41d914c4f86d9c4d368f3d5ed": {
     "model_module": "@jupyter-widgets/controls",
     "model_module_version": "1.5.0",
     "model_name": "VBoxModel",
     "state": {
      "_dom_classes": [
       "widget-interact"
      ],
      "_model_module": "@jupyter-widgets/controls",
      "_model_module_version": "1.5.0",
      "_model_name": "VBoxModel",
      "_view_count": null,
      "_view_module": "@jupyter-widgets/controls",
      "_view_module_version": "1.5.0",
      "_view_name": "VBoxView",
      "box_style": "",
      "children": [
       "IPY_MODEL_e6bcbc6620d245b0bb72131b63430d40",
       "IPY_MODEL_92847502deb54b0a9164d9a40ad78d31"
      ],
      "layout": "IPY_MODEL_f2257fe9c4b445178ced4339a25c4d06"
     }
    },
    "8e5b2ec7ffe84de2ba79884b125b7042": {
     "model_module": "@jupyter-widgets/base",
     "model_module_version": "1.2.0",
     "model_name": "LayoutModel",
     "state": {
      "_model_module": "@jupyter-widgets/base",
      "_model_module_version": "1.2.0",
      "_model_name": "LayoutModel",
      "_view_count": null,
      "_view_module": "@jupyter-widgets/base",
      "_view_module_version": "1.2.0",
      "_view_name": "LayoutView",
      "align_content": null,
      "align_items": null,
      "align_self": null,
      "border": null,
      "bottom": null,
      "display": null,
      "flex": null,
      "flex_flow": null,
      "grid_area": null,
      "grid_auto_columns": null,
      "grid_auto_flow": null,
      "grid_auto_rows": null,
      "grid_column": null,
      "grid_gap": null,
      "grid_row": null,
      "grid_template_areas": null,
      "grid_template_columns": null,
      "grid_template_rows": null,
      "height": null,
      "justify_content": null,
      "justify_items": null,
      "left": null,
      "margin": null,
      "max_height": null,
      "max_width": null,
      "min_height": null,
      "min_width": null,
      "object_fit": null,
      "object_position": null,
      "order": null,
      "overflow": null,
      "overflow_x": null,
      "overflow_y": null,
      "padding": null,
      "right": null,
      "top": null,
      "visibility": null,
      "width": null
     }
    },
    "90a0047c00234dcfb95c73251414b4f0": {
     "model_module": "@jupyter-widgets/controls",
     "model_module_version": "1.5.0",
     "model_name": "SliderStyleModel",
     "state": {
      "_model_module": "@jupyter-widgets/controls",
      "_model_module_version": "1.5.0",
      "_model_name": "SliderStyleModel",
      "_view_count": null,
      "_view_module": "@jupyter-widgets/base",
      "_view_module_version": "1.2.0",
      "_view_name": "StyleView",
      "description_width": "",
      "handle_color": null
     }
    },
    "90df293a4fe04f2b91d7e3d0ffed5276": {
     "model_module": "@jupyter-widgets/controls",
     "model_module_version": "1.5.0",
     "model_name": "IntSliderModel",
     "state": {
      "_dom_classes": [],
      "_model_module": "@jupyter-widgets/controls",
      "_model_module_version": "1.5.0",
      "_model_name": "IntSliderModel",
      "_view_count": null,
      "_view_module": "@jupyter-widgets/controls",
      "_view_module_version": "1.5.0",
      "_view_name": "IntSliderView",
      "continuous_update": true,
      "description": "wc_2",
      "description_tooltip": null,
      "disabled": false,
      "layout": "IPY_MODEL_f351b00216e84a72b407451383c923d6",
      "max": 100,
      "min": 1,
      "orientation": "horizontal",
      "readout": true,
      "readout_format": "d",
      "step": 1,
      "style": "IPY_MODEL_ad7766298d6c4f0bb01748026a473689",
      "value": 62
     }
    },
    "92847502deb54b0a9164d9a40ad78d31": {
     "model_module": "@jupyter-widgets/output",
     "model_module_version": "1.0.0",
     "model_name": "OutputModel",
     "state": {
      "_dom_classes": [],
      "_model_module": "@jupyter-widgets/output",
      "_model_module_version": "1.0.0",
      "_model_name": "OutputModel",
      "_view_count": null,
      "_view_module": "@jupyter-widgets/output",
      "_view_module_version": "1.0.0",
      "_view_name": "OutputView",
      "layout": "IPY_MODEL_8e5b2ec7ffe84de2ba79884b125b7042",
      "msg_id": "",
      "outputs": []
     }
    },
    "94d2989e5b084745a28172173212b1ab": {
     "model_module": "@jupyter-widgets/controls",
     "model_module_version": "1.5.0",
     "model_name": "SliderStyleModel",
     "state": {
      "_model_module": "@jupyter-widgets/controls",
      "_model_module_version": "1.5.0",
      "_model_name": "SliderStyleModel",
      "_view_count": null,
      "_view_module": "@jupyter-widgets/base",
      "_view_module_version": "1.2.0",
      "_view_name": "StyleView",
      "description_width": "",
      "handle_color": null
     }
    },
    "9a759f3f92b94b2bab1cac8dc556a6a3": {
     "model_module": "@jupyter-widgets/base",
     "model_module_version": "1.2.0",
     "model_name": "LayoutModel",
     "state": {
      "_model_module": "@jupyter-widgets/base",
      "_model_module_version": "1.2.0",
      "_model_name": "LayoutModel",
      "_view_count": null,
      "_view_module": "@jupyter-widgets/base",
      "_view_module_version": "1.2.0",
      "_view_name": "LayoutView",
      "align_content": null,
      "align_items": null,
      "align_self": null,
      "border": null,
      "bottom": null,
      "display": null,
      "flex": null,
      "flex_flow": null,
      "grid_area": null,
      "grid_auto_columns": null,
      "grid_auto_flow": null,
      "grid_auto_rows": null,
      "grid_column": null,
      "grid_gap": null,
      "grid_row": null,
      "grid_template_areas": null,
      "grid_template_columns": null,
      "grid_template_rows": null,
      "height": null,
      "justify_content": null,
      "justify_items": null,
      "left": null,
      "margin": null,
      "max_height": null,
      "max_width": null,
      "min_height": null,
      "min_width": null,
      "object_fit": null,
      "object_position": null,
      "order": null,
      "overflow": null,
      "overflow_x": null,
      "overflow_y": null,
      "padding": null,
      "right": null,
      "top": null,
      "visibility": null,
      "width": null
     }
    },
    "9dbf52850d424ea190132f8175d1ace5": {
     "model_module": "@jupyter-widgets/controls",
     "model_module_version": "1.5.0",
     "model_name": "IntSliderModel",
     "state": {
      "_dom_classes": [],
      "_model_module": "@jupyter-widgets/controls",
      "_model_module_version": "1.5.0",
      "_model_name": "IntSliderModel",
      "_view_count": null,
      "_view_module": "@jupyter-widgets/controls",
      "_view_module_version": "1.5.0",
      "_view_name": "IntSliderView",
      "continuous_update": true,
      "description": "wc",
      "description_tooltip": null,
      "disabled": false,
      "layout": "IPY_MODEL_106b09cdd40147b2a649b0c4bdd1b5e0",
      "max": 100,
      "min": 1,
      "orientation": "horizontal",
      "readout": true,
      "readout_format": "d",
      "step": 1,
      "style": "IPY_MODEL_311ab13e176a4b0f8d8c16567adb0a7c",
      "value": 1
     }
    },
    "a0943797b8ca4a26862bfa9ba5189556": {
     "model_module": "@jupyter-widgets/base",
     "model_module_version": "1.2.0",
     "model_name": "LayoutModel",
     "state": {
      "_model_module": "@jupyter-widgets/base",
      "_model_module_version": "1.2.0",
      "_model_name": "LayoutModel",
      "_view_count": null,
      "_view_module": "@jupyter-widgets/base",
      "_view_module_version": "1.2.0",
      "_view_name": "LayoutView",
      "align_content": null,
      "align_items": null,
      "align_self": null,
      "border": null,
      "bottom": null,
      "display": null,
      "flex": null,
      "flex_flow": null,
      "grid_area": null,
      "grid_auto_columns": null,
      "grid_auto_flow": null,
      "grid_auto_rows": null,
      "grid_column": null,
      "grid_gap": null,
      "grid_row": null,
      "grid_template_areas": null,
      "grid_template_columns": null,
      "grid_template_rows": null,
      "height": null,
      "justify_content": null,
      "justify_items": null,
      "left": null,
      "margin": null,
      "max_height": null,
      "max_width": null,
      "min_height": null,
      "min_width": null,
      "object_fit": null,
      "object_position": null,
      "order": null,
      "overflow": null,
      "overflow_x": null,
      "overflow_y": null,
      "padding": null,
      "right": null,
      "top": null,
      "visibility": null,
      "width": null
     }
    },
    "a634b40f329f475d98b35469e962853e": {
     "model_module": "@jupyter-widgets/controls",
     "model_module_version": "1.5.0",
     "model_name": "SliderStyleModel",
     "state": {
      "_model_module": "@jupyter-widgets/controls",
      "_model_module_version": "1.5.0",
      "_model_name": "SliderStyleModel",
      "_view_count": null,
      "_view_module": "@jupyter-widgets/base",
      "_view_module_version": "1.2.0",
      "_view_name": "StyleView",
      "description_width": "",
      "handle_color": null
     }
    },
    "a6cab84f388443ffbd55ab8ee3b6c1ee": {
     "model_module": "@jupyter-widgets/output",
     "model_module_version": "1.0.0",
     "model_name": "OutputModel",
     "state": {
      "_dom_classes": [],
      "_model_module": "@jupyter-widgets/output",
      "_model_module_version": "1.0.0",
      "_model_name": "OutputModel",
      "_view_count": null,
      "_view_module": "@jupyter-widgets/output",
      "_view_module_version": "1.0.0",
      "_view_name": "OutputView",
      "layout": "IPY_MODEL_c47f16e7ad9b4c9a851f16bd88323e6d",
      "msg_id": "",
      "outputs": []
     }
    },
    "a7cfe83df1644b74a1f0499527d4f52e": {
     "model_module": "@jupyter-widgets/base",
     "model_module_version": "1.2.0",
     "model_name": "LayoutModel",
     "state": {
      "_model_module": "@jupyter-widgets/base",
      "_model_module_version": "1.2.0",
      "_model_name": "LayoutModel",
      "_view_count": null,
      "_view_module": "@jupyter-widgets/base",
      "_view_module_version": "1.2.0",
      "_view_name": "LayoutView",
      "align_content": null,
      "align_items": null,
      "align_self": null,
      "border": null,
      "bottom": null,
      "display": null,
      "flex": null,
      "flex_flow": null,
      "grid_area": null,
      "grid_auto_columns": null,
      "grid_auto_flow": null,
      "grid_auto_rows": null,
      "grid_column": null,
      "grid_gap": null,
      "grid_row": null,
      "grid_template_areas": null,
      "grid_template_columns": null,
      "grid_template_rows": null,
      "height": null,
      "justify_content": null,
      "justify_items": null,
      "left": null,
      "margin": null,
      "max_height": null,
      "max_width": null,
      "min_height": null,
      "min_width": null,
      "object_fit": null,
      "object_position": null,
      "order": null,
      "overflow": null,
      "overflow_x": null,
      "overflow_y": null,
      "padding": null,
      "right": null,
      "top": null,
      "visibility": null,
      "width": null
     }
    },
    "ac99d8719e7c4dbfbf63889f860b0a02": {
     "model_module": "@jupyter-widgets/base",
     "model_module_version": "1.2.0",
     "model_name": "LayoutModel",
     "state": {
      "_model_module": "@jupyter-widgets/base",
      "_model_module_version": "1.2.0",
      "_model_name": "LayoutModel",
      "_view_count": null,
      "_view_module": "@jupyter-widgets/base",
      "_view_module_version": "1.2.0",
      "_view_name": "LayoutView",
      "align_content": null,
      "align_items": null,
      "align_self": null,
      "border": null,
      "bottom": null,
      "display": null,
      "flex": null,
      "flex_flow": null,
      "grid_area": null,
      "grid_auto_columns": null,
      "grid_auto_flow": null,
      "grid_auto_rows": null,
      "grid_column": null,
      "grid_gap": null,
      "grid_row": null,
      "grid_template_areas": null,
      "grid_template_columns": null,
      "grid_template_rows": null,
      "height": null,
      "justify_content": null,
      "justify_items": null,
      "left": null,
      "margin": null,
      "max_height": null,
      "max_width": null,
      "min_height": null,
      "min_width": null,
      "object_fit": null,
      "object_position": null,
      "order": null,
      "overflow": null,
      "overflow_x": null,
      "overflow_y": null,
      "padding": null,
      "right": null,
      "top": null,
      "visibility": null,
      "width": null
     }
    },
    "ad7766298d6c4f0bb01748026a473689": {
     "model_module": "@jupyter-widgets/controls",
     "model_module_version": "1.5.0",
     "model_name": "SliderStyleModel",
     "state": {
      "_model_module": "@jupyter-widgets/controls",
      "_model_module_version": "1.5.0",
      "_model_name": "SliderStyleModel",
      "_view_count": null,
      "_view_module": "@jupyter-widgets/base",
      "_view_module_version": "1.2.0",
      "_view_name": "StyleView",
      "description_width": "",
      "handle_color": null
     }
    },
    "ae4a8784ed1549d5aea9d9b4cc6d9cb2": {
     "model_module": "@jupyter-widgets/controls",
     "model_module_version": "1.5.0",
     "model_name": "SliderStyleModel",
     "state": {
      "_model_module": "@jupyter-widgets/controls",
      "_model_module_version": "1.5.0",
      "_model_name": "SliderStyleModel",
      "_view_count": null,
      "_view_module": "@jupyter-widgets/base",
      "_view_module_version": "1.2.0",
      "_view_name": "StyleView",
      "description_width": "",
      "handle_color": null
     }
    },
    "afd7bb7879da4bbfab7dabd3c3401aeb": {
     "model_module": "@jupyter-widgets/controls",
     "model_module_version": "1.5.0",
     "model_name": "FloatSliderModel",
     "state": {
      "_dom_classes": [],
      "_model_module": "@jupyter-widgets/controls",
      "_model_module_version": "1.5.0",
      "_model_name": "FloatSliderModel",
      "_view_count": null,
      "_view_module": "@jupyter-widgets/controls",
      "_view_module_version": "1.5.0",
      "_view_name": "FloatSliderView",
      "continuous_update": true,
      "description": "eps",
      "description_tooltip": null,
      "disabled": false,
      "layout": "IPY_MODEL_b0263d509e8648bebe714c4db32ba95a",
      "max": 3,
      "min": 0.01,
      "orientation": "horizontal",
      "readout": true,
      "readout_format": ".2f",
      "step": 0.1,
      "style": "IPY_MODEL_3a29a577da4d4c41ac745ba4c5097721",
      "value": 1
     }
    },
    "b0263d509e8648bebe714c4db32ba95a": {
     "model_module": "@jupyter-widgets/base",
     "model_module_version": "1.2.0",
     "model_name": "LayoutModel",
     "state": {
      "_model_module": "@jupyter-widgets/base",
      "_model_module_version": "1.2.0",
      "_model_name": "LayoutModel",
      "_view_count": null,
      "_view_module": "@jupyter-widgets/base",
      "_view_module_version": "1.2.0",
      "_view_name": "LayoutView",
      "align_content": null,
      "align_items": null,
      "align_self": null,
      "border": null,
      "bottom": null,
      "display": null,
      "flex": null,
      "flex_flow": null,
      "grid_area": null,
      "grid_auto_columns": null,
      "grid_auto_flow": null,
      "grid_auto_rows": null,
      "grid_column": null,
      "grid_gap": null,
      "grid_row": null,
      "grid_template_areas": null,
      "grid_template_columns": null,
      "grid_template_rows": null,
      "height": null,
      "justify_content": null,
      "justify_items": null,
      "left": null,
      "margin": null,
      "max_height": null,
      "max_width": null,
      "min_height": null,
      "min_width": null,
      "object_fit": null,
      "object_position": null,
      "order": null,
      "overflow": null,
      "overflow_x": null,
      "overflow_y": null,
      "padding": null,
      "right": null,
      "top": null,
      "visibility": null,
      "width": null
     }
    },
    "ba73a7647aa0457ea44d8223768b3cbd": {
     "model_module": "@jupyter-widgets/base",
     "model_module_version": "1.2.0",
     "model_name": "LayoutModel",
     "state": {
      "_model_module": "@jupyter-widgets/base",
      "_model_module_version": "1.2.0",
      "_model_name": "LayoutModel",
      "_view_count": null,
      "_view_module": "@jupyter-widgets/base",
      "_view_module_version": "1.2.0",
      "_view_name": "LayoutView",
      "align_content": null,
      "align_items": null,
      "align_self": null,
      "border": null,
      "bottom": null,
      "display": null,
      "flex": null,
      "flex_flow": null,
      "grid_area": null,
      "grid_auto_columns": null,
      "grid_auto_flow": null,
      "grid_auto_rows": null,
      "grid_column": null,
      "grid_gap": null,
      "grid_row": null,
      "grid_template_areas": null,
      "grid_template_columns": null,
      "grid_template_rows": null,
      "height": null,
      "justify_content": null,
      "justify_items": null,
      "left": null,
      "margin": null,
      "max_height": null,
      "max_width": null,
      "min_height": null,
      "min_width": null,
      "object_fit": null,
      "object_position": null,
      "order": null,
      "overflow": null,
      "overflow_x": null,
      "overflow_y": null,
      "padding": null,
      "right": null,
      "top": null,
      "visibility": null,
      "width": null
     }
    },
    "bc770fc2b9df44ca800eb25e47ad36b7": {
     "model_module": "@jupyter-widgets/base",
     "model_module_version": "1.2.0",
     "model_name": "LayoutModel",
     "state": {
      "_model_module": "@jupyter-widgets/base",
      "_model_module_version": "1.2.0",
      "_model_name": "LayoutModel",
      "_view_count": null,
      "_view_module": "@jupyter-widgets/base",
      "_view_module_version": "1.2.0",
      "_view_name": "LayoutView",
      "align_content": null,
      "align_items": null,
      "align_self": null,
      "border": null,
      "bottom": null,
      "display": null,
      "flex": null,
      "flex_flow": null,
      "grid_area": null,
      "grid_auto_columns": null,
      "grid_auto_flow": null,
      "grid_auto_rows": null,
      "grid_column": null,
      "grid_gap": null,
      "grid_row": null,
      "grid_template_areas": null,
      "grid_template_columns": null,
      "grid_template_rows": null,
      "height": null,
      "justify_content": null,
      "justify_items": null,
      "left": null,
      "margin": null,
      "max_height": null,
      "max_width": null,
      "min_height": null,
      "min_width": null,
      "object_fit": null,
      "object_position": null,
      "order": null,
      "overflow": null,
      "overflow_x": null,
      "overflow_y": null,
      "padding": null,
      "right": null,
      "top": null,
      "visibility": null,
      "width": null
     }
    },
    "beca00d5a3074d16a01581f512b6defc": {
     "model_module": "@jupyter-widgets/base",
     "model_module_version": "1.2.0",
     "model_name": "LayoutModel",
     "state": {
      "_model_module": "@jupyter-widgets/base",
      "_model_module_version": "1.2.0",
      "_model_name": "LayoutModel",
      "_view_count": null,
      "_view_module": "@jupyter-widgets/base",
      "_view_module_version": "1.2.0",
      "_view_name": "LayoutView",
      "align_content": null,
      "align_items": null,
      "align_self": null,
      "border": null,
      "bottom": null,
      "display": null,
      "flex": null,
      "flex_flow": null,
      "grid_area": null,
      "grid_auto_columns": null,
      "grid_auto_flow": null,
      "grid_auto_rows": null,
      "grid_column": null,
      "grid_gap": null,
      "grid_row": null,
      "grid_template_areas": null,
      "grid_template_columns": null,
      "grid_template_rows": null,
      "height": null,
      "justify_content": null,
      "justify_items": null,
      "left": null,
      "margin": null,
      "max_height": null,
      "max_width": null,
      "min_height": null,
      "min_width": null,
      "object_fit": null,
      "object_position": null,
      "order": null,
      "overflow": null,
      "overflow_x": null,
      "overflow_y": null,
      "padding": null,
      "right": null,
      "top": null,
      "visibility": null,
      "width": null
     }
    },
    "c21eb9e2267a4a4294271187e3421db2": {
     "model_module": "@jupyter-widgets/controls",
     "model_module_version": "1.5.0",
     "model_name": "SliderStyleModel",
     "state": {
      "_model_module": "@jupyter-widgets/controls",
      "_model_module_version": "1.5.0",
      "_model_name": "SliderStyleModel",
      "_view_count": null,
      "_view_module": "@jupyter-widgets/base",
      "_view_module_version": "1.2.0",
      "_view_name": "StyleView",
      "description_width": "",
      "handle_color": null
     }
    },
    "c47f16e7ad9b4c9a851f16bd88323e6d": {
     "model_module": "@jupyter-widgets/base",
     "model_module_version": "1.2.0",
     "model_name": "LayoutModel",
     "state": {
      "_model_module": "@jupyter-widgets/base",
      "_model_module_version": "1.2.0",
      "_model_name": "LayoutModel",
      "_view_count": null,
      "_view_module": "@jupyter-widgets/base",
      "_view_module_version": "1.2.0",
      "_view_name": "LayoutView",
      "align_content": null,
      "align_items": null,
      "align_self": null,
      "border": null,
      "bottom": null,
      "display": null,
      "flex": null,
      "flex_flow": null,
      "grid_area": null,
      "grid_auto_columns": null,
      "grid_auto_flow": null,
      "grid_auto_rows": null,
      "grid_column": null,
      "grid_gap": null,
      "grid_row": null,
      "grid_template_areas": null,
      "grid_template_columns": null,
      "grid_template_rows": null,
      "height": null,
      "justify_content": null,
      "justify_items": null,
      "left": null,
      "margin": null,
      "max_height": null,
      "max_width": null,
      "min_height": null,
      "min_width": null,
      "object_fit": null,
      "object_position": null,
      "order": null,
      "overflow": null,
      "overflow_x": null,
      "overflow_y": null,
      "padding": null,
      "right": null,
      "top": null,
      "visibility": null,
      "width": null
     }
    },
    "ca475c8fb6ce4734a03d46f556dd80b6": {
     "model_module": "@jupyter-widgets/base",
     "model_module_version": "1.2.0",
     "model_name": "LayoutModel",
     "state": {
      "_model_module": "@jupyter-widgets/base",
      "_model_module_version": "1.2.0",
      "_model_name": "LayoutModel",
      "_view_count": null,
      "_view_module": "@jupyter-widgets/base",
      "_view_module_version": "1.2.0",
      "_view_name": "LayoutView",
      "align_content": null,
      "align_items": null,
      "align_self": null,
      "border": null,
      "bottom": null,
      "display": null,
      "flex": null,
      "flex_flow": null,
      "grid_area": null,
      "grid_auto_columns": null,
      "grid_auto_flow": null,
      "grid_auto_rows": null,
      "grid_column": null,
      "grid_gap": null,
      "grid_row": null,
      "grid_template_areas": null,
      "grid_template_columns": null,
      "grid_template_rows": null,
      "height": null,
      "justify_content": null,
      "justify_items": null,
      "left": null,
      "margin": null,
      "max_height": null,
      "max_width": null,
      "min_height": null,
      "min_width": null,
      "object_fit": null,
      "object_position": null,
      "order": null,
      "overflow": null,
      "overflow_x": null,
      "overflow_y": null,
      "padding": null,
      "right": null,
      "top": null,
      "visibility": null,
      "width": null
     }
    },
    "cccbcf8fc4eb4767903251f79e2c5c29": {
     "model_module": "@jupyter-widgets/base",
     "model_module_version": "1.2.0",
     "model_name": "LayoutModel",
     "state": {
      "_model_module": "@jupyter-widgets/base",
      "_model_module_version": "1.2.0",
      "_model_name": "LayoutModel",
      "_view_count": null,
      "_view_module": "@jupyter-widgets/base",
      "_view_module_version": "1.2.0",
      "_view_name": "LayoutView",
      "align_content": null,
      "align_items": null,
      "align_self": null,
      "border": null,
      "bottom": null,
      "display": null,
      "flex": null,
      "flex_flow": null,
      "grid_area": null,
      "grid_auto_columns": null,
      "grid_auto_flow": null,
      "grid_auto_rows": null,
      "grid_column": null,
      "grid_gap": null,
      "grid_row": null,
      "grid_template_areas": null,
      "grid_template_columns": null,
      "grid_template_rows": null,
      "height": null,
      "justify_content": null,
      "justify_items": null,
      "left": null,
      "margin": null,
      "max_height": null,
      "max_width": null,
      "min_height": null,
      "min_width": null,
      "object_fit": null,
      "object_position": null,
      "order": null,
      "overflow": null,
      "overflow_x": null,
      "overflow_y": null,
      "padding": null,
      "right": null,
      "top": null,
      "visibility": null,
      "width": null
     }
    },
    "cd30929cabd3417887700aedcc8287e9": {
     "model_module": "@jupyter-widgets/base",
     "model_module_version": "1.2.0",
     "model_name": "LayoutModel",
     "state": {
      "_model_module": "@jupyter-widgets/base",
      "_model_module_version": "1.2.0",
      "_model_name": "LayoutModel",
      "_view_count": null,
      "_view_module": "@jupyter-widgets/base",
      "_view_module_version": "1.2.0",
      "_view_name": "LayoutView",
      "align_content": null,
      "align_items": null,
      "align_self": null,
      "border": null,
      "bottom": null,
      "display": null,
      "flex": null,
      "flex_flow": null,
      "grid_area": null,
      "grid_auto_columns": null,
      "grid_auto_flow": null,
      "grid_auto_rows": null,
      "grid_column": null,
      "grid_gap": null,
      "grid_row": null,
      "grid_template_areas": null,
      "grid_template_columns": null,
      "grid_template_rows": null,
      "height": null,
      "justify_content": null,
      "justify_items": null,
      "left": null,
      "margin": null,
      "max_height": null,
      "max_width": null,
      "min_height": null,
      "min_width": null,
      "object_fit": null,
      "object_position": null,
      "order": null,
      "overflow": null,
      "overflow_x": null,
      "overflow_y": null,
      "padding": null,
      "right": null,
      "top": null,
      "visibility": null,
      "width": null
     }
    },
    "cf064b8094424390ad9cb5dd4b0c4216": {
     "model_module": "@jupyter-widgets/controls",
     "model_module_version": "1.5.0",
     "model_name": "SliderStyleModel",
     "state": {
      "_model_module": "@jupyter-widgets/controls",
      "_model_module_version": "1.5.0",
      "_model_name": "SliderStyleModel",
      "_view_count": null,
      "_view_module": "@jupyter-widgets/base",
      "_view_module_version": "1.2.0",
      "_view_name": "StyleView",
      "description_width": "",
      "handle_color": null
     }
    },
    "d2a754db9d694fe9bc0e69421915b1b3": {
     "model_module": "@jupyter-widgets/base",
     "model_module_version": "1.2.0",
     "model_name": "LayoutModel",
     "state": {
      "_model_module": "@jupyter-widgets/base",
      "_model_module_version": "1.2.0",
      "_model_name": "LayoutModel",
      "_view_count": null,
      "_view_module": "@jupyter-widgets/base",
      "_view_module_version": "1.2.0",
      "_view_name": "LayoutView",
      "align_content": null,
      "align_items": null,
      "align_self": null,
      "border": null,
      "bottom": null,
      "display": null,
      "flex": null,
      "flex_flow": null,
      "grid_area": null,
      "grid_auto_columns": null,
      "grid_auto_flow": null,
      "grid_auto_rows": null,
      "grid_column": null,
      "grid_gap": null,
      "grid_row": null,
      "grid_template_areas": null,
      "grid_template_columns": null,
      "grid_template_rows": null,
      "height": null,
      "justify_content": null,
      "justify_items": null,
      "left": null,
      "margin": null,
      "max_height": null,
      "max_width": null,
      "min_height": null,
      "min_width": null,
      "object_fit": null,
      "object_position": null,
      "order": null,
      "overflow": null,
      "overflow_x": null,
      "overflow_y": null,
      "padding": null,
      "right": null,
      "top": null,
      "visibility": null,
      "width": null
     }
    },
    "da85f0de912941cab56a5a6beacd90c8": {
     "model_module": "@jupyter-widgets/controls",
     "model_module_version": "1.5.0",
     "model_name": "SliderStyleModel",
     "state": {
      "_model_module": "@jupyter-widgets/controls",
      "_model_module_version": "1.5.0",
      "_model_name": "SliderStyleModel",
      "_view_count": null,
      "_view_module": "@jupyter-widgets/base",
      "_view_module_version": "1.2.0",
      "_view_name": "StyleView",
      "description_width": "",
      "handle_color": null
     }
    },
    "dc94f28230e94a6abf66eab6068ccd19": {
     "model_module": "@jupyter-widgets/controls",
     "model_module_version": "1.5.0",
     "model_name": "SliderStyleModel",
     "state": {
      "_model_module": "@jupyter-widgets/controls",
      "_model_module_version": "1.5.0",
      "_model_name": "SliderStyleModel",
      "_view_count": null,
      "_view_module": "@jupyter-widgets/base",
      "_view_module_version": "1.2.0",
      "_view_name": "StyleView",
      "description_width": "",
      "handle_color": null
     }
    },
    "e6144fbd69b24756859d8efbf2db6829": {
     "model_module": "@jupyter-widgets/controls",
     "model_module_version": "1.5.0",
     "model_name": "FloatSliderModel",
     "state": {
      "_dom_classes": [],
      "_model_module": "@jupyter-widgets/controls",
      "_model_module_version": "1.5.0",
      "_model_name": "FloatSliderModel",
      "_view_count": null,
      "_view_module": "@jupyter-widgets/controls",
      "_view_module_version": "1.5.0",
      "_view_name": "FloatSliderView",
      "continuous_update": true,
      "description": "eps",
      "description_tooltip": null,
      "disabled": false,
      "layout": "IPY_MODEL_440ed9ef810f4f03bdf5088f07c0ffeb",
      "max": 3,
      "min": 0.01,
      "orientation": "horizontal",
      "readout": true,
      "readout_format": ".2f",
      "step": 0.1,
      "style": "IPY_MODEL_ae4a8784ed1549d5aea9d9b4cc6d9cb2",
      "value": 1
     }
    },
    "e6bcbc6620d245b0bb72131b63430d40": {
     "model_module": "@jupyter-widgets/controls",
     "model_module_version": "1.5.0",
     "model_name": "IntSliderModel",
     "state": {
      "_dom_classes": [],
      "_model_module": "@jupyter-widgets/controls",
      "_model_module_version": "1.5.0",
      "_model_name": "IntSliderModel",
      "_view_count": null,
      "_view_module": "@jupyter-widgets/controls",
      "_view_module_version": "1.5.0",
      "_view_name": "IntSliderView",
      "continuous_update": true,
      "description": "wc",
      "description_tooltip": null,
      "disabled": false,
      "layout": "IPY_MODEL_23b11fe0f7f9427fb31ca43a22d55fbb",
      "max": 100,
      "min": 1,
      "orientation": "horizontal",
      "readout": true,
      "readout_format": "d",
      "step": 1,
      "style": "IPY_MODEL_c21eb9e2267a4a4294271187e3421db2",
      "value": 1
     }
    },
    "e885b8ac5b8d44fcbe9d98d7dc61fee1": {
     "model_module": "@jupyter-widgets/base",
     "model_module_version": "1.2.0",
     "model_name": "LayoutModel",
     "state": {
      "_model_module": "@jupyter-widgets/base",
      "_model_module_version": "1.2.0",
      "_model_name": "LayoutModel",
      "_view_count": null,
      "_view_module": "@jupyter-widgets/base",
      "_view_module_version": "1.2.0",
      "_view_name": "LayoutView",
      "align_content": null,
      "align_items": null,
      "align_self": null,
      "border": null,
      "bottom": null,
      "display": null,
      "flex": null,
      "flex_flow": null,
      "grid_area": null,
      "grid_auto_columns": null,
      "grid_auto_flow": null,
      "grid_auto_rows": null,
      "grid_column": null,
      "grid_gap": null,
      "grid_row": null,
      "grid_template_areas": null,
      "grid_template_columns": null,
      "grid_template_rows": null,
      "height": null,
      "justify_content": null,
      "justify_items": null,
      "left": null,
      "margin": null,
      "max_height": null,
      "max_width": null,
      "min_height": null,
      "min_width": null,
      "object_fit": null,
      "object_position": null,
      "order": null,
      "overflow": null,
      "overflow_x": null,
      "overflow_y": null,
      "padding": null,
      "right": null,
      "top": null,
      "visibility": null,
      "width": null
     }
    },
    "e8b7608ecd37491daa2d1030a1f7c785": {
     "model_module": "@jupyter-widgets/controls",
     "model_module_version": "1.5.0",
     "model_name": "VBoxModel",
     "state": {
      "_dom_classes": [
       "widget-interact"
      ],
      "_model_module": "@jupyter-widgets/controls",
      "_model_module_version": "1.5.0",
      "_model_name": "VBoxModel",
      "_view_count": null,
      "_view_module": "@jupyter-widgets/controls",
      "_view_module_version": "1.5.0",
      "_view_name": "VBoxView",
      "box_style": "",
      "children": [
       "IPY_MODEL_65cea1629bbe4c819f5af43b0bc3c0aa",
       "IPY_MODEL_5510562f23ab4c0e88b5895d2453e4e8",
       "IPY_MODEL_1da46751aa264122bad65cc4134f673a"
      ],
      "layout": "IPY_MODEL_0320a1b9e803435084633a8c665eec14"
     }
    },
    "ed677387982a4b34984c84a4ec5092e2": {
     "model_module": "@jupyter-widgets/base",
     "model_module_version": "1.2.0",
     "model_name": "LayoutModel",
     "state": {
      "_model_module": "@jupyter-widgets/base",
      "_model_module_version": "1.2.0",
      "_model_name": "LayoutModel",
      "_view_count": null,
      "_view_module": "@jupyter-widgets/base",
      "_view_module_version": "1.2.0",
      "_view_name": "LayoutView",
      "align_content": null,
      "align_items": null,
      "align_self": null,
      "border": null,
      "bottom": null,
      "display": null,
      "flex": null,
      "flex_flow": null,
      "grid_area": null,
      "grid_auto_columns": null,
      "grid_auto_flow": null,
      "grid_auto_rows": null,
      "grid_column": null,
      "grid_gap": null,
      "grid_row": null,
      "grid_template_areas": null,
      "grid_template_columns": null,
      "grid_template_rows": null,
      "height": null,
      "justify_content": null,
      "justify_items": null,
      "left": null,
      "margin": null,
      "max_height": null,
      "max_width": null,
      "min_height": null,
      "min_width": null,
      "object_fit": null,
      "object_position": null,
      "order": null,
      "overflow": null,
      "overflow_x": null,
      "overflow_y": null,
      "padding": null,
      "right": null,
      "top": null,
      "visibility": null,
      "width": null
     }
    },
    "eddd82bf58e34e89a6a3d1d532231b57": {
     "model_module": "@jupyter-widgets/controls",
     "model_module_version": "1.5.0",
     "model_name": "FloatSliderModel",
     "state": {
      "_dom_classes": [],
      "_model_module": "@jupyter-widgets/controls",
      "_model_module_version": "1.5.0",
      "_model_name": "FloatSliderModel",
      "_view_count": null,
      "_view_module": "@jupyter-widgets/controls",
      "_view_module_version": "1.5.0",
      "_view_name": "FloatSliderView",
      "continuous_update": true,
      "description": "eps",
      "description_tooltip": null,
      "disabled": false,
      "layout": "IPY_MODEL_ba73a7647aa0457ea44d8223768b3cbd",
      "max": 3,
      "min": 0.01,
      "orientation": "horizontal",
      "readout": true,
      "readout_format": ".2f",
      "step": 0.1,
      "style": "IPY_MODEL_94d2989e5b084745a28172173212b1ab",
      "value": 1
     }
    },
    "f2257fe9c4b445178ced4339a25c4d06": {
     "model_module": "@jupyter-widgets/base",
     "model_module_version": "1.2.0",
     "model_name": "LayoutModel",
     "state": {
      "_model_module": "@jupyter-widgets/base",
      "_model_module_version": "1.2.0",
      "_model_name": "LayoutModel",
      "_view_count": null,
      "_view_module": "@jupyter-widgets/base",
      "_view_module_version": "1.2.0",
      "_view_name": "LayoutView",
      "align_content": null,
      "align_items": null,
      "align_self": null,
      "border": null,
      "bottom": null,
      "display": null,
      "flex": null,
      "flex_flow": null,
      "grid_area": null,
      "grid_auto_columns": null,
      "grid_auto_flow": null,
      "grid_auto_rows": null,
      "grid_column": null,
      "grid_gap": null,
      "grid_row": null,
      "grid_template_areas": null,
      "grid_template_columns": null,
      "grid_template_rows": null,
      "height": null,
      "justify_content": null,
      "justify_items": null,
      "left": null,
      "margin": null,
      "max_height": null,
      "max_width": null,
      "min_height": null,
      "min_width": null,
      "object_fit": null,
      "object_position": null,
      "order": null,
      "overflow": null,
      "overflow_x": null,
      "overflow_y": null,
      "padding": null,
      "right": null,
      "top": null,
      "visibility": null,
      "width": null
     }
    },
    "f351b00216e84a72b407451383c923d6": {
     "model_module": "@jupyter-widgets/base",
     "model_module_version": "1.2.0",
     "model_name": "LayoutModel",
     "state": {
      "_model_module": "@jupyter-widgets/base",
      "_model_module_version": "1.2.0",
      "_model_name": "LayoutModel",
      "_view_count": null,
      "_view_module": "@jupyter-widgets/base",
      "_view_module_version": "1.2.0",
      "_view_name": "LayoutView",
      "align_content": null,
      "align_items": null,
      "align_self": null,
      "border": null,
      "bottom": null,
      "display": null,
      "flex": null,
      "flex_flow": null,
      "grid_area": null,
      "grid_auto_columns": null,
      "grid_auto_flow": null,
      "grid_auto_rows": null,
      "grid_column": null,
      "grid_gap": null,
      "grid_row": null,
      "grid_template_areas": null,
      "grid_template_columns": null,
      "grid_template_rows": null,
      "height": null,
      "justify_content": null,
      "justify_items": null,
      "left": null,
      "margin": null,
      "max_height": null,
      "max_width": null,
      "min_height": null,
      "min_width": null,
      "object_fit": null,
      "object_position": null,
      "order": null,
      "overflow": null,
      "overflow_x": null,
      "overflow_y": null,
      "padding": null,
      "right": null,
      "top": null,
      "visibility": null,
      "width": null
     }
    },
    "f471d35d351c4aa88a4f9d1fab249cb3": {
     "model_module": "@jupyter-widgets/base",
     "model_module_version": "1.2.0",
     "model_name": "LayoutModel",
     "state": {
      "_model_module": "@jupyter-widgets/base",
      "_model_module_version": "1.2.0",
      "_model_name": "LayoutModel",
      "_view_count": null,
      "_view_module": "@jupyter-widgets/base",
      "_view_module_version": "1.2.0",
      "_view_name": "LayoutView",
      "align_content": null,
      "align_items": null,
      "align_self": null,
      "border": null,
      "bottom": null,
      "display": null,
      "flex": null,
      "flex_flow": null,
      "grid_area": null,
      "grid_auto_columns": null,
      "grid_auto_flow": null,
      "grid_auto_rows": null,
      "grid_column": null,
      "grid_gap": null,
      "grid_row": null,
      "grid_template_areas": null,
      "grid_template_columns": null,
      "grid_template_rows": null,
      "height": null,
      "justify_content": null,
      "justify_items": null,
      "left": null,
      "margin": null,
      "max_height": null,
      "max_width": null,
      "min_height": null,
      "min_width": null,
      "object_fit": null,
      "object_position": null,
      "order": null,
      "overflow": null,
      "overflow_x": null,
      "overflow_y": null,
      "padding": null,
      "right": null,
      "top": null,
      "visibility": null,
      "width": null
     }
    },
    "f6fd022dcc9649269999d5ceedc951dd": {
     "model_module": "@jupyter-widgets/output",
     "model_module_version": "1.0.0",
     "model_name": "OutputModel",
     "state": {
      "_dom_classes": [],
      "_model_module": "@jupyter-widgets/output",
      "_model_module_version": "1.0.0",
      "_model_name": "OutputModel",
      "_view_count": null,
      "_view_module": "@jupyter-widgets/output",
      "_view_module_version": "1.0.0",
      "_view_name": "OutputView",
      "layout": "IPY_MODEL_fc4aaefd76bc4a19a4f921801175b246",
      "msg_id": "",
      "outputs": []
     }
    },
    "f711457862194a3c9980463298849f4f": {
     "model_module": "@jupyter-widgets/controls",
     "model_module_version": "1.5.0",
     "model_name": "VBoxModel",
     "state": {
      "_dom_classes": [
       "widget-interact"
      ],
      "_model_module": "@jupyter-widgets/controls",
      "_model_module_version": "1.5.0",
      "_model_name": "VBoxModel",
      "_view_count": null,
      "_view_module": "@jupyter-widgets/controls",
      "_view_module_version": "1.5.0",
      "_view_name": "VBoxView",
      "box_style": "",
      "children": [
       "IPY_MODEL_7532303185404700891036f34e8d3701",
       "IPY_MODEL_1df2ba069b8a4c99a2b19a20c893b458",
       "IPY_MODEL_5abc796326dd457fade6c466018b6d19"
      ],
      "layout": "IPY_MODEL_4e33aefb7b074223aa5bd18ceaaa0886"
     }
    },
    "fc4aaefd76bc4a19a4f921801175b246": {
     "model_module": "@jupyter-widgets/base",
     "model_module_version": "1.2.0",
     "model_name": "LayoutModel",
     "state": {
      "_model_module": "@jupyter-widgets/base",
      "_model_module_version": "1.2.0",
      "_model_name": "LayoutModel",
      "_view_count": null,
      "_view_module": "@jupyter-widgets/base",
      "_view_module_version": "1.2.0",
      "_view_name": "LayoutView",
      "align_content": null,
      "align_items": null,
      "align_self": null,
      "border": null,
      "bottom": null,
      "display": null,
      "flex": null,
      "flex_flow": null,
      "grid_area": null,
      "grid_auto_columns": null,
      "grid_auto_flow": null,
      "grid_auto_rows": null,
      "grid_column": null,
      "grid_gap": null,
      "grid_row": null,
      "grid_template_areas": null,
      "grid_template_columns": null,
      "grid_template_rows": null,
      "height": null,
      "justify_content": null,
      "justify_items": null,
      "left": null,
      "margin": null,
      "max_height": null,
      "max_width": null,
      "min_height": null,
      "min_width": null,
      "object_fit": null,
      "object_position": null,
      "order": null,
      "overflow": null,
      "overflow_x": null,
      "overflow_y": null,
      "padding": null,
      "right": null,
      "top": null,
      "visibility": null,
      "width": null
     }
    },
    "fc5f47bcadc04f47831f37348887f305": {
     "model_module": "@jupyter-widgets/controls",
     "model_module_version": "1.5.0",
     "model_name": "VBoxModel",
     "state": {
      "_dom_classes": [
       "widget-interact"
      ],
      "_model_module": "@jupyter-widgets/controls",
      "_model_module_version": "1.5.0",
      "_model_name": "VBoxModel",
      "_view_count": null,
      "_view_module": "@jupyter-widgets/controls",
      "_view_module_version": "1.5.0",
      "_view_name": "VBoxView",
      "box_style": "",
      "children": [
       "IPY_MODEL_0bdc50d9d0584bb0b4a453e648dd0cfd",
       "IPY_MODEL_5c08b22db952428ebc37252bdd1fa70e",
       "IPY_MODEL_e6144fbd69b24756859d8efbf2db6829",
       "IPY_MODEL_362cd494799341a68f18b2211e553647"
      ],
      "layout": "IPY_MODEL_beca00d5a3074d16a01581f512b6defc"
     }
    }
   }
  }
 },
 "nbformat": 4,
 "nbformat_minor": 5
}
