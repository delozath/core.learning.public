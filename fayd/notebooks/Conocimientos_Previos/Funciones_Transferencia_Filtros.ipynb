{
 "cells": [
  {
   "cell_type": "markdown",
   "id": "b5b7baec",
   "metadata": {},
   "source": [
    "# Funciones de transferencia de los Filtros\n",
    "\n",
    "## Pasa bajas primer orden\n",
    "$$H(s) =  \\dfrac{1}{s+1} $$"
   ]
  },
  {
   "cell_type": "code",
   "execution_count": 1,
   "id": "f0af8a6c",
   "metadata": {},
   "outputs": [],
   "source": [
    "import ipywidgets as widgets\n",
    "from ipywidgets import HBox, VBox\n",
    "import numpy as np\n",
    "import matplotlib.pyplot as plt\n",
    "from IPython.display import display\n",
    "%matplotlib inline"
   ]
  },
  {
   "cell_type": "code",
   "execution_count": 2,
   "id": "27cffb80",
   "metadata": {},
   "outputs": [],
   "source": [
    "import numpy as np\n",
    "from matplotlib import pyplot as plt\n",
    "\n",
    "class respuesta_f:\n",
    "    def __init__(self, w_max=1000):\n",
    "        SR         = 5\n",
    "        self.w_max = w_max\n",
    "        self.w     = np.arange(1, SR*w_max)/SR\n",
    "    #\n",
    "    def set_Hs(self, Y, X):\n",
    "        self.Hs = Y/X\n",
    "    #\n",
    "    @staticmethod\n",
    "    def plot_mag(H, w, color='orange'):\n",
    "        M_dB = 20*np.log10(np.abs(H))\n",
    "        #\n",
    "        plt.figure('Magnitud [dB]', figsize=(12, 6))\n",
    "        plt.semilogx(w, M_dB, color, linewidth=3)\n",
    "        plt.grid(True)\n",
    "        #plt.show()\n",
    "        \n",
    "    @staticmethod\n",
    "    def plot_phase(H, w, color='blue'):\n",
    "        angle = np.angle(H, deg=True)\n",
    "        #\n",
    "        plt.figure('Fase [°]', figsize=(12, 7))\n",
    "        plt.semilogx(w, angle, color, linewidth=3)\n",
    "        plt.grid(True)\n",
    "        #plt.show()"
   ]
  },
  {
   "cell_type": "markdown",
   "id": "9fde86ae",
   "metadata": {},
   "source": [
    "## Pasa Bajas Primer Orden"
   ]
  },
  {
   "cell_type": "code",
   "execution_count": 3,
   "id": "7b752034",
   "metadata": {},
   "outputs": [
    {
     "data": {
      "application/vnd.jupyter.widget-view+json": {
       "model_id": "ef8d4b6de9e347c3ad8ed16e8f01e70f",
       "version_major": 2,
       "version_minor": 0
      },
      "text/plain": [
       "interactive(children=(IntSlider(value=1, description='wc', min=1), Output()), _dom_classes=('widget-interact',…"
      ]
     },
     "metadata": {},
     "output_type": "display_data"
    }
   ],
   "source": [
    "w_max = 100000\n",
    "@widgets.interact(wc=(1, 100))\n",
    "def magnitud(wc=1):\n",
    "    h1 = respuesta_f(w_max)\n",
    "    #\n",
    "    s  = 1j*h1.w\n",
    "    Ys = wc\n",
    "    Xs = s + wc\n",
    "    h1.set_Hs(Ys, Xs)\n",
    "    respuesta_f.plot_mag(h1.Hs, h1.w)"
   ]
  },
  {
   "cell_type": "code",
   "execution_count": 4,
   "id": "e12b2bf8",
   "metadata": {},
   "outputs": [
    {
     "data": {
      "application/vnd.jupyter.widget-view+json": {
       "model_id": "4e30d53b300040b9b33349ce8c3db7fc",
       "version_major": 2,
       "version_minor": 0
      },
      "text/plain": [
       "interactive(children=(IntSlider(value=1, description='wc', min=1), Output()), _dom_classes=('widget-interact',…"
      ]
     },
     "metadata": {},
     "output_type": "display_data"
    }
   ],
   "source": [
    "@widgets.interact(wc=(1, 100))\n",
    "def fase(wc=1):\n",
    "    h1 = respuesta_f(w_max)\n",
    "    #\n",
    "    s  = 1j*h1.w\n",
    "    Ys = wc\n",
    "    Xs = s + wc\n",
    "    h1.set_Hs(Ys, Xs)\n",
    "    respuesta_f.plot_phase(h1.Hs, h1.w)"
   ]
  },
  {
   "cell_type": "markdown",
   "id": "ffc49276",
   "metadata": {},
   "source": [
    "## Pasa Altas Primer Orden"
   ]
  },
  {
   "cell_type": "code",
   "execution_count": 35,
   "id": "1731c9d1",
   "metadata": {
    "scrolled": false
   },
   "outputs": [
    {
     "data": {
      "application/vnd.jupyter.widget-view+json": {
       "model_id": "0efcf292fc024b25a5b68181f14945ae",
       "version_major": 2,
       "version_minor": 0
      },
      "text/plain": [
       "interactive(children=(IntSlider(value=1, description='wc', max=300, min=1), Output()), _dom_classes=('widget-i…"
      ]
     },
     "metadata": {},
     "output_type": "display_data"
    }
   ],
   "source": [
    "w_max = 100000\n",
    "@widgets.interact(wc=(1, 300))\n",
    "def magnitud(wc=1):\n",
    "    h1 = respuesta_f(w_max)\n",
    "    #\n",
    "    s  = 1j*h1.w\n",
    "    Ys = wc*s\n",
    "    Xs = s + wc\n",
    "    h1.set_Hs(Ys, Xs)\n",
    "    respuesta_f.plot_mag(h1.Hs, h1.w)"
   ]
  },
  {
   "cell_type": "code",
   "execution_count": 36,
   "id": "28e937f3",
   "metadata": {},
   "outputs": [
    {
     "data": {
      "application/vnd.jupyter.widget-view+json": {
       "model_id": "8d59cce4a082406cbd96868b8a39cbb0",
       "version_major": 2,
       "version_minor": 0
      },
      "text/plain": [
       "interactive(children=(IntSlider(value=1, description='wc', min=1), Output()), _dom_classes=('widget-interact',…"
      ]
     },
     "metadata": {},
     "output_type": "display_data"
    }
   ],
   "source": [
    "@widgets.interact(wc=(1, 100))\n",
    "def fase(wc=1):\n",
    "    h1 = respuesta_f(w_max)\n",
    "    #\n",
    "    s  = 1j*h1.w\n",
    "    Ys = wc*s\n",
    "    Xs = s + wc\n",
    "    h1.set_Hs(Ys, Xs)\n",
    "    respuesta_f.plot_phase(h1.Hs, h1.w)"
   ]
  },
  {
   "cell_type": "markdown",
   "id": "edfacea0",
   "metadata": {},
   "source": [
    "## Pasa Bajas Segundo Orden"
   ]
  },
  {
   "cell_type": "code",
   "execution_count": 40,
   "id": "280ed0e7",
   "metadata": {},
   "outputs": [
    {
     "data": {
      "application/vnd.jupyter.widget-view+json": {
       "model_id": "",
       "version_major": 2,
       "version_minor": 0
      },
      "text/plain": [
       "interactive(children=(IntSlider(value=1, description='wc', min=1), Output()), _dom_classes=('widget-interact',…"
      ]
     },
     "metadata": {},
     "output_type": "display_data"
    }
   ],
   "source": [
    "w_max = 350_000\n",
    "@widgets.interact(wc=(1, 100))\n",
    "def magnitud(wc=1):\n",
    "    h1 = respuesta_f(w_max)\n",
    "    #\n",
    "    s  = 1j*h1.w\n",
    "    Ys = wc**2\n",
    "    Xs = s**2 + 0.5*s + wc**2\n",
    "    h1.set_Hs(Ys, Xs)\n",
    "    respuesta_f.plot_mag(h1.Hs, h1.w)"
   ]
  },
  {
   "cell_type": "code",
   "execution_count": 90,
   "id": "04e2a26b",
   "metadata": {},
   "outputs": [
    {
     "data": {
      "application/vnd.jupyter.widget-view+json": {
       "model_id": "b41faff0a84c4d1e8d55610f9b449a30",
       "version_major": 2,
       "version_minor": 0
      },
      "text/plain": [
       "interactive(children=(IntSlider(value=1, description='wc', min=1), FloatSlider(value=0.5, description='eps', m…"
      ]
     },
     "metadata": {},
     "output_type": "display_data"
    }
   ],
   "source": [
    "w_max = 350_000\n",
    "@widgets.interact(wc=(1, 100), eps=(0.01, 3))\n",
    "def magnitud(wc=1, eps=0.5):\n",
    "    h1 = respuesta_f(w_max)\n",
    "    #\n",
    "    s  = 1j*h1.w\n",
    "    Ys = wc**2\n",
    "    Xs = s**2 + 2*wc*eps*s + wc**2\n",
    "    h1.set_Hs(Ys, Xs)\n",
    "    respuesta_f.plot_mag(h1.Hs, h1.w)"
   ]
  },
  {
   "cell_type": "code",
   "execution_count": 89,
   "id": "bec911f8",
   "metadata": {},
   "outputs": [
    {
     "data": {
      "application/vnd.jupyter.widget-view+json": {
       "model_id": "3dc18ea6e8e149dbb2f86676a2d3fcc5",
       "version_major": 2,
       "version_minor": 0
      },
      "text/plain": [
       "interactive(children=(IntSlider(value=1, description='wc', min=1), FloatSlider(value=0.5, description='eps', m…"
      ]
     },
     "metadata": {},
     "output_type": "display_data"
    }
   ],
   "source": [
    "w_max = 350_000\n",
    "@widgets.interact(wc=(1, 100), eps=(0.01, 3))\n",
    "def fase(wc=1, eps=0.5):\n",
    "    h1 = respuesta_f(w_max)\n",
    "    #\n",
    "    s  = 1j*h1.w\n",
    "    Ys = wc**2\n",
    "    Xs = s**2 + 2*wc*eps*s + wc**2\n",
    "    h1.set_Hs(Ys, Xs)\n",
    "    respuesta_f.plot_phase(h1.Hs, h1.w)"
   ]
  },
  {
   "cell_type": "markdown",
   "id": "c2b213ae",
   "metadata": {},
   "source": [
    "## Pasa Altas Segundo Orden"
   ]
  },
  {
   "cell_type": "code",
   "execution_count": 53,
   "id": "e6517681",
   "metadata": {
    "collapsed": true
   },
   "outputs": [
    {
     "data": {
      "application/vnd.jupyter.widget-view+json": {
       "model_id": "",
       "version_major": 2,
       "version_minor": 0
      },
      "text/plain": [
       "interactive(children=(IntSlider(value=10, description='wc', min=1), FloatSlider(value=0.6, description='eps', …"
      ]
     },
     "metadata": {},
     "output_type": "display_data"
    }
   ],
   "source": [
    "w_max = 350_000\n",
    "@widgets.interact(wc=(1, 100), eps=(0.01, 3))\n",
    "def magnitud(wc=10, eps=0.6):\n",
    "    h1 = respuesta_f(w_max)\n",
    "    #\n",
    "    s  = 1j*h1.w\n",
    "    Ys = (wc*s)**2\n",
    "    Xs = s**2 + 2*wc*eps*s + wc**2\n",
    "    h1.set_Hs(Ys, Xs)\n",
    "    respuesta_f.plot_mag(h1.Hs, h1.w)"
   ]
  },
  {
   "cell_type": "code",
   "execution_count": 54,
   "id": "877359aa",
   "metadata": {
    "collapsed": true
   },
   "outputs": [
    {
     "data": {
      "application/vnd.jupyter.widget-view+json": {
       "model_id": "",
       "version_major": 2,
       "version_minor": 0
      },
      "text/plain": [
       "interactive(children=(IntSlider(value=10, description='wc', min=1), FloatSlider(value=0.6, description='eps', …"
      ]
     },
     "metadata": {},
     "output_type": "display_data"
    }
   ],
   "source": [
    "w_max = 350_000\n",
    "@widgets.interact(wc=(1, 100), eps=(0.01, 3))\n",
    "def fase(wc=10, eps=0.6):\n",
    "    h1 = respuesta_f(w_max)\n",
    "    #\n",
    "    s  = 1j*h1.w\n",
    "    Ys = (wc*s)**2\n",
    "    Xs = s**2 + 2*wc*eps*s + wc**2\n",
    "    h1.set_Hs(Ys, Xs)\n",
    "    respuesta_f.plot_phase(h1.Hs, h1.w)"
   ]
  },
  {
   "cell_type": "markdown",
   "id": "d1896661",
   "metadata": {},
   "source": [
    "## Rechaza Banda Segundo Orden"
   ]
  },
  {
   "cell_type": "code",
   "execution_count": 74,
   "id": "53e71adb",
   "metadata": {},
   "outputs": [
    {
     "data": {
      "application/vnd.jupyter.widget-view+json": {
       "model_id": "94e57057f5ca4b909677091c9e1b74b7",
       "version_major": 2,
       "version_minor": 0
      },
      "text/plain": [
       "interactive(children=(IntSlider(value=58, description='wc_1', min=1), IntSlider(value=62, description='wc_2', …"
      ]
     },
     "metadata": {},
     "output_type": "display_data"
    }
   ],
   "source": [
    "w_max = 350_000\n",
    "@widgets.interact(wc_1=(1, 100), wc_2=(1, 100), eps=(0.01, 3))\n",
    "def magnitud(wc_1=58, wc_2=62, eps=1):\n",
    "    h1 = respuesta_f(w_max)\n",
    "    #\n",
    "    s  = 1j*h1.w\n",
    "    Wo =  wc_1*wc_2\n",
    "    Ys = s**2 + Wo\n",
    "    Xs = s**2 + eps*np.sqrt(Wo)*s + Wo\n",
    "    h1.set_Hs(Ys, Xs)\n",
    "    respuesta_f.plot_mag(h1.Hs, h1.w)"
   ]
  },
  {
   "cell_type": "code",
   "execution_count": 80,
   "id": "5189bb59",
   "metadata": {},
   "outputs": [
    {
     "data": {
      "application/vnd.jupyter.widget-view+json": {
       "model_id": "c2ab4471422b4d2bb871fba1f405af74",
       "version_major": 2,
       "version_minor": 0
      },
      "text/plain": [
       "interactive(children=(IntSlider(value=58, description='wc_1', min=1), IntSlider(value=62, description='wc_2', …"
      ]
     },
     "metadata": {},
     "output_type": "display_data"
    }
   ],
   "source": [
    "w_max = 2000\n",
    "@widgets.interact(wc_1=(1, 100), wc_2=(1, 100), eps=(0.01, 3))\n",
    "def magnitud(wc_1=58, wc_2=62, eps=1):\n",
    "    h1 = respuesta_f(w_max)\n",
    "    h2 = respuesta_f(w_max)\n",
    "    #\n",
    "    s  = 1j*h1.w\n",
    "    Wo =  wc_1*wc_2\n",
    "    Ys = s**2 + Wo\n",
    "    Xs = s**2 + eps*np.sqrt(Wo)*s + Wo\n",
    "    h1.set_Hs(Ys, Xs)\n",
    "    #\n",
    "    B  = wc_2 - wc_1\n",
    "    Xs = s**2 + B*s + Wo\n",
    "    h2.set_Hs(Ys, Xs)\n",
    "    respuesta_f.plot_mag(h1.Hs, h1.w)\n",
    "    respuesta_f.plot_mag(h2.Hs, h2.w, color='green')"
   ]
  },
  {
   "cell_type": "code",
   "execution_count": 86,
   "id": "daa87993",
   "metadata": {},
   "outputs": [
    {
     "data": {
      "application/vnd.jupyter.widget-view+json": {
       "model_id": "fe0de956143449a5876eeae5900b50a8",
       "version_major": 2,
       "version_minor": 0
      },
      "text/plain": [
       "interactive(children=(IntSlider(value=58, description='wc_1', min=1), IntSlider(value=62, description='wc_2', …"
      ]
     },
     "metadata": {},
     "output_type": "display_data"
    }
   ],
   "source": [
    "w_max = 2000\n",
    "@widgets.interact(wc_1=(1, 100), wc_2=(1, 100), eps=(0.01, 3))\n",
    "def fase(wc_1=58, wc_2=62, eps=1):\n",
    "    h1 = respuesta_f(w_max)\n",
    "    h2 = respuesta_f(w_max)\n",
    "    #\n",
    "    s  = 1j*h1.w\n",
    "    Wo =  wc_1*wc_2\n",
    "    Ys = s**2 + Wo\n",
    "    Xs = s**2 + eps*np.sqrt(Wo)*s + Wo\n",
    "    h1.set_Hs(Ys, Xs)\n",
    "    #\n",
    "    B  = wc_2 - wc_1\n",
    "    Xs = s**2 + B*s + Wo\n",
    "    h2.set_Hs(Ys, Xs)\n",
    "    respuesta_f.plot_phase(h1.Hs, h1.w)\n",
    "    respuesta_f.plot_phase(h2.Hs, h2.w, color='green')"
   ]
  },
  {
   "cell_type": "markdown",
   "id": "9894b180",
   "metadata": {},
   "source": [
    "## Pasa Banda Segundo Orden"
   ]
  },
  {
   "cell_type": "code",
   "execution_count": 81,
   "id": "606ac6e1",
   "metadata": {},
   "outputs": [
    {
     "data": {
      "application/vnd.jupyter.widget-view+json": {
       "model_id": "543e046d2e7247fe81862f13c53bf5b7",
       "version_major": 2,
       "version_minor": 0
      },
      "text/plain": [
       "interactive(children=(FloatSlider(value=1.0, description='wc_1', max=10.0, min=0.1), IntSlider(value=50, descr…"
      ]
     },
     "metadata": {},
     "output_type": "display_data"
    }
   ],
   "source": [
    "w_max = 10000\n",
    "@widgets.interact(wc_1=(.1, 10), wc_2=(30, 100), eps=(0.01, 3))\n",
    "def magnitud(wc_1=1, wc_2=50, eps=1):\n",
    "    h1 = respuesta_f(w_max)\n",
    "    #\n",
    "    s  = 1j*h1.w\n",
    "    Wo =  wc_1*wc_2\n",
    "    B  = wc_2 - wc_1\n",
    "    Ys = s\n",
    "    Xs = s**2 + eps*B*s + Wo\n",
    "    h1.set_Hs(Ys, Xs)\n",
    "    respuesta_f.plot_mag(h1.Hs, h1.w)"
   ]
  },
  {
   "cell_type": "code",
   "execution_count": 82,
   "id": "aaaff811",
   "metadata": {
    "collapsed": true
   },
   "outputs": [
    {
     "data": {
      "application/vnd.jupyter.widget-view+json": {
       "model_id": "107dfec61d4f499185ef4036e56ecec2",
       "version_major": 2,
       "version_minor": 0
      },
      "text/plain": [
       "interactive(children=(IntSlider(value=58, description='wc_1', min=1), IntSlider(value=62, description='wc_2', …"
      ]
     },
     "metadata": {},
     "output_type": "display_data"
    }
   ],
   "source": [
    "w_max = 350_000\n",
    "@widgets.interact(wc_1=(1, 100), wc_2=(1, 100), eps=(0.01, 3))\n",
    "def magnitud(wc_1=58, wc_2=62, eps=1):\n",
    "    h1 = respuesta_f(w_max)\n",
    "    #\n",
    "    s  = 1j*h1.w\n",
    "    Wo =  wc_1*wc_2\n",
    "    B  = wc_2 - wc_1\n",
    "    Ys = s\n",
    "    Xs = s**2 + eps*B*s + Wo\n",
    "    h1.set_Hs(Ys, Xs)\n",
    "    respuesta_f.plot_phase(h1.Hs, h1.w)"
   ]
  },
  {
   "cell_type": "markdown",
   "id": "c3089e2c",
   "metadata": {},
   "source": [
    "## Pasa todo"
   ]
  },
  {
   "cell_type": "code",
   "execution_count": 138,
   "id": "c2fd898f",
   "metadata": {},
   "outputs": [
    {
     "data": {
      "application/vnd.jupyter.widget-view+json": {
       "model_id": "fefc3207f51e4eb6b22f6805f8f53c5a",
       "version_major": 2,
       "version_minor": 0
      },
      "text/plain": [
       "interactive(children=(IntSlider(value=50, description='wc', min=1), FloatSlider(value=1.0, description='eps', …"
      ]
     },
     "metadata": {},
     "output_type": "display_data"
    }
   ],
   "source": [
    "w_max = 10000\n",
    "@widgets.interact(wc=(1, 100), theta=(1, 100), eps=(0.01, 3))\n",
    "def magnitud(wc, eps=1, theta=0, cascade=False):\n",
    "    h1 = respuesta_f(w_max)\n",
    "    h2 = respuesta_f(w_max)\n",
    "    #\n",
    "    s  = 1j*h1.w\n",
    "    Ys = s**2 - eps*theta*s + theta\n",
    "    Xs = s**2 + eps*theta*s + theta\n",
    "    h1.set_Hs(Ys, Xs)\n",
    "    #\n",
    "    Ys = (wc*s)**2\n",
    "    Xs = s**2 + eps*wc*s + wc**2\n",
    "    h2.set_Hs(Ys, Xs)\n",
    "    respuesta_f.plot_mag(h1.Hs, h1.w)\n",
    "    respuesta_f.plot_mag(h2.Hs, h2.w, color='green')\n",
    "    if cascade:\n",
    "        respuesta_f.plot_mag(h1.Hs*h2.Hs, h2.w, color='red')"
   ]
  },
  {
   "cell_type": "code",
   "execution_count": 137,
   "id": "efac1ba9",
   "metadata": {},
   "outputs": [
    {
     "data": {
      "application/vnd.jupyter.widget-view+json": {
       "model_id": "dddd111de8f74752bca41402cfde22ea",
       "version_major": 2,
       "version_minor": 0
      },
      "text/plain": [
       "interactive(children=(IntSlider(value=50, description='wc', min=1), FloatSlider(value=1.0, description='eps', …"
      ]
     },
     "metadata": {},
     "output_type": "display_data"
    }
   ],
   "source": [
    "w_max = 2000\n",
    "@widgets.interact(wc=(1, 100), theta=(1, 100), eps=(0.01, 3))\n",
    "def fase(wc, eps=1, theta=0, cascade=False):\n",
    "    h1 = respuesta_f(w_max)\n",
    "    h2 = respuesta_f(w_max)\n",
    "    #\n",
    "    s  = 1j*h1.w\n",
    "    Ys = s**2 - eps*theta*s + theta\n",
    "    Xs = s**2 + eps*theta*s + theta\n",
    "    h1.set_Hs(Ys, Xs)\n",
    "    #\n",
    "    Ys = (wc*s)**2\n",
    "    Xs = s**2 + eps*wc*s + wc**2\n",
    "    h2.set_Hs(Ys, Xs)\n",
    "    respuesta_f.plot_phase(h1.Hs, h1.w)\n",
    "    respuesta_f.plot_phase(h2.Hs, h2.w, color='green')\n",
    "    if cascade:\n",
    "        respuesta_f.plot_phase(h1.Hs*h2.Hs, h2.w, color='red')"
   ]
  },
  {
   "cell_type": "markdown",
   "id": "247aac34",
   "metadata": {},
   "source": [
    "Diseño"
   ]
  },
  {
   "cell_type": "code",
   "execution_count": 101,
   "id": "e9275d24",
   "metadata": {
    "collapsed": true
   },
   "outputs": [
    {
     "data": {
      "application/vnd.jupyter.widget-view+json": {
       "model_id": "",
       "version_major": 2,
       "version_minor": 0
      },
      "text/plain": [
       "interactive(children=(IntSlider(value=25, description='wc', min=1), FloatSlider(value=0.5, description='eps', …"
      ]
     },
     "metadata": {},
     "output_type": "display_data"
    }
   ],
   "source": [
    "w_max = 350_000\n",
    "@widgets.interact(wc=(1, 100), eps=(0.01, 3))\n",
    "def magnitud(wc=25, eps=0.5, cascade=False):\n",
    "    h1 = respuesta_f(w_max)\n",
    "    h2 = respuesta_f(w_max)\n",
    "    #\n",
    "    s  = 1j*h1.w\n",
    "    Ys = wc**2\n",
    "    Xs = s**2 + 2*wc*eps*s + wc**2\n",
    "    h1.set_Hs(Ys, Xs)\n",
    "    #\n",
    "    Ys = wc\n",
    "    Xs = s + wc\n",
    "    h2.set_Hs(Ys, Xs)\n",
    "    #\n",
    "    respuesta_f.plot_mag(h1.Hs, h1.w)\n",
    "    respuesta_f.plot_mag(h2.Hs, h2.w, color='green')\n",
    "    if cascade:\n",
    "        respuesta_f.plot_mag(h1.Hs*h2.Hs, h2.w, color='red') "
   ]
  },
  {
   "cell_type": "code",
   "execution_count": 103,
   "id": "d0dd17fb",
   "metadata": {
    "collapsed": true
   },
   "outputs": [
    {
     "data": {
      "application/vnd.jupyter.widget-view+json": {
       "model_id": "d3dfa251d5dd44f29ffd405886c6eedd",
       "version_major": 2,
       "version_minor": 0
      },
      "text/plain": [
       "interactive(children=(IntSlider(value=25, description='wc', min=1), FloatSlider(value=0.5, description='eps', …"
      ]
     },
     "metadata": {},
     "output_type": "display_data"
    }
   ],
   "source": [
    "w_max = 350_000\n",
    "@widgets.interact(wc=(1, 100), eps=(0.01, 3))\n",
    "def fase(wc=25, eps=0.5, cascade=False):\n",
    "    h1 = respuesta_f(w_max)\n",
    "    h2 = respuesta_f(w_max)\n",
    "    #\n",
    "    s  = 1j*h1.w\n",
    "    Ys = wc**2\n",
    "    Xs = s**2 + 2*wc*eps*s + wc**2\n",
    "    h1.set_Hs(Ys, Xs)\n",
    "    #\n",
    "    Ys = wc\n",
    "    Xs = s + wc\n",
    "    h2.set_Hs(Ys, Xs)\n",
    "    #\n",
    "    respuesta_f.plot_phase(h1.Hs, h1.w)\n",
    "    respuesta_f.plot_phase(h2.Hs, h2.w, color='green')\n",
    "    if cascade:\n",
    "        respuesta_f.plot_phase(h1.Hs*h2.Hs, h2.w, color='red') "
   ]
  },
  {
   "cell_type": "markdown",
   "id": "934158a7",
   "metadata": {},
   "source": [
    "Diseño segundo orden"
   ]
  },
  {
   "cell_type": "code",
   "execution_count": 107,
   "id": "fc02a282",
   "metadata": {},
   "outputs": [
    {
     "data": {
      "application/vnd.jupyter.widget-view+json": {
       "model_id": "",
       "version_major": 2,
       "version_minor": 0
      },
      "text/plain": [
       "interactive(children=(IntSlider(value=25, description='wc', min=1), FloatSlider(value=1.0, description='eps_1'…"
      ]
     },
     "metadata": {},
     "output_type": "display_data"
    }
   ],
   "source": [
    "w_max = 350_000\n",
    "@widgets.interact(wc=(1, 100), eps_1=(0.01, 3), eps_2=(0.01, 3))\n",
    "def magnitud(wc=25, eps_1=1, eps_2=0.1, cascade=False):\n",
    "    h1 = respuesta_f(w_max)\n",
    "    h2 = respuesta_f(w_max)\n",
    "    #\n",
    "    s  = 1j*h1.w\n",
    "    Ys = wc**2\n",
    "    Xs = s**2 + 2*wc*eps_1*s + wc**2\n",
    "    h1.set_Hs(Ys, Xs)\n",
    "    #\n",
    "    Xs = s**2 + 2*wc*eps_2*s + wc**2\n",
    "    h2.set_Hs(Ys, Xs)\n",
    "    #\n",
    "    respuesta_f.plot_mag(h1.Hs, h1.w)\n",
    "    respuesta_f.plot_mag(h2.Hs, h2.w, color='green')\n",
    "    if cascade:\n",
    "        respuesta_f.plot_mag(h1.Hs*h2.Hs, h2.w, color='red') "
   ]
  },
  {
   "cell_type": "code",
   "execution_count": 103,
   "id": "14ad2966",
   "metadata": {
    "collapsed": true
   },
   "outputs": [
    {
     "data": {
      "application/vnd.jupyter.widget-view+json": {
       "model_id": "d3dfa251d5dd44f29ffd405886c6eedd",
       "version_major": 2,
       "version_minor": 0
      },
      "text/plain": [
       "interactive(children=(IntSlider(value=25, description='wc', min=1), FloatSlider(value=0.5, description='eps', …"
      ]
     },
     "metadata": {},
     "output_type": "display_data"
    }
   ],
   "source": [
    "w_max = 350_000\n",
    "@widgets.interact(wc=(1, 100), eps=(0.01, 3))\n",
    "def fase(wc=25, eps=0.5, cascade=False):\n",
    "    h1 = respuesta_f(w_max)\n",
    "    h2 = respuesta_f(w_max)\n",
    "    #\n",
    "    s  = 1j*h1.w\n",
    "    Ys = wc**2\n",
    "    Xs = s**2 + 2*wc*eps*s + wc**2\n",
    "    h1.set_Hs(Ys, Xs)\n",
    "    #\n",
    "    Ys = wc\n",
    "    Xs = s + wc\n",
    "    h2.set_Hs(Ys, Xs)\n",
    "    #\n",
    "    respuesta_f.plot_phase(h1.Hs, h1.w)\n",
    "    respuesta_f.plot_phase(h2.Hs, h2.w, color='green')\n",
    "    if cascade:\n",
    "        respuesta_f.plot_phase(h1.Hs*h2.Hs, h2.w, color='red') "
   ]
  },
  {
   "cell_type": "markdown",
   "id": "70c86f4e",
   "metadata": {},
   "source": []
  },
  {
   "cell_type": "code",
   "execution_count": 142,
   "id": "775a3cc0",
   "metadata": {},
   "outputs": [
    {
     "data": {
      "text/plain": [
       "282.7433388230814"
      ]
     },
     "execution_count": 142,
     "metadata": {},
     "output_type": "execute_result"
    }
   ],
   "source": [
    "wc = 2*np.pi*45\n",
    "wc"
   ]
  },
  {
   "cell_type": "code",
   "execution_count": 143,
   "id": "4e64331e",
   "metadata": {},
   "outputs": [
    {
     "data": {
      "application/vnd.jupyter.widget-view+json": {
       "model_id": "559447e19a614026bed79e893a30d595",
       "version_major": 2,
       "version_minor": 0
      },
      "text/plain": [
       "interactive(children=(IntSlider(value=282, description='wc', max=400, min=200), FloatSlider(value=1.0, descrip…"
      ]
     },
     "metadata": {},
     "output_type": "display_data"
    }
   ],
   "source": [
    "w_max = 350_000\n",
    "@widgets.interact(wc=(200, 400), eps_1=(0.01, 3), eps_2=(0.01, 3))\n",
    "def magnitud(wc=282, eps_1=1, eps_2=0.1):\n",
    "    h1 = respuesta_f(w_max)\n",
    "    h2 = respuesta_f(w_max)\n",
    "    #\n",
    "    s  = 1j*h1.w\n",
    "    Ys = wc**2\n",
    "    Xs = s**2 + 2*wc*eps_1*s + wc**2\n",
    "    h1.set_Hs(Ys, Xs)\n",
    "    #\n",
    "    Xs = s**2 + 2*wc*eps_2*s + wc**2\n",
    "    h2.set_Hs(Ys, Xs)\n",
    "    #\n",
    "    respuesta_f.plot_mag(h1.Hs, h1.w)\n",
    "    respuesta_f.plot_mag(h2.Hs, h2.w, color='green')\n",
    "    respuesta_f.plot_mag(h1.Hs*h2.Hs, h2.w, color='red') "
   ]
  }
 ],
 "metadata": {
  "kernelspec": {
   "display_name": "Python 3",
   "language": "python",
   "name": "python3"
  },
  "language_info": {
   "codemirror_mode": {
    "name": "ipython",
    "version": 3
   },
   "file_extension": ".py",
   "mimetype": "text/x-python",
   "name": "python",
   "nbconvert_exporter": "python",
   "pygments_lexer": "ipython3",
   "version": "3.10.7"
  },
  "vscode": {
   "interpreter": {
    "hash": "916dbcbb3f70747c44a77c7bcd40155683ae19c65e1c03b4aa3499c5328201f1"
   }
  }
 },
 "nbformat": 4,
 "nbformat_minor": 5
}
