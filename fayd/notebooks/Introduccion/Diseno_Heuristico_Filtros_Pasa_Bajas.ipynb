{
 "cells": [
  {
   "cell_type": "markdown",
   "id": "127a9d39",
   "metadata": {},
   "source": [
    "# Diseño heurístico"
   ]
  },
  {
   "cell_type": "code",
   "execution_count": 1,
   "id": "6d16a0a0",
   "metadata": {},
   "outputs": [],
   "source": [
    "import ipywidgets as widgets\n",
    "from ipywidgets import HBox, VBox\n",
    "import numpy as np\n",
    "import matplotlib.pyplot as plt\n",
    "from IPython.display import display\n",
    "%matplotlib inline"
   ]
  },
  {
   "cell_type": "code",
   "execution_count": 2,
   "id": "a6af6f2a",
   "metadata": {},
   "outputs": [],
   "source": [
    "import numpy as np\n",
    "from matplotlib import pyplot as plt\n",
    "\n",
    "class respuesta_f:\n",
    "    def __init__(self, w_max=1000):\n",
    "        SR         = 5\n",
    "        self.w_max = w_max\n",
    "        self.w     = np.arange(1, SR*w_max)/SR\n",
    "    #\n",
    "    def set_Hs(self, Y, X):\n",
    "        self.Hs = Y/X\n",
    "    #\n",
    "    @staticmethod\n",
    "    def plot_mag(H, w, color='orange'):\n",
    "        M_dB = 20*np.log10(np.abs(H))\n",
    "        #\n",
    "        plt.figure('Magnitud [dB]', figsize=(12, 6))\n",
    "        plt.semilogx(w, M_dB, color, linewidth=3)\n",
    "        plt.grid(True)\n",
    "        #plt.show()\n",
    "        \n",
    "    @staticmethod\n",
    "    def plot_phase(H, w, color='blue'):\n",
    "        angle = np.angle(H, deg=True)\n",
    "        #\n",
    "        plt.figure('Fase [°]', figsize=(12, 7))\n",
    "        plt.semilogx(w, angle, color, linewidth=3)\n",
    "        plt.grid(True)\n",
    "        #plt.show()"
   ]
  },
  {
   "cell_type": "code",
   "execution_count": 3,
   "id": "58c21ce3",
   "metadata": {},
   "outputs": [
    {
     "data": {
      "application/vnd.jupyter.widget-view+json": {
       "model_id": "e94245c0f4a24a39baf20d9863898d39",
       "version_major": 2,
       "version_minor": 0
      },
      "text/plain": [
       "interactive(children=(IntSlider(value=1, description='wc1', max=400, min=1), IntSlider(value=5, description='w…"
      ]
     },
     "metadata": {},
     "output_type": "display_data"
    }
   ],
   "source": [
    "w_max = 350_000\n",
    "@widgets.interact(wc1=(1, 400), wc2=(1, 400))\n",
    "def magnitud(wc1=1, wc2=5):\n",
    "    h1 = respuesta_f(w_max)\n",
    "    #\n",
    "    s  = 1j*h1.w\n",
    "    Ys = wc1*wc2\n",
    "    Xs = (s - wc1)*(s - wc2)\n",
    "    h1.set_Hs(Ys, Xs)\n",
    "    respuesta_f.plot_mag(h1.Hs, h1.w)"
   ]
  },
  {
   "cell_type": "markdown",
   "id": "2fec4740",
   "metadata": {},
   "source": [
    "Sean $x_0=A_0e^{j\\theta}$ y $x_0^*=A_0e^{-j\\theta}$.\n",
    "\n",
    "$$\\left(s-A_0e^{j\\theta}\\right)\\left(s-A_0e^{-j\\theta}\\right)=s^2-2A_0cos(\\theta)s+A_0^2$$\n",
    "donde $$A_0^2 = \\sigma^2+\\omega^2$$\n",
    "\n",
    "$$H(s) = \\dfrac{\\omega_c^2}{s^2 + 2\\omega_c cos(\\theta)s + \\omega_c^2}$$\n",
    "\n",
    "$$\\theta\\in(\\dfrac{\\pi}{2}, \\pi)$$"
   ]
  },
  {
   "cell_type": "code",
   "execution_count": 4,
   "id": "165a7ed4",
   "metadata": {},
   "outputs": [
    {
     "data": {
      "image/png": "[encoded data removed]",
      "text/plain": [
       "<Figure size 864x360 with 1 Axes>"
      ]
     },
     "metadata": {
      "needs_background": "light"
     },
     "output_type": "display_data"
    }
   ],
   "source": [
    "tt = [0, np.pi/2, np.pi, 3*np.pi/2, 2*np.pi]\n",
    "\n",
    "segm = list(\n",
    "         map(lambda x, n=100: np.linspace(x[0], x[1], n),\n",
    "             zip(tt[:-1], tt[1:]))\n",
    "           )\n",
    "#\n",
    "for s in segm:\n",
    "    dg = -2*np.cos(s)\n",
    "    plt.figure(\"Intervalos \\theta\", figsize=(12, 5))\n",
    "    if sum(dg)<0:\n",
    "        plt.plot(s, dg, color='red', linewidth=3)\n",
    "    else:\n",
    "        plt.plot(s, dg, color='green', linewidth=3)\n",
    "    #\n",
    "    plt.grid(True)\n"
   ]
  },
  {
   "cell_type": "code",
   "execution_count": 5,
   "id": "ab56d84e",
   "metadata": {},
   "outputs": [
    {
     "data": {
      "application/vnd.jupyter.widget-view+json": {
       "model_id": "55bfbbee7b614c6588da6eff6bb40b87",
       "version_major": 2,
       "version_minor": 0
      },
      "text/plain": [
       "interactive(children=(IntSlider(value=1, description='wc', min=1), FloatSlider(value=1.5807963267948966, descr…"
      ]
     },
     "metadata": {},
     "output_type": "display_data"
    }
   ],
   "source": [
    "w_max = 350_000\n",
    "@widgets.interact(wc=(1, 100), theta=(np.pi/2+0.01, np.pi-0.01))\n",
    "def magnitud(wc=1, theta=0.5):\n",
    "    h1 = respuesta_f(w_max)\n",
    "    #\n",
    "    s  = 1j*h1.w\n",
    "    Ys = wc**2\n",
    "    Xs = s**2 - 2*wc*np.cos(theta)*s + wc**2\n",
    "    h1.set_Hs(Ys, Xs)\n",
    "    respuesta_f.plot_mag(h1.Hs, h1.w)"
   ]
  },
  {
   "cell_type": "code",
   "execution_count": 7,
   "id": "558e0755",
   "metadata": {},
   "outputs": [
    {
     "data": {
      "application/vnd.jupyter.widget-view+json": {
       "model_id": "c470fcfc826b48b99b97e41305c9c2b3",
       "version_major": 2,
       "version_minor": 0
      },
      "text/plain": [
       "interactive(children=(IntSlider(value=200, description='wc', max=500, min=200), FloatSlider(value=1.7, descrip…"
      ]
     },
     "metadata": {},
     "output_type": "display_data"
    }
   ],
   "source": [
    "w_max = 5000\n",
    "@widgets.interact(wc=(200, 500),\n",
    "                  theta_1=(np.pi/2+0.01, np.pi-0.01),\n",
    "                  theta_2=(np.pi/2+0.01, np.pi-0.01))\n",
    "def magnitud(wc=1, theta_1=1.7, theta_2=2, cascade=False):\n",
    "    h1 = respuesta_f(w_max)\n",
    "    h2 = respuesta_f(w_max)\n",
    "    #\n",
    "    s  = 1j*h1.w\n",
    "    Ys = wc**2\n",
    "    Xs = s**2 - 2*wc*np.cos(theta_1)*s + wc**2\n",
    "    h1.set_Hs(Ys, Xs)\n",
    "    #\n",
    "    Xs = s**2 - 2*wc*np.cos(theta_2)*s + wc**2\n",
    "    h2.set_Hs(Ys, Xs)\n",
    "    respuesta_f.plot_mag(h1.Hs, h1.w)\n",
    "    respuesta_f.plot_mag(h2.Hs, h2.w, color='blue')\n",
    "    if cascade:\n",
    "        respuesta_f.plot_mag(h1.Hs*h2.Hs, h2.w, color='red')"
   ]
  },
  {
   "cell_type": "code",
   "execution_count": 48,
   "id": "4dcd98e7",
   "metadata": {},
   "outputs": [
    {
     "name": "stdout",
     "output_type": "stream",
     "text": [
      "θ_0 = 1.4475\n",
      "θ_1 = 0.8323\n"
     ]
    }
   ],
   "source": [
    "theta_1 = 1.88\n",
    "theta_2 = 2.\n",
    "#\n",
    "print(f\"θ_0 = {-2*np.cos(theta_1):6.4f}\")\n",
    "print(f\"θ_1 = {-2*np.cos(theta_2):6.4f}\")"
   ]
  },
  {
   "cell_type": "code",
   "execution_count": 51,
   "id": "b38e76ed",
   "metadata": {},
   "outputs": [
    {
     "name": "stdout",
     "output_type": "stream",
     "text": [
      "θ_0 = 1.4475\n",
      "θ_1 = 1.9320\n"
     ]
    }
   ],
   "source": [
    "theta_1 = 2.38\n",
    "theta_2 = 2.88\n",
    "#\n",
    "print(f\"θ_0 = {-2*np.cos(theta_1):6.4f}\")\n",
    "print(f\"θ_1 = {-2*np.cos(theta_2):6.4f}\")"
   ]
  }
 ],
 "metadata": {
  "kernelspec": {
   "display_name": "Python 3",
   "language": "python",
   "name": "python3"
  },
  "language_info": {
   "codemirror_mode": {
    "name": "ipython",
    "version": 3
   },
   "file_extension": ".py",
   "mimetype": "text/x-python",
   "name": "python",
   "nbconvert_exporter": "python",
   "pygments_lexer": "ipython3",
   "version": "3.10.7"
  }
 },
 "nbformat": 4,
 "nbformat_minor": 5
}
