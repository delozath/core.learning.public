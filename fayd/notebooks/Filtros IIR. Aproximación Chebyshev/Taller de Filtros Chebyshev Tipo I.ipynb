{
 "cells": [
  {
   "cell_type": "markdown",
   "metadata": {},
   "source": [
    "# Concepto de filtros pasa baja con aproximación Chebyshev"
   ]
  },
  {
   "cell_type": "code",
   "execution_count": 1,
   "metadata": {},
   "outputs": [],
   "source": [
    "#NOTE importar bibliotecas\n",
    "import sympy as sym\n",
    "\n",
    "import numpy             as np\n",
    "import matplotlib.pyplot as plt\n",
    "\n",
    "from scipy import signal\n",
    "from sympy import Poly   as poly"
   ]
  },
  {
   "cell_type": "code",
   "execution_count": 2,
   "metadata": {},
   "outputs": [],
   "source": [
    "def cheby_poly(n,N,Tn,Tnp,X):\n",
    "    Tnx = 0\n",
    "    if n < N-1:\n",
    "        Tnx = 2*w*Tn - Tnp\n",
    "        cheby_poly(n+1,N,Tnx,Tn,X)\n",
    "        X.append(Tnx)"
   ]
  },
  {
   "cell_type": "code",
   "execution_count": 3,
   "metadata": {},
   "outputs": [],
   "source": [
    "def freqs_bode(sy):\n",
    "    w, mag, phase = signal.bode(sy)\n",
    "    \n",
    "    plt.figure(figsize=(15,5))\n",
    "    plt.semilogx(w, mag,linewidth=3)\n",
    "    plt.grid(True)\n",
    "    \n",
    "    plt.figure(figsize=(15,5))\n",
    "    plt.semilogx(w, phase, linewidth=3, color='orange')\n",
    "    plt.grid(True)\n",
    "    plt.show()\n",
    "\n",
    "# Definicion de funcion para graficar respuesta en frecuencia del filtro\n",
    "def freqz_plot(b,a,sr):\n",
    "    w, h = signal.freqz(b,a)\n",
    "    h[h==0] = 1E-5\n",
    "    \n",
    "    H    = 20*np.log10( np.abs(h) )\n",
    "    W    = np.angle  (h)\n",
    "    W    = np.unwrap (W)\n",
    "    W    = np.degrees(W)\n",
    "    w    = np.linspace(0,sr/2,H.shape[0] )\n",
    "    \n",
    "    return w, W, H"
   ]
  },
  {
   "cell_type": "code",
   "execution_count": 4,
   "metadata": {},
   "outputs": [],
   "source": [
    "R_db = 1.\n",
    "wp   = 50.\n",
    "ws   = 90.\n",
    "A    = 10."
   ]
  },
  {
   "cell_type": "code",
   "execution_count": 8,
   "metadata": {},
   "outputs": [
    {
     "name": "stdout",
     "output_type": "stream",
     "text": [
      "eps: 0.5088, n: 3.0729, n: 4\n"
     ]
    }
   ],
   "source": [
    "eps    = np.sqrt( np.power( 10,R_db/10 ) - 1 )\n",
    "n_tmp  = ( np.arccosh(  np.sqrt(  (A**2 - 1)/eps**2  )  )/\n",
    "           np.arccosh(  ws/wp ) )\n",
    "n      = np.ceil(n_tmp)\n",
    "\n",
    "print('eps: {:4.4f}, n: {:4.4f}, n: {:d}'.format( eps,n_tmp,int(n) )  )"
   ]
  },
  {
   "cell_type": "code",
   "execution_count": 9,
   "metadata": {},
   "outputs": [
    {
     "name": "stdout",
     "output_type": "stream",
     "text": [
      "r0=1.0427, r1=0.2953\n"
     ]
    },
    {
     "name": "stderr",
     "output_type": "stream",
     "text": [
      "/usr/lib/python2.7/dist-packages/matplotlib/cbook/deprecation.py:106: MatplotlibDeprecationWarning: Adding an axes using the same arguments as a previous axes currently reuses the earlier instance.  In a future version, a new instance will always be created and returned.  Meanwhile, this warning can be suppressed, and the future behavior ensured, by passing a unique label to each axes instance.\n",
      "  warnings.warn(message, mplDeprecation, stacklevel=1)\n"
     ]
    },
    {
     "data": {
      "image/png": "[encoded data removed]",
      "text/plain": [
       "<matplotlib.figure.Figure at 0x7f1f334d45d0>"
      ]
     },
     "metadata": {},
     "output_type": "display_data"
    }
   ],
   "source": [
    "k   = np.arange(1,n+1)\n",
    "\n",
    "G = (  1 + np.sqrt( 1 + eps**2 )/eps  )\n",
    "G = G**(1./n)\n",
    "\n",
    "r0 = ( G**2 + 1 )/(2*G)\n",
    "r1 = ( G**2 - 1 )/(2*G)\n",
    "\n",
    "print ('r0={:6.4f}, r1={:6.4f}'.format(r0,r1))\n",
    "\n",
    "p  = np.pi*(2*k + n - 1 )/(2*n)\n",
    "\n",
    "plt.figure(figsize=(6,6))\n",
    "plt.plot(  r1*np.cos(p),r0*np.sin(p),'ro',markersize=15 )\n",
    "plt.axes().set_aspect('equal', 'datalim')\n",
    "plt.grid(True)\n",
    "plt.show() "
   ]
  },
  {
   "cell_type": "code",
   "execution_count": 10,
   "metadata": {},
   "outputs": [
    {
     "name": "stdout",
     "output_type": "stream",
     "text": [
      "-0.1130 +  0.9633j\n",
      "-0.2728 +  0.3990j\n",
      "-0.2728 + -0.3990j\n",
      "-0.1130 + -0.9633j\n"
     ]
    }
   ],
   "source": [
    "for i,j in zip( r1*np.cos(p),r0*np.sin(p) ):\n",
    "    print( '{:7.4f} + {:7.4f}j'.format(i,j) )"
   ]
  },
  {
   "cell_type": "code",
   "execution_count": 11,
   "metadata": {},
   "outputs": [
    {
     "name": "stdout",
     "output_type": "stream",
     "text": [
      "s**2 + 0.226021829108948*s + 0.940762420970812\n",
      "s**2 + 0.545664965227197*s + 0.233655639784265\n"
     ]
    }
   ],
   "source": [
    "s, z = sym.symbols('s z')\n",
    "sh   = int( p.shape[0]/2 )\n",
    "\n",
    "spkr, spki = r1*np.cos(p[:sh]), 1j*r0*np.sin(p[:sh])\n",
    "\n",
    "P = []\n",
    "for pkr, pki in zip(spkr,spki):\n",
    "    pk = ( s-( pkr + pki ) )*( s-( pkr - pki ) )\n",
    "    P  .append(pk.expand() )\n",
    "    print(     pk.expand() )\n",
    "\n",
    "if p.shape[0]%2 != 0:\n",
    "    P.append( s-r1*np.cos( p[p.shape[0]%2 + 1] ) )\n",
    "    print( P[-1] )"
   ]
  },
  {
   "cell_type": "code",
   "execution_count": 12,
   "metadata": {
    "scrolled": true
   },
   "outputs": [
    {
     "name": "stdout",
     "output_type": "stream",
     "text": [
      "1.0*s**4 + 0.771686794336146*s**3 + 1.2977502542764*s**2 + 0.566152368811753*s + 0.219814445356929\n"
     ]
    }
   ],
   "source": [
    "den = 1.\n",
    "for p in P:\n",
    "    den *= p\n",
    "\n",
    "print( den.expand() )\n",
    "coef = poly( den.expand() ).all_coeffs()\n",
    "coef = np.array(coef).astype('float')"
   ]
  },
  {
   "cell_type": "code",
   "execution_count": 13,
   "metadata": {
    "scrolled": true
   },
   "outputs": [
    {
     "data": {
      "image/png": "[encoded data removed]",
      "text/plain": [
       "<matplotlib.figure.Figure at 0x7f1f334d4050>"
      ]
     },
     "metadata": {},
     "output_type": "display_data"
    },
    {
     "data": {
      "image/png": "[encoded data removed]",
      "text/plain": [
       "<matplotlib.figure.Figure at 0x7f1f333eef10>"
      ]
     },
     "metadata": {},
     "output_type": "display_data"
    }
   ],
   "source": [
    "sy = signal.lti( [1],coef )\n",
    "\n",
    "freqs_bode(sy)"
   ]
  },
  {
   "cell_type": "code",
   "execution_count": 16,
   "metadata": {
    "scrolled": true
   },
   "outputs": [
    {
     "data": {
      "text/plain": [
       "array([  1.60000000e-07,   6.17349435e-06,   5.19100102e-04,\n",
       "         1.13230474e-02,   2.19814445e-01])"
      ]
     },
     "execution_count": 16,
     "metadata": {},
     "output_type": "execute_result"
    }
   ],
   "source": [
    "den = 1.\n",
    "for p in P:\n",
    "    den *= p\n",
    "\n",
    "coef = poly(  ( den ).subs( {s:s/(wp)} )  ).all_coeffs()\n",
    "coef = np.array(coef).astype('float')\n",
    "coef"
   ]
  },
  {
   "cell_type": "code",
   "execution_count": 17,
   "metadata": {
    "scrolled": false
   },
   "outputs": [
    {
     "data": {
      "image/png": "[encoded data removed]",
      "text/plain": [
       "<matplotlib.figure.Figure at 0x7f1f3325b950>"
      ]
     },
     "metadata": {},
     "output_type": "display_data"
    },
    {
     "data": {
      "image/png": "[encoded data removed]",
      "text/plain": [
       "<matplotlib.figure.Figure at 0x7f1f32d481d0>"
      ]
     },
     "metadata": {},
     "output_type": "display_data"
    }
   ],
   "source": [
    "sy = signal.lti( [1],coef )\n",
    "freqs_bode(sy)"
   ]
  },
  {
   "cell_type": "code",
   "execution_count": 18,
   "metadata": {
    "scrolled": true
   },
   "outputs": [
    {
     "name": "stdout",
     "output_type": "stream",
     "text": [
      "256.0*s**4/(s**8 + 9984*s**6 + 37380096*s**4 + 62200479744*s**2 + 38813099360256) + 49.3879548375133*s**3/(s**6 + 7488*s**4 + 18690048*s**2 + 15550119936) + 20.7640040684224*s**2/(s**4 + 4992*s**2 + 6230016) + 2.26460947524701*s/(s**2 + 2496) + 0.219814445356929,\n",
      "\n"
     ]
    }
   ],
   "source": [
    "den = 1.\n",
    "for p in P:\n",
    "    den *= p\n",
    "\n",
    "#coef = poly(  ( 1/den ).subs( {s:wp/s} )  )\n",
    "#coef = (  den.subs( {s:wp/s} )  ).expand()\n",
    "coef = (  den.subs( {s:(4*s)/(s**2+48*52)} )  ).expand()\n",
    "print( '{},\\n'.format(coef) )"
   ]
  },
  {
   "cell_type": "code",
   "execution_count": null,
   "metadata": {
    "scrolled": true
   },
   "outputs": [],
   "source": [
    "coef = poly(  coef*(s**5)  ).all_coeffs()\n",
    "coef = np.array(coef).astype('float')\n",
    "print(coef)"
   ]
  },
  {
   "cell_type": "code",
   "execution_count": null,
   "metadata": {
    "scrolled": false
   },
   "outputs": [],
   "source": [
    "sy = signal.lti( [1, 0, 0, 0, 0],coef )\n",
    "freqs_bode(sy)"
   ]
  },
  {
   "cell_type": "code",
   "execution_count": null,
   "metadata": {},
   "outputs": [],
   "source": [
    "n    = 2.\n",
    "eps  = .3\n",
    "\n",
    "k    = np.arange(1,n+1)\n",
    "p    = np.pi*(2*k + n - 1 )/(2*n)\n",
    "s, z = sym.symbols('s z')\n",
    "sh   = int( p.shape[0]/2 )\n",
    "\n",
    "print p.shape\n",
    "spkr, spki = r1*np.cos(p[:sh]), 1j*r0*np.sin(p[:sh])\n",
    "\n",
    "P = []\n",
    "for pkr, pki in zip(spkr,spki):\n",
    "    pk = ( s-( pkr + pki ) )*( s-( pkr - pki ) )\n",
    "    P  .append(pk.expand() )\n",
    "    print(     pk.expand() )\n",
    "\n",
    "if p.shape[0]%2 != 0:\n",
    "    P.append( s-r1*np.cos( p[p.shape[0]%2 + 1] ) )\n",
    "    print( P[-1] )\n",
    "\n",
    "den = 1.\n",
    "for p in P:\n",
    "    den *= p\n",
    "\n",
    "print( den.expand() )\n",
    "coef = poly( den.expand() ).all_coeffs()\n",
    "coef = np.array(coef).astype('float')\n",
    "\n",
    "sy = signal.lti( [1],coef )\n",
    "\n",
    "freqs_bode(sy)"
   ]
  },
  {
   "cell_type": "code",
   "execution_count": 19,
   "metadata": {
    "scrolled": true
   },
   "outputs": [
    {
     "name": "stdout",
     "output_type": "stream",
     "text": [
      "1.0*s**12 + 14976.0*s**10 + 93450240.0*s**8 + 311002398720.0*s**6 + 582196490403840.0*s**4 + 5.81264976019194e+17*s**2 + 2.41806230023985e+20 // 0.219814445356929*s**12 + 2.26460947524701*s**11 + 3312.70513773379*s**10 + 28311.7142059202*s**9 + 20749276.490691*s**8 + 141455349.651228*s**7 + 69140258196.7332*s**6 + 353072552729.466*s**5 + 129268324525429.0*s**4 + 440250551495815.0*s**3 + 1.28576353662092e+17*s**2 + 2.19389695387049e+17*s + 5.31525023365721e+19\n"
     ]
    }
   ],
   "source": [
    "H    = sym.cancel( (1/den).subs({ s:((52-48)*s)/(s**2+48*52) })  )\n",
    "b, a = sym.fraction(H)\n",
    "print( '{} // {}'.format(b,a) )\n",
    "\n",
    "b = np.array(  poly( b ).all_coeffs()  ).astype('float')\n",
    "a = np.array(  poly( a ).all_coeffs()  ).astype('float')"
   ]
  },
  {
   "cell_type": "code",
   "execution_count": 20,
   "metadata": {},
   "outputs": [
    {
     "data": {
      "image/png": "[encoded data removed]",
      "text/plain": [
       "<matplotlib.figure.Figure at 0x7f1f33405c90>"
      ]
     },
     "metadata": {},
     "output_type": "display_data"
    },
    {
     "data": {
      "image/png": "[encoded data removed]",
      "text/plain": [
       "<matplotlib.figure.Figure at 0x7f1f32a61050>"
      ]
     },
     "metadata": {},
     "output_type": "display_data"
    }
   ],
   "source": [
    "sy = signal.lti( b,a )\n",
    "freqs_bode(sy)"
   ]
  },
  {
   "cell_type": "code",
   "execution_count": null,
   "metadata": {},
   "outputs": [],
   "source": []
  },
  {
   "cell_type": "code",
   "execution_count": null,
   "metadata": {
    "scrolled": true
   },
   "outputs": [],
   "source": [
    "sr   = 500.\n",
    "fc   = 2*sr*np.tan( wp/(sr*2) ) \n",
    "H    = sym.cancel( (1/den).subs({ s:2*fc*((z-1)/(z+1)) })  )\n",
    "b, a = sym.fraction(H)\n",
    "print( '{} // {}'.format(b,a) )"
   ]
  },
  {
   "cell_type": "code",
   "execution_count": null,
   "metadata": {},
   "outputs": [],
   "source": [
    "b = np.array(  poly( b ).all_coeffs()  ).astype('float')\n",
    "a = np.array(  poly( a ).all_coeffs()  ).astype('float')\n",
    "\n",
    "print( '{} // {}'.format(b,a) )\n",
    "fc"
   ]
  },
  {
   "cell_type": "code",
   "execution_count": null,
   "metadata": {},
   "outputs": [],
   "source": [
    "w, W, H, = freqz_plot(b[::-1],a[::-1],sr)\n",
    "\n",
    "plt.figure(u'Respuesta en frecuencia dB',figsize=(12,5))\n",
    "plt.plot(w,H,'b',linewidth=3)\n",
    "plt.grid(True)\n",
    "plt.figure(u'Respuesta en frecuencia Hz',figsize=(12,5))\n",
    "plt.plot(w,W,'g',linewidth=3)\n",
    "plt.grid(True)\n",
    "plt.show()"
   ]
  },
  {
   "cell_type": "code",
   "execution_count": null,
   "metadata": {
    "scrolled": true
   },
   "outputs": [],
   "source": [
    "wt  = np.linspace(0.001,1.1,200)\n",
    "tn = np.array(  [ X[0].subs({'w':i}) for i in wt ]   )\n",
    "\n",
    "plt.figure(figsize=(12,5))\n",
    "plt.plot(wt,tn,color='green',linewidth=3)\n",
    "plt.grid(True)"
   ]
  },
  {
   "cell_type": "code",
   "execution_count": null,
   "metadata": {
    "scrolled": true
   },
   "outputs": [],
   "source": [
    "eps = 0.1\n",
    "\n",
    "H = 1/(1 + (eps*tn)**2 )\n",
    "\n",
    "plt.figure(figsize=(12,5))\n",
    "plt.plot(wt,H,color='green',linewidth=3)\n",
    "plt.grid(True)"
   ]
  },
  {
   "cell_type": "code",
   "execution_count": null,
   "metadata": {},
   "outputs": [],
   "source": [
    "N   = 5\n",
    "eps = .1\n",
    "\n",
    "k = np.arange(1,N+1)\n",
    "\n",
    "sg_k = -np.sin( (2*k-1.)*np.pi/(2*N) )*np.sinh( 1./N*np.arcsinh(1./eps) )\n",
    "w_k  =  np.cos( (2*k-1.)*np.pi/(2*N) )*np.cosh( 1./N*np.arcsinh(1./eps) )"
   ]
  },
  {
   "cell_type": "code",
   "execution_count": null,
   "metadata": {},
   "outputs": [],
   "source": [
    "plt.figure(figsize=(5,5))\n",
    "plt.plot(sg_k,w_k,'o',markersize=10)\n",
    "plt.grid(True)\n",
    "plt.axes().set_aspect('equal', 'datalim')"
   ]
  },
  {
   "cell_type": "code",
   "execution_count": null,
   "metadata": {},
   "outputs": [],
   "source": [
    "l = int(sg_k.shape[0]/2)\n",
    "B = -2*sg_k\n",
    "W = sg_k**2 + w_k**2\n",
    "\n",
    "for i,j in zip(B,W):\n",
    "    print ('S**2 +{:5.4f} S + {:5.4f}'.format(i,j))"
   ]
  },
  {
   "cell_type": "code",
   "execution_count": null,
   "metadata": {},
   "outputs": [],
   "source": [
    "n   = 6\n",
    "k   = np.arange(1,2*n+1)\n",
    "eps = .1\n",
    "\n",
    "G = (  1 + np.sqrt( 1 + eps**2 )/eps  )\n",
    "G = G**(1./n)\n",
    "\n",
    "r0 = ( G**2 + 1 )/(2*G)\n",
    "r1 = ( G**2 - 1 )/(2*G)\n",
    "\n",
    "print ('r0={:6.4f}, r1={:6.4f}'.format(r0,r1))\n",
    "\n",
    "p  = np.pi*(2*k + n - 1 )/(2*n)\n",
    "\n",
    "plt.figure(figsize=(6,6))\n",
    "plt.plot(  r1*np.cos(p),r0*np.sin(p),'ro',markersize=15 )\n",
    "#plt.plot( -r1*np.sin(p),r0*np.cos(p),'ko',markersize=9 )\n",
    "plt.plot(  r0*np.cos(p),r0*np.sin(p),'go',markersize=10 )\n",
    "plt.plot(  r1*np.cos(p),r1*np.sin(p),'bo',markersize=10 )\n",
    "plt.axes().set_aspect('equal', 'datalim')\n",
    "plt.grid(True)\n",
    "plt.show() "
   ]
  },
  {
   "cell_type": "code",
   "execution_count": null,
   "metadata": {},
   "outputs": [],
   "source": []
  },
  {
   "cell_type": "code",
   "execution_count": null,
   "metadata": {},
   "outputs": [],
   "source": [
    "n   = 8\n",
    "k   = np.arange(1,n+1)\n",
    "eps = .01\n",
    "\n",
    "G = (  1 + np.sqrt( 1 + eps**2 )/eps  )\n",
    "G = G**(1./n)\n",
    "\n",
    "r0 = ( G**2 + 1 )/(2*G)\n",
    "r1 = ( G**2 - 1 )/(2*G)\n",
    "\n",
    "p  = np.pi*(2*k + n - 1 )/(2*n)\n",
    "\n",
    "S = sym.symbols('S')\n",
    "\n",
    "A, B = r1*np.cos(p),r0*np.sin(p)\n",
    "Pk   = []\n",
    "l    = int( n/2 )\n",
    "for i,j in zip( A[:l],B[:l] ):\n",
    "    pk = (S -i-1j*j)*(S -i+1j*j)\n",
    "    Pk.append(pk)\n",
    "    print ( pk ).expand()\n",
    "\n",
    "if n%2!=0:\n",
    "    print ('polo real: {:6.4f}'.format( -A[l]) )\n",
    "    Pk.append(S-A[l])\n"
   ]
  },
  {
   "cell_type": "code",
   "execution_count": null,
   "metadata": {},
   "outputs": [],
   "source": [
    "w  = np.linspace( 0,4,1000 )\n",
    "p2 = 2*w**2 - 1\n",
    "p4 = 8*w**4 - 8*w**2 + 1\n",
    "e = .5\n",
    "\n",
    "H2 = 1/( 1+e**2*p2**2 )\n",
    "H4 = 1/( 1+e**2*p4**2 )\n",
    "\n",
    "plt.figure(figsize=(12,6))\n",
    "plt.plot( w,H2, 'r', linewidth=3 )\n",
    "plt.plot( w,H4, 'b', linewidth=3 )\n",
    "plt.grid(True)\n",
    "plt.show()"
   ]
  },
  {
   "cell_type": "code",
   "execution_count": null,
   "metadata": {},
   "outputs": [],
   "source": [
    "w  = np.linspace( 0,4,1000 )\n",
    "p3 = 4*w**3  - 3*w\n",
    "p5 = 16*w**5 - 20*w**3 + 5*w\n",
    "e = .3\n",
    "\n",
    "H3 = 1/( 1+e**2*p3**2 )\n",
    "H5 = 1/( 1+e**2*p5**2 )\n",
    "\n",
    "plt.figure(figsize=(12,6))\n",
    "plt.plot( w,H3, 'r', linewidth=3 )\n",
    "plt.plot( w,H5, 'b', linewidth=3 )\n",
    "plt.grid(True)\n",
    "plt.show()"
   ]
  },
  {
   "cell_type": "code",
   "execution_count": null,
   "metadata": {},
   "outputs": [],
   "source": [
    "w  = np.linspace( 0.0001,5,1000 )\n",
    "wt = w\n",
    "p5 = 16*wt**5 - 20*wt**3 + 5*wt\n",
    "e1 = .1\n",
    "e2 = .3\n",
    "\n",
    "H5_1 = 1/( 1+e1**2*p5**2 )\n",
    "H5_2 = 1/( 1+e2**2*p5**2 )\n",
    "\n",
    "plt.figure(figsize=(12,6))\n",
    "plt.plot( w,H5_1, 'r', linewidth=3 )\n",
    "plt.plot( w,H5_2, 'b', linewidth=3 )\n",
    "plt.grid(True)\n",
    "plt.show()"
   ]
  }
 ],
 "metadata": {
  "kernelspec": {
   "display_name": "Python 2",
   "language": "python",
   "name": "python2"
  },
  "language_info": {
   "codemirror_mode": {
    "name": "ipython",
    "version": 2
   },
   "file_extension": ".py",
   "mimetype": "text/x-python",
   "name": "python",
   "nbconvert_exporter": "python",
   "pygments_lexer": "ipython2",
   "version": "2.7.15rc1"
  }
 },
 "nbformat": 4,
 "nbformat_minor": 2
}
