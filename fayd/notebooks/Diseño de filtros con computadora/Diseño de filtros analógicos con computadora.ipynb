{
 "cells": [
  {
   "cell_type": "code",
   "execution_count": 1,
   "metadata": {
    "collapsed": true
   },
   "outputs": [],
   "source": [
    "#NOTE importar bibliotecas\n",
    "import numpy             as np\n",
    "import matplotlib.pyplot as plt\n",
    "\n",
    "from scipy        import signal\n",
    "from scipy.signal import butter\n",
    "from scipy.signal import cheby1"
   ]
  },
  {
   "cell_type": "code",
   "execution_count": 112,
   "metadata": {
    "collapsed": true
   },
   "outputs": [],
   "source": [
    "def freqs_plot(a,b,l=3): \n",
    "    w, h = signal.freqs(b, a, worN=np.logspace(0, l, 5000))\n",
    "    plt.semilogx(w, abs(h),linewidth=3)\n",
    "    plt.xlabel('Frecuencia')\n",
    "    plt.ylabel('Magnitud')\n",
    "    plt.grid()\n",
    "    plt.show()"
   ]
  },
  {
   "cell_type": "code",
   "execution_count": 3,
   "metadata": {
    "collapsed": true
   },
   "outputs": [],
   "source": [
    "def freqz_plot(b,a,sr):\n",
    "    w, h = signal.freqz(b,a)\n",
    "    H    = 20*np.log10( np.abs(h) )\n",
    "    W    = np.angle  (h)\n",
    "    W    = np.unwrap (W)\n",
    "    W    = np.degrees(W)\n",
    "    w    = np.linspace(0,sr/2,H.shape[0] )\n",
    "    \n",
    "    return w, W, H"
   ]
  },
  {
   "cell_type": "code",
   "execution_count": 44,
   "metadata": {},
   "outputs": [
    {
     "name": "stdout",
     "output_type": "stream",
     "text": [
      "(array([], dtype=float64), array([-26.1629509+26.1629509j, -26.1629509-26.1629509j]), 1369.0)\n",
      "\n",
      "(array([ 1369.]), array([  1.00000000e+00,   5.23259018e+01,   1.36900000e+03]))\n"
     ]
    }
   ],
   "source": [
    "n  = 2\n",
    "wc = 37\n",
    "\n",
    "print butter(n, wc, analog=True, output='zpk')\n",
    "print ''\n",
    "print butter(n, wc, analog=True, output='ba')"
   ]
  },
  {
   "cell_type": "code",
   "execution_count": 45,
   "metadata": {},
   "outputs": [
    {
     "name": "stdout",
     "output_type": "stream",
     "text": [
      "-52.3259018078 (1369+0j)\n"
     ]
    }
   ],
   "source": [
    "z,p,k = butter(n, wc, analog=True, output='zpk')\n",
    "print 2*p[0].real, p[0]*p[-1]"
   ]
  },
  {
   "cell_type": "code",
   "execution_count": 46,
   "metadata": {},
   "outputs": [
    {
     "name": "stdout",
     "output_type": "stream",
     "text": [
      "-52.3259018078 (1369+0j)\n"
     ]
    }
   ],
   "source": [
    "z,p,k = butter(n, wc, analog=True, output='zpk')\n",
    "\n",
    "l = p.shape[0]\n",
    "for i,j in zip( p[:l/2],p[::-1][:l/2] ):\n",
    "    print 2*i.real, i*j\n"
   ]
  },
  {
   "cell_type": "code",
   "execution_count": 47,
   "metadata": {},
   "outputs": [
    {
     "name": "stdout",
     "output_type": "stream",
     "text": [
      "[ 1369.+0.j]\n",
      "[-52.32590181]\n"
     ]
    }
   ],
   "source": [
    "z,p,k = butter(n, wc, analog=True, output='zpk')\n",
    "\n",
    "l = p.shape[0]\n",
    "\n",
    "print   p[:l/2]*p[::-1][:l/2]\n",
    "print 2*p[:l/2].real\n"
   ]
  },
  {
   "cell_type": "code",
   "execution_count": 48,
   "metadata": {},
   "outputs": [
    {
     "data": {
      "image/png": "[encoded data removed]",
      "text/plain": [
       "<matplotlib.figure.Figure at 0x7f90cc597d90>"
      ]
     },
     "metadata": {},
     "output_type": "display_data"
    },
    {
     "name": "stdout",
     "output_type": "stream",
     "text": [
      "(-26.1629509039-26.1629509039j)\n"
     ]
    }
   ],
   "source": [
    "for i in p:\n",
    "    plt.plot(i.real, i.imag,'ro',markersize=20)\n",
    "\n",
    "plt.grid(True)\n",
    "plt.axes().set_aspect('equal', 'datalim')\n",
    "plt.show()\n",
    "print i"
   ]
  },
  {
   "cell_type": "code",
   "execution_count": 49,
   "metadata": {},
   "outputs": [
    {
     "data": {
      "image/png": "[encoded data removed]",
      "text/plain": [
       "<matplotlib.figure.Figure at 0x7f90cc0a44d0>"
      ]
     },
     "metadata": {},
     "output_type": "display_data"
    }
   ],
   "source": [
    "b,a = butter(n, wc, analog=True, output='ba')\n",
    "freqs_plot(a,b)"
   ]
  },
  {
   "cell_type": "code",
   "execution_count": 55,
   "metadata": {},
   "outputs": [
    {
     "name": "stdout",
     "output_type": "stream",
     "text": [
      "(array([ 0.,  0.]), array([-0.70710678-0.70710678j, -0.70710678+0.70710678j]), 1.0)\n",
      "\n",
      "(array([ 1.,  0.,  0.]), array([ 1.        ,  1.41421356,  1.        ]))\n"
     ]
    }
   ],
   "source": [
    "n  = 2\n",
    "wc = 1.\n",
    "\n",
    "print butter(n, wc, btype='high', analog=True, output='zpk')\n",
    "print ''\n",
    "print butter(n, wc, btype='high', analog=True, output='ba')"
   ]
  },
  {
   "cell_type": "code",
   "execution_count": 96,
   "metadata": {},
   "outputs": [
    {
     "name": "stdout",
     "output_type": "stream",
     "text": [
      "[ -6.03054618+14.6433274j   -6.03054618-14.6433274j\n",
      " -14.47555048-35.14942406j -14.47555048+35.14942406j]\n",
      "\n",
      "[-12.06109236 -28.95110095]\n",
      "[  250.79452458+0.j  1445.02357299+0.j]\n"
     ]
    }
   ],
   "source": [
    "n=2\n",
    "z,p,k = butter(n, [14,43], btype='stop', analog=True, output='zpk')\n",
    "\n",
    "print p\n",
    "print ''\n",
    "\n",
    "l = p.shape[0]\n",
    "print 2*p[::2].real\n",
    "print np.prod( p.reshape(2,l/2),axis=1 )"
   ]
  },
  {
   "cell_type": "code",
   "execution_count": 97,
   "metadata": {},
   "outputs": [
    {
     "data": {
      "image/png": "[encoded data removed]",
      "text/plain": [
       "<matplotlib.figure.Figure at 0x7f90cbfebf50>"
      ]
     },
     "metadata": {},
     "output_type": "display_data"
    },
    {
     "name": "stdout",
     "output_type": "stream",
     "text": [
      "(-14.4755504756+35.1494240553j) -24.5356882928j\n"
     ]
    }
   ],
   "source": [
    "for i in p:\n",
    "    plt.plot(i.real, i.imag,'ro',markersize=20)\n",
    "\n",
    "for j in z:\n",
    "    plt.plot(j.real, j.imag,'bo',markersize=20)\n",
    "\n",
    "plt.grid(True)\n",
    "plt.axes().set_aspect('equal', 'datalim')\n",
    "plt.show()\n",
    "print i, j"
   ]
  },
  {
   "cell_type": "code",
   "execution_count": 102,
   "metadata": {},
   "outputs": [
    {
     "data": {
      "image/png": "[encoded data removed]",
      "text/plain": [
       "<matplotlib.figure.Figure at 0x7f90cc384a50>"
      ]
     },
     "metadata": {},
     "output_type": "display_data"
    }
   ],
   "source": [
    "b,a = butter(n, [58,64],btype='stop', analog=True, output='ba')\n",
    "\n",
    "freqs_plot(a,b)"
   ]
  },
  {
   "cell_type": "code",
   "execution_count": 114,
   "metadata": {},
   "outputs": [
    {
     "name": "stdout",
     "output_type": "stream",
     "text": [
      "-0.0700164666042 (0.994140735045+0j)\n",
      "-0.199390027473 (0.723542684972+0j)\n",
      "-0.298408264134 (0.340859252607+0j)\n",
      "-0.351996547659 (0.0702612025342+0j)\n"
     ]
    }
   ],
   "source": [
    "n     = 8\n",
    "rp    = 1.\n",
    "wc    = 1.\n",
    "\n",
    "z,p,k = cheby1(n, rp, wc, analog=True, output='zpk')\n",
    "l = p.shape[0]\n",
    "for i,j in zip( p[:l/2],p[::-1][:l/2] ):\n",
    "    print 2*i.real, i*j\n"
   ]
  },
  {
   "cell_type": "code",
   "execution_count": 115,
   "metadata": {},
   "outputs": [
    {
     "data": {
      "image/png": "[encoded data removed]",
      "text/plain": [
       "<matplotlib.figure.Figure at 0x7f90cc38a410>"
      ]
     },
     "metadata": {},
     "output_type": "display_data"
    },
    {
     "name": "stdout",
     "output_type": "stream",
     "text": [
      "(-0.0350082333021-0.996451282626j) (-0.175998273829-0.198206483606j)\n"
     ]
    }
   ],
   "source": [
    "for i in p:\n",
    "    plt.plot(i.real, i.imag,'ro',markersize=20)\n",
    "\n",
    "for j in z:\n",
    "    plt.plot(j.real, j.imag,'bo',markersize=20)\n",
    "\n",
    "plt.grid(True)\n",
    "plt.axes().set_aspect('equal', 'datalim')\n",
    "plt.show()\n",
    "print i, j"
   ]
  },
  {
   "cell_type": "code",
   "execution_count": 116,
   "metadata": {},
   "outputs": [
    {
     "data": {
      "image/png": "[encoded data removed]",
      "text/plain": [
       "<matplotlib.figure.Figure at 0x7f90cc1f3710>"
      ]
     },
     "metadata": {},
     "output_type": "display_data"
    }
   ],
   "source": [
    "b, a  = cheby1(n, rp, wc, analog=True, output='ba')\n",
    "freqs_plot(a,b)"
   ]
  }
 ],
 "metadata": {
  "kernelspec": {
   "display_name": "Python 2",
   "language": "python",
   "name": "python2"
  },
  "language_info": {
   "codemirror_mode": {
    "name": "ipython",
    "version": 2
   },
   "file_extension": ".py",
   "mimetype": "text/x-python",
   "name": "python",
   "nbconvert_exporter": "python",
   "pygments_lexer": "ipython2",
   "version": "2.7.12"
  }
 },
 "nbformat": 4,
 "nbformat_minor": 2
}
