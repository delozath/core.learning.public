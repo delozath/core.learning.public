{
 "cells": [
  {
   "cell_type": "markdown",
   "metadata": {},
   "source": [
    "# 4. Diseño de filtros digitales con computadora"
   ]
  },
  {
   "cell_type": "code",
   "execution_count": null,
   "metadata": {},
   "outputs": [],
   "source": [
    "#NOTE importar bibliotecas\n",
    "import numpy             as np\n",
    "import matplotlib.pyplot as plt\n",
    "\n",
    "from scipy        import signal\n",
    "from scipy.signal import butter"
   ]
  },
  {
   "cell_type": "code",
   "execution_count": null,
   "metadata": {},
   "outputs": [],
   "source": [
    "# Definicion de funcion para graficar respuesta en frecuencia del filtro\n",
    "def freqz_plot(b,a,sr):\n",
    "    w, h = signal.freqz(b,a)\n",
    "    h[h==0] = 1E-5\n",
    "    \n",
    "    H    = 20*np.log10( np.abs(h) )\n",
    "    W    = np.angle  (h)\n",
    "    W    = np.unwrap (W)\n",
    "    W    = np.degrees(W)\n",
    "    w    = np.linspace(0,sr/2,H.shape[0] )\n",
    "    \n",
    "    return w, W, H"
   ]
  },
  {
   "cell_type": "code",
   "execution_count": null,
   "metadata": {},
   "outputs": [],
   "source": [
    "# Definicion de funcion para graficar respuesta en frecuencia del filtro\n",
    "def freqs_plot(b,a):\n",
    "    w, h = signal.freqs(b,a,worN=np.logspace(-1, 2, 1000) )\n",
    "    H    = 20*np.log10( np.abs(h) )\n",
    "    W    = np.angle  (h)\n",
    "    W    = np.unwrap (W)\n",
    "    W    = np.degrees(W)\n",
    "    w    = np.logspace(-1, 2, 1000)#np.linspace(0,sr/2,H.shape[0] )\n",
    "    \n",
    "    return w, W, H"
   ]
  },
  {
   "cell_type": "markdown",
   "metadata": {},
   "source": [
    "### Ejemplo\n",
    "\n",
    "Diseñe un filtro digital orden 2 tipo Butterworth para una frecuencia de corte 10 Hz y una frecuecia de muestreo de 50 Hz."
   ]
  },
  {
   "cell_type": "code",
   "execution_count": null,
   "metadata": {},
   "outputs": [],
   "source": [
    "# Definicion de parametros\n",
    "n  = t\n",
    "fc = 32.\n",
    "fs = 120.\n",
    "wc = 2*np.pi*fc"
   ]
  },
  {
   "cell_type": "markdown",
   "metadata": {},
   "source": [
    "**Diseño** de un filtro en el domino analógico "
   ]
  },
  {
   "cell_type": "code",
   "execution_count": null,
   "metadata": {
    "scrolled": true
   },
   "outputs": [],
   "source": [
    "k   = 2.*fs\n",
    "wca = k*np.tan(np.pi*fc/fs)\n",
    "\n",
    "b   = [   wca**2,\n",
    "        2*wca**2,\n",
    "          wca**2  ]\n",
    "a   = [  k**2 + np.sqrt(2)*wca*k+ wca**2,\n",
    "        2*( wca**2 - k**2),\n",
    "         k**2 - np.sqrt(2)*wca*k + wca**2 ]\n",
    "\n",
    "print \"[ %s\\n  %s  ]\"%(b,a)\n",
    "print k\n",
    "print wca"
   ]
  },
  {
   "cell_type": "code",
   "execution_count": null,
   "metadata": {},
   "outputs": [],
   "source": [
    "ad  = np.array(a)\n",
    "bd  = np.array(b)\n",
    "\n",
    "amax = ad[0]\n",
    "ad  /= amax\n",
    "bd  /= amax\n",
    "\n",
    "print \"[ %s\\n  %s  ]\"%(bd,ad)"
   ]
  },
  {
   "cell_type": "code",
   "execution_count": null,
   "metadata": {},
   "outputs": [],
   "source": [
    "w, W, H, = freqz_plot(bd,ad,fs)\n",
    "\n",
    "plt.plot(w,H,'b',linewidth=3)\n",
    "plt.grid(True)\n",
    "plt.show()"
   ]
  },
  {
   "cell_type": "markdown",
   "metadata": {},
   "source": [
    "**Diseño** completo en computadora"
   ]
  },
  {
   "cell_type": "code",
   "execution_count": null,
   "metadata": {},
   "outputs": [],
   "source": [
    "b,a = butter(n, wc, analog=True, output='ba')\n",
    "w_s, W_s, H_s = freqs_plot(b,a)\n",
    "\n",
    "plt.plot(w_s,H_s,'b',linewidth=3)\n",
    "\n",
    "plt.grid(True)\n",
    "plt.show()"
   ]
  },
  {
   "cell_type": "code",
   "execution_count": null,
   "metadata": {},
   "outputs": [],
   "source": [
    "bd, ad = signal.bilinear(b,a,fs)\n",
    "print '[%s]\\n[%s]'%(bd,ad)"
   ]
  },
  {
   "cell_type": "code",
   "execution_count": null,
   "metadata": {},
   "outputs": [],
   "source": [
    "w_z, W_z, H_z = freqz_plot(bd,ad,fs)"
   ]
  },
  {
   "cell_type": "code",
   "execution_count": null,
   "metadata": {},
   "outputs": [],
   "source": [
    "plt.plot(w_s,400*H_s,'b',linewidth=3)\n",
    "plt.plot(w_z,H_z,'r',linewidth=3)\n",
    "\n",
    "plt.grid(True)\n",
    "plt.show()"
   ]
  },
  {
   "cell_type": "code",
   "execution_count": null,
   "metadata": {},
   "outputs": [],
   "source": [
    "path  = '../../data/'\n",
    "fname = 'ecg.npz'\n",
    "\n",
    "fdata = np.load( path+fname )\n",
    "data  = fdata['arr_0']\n",
    "fs    = 120.\n",
    "t     = np.linspace( 0,data.shape[0]/fs,data.shape[0] )\n",
    "\n",
    "tshow = 1000\n",
    "plt.figure(u'Señal',figsize=(12,5))\n",
    "plt.grid(True)\n",
    "plt.plot( t[:tshow],-data[:tshow],linewidth=2 )\n",
    "\n",
    "plt.figure(u'PSD',figsize=(12,5))\n",
    "plt.psd( data[:tshow],Fs=fs,NFFT=4*int(fs),linewidth=3 )\n",
    "plt.show()"
   ]
  },
  {
   "cell_type": "code",
   "execution_count": null,
   "metadata": {},
   "outputs": [],
   "source": [
    "n   = 2\n",
    "fc  = 1.2#*(2./fs)\n",
    "b,a = butter(n, fc, analog=True,btype='high', output='ba')\n",
    "\n",
    "print('a: %s\\nb: %s'%(a,b))\n",
    "b,a = signal.bilinear(b,a,fs)\n",
    "\n",
    "w, W, H, = freqz_plot(b,a,fs)\n",
    "\n",
    "plt.figure(u'Respuesta en frecuencia',figsize=(12,5))\n",
    "plt.plot(w,H,'b',linewidth=3)\n",
    "#plt.plot(w[300:],H[300:],'b',linewidth=3)\n",
    "plt.grid(True)\n",
    "plt.show()\n"
   ]
  },
  {
   "cell_type": "code",
   "execution_count": null,
   "metadata": {
    "scrolled": true
   },
   "outputs": [],
   "source": [
    "data_f = signal.lfilter(b,a,data)\n",
    "\n",
    "tshow = 500\n",
    "plt.figure(u'Señal',figsize=(12,5))\n",
    "plt.grid(True)\n",
    "plt.plot( t[:tshow], -data  [:tshow],'b',linewidth=2 )\n",
    "plt.plot( t[:tshow],-data_f[:tshow],'r',linewidth=2 )\n",
    "\n",
    "plt.figure(u'PSD',figsize=(12,5))\n",
    "plt.psd( data  [:tshow],Fs=fs,NFFT=4*int(fs),linewidth=3,color='b' )\n",
    "plt.psd( data_f[:tshow],Fs=fs,NFFT=4*int(fs),linewidth=3,color='r' )\n",
    "\n",
    "plt.show()"
   ]
  },
  {
   "cell_type": "code",
   "execution_count": null,
   "metadata": {},
   "outputs": [],
   "source": [
    "\"\"\"\n",
    " @note: ¿qué pasa para n muy grande?\n",
    "\"\"\"\n",
    "n   = 3\n",
    "fc  = 2*np.array( [1.2, 8.] )/fs\n",
    "b,a = butter(n, fc, btype='band', output='ba')\n",
    "\n",
    "w, W, H, = freqz_plot(b,a,fs)\n",
    "\n",
    "plt.figure(u'Respuesta en frecuencia dB',figsize=(12,5))\n",
    "plt.plot(w,H,'b',linewidth=3)\n",
    "plt.grid(True)\n",
    "plt.figure(u'Respuesta en frecuencia Hz',figsize=(12,5))\n",
    "plt.plot(w,W,'g',linewidth=3)\n",
    "plt.grid(True)\n",
    "plt.show()\n",
    "\n"
   ]
  },
  {
   "cell_type": "code",
   "execution_count": null,
   "metadata": {},
   "outputs": [],
   "source": [
    "print(b)\n",
    "print(a)"
   ]
  },
  {
   "cell_type": "code",
   "execution_count": null,
   "metadata": {},
   "outputs": [],
   "source": [
    "data_f = signal.lfilter(b,a,data)\n",
    "\n",
    "tshow = 1000\n",
    "plt.figure(u'Señal',figsize=(12,5))\n",
    "plt.grid(True)\n",
    "plt.plot( t[:tshow], -data  [:tshow],'b',linewidth=2 )\n",
    "plt.plot( t[:tshow], data_f[:tshow],'r',linewidth=2 )\n",
    "\n",
    "plt.figure(u'PSD',figsize=(12,5))\n",
    "plt.psd( data  [:tshow],Fs=fs,NFFT=4*int(fs),linewidth=3,color='b' )\n",
    "plt.psd( data_f[:tshow],Fs=fs,NFFT=4*int(fs),linewidth=3,color='r' )\n",
    "\n",
    "plt.show()"
   ]
  },
  {
   "cell_type": "markdown",
   "metadata": {},
   "source": [
    "## Fase cero"
   ]
  },
  {
   "cell_type": "code",
   "execution_count": null,
   "metadata": {},
   "outputs": [],
   "source": [
    "tshow   = 600\n",
    "data_ff = signal.lfilter(b,a,data_f[::-1])[::-1]\n",
    "\n",
    "plt.figure(u'Señal',figsize=(15,5))\n",
    "plt.grid(True)\n",
    "plt.plot( t[:tshow],-data_ff[:tshow],'r',linewidth=2 )\n",
    "plt.plot( t[:tshow],-data_f [:tshow],'b',linewidth=2 )\n",
    "plt.plot( t[:tshow],-data   [:tshow],'g',linewidth=2 )\n",
    "\n",
    "plt.figure(u'PSD',figsize=(12,5))\n",
    "plt.psd( data_f [:tshow],Fs=fs,NFFT=4*int(fs),linewidth=3,color='b' )\n",
    "plt.psd( data_ff[:tshow],Fs=fs,NFFT=4*int(fs),linewidth=3,color='r' )\n",
    "plt.psd( data   [:tshow],Fs=fs,NFFT=4*int(fs),linewidth=3,color='g' )\n",
    "\n",
    "plt.show()"
   ]
  }
 ],
 "metadata": {
  "kernelspec": {
   "display_name": "Python 3",
   "language": "python",
   "name": "python3"
  },
  "language_info": {
   "codemirror_mode": {
    "name": "ipython",
    "version": 3
   },
   "file_extension": ".py",
   "mimetype": "text/x-python",
   "name": "python",
   "nbconvert_exporter": "python",
   "pygments_lexer": "ipython3",
   "version": "3.10.7"
  }
 },
 "nbformat": 4,
 "nbformat_minor": 2
}
