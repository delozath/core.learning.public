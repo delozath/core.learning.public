{
 "cells": [
  {
   "cell_type": "markdown",
   "metadata": {},
   "source": [
    "# Filtros IIR. Aproximación Butterworth"
   ]
  },
  {
   "cell_type": "code",
   "execution_count": 1,
   "metadata": {
    "collapsed": true
   },
   "outputs": [],
   "source": [
    "#NOTE importar bibliotecas\n",
    "import numpy             as np\n",
    "import matplotlib.pyplot as plt\n",
    "\n",
    "from scipy import signal"
   ]
  },
  {
   "cell_type": "code",
   "execution_count": 2,
   "metadata": {},
   "outputs": [
    {
     "name": "stdout",
     "output_type": "stream",
     "text": [
      "0.523598775598j \n",
      "[-0.5 +8.66025404e-01j -1.0 +1.22464680e-16j -0.5 -8.66025404e-01j\n",
      "  0.5 -8.66025404e-01j  1.0 -2.44929360e-16j  0.5 +8.66025404e-01j] \n",
      "[ 1.  2.  3.  4.  5.  6.] \n",
      "\n"
     ]
    }
   ],
   "source": [
    "n = 3.\n",
    "#k = np.arange(2*n)\n",
    "k = np.arange(1,2*n+1)\n",
    "d = 1j*np.pi/(2*n)\n",
    "s = np.exp( d*(2*k + n - 1 ) )\n",
    "\n",
    "print d, '\\n', s, '\\n', k, '\\n'"
   ]
  },
  {
   "cell_type": "code",
   "execution_count": 3,
   "metadata": {},
   "outputs": [
    {
     "name": "stdout",
     "output_type": "stream",
     "text": [
      "-0.5 0.866025403784\n"
     ]
    }
   ],
   "source": [
    "print np.real( s[0] ), np.imag( s[0] )"
   ]
  },
  {
   "cell_type": "code",
   "execution_count": 4,
   "metadata": {},
   "outputs": [
    {
     "name": "stdout",
     "output_type": "stream",
     "text": [
      "[-0.5 -1.  -0.5  0.5  1.   0.5] [  8.66025404e-01   1.22464680e-16  -8.66025404e-01  -8.66025404e-01\n",
      "  -2.44929360e-16   8.66025404e-01]\n"
     ]
    },
    {
     "data": {
      "image/png": "[encoded data removed]",
      "text/plain": [
       "<matplotlib.figure.Figure at 0x7fb26cf7e310>"
      ]
     },
     "metadata": {},
     "output_type": "display_data"
    }
   ],
   "source": [
    "re, im = np.real( s ), np.imag( s )\n",
    "\n",
    "print re, im\n",
    "\n",
    "plt.figure(figsize=(6,6))\n",
    "plt.plot(re,im,'o',markersize=14)\n",
    "plt.grid(True)\n",
    "plt.show()"
   ]
  },
  {
   "cell_type": "code",
   "execution_count": 5,
   "metadata": {},
   "outputs": [
    {
     "name": "stdout",
     "output_type": "stream",
     "text": [
      "[ 0.+2.0943951j   0.+3.14159265j  0.+4.1887902j   0.+5.23598776j\n",
      "  0.+6.28318531j  0.+7.33038286j] \n",
      "[ 2.0943951   3.14159265  4.1887902   5.23598776  6.28318531  7.33038286]\n"
     ]
    }
   ],
   "source": [
    "ss  = d*(2*k + n - 1 )\n",
    "s   = np.imag(ss)\n",
    "print ss, '\\n', s\n"
   ]
  },
  {
   "cell_type": "code",
   "execution_count": 6,
   "metadata": {},
   "outputs": [
    {
     "data": {
      "image/png": "[encoded data removed]",
      "text/plain": [
       "<matplotlib.figure.Figure at 0x7fb26ae80cd0>"
      ]
     },
     "metadata": {},
     "output_type": "display_data"
    }
   ],
   "source": [
    "re = np.cos ( s )\n",
    "im = np.sin ( s )\n",
    "\n",
    "plt.figure(figsize=(6,6))\n",
    "plt.plot(re,im,'or',markersize=14)\n",
    "plt.grid(True)\n",
    "plt.axvspan(-1,0,color='g',alpha=.5)\n",
    "plt.show()"
   ]
  },
  {
   "cell_type": "code",
   "execution_count": 7,
   "metadata": {},
   "outputs": [
    {
     "name": "stdout",
     "output_type": "stream",
     "text": [
      "-0.500, -1.000, -0.500, 0.500, 1.000, 0.500\n",
      "0.866, 0.000, -0.866, -0.866, -0.000, 0.866\n"
     ]
    }
   ],
   "source": [
    "print ', '.join( ['%2.3f'%i for i in re] )\n",
    "print ', '.join( ['%2.3f'%i for i in im] )"
   ]
  },
  {
   "cell_type": "code",
   "execution_count": 8,
   "metadata": {},
   "outputs": [
    {
     "name": "stdout",
     "output_type": "stream",
     "text": [
      "[-0.5]\n",
      "[ 0.8660254]\n"
     ]
    }
   ],
   "source": [
    "print re[ :int(n)/2 ]\n",
    "print im[ :int(n)/2 ]"
   ]
  },
  {
   "cell_type": "code",
   "execution_count": 9,
   "metadata": {},
   "outputs": [
    {
     "name": "stdout",
     "output_type": "stream",
     "text": [
      "[ 1.]\n",
      "[ 1.]\n"
     ]
    }
   ],
   "source": [
    "wo  = re[ :int(n)/2 ]**2 + im[ :int(n)/2 ]**2\n",
    "eps = np.abs( 2*re[ :int(n)/2 ] )\n",
    "\n",
    "print wo\n",
    "print eps\n"
   ]
  },
  {
   "cell_type": "code",
   "execution_count": 10,
   "metadata": {},
   "outputs": [
    {
     "name": "stdout",
     "output_type": "stream",
     "text": [
      "[[ 1.  1.  1.]]\n"
     ]
    }
   ],
   "source": [
    "p = np.array(  [ np.ones( eps.shape[0] ), eps, wo ]  ).T\n",
    "\n",
    "print p"
   ]
  },
  {
   "cell_type": "code",
   "execution_count": 11,
   "metadata": {
    "scrolled": true
   },
   "outputs": [
    {
     "name": "stdout",
     "output_type": "stream",
     "text": [
      "   2\n",
      "1 x + 1 x + 1\n"
     ]
    }
   ],
   "source": [
    "x = np.poly1d( p[0] )\n",
    "for i in p[1:]:\n",
    "    x *= np.poly1d( i )\n",
    "\n",
    "print x"
   ]
  },
  {
   "cell_type": "code",
   "execution_count": 1,
   "metadata": {},
   "outputs": [
    {
     "ename": "NameError",
     "evalue": "name 'signal' is not defined",
     "output_type": "error",
     "traceback": [
      "\u001b[0;31m---------------------------------------------------------------------------\u001b[0m",
      "\u001b[0;31mNameError\u001b[0m                                 Traceback (most recent call last)",
      "\u001b[0;32m<ipython-input-1-7f45dca24174>\u001b[0m in \u001b[0;36m<module>\u001b[0;34m()\u001b[0m\n\u001b[0;32m----> 1\u001b[0;31m \u001b[0msy\u001b[0m \u001b[0;34m=\u001b[0m \u001b[0msignal\u001b[0m\u001b[0;34m.\u001b[0m\u001b[0mlti\u001b[0m\u001b[0;34m(\u001b[0m\u001b[0;34m[\u001b[0m\u001b[0;36m1\u001b[0m\u001b[0;34m]\u001b[0m\u001b[0;34m,\u001b[0m \u001b[0mx\u001b[0m\u001b[0;34m)\u001b[0m\u001b[0;34m\u001b[0m\u001b[0m\n\u001b[0m\u001b[1;32m      2\u001b[0m \u001b[0;34m\u001b[0m\u001b[0m\n\u001b[1;32m      3\u001b[0m \u001b[0mw\u001b[0m\u001b[0;34m,\u001b[0m \u001b[0mmag\u001b[0m\u001b[0;34m,\u001b[0m \u001b[0mphase\u001b[0m \u001b[0;34m=\u001b[0m \u001b[0msignal\u001b[0m\u001b[0;34m.\u001b[0m\u001b[0mbode\u001b[0m\u001b[0;34m(\u001b[0m\u001b[0msy\u001b[0m\u001b[0;34m)\u001b[0m\u001b[0;34m\u001b[0m\u001b[0m\n\u001b[1;32m      4\u001b[0m \u001b[0;34m\u001b[0m\u001b[0m\n\u001b[1;32m      5\u001b[0m \u001b[0mplt\u001b[0m\u001b[0;34m.\u001b[0m\u001b[0mfigure\u001b[0m\u001b[0;34m(\u001b[0m\u001b[0;34m)\u001b[0m\u001b[0;34m\u001b[0m\u001b[0m\n",
      "\u001b[0;31mNameError\u001b[0m: name 'signal' is not defined"
     ]
    }
   ],
   "source": [
    "sy = signal.lti([1], x)\n",
    "\n",
    "w, mag, phase = signal.bode(sy)\n",
    "\n",
    "plt.figure()\n",
    "plt.semilogx(w, mag,linewidth=3)\n",
    "plt.grid(True)\n",
    "\n",
    "plt.figure()\n",
    "plt.semilogx(w, phase, linewidth=3, color='orange')\n",
    "plt.grid(True)\n",
    "plt.show()"
   ]
  }
 ],
 "metadata": {
  "kernelspec": {
   "display_name": "Python 3",
   "language": "python",
   "name": "python3"
  },
  "language_info": {
   "codemirror_mode": {
    "name": "ipython",
    "version": 3
   },
   "file_extension": ".py",
   "mimetype": "text/x-python",
   "name": "python",
   "nbconvert_exporter": "python",
   "pygments_lexer": "ipython3",
   "version": "3.10.7"
  }
 },
 "nbformat": 4,
 "nbformat_minor": 2
}
