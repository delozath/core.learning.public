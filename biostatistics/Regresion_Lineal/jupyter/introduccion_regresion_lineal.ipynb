{
 "cells": [
  {
   "cell_type": "code",
   "execution_count": 1,
   "id": "561ddeec",
   "metadata": {},
   "outputs": [],
   "source": [
    "import numpy as np\n",
    "import matplotlib.pyplot as plt\n",
    "import ipywidgets as widgets\n",
    "from IPython.display import display\n",
    "from mpl_toolkits.mplot3d import Axes3D\n",
    "from IPython.display import display"
   ]
  },
  {
   "cell_type": "code",
   "execution_count": 2,
   "id": "85f4e2c6",
   "metadata": {},
   "outputs": [],
   "source": [
    "N  = 12\n",
    "x  = np.linspace(0, 1, N)\n",
    "y  = 0.75*x + 1\n",
    "yn = y + np.random.normal(0, .3, size=(N))\n",
    "D  = np.concatenate(([x], [y])).T"
   ]
  },
  {
   "cell_type": "code",
   "execution_count": 3,
   "id": "858e8703",
   "metadata": {},
   "outputs": [
    {
     "data": {
      "application/vnd.jupyter.widget-view+json": {
       "model_id": "e1432a06513b459f943e7a0dd30c959e",
       "version_major": 2,
       "version_minor": 0
      },
      "text/plain": [
       "interactive(children=(FloatSlider(value=0.0, description='m', max=1.5, min=-1.5, step=0.05), FloatSlider(value…"
      ]
     },
     "metadata": {},
     "output_type": "display_data"
    }
   ],
   "source": [
    "%matplotlib inline\n",
    "\n",
    "@widgets.interact(m=(-1.5, 1.5, 0.05), b=(-3, 3, 0.1))\n",
    "def update_plot(m=0, b=0):\n",
    "    distance = m*x + b - yn\n",
    "    #\n",
    "    plt.figure(figsize=(8,8))\n",
    "    plt.plot(x, m*x + b, color='red')\n",
    "    plt.plot(x, yn, 'o')\n",
    "    #\n",
    "    for x_i, yn_i, d_i in zip(x, yn, distance):\n",
    "        plt.plot([x_i, x_i], [yn_i, m*x_i + b], color='green', linestyle='dashed')\n",
    "        plt.annotate(f\"{d_i:.2f}\", (x_i, yn_i), textcoords=\"offset points\", xytext=(0,10), ha='center')\n",
    "    #\n",
    "    plt.ylim(-0.1, 2.5)\n",
    "    plt.xlim(-0.1, 1.1)\n",
    "    plt.annotate(f\"Suma D = {distance.sum():5.3f}\", (.8, 2.3), textcoords=\"offset points\", xytext=(0,10), ha='center')\n",
    "    plt.grid(True)\n",
    "    plt.show()"
   ]
  },
  {
   "cell_type": "code",
   "execution_count": 5,
   "id": "260f0680",
   "metadata": {},
   "outputs": [
    {
     "data": {
      "application/vnd.jupyter.widget-view+json": {
       "model_id": "27aab7f9342a4b588a047336d10f5570",
       "version_major": 2,
       "version_minor": 0
      },
      "text/plain": [
       "interactive(children=(FloatSlider(value=0.0, description='m', max=1.5, min=-1.5, step=0.01), FloatSlider(value…"
      ]
     },
     "metadata": {},
     "output_type": "display_data"
    }
   ],
   "source": [
    "@widgets.interact(m=(-1.5, 1.5, 0.01), b=(-3, 3, 0.01))\n",
    "def update_plot(m=0, b=0):\n",
    "    distance = m*x + b - yn\n",
    "    mse = (distance**2).sum()/distance.shape[0]\n",
    "    #\n",
    "    plt.figure(figsize=(8,8))\n",
    "    plt.plot(x, m*x + b, color='red')\n",
    "    plt.plot(x, yn, 'o')\n",
    "    #\n",
    "    for x_i, yn_i, d_i in zip(x, yn, distance):\n",
    "        plt.plot([x_i, x_i], [yn_i, m*x_i + b], color='green', linestyle='dashed')\n",
    "        plt.annotate(f\"{d_i:.2f}\", (x_i, yn_i), textcoords=\"offset points\", xytext=(0,10), ha='center')\n",
    "    #\n",
    "    plt.ylim(-0.1, 2.5)\n",
    "    plt.xlim(-0.1, 1.1)\n",
    "    plt.annotate(f\"Suma D = {distance.sum():5.3f}\", (.8, 2.3), textcoords=\"offset points\", xytext=(0,10), ha='center')\n",
    "    plt.annotate(f\"MSE = {mse:5.3f}\", (.8, 2.2), textcoords=\"offset points\", xytext=(0,10), ha='center')\n",
    "    plt.grid(True)\n",
    "    plt.show()"
   ]
  },
  {
   "cell_type": "code",
   "execution_count": 6,
   "id": "1939eb36",
   "metadata": {},
   "outputs": [
    {
     "data": {
      "text/plain": [
       "array([0.62090542, 1.03903097])"
      ]
     },
     "execution_count": 6,
     "metadata": {},
     "output_type": "execute_result"
    }
   ],
   "source": [
    "X = np.insert(x[:, np.newaxis], 1, 1, axis=1)\n",
    "w = (np.linalg.inv(X.T @ X) @ X.T) @ yn\n",
    "w"
   ]
  },
  {
   "cell_type": "code",
   "execution_count": 11,
   "id": "8c721f70",
   "metadata": {},
   "outputs": [],
   "source": [
    "N  = 30\n",
    "xx = np.linspace(0, 1, N)\n",
    "xx, yy = np.meshgrid(xx,xx)\n",
    "xx, yy = xx.flatten(), yy.flatten()\n",
    "zz = 2*xx + 3*yy - 1\n",
    "sample = np.arange(xx.shape[0]).astype(np.int32)\n",
    "np.random.shuffle(sample)\n",
    "sample = sample[:N]\n",
    "\n",
    "x, y, z = xx[sample], yy[sample], zz[sample]\n",
    "zn      = z + np.random.normal(0, .1, size=(N))\n",
    "xx, yy  = xx.reshape(N, N), yy.reshape(N, N)\n",
    "\n",
    "%matplotlib widget"
   ]
  },
  {
   "cell_type": "code",
   "execution_count": 12,
   "id": "cf13c1f3",
   "metadata": {},
   "outputs": [
    {
     "data": {
      "application/vnd.jupyter.widget-view+json": {
       "model_id": "d57d1cb323fb4c00aabf94b263e81a96",
       "version_major": 2,
       "version_minor": 0
      },
      "text/plain": [
       "interactive(children=(FloatSlider(value=0.5, description='w_1', max=2.5, min=-2.5, step=0.01), FloatSlider(val…"
      ]
     },
     "metadata": {},
     "output_type": "display_data"
    }
   ],
   "source": [
    "fig = plt.figure(figsize=(8, 8))\n",
    "ax = fig.add_subplot(111, projection='3d')\n",
    "\n",
    "@widgets.interact(w_1=(-2.5, 2.5, 0.01), \n",
    "                  w_2=(-3.2, 3.2, 0.01), \n",
    "                  b=(-2.0, 2.0, 0.01))\n",
    "def update_plot(w_1=0.5, w_2=0.5, b=1):\n",
    "    ax.clear()\n",
    "    #d = -w_1 * x[0] - w_2 * y[0]  * z[0]\n",
    "    #ax.scatter(x, y, z, color='blue')\n",
    "    distance = \n",
    "    zz = w_1*xx + w_2*yy + b\n",
    "    ax.plot_surface(xx, yy, zz, \n",
    "                    color='red',\n",
    "                    alpha=0.5)\n",
    "    ax.scatter(x, y, zn, color='blue')\n",
    "    for x_i, y_i, z_i, zn_i in zip(x, y, z, zn):\n",
    "        # Calcular la distancia vertical\n",
    "        #distance = abs(a*x[i] + b*y[i] + c*z[i] + d) / np.sqrt(a**2 + b**2 + c**2)\n",
    "        #ax.plot([x[i], x[i]], [y[i], y[i]], [z[i], -(a*x[i] + b*y[i] + d)*1. /c], color='gray', linestyle='dashed')\n",
    "        ax.plot([x_i, x_i], [y_i, y_i], [zn_i, w_1*x_i + w_2*y_i + b], color='gray', linestyle='dashed')\n",
    "        # Etiquetar la distancia vertical\n",
    "        #ax.text(x[i], y[i], z[i], f\"{distance:.2f}\", color='black', fontsize=8)\n",
    "    #\n",
    "    fig.canvas.draw()\n",
    "    plt.show()"
   ]
  },
  {
   "cell_type": "code",
   "execution_count": 9,
   "id": "7e22ebcd",
   "metadata": {},
   "outputs": [
    {
     "data": {
      "text/plain": [
       "array([ 1.96195604,  3.02253347, -1.01273073])"
      ]
     },
     "execution_count": 9,
     "metadata": {},
     "output_type": "execute_result"
    }
   ],
   "source": [
    "X = np.concatenate(([x], [y])).T\n",
    "X = np.insert(X, X.shape[-1], 1, axis=1)\n",
    "w = (np.linalg.inv(X.T @ X) @ X.T) @ zn\n",
    "w\n"
   ]
  },
  {
   "cell_type": "code",
   "execution_count": 6,
   "id": "94d556f7",
   "metadata": {},
   "outputs": [
    {
     "data": {
      "application/vnd.jupyter.widget-view+json": {
       "model_id": "bf7140796bee417994a21117a34f98ef",
       "version_major": 2,
       "version_minor": 0
      },
      "text/plain": [
       "interactive(children=(FloatSlider(value=0.5, description='a', max=1.0, min=-1.0, step=0.01), FloatSlider(value…"
      ]
     },
     "metadata": {},
     "output_type": "display_data"
    }
   ],
   "source": [
    "# Generar puntos aleatorios en coordenadas (x, y, z)\n",
    "%matplotlib widget\n",
    "\n",
    "num_points = 50\n",
    "x = np.random.rand(num_points)\n",
    "y = np.random.rand(num_points)\n",
    "z = np.random.rand(num_points)\n",
    "\n",
    "# Crear una figura 3D\n",
    "fig = plt.figure()\n",
    "ax = fig.add_subplot(111, projection='3d')\n",
    "\n",
    "# Trazar los puntos\n",
    "ax.scatter(x, y, z, color='blue')\n",
    "\n",
    "# Función para actualizar el gráfico cuando se cambia el valor de a, b o c\n",
    "@widgets.interact(a=(-1.0, 1.0, 0.01), b=(-1.0, 1.0, 0.01), c=(-1.0, 1.0, 0.01))\n",
    "def update_plot(a=0.5, b=0.5, c=0.5):\n",
    "    # Calcular la distancia del plano al origen\n",
    "    d = -a * x[0] - b * y[0] - c * z[0]\n",
    "    # Limpiar el gráfico anterior\n",
    "    ax.clear()\n",
    "    # Trazar el plano con los nuevos valores de a, b y c\n",
    "    xx, yy = np.meshgrid(np.linspace(0, 1, 10), np.linspace(0, 1, 10))\n",
    "    zz = (-a * xx - b * yy - d) * 1. /c\n",
    "    ax.plot_surface(xx, yy, zz, alpha=0.5)\n",
    "    # Calcular y trazar las distancias verticales entre cada punto y el plano\n",
    "    for i in range(num_points):\n",
    "        # Calcular la distancia vertical\n",
    "        distance = abs(a*x[i] + b*y[i] + c*z[i] + d) / np.sqrt(a**2 + b**2 + c**2)\n",
    "        # Trazar una línea vertical para visualizar la distancia\n",
    "        ax.plot([x[i], x[i]], [y[i], y[i]], [z[i], -(a*x[i] + b*y[i] + d)*1. /c], color='gray', linestyle='dashed')\n",
    "        # Trazar el punto\n",
    "        ax.scatter(x[i], y[i], z[i], color='blue')\n",
    "        # Etiquetar la distancia vertical\n",
    "        ax.text(x[i], y[i], z[i], f\"{distance:.2f}\", color='black', fontsize=8)\n",
    "    # Configurar los ejes y mostrar el gráfico\n",
    "    ax.set_xlim([0, 1])\n",
    "    ax.set_ylim([0, 1])\n",
    "    ax.set_zlim([0, 1])\n",
    "    plt.show()"
   ]
  },
  {
   "cell_type": "code",
   "execution_count": 7,
   "id": "d8e89d09",
   "metadata": {},
   "outputs": [
    {
     "data": {
      "text/plain": [
       "array([0.08302335, 0.37961895, 0.4590777 , 0.34862934, 0.991721  ,\n",
       "       0.47881383, 0.32168712, 0.44635104, 0.30957455, 0.57415183,\n",
       "       0.38746819, 0.77583959, 0.80557077, 0.1192004 , 0.46392841,\n",
       "       0.99051161, 0.03763788, 0.38090001, 0.04085915, 0.11082411])"
      ]
     },
     "execution_count": 7,
     "metadata": {},
     "output_type": "execute_result"
    }
   ],
   "source": [
    "np.random.uniform(size=(N))"
   ]
  }
 ],
 "metadata": {
  "kernelspec": {
   "display_name": "Python 3 (ipykernel)",
   "language": "python",
   "name": "python3"
  },
  "language_info": {
   "codemirror_mode": {
    "name": "ipython",
    "version": 3
   },
   "file_extension": ".py",
   "mimetype": "text/x-python",
   "name": "python",
   "nbconvert_exporter": "python",
   "pygments_lexer": "ipython3",
   "version": "3.10.7"
  }
 },
 "nbformat": 4,
 "nbformat_minor": 5
}
