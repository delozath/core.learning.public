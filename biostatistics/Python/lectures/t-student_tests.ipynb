{
 "cells": [
  {
   "cell_type": "markdown",
   "metadata": {},
   "source": [
    "# Pruebas de Normalidad/Gaussianidad"
   ]
  },
  {
   "cell_type": "code",
   "execution_count": 1,
   "metadata": {},
   "outputs": [],
   "source": [
    "import numpy as np\n",
    "import pandas as pd\n",
    "import seaborn as sns\n",
    "import pingouin as pg\n",
    "\n",
    "from matplotlib import pyplot as plt\n",
    "\n",
    "import ipywidgets as widgets\n",
    "from ipywidgets import HBox, VBox\n",
    "from IPython.display import display\n",
    "%matplotlib inline"
   ]
  },
  {
   "cell_type": "markdown",
   "metadata": {},
   "source": [
    "## Comparación entre dos grupos\n",
    "\n",
    "### Diseño experimental\n",
    " - Casos-Controles\n",
    " - Logitudinal dos codiciones\n",
    "\n",
    "### Supuestos\n",
    "  1. Variables numéricas\n",
    "  2. Variables continuas\n",
    "  3. Distribución Gaussian (Normal) de AMBOS grupos\n",
    "     1. Shapiro-Wilk\n",
    "     2. Kolmogorov-Smirnov\n",
    "   \n",
    "| Grupo 1 | Grupo 2 | Prueba    |\n",
    "|---------|---------|-----------|\n",
    "| NG      | NG      |           |\n",
    "| NG      | G       |           |\n",
    "| G       | NG      |           |\n",
    "| G       | G       | t-Student |\n",
    "\n",
    "  1. Homogeneidad de la varianza\n",
    "     1. Levene"
   ]
  },
  {
   "cell_type": "code",
   "execution_count": 5,
   "metadata": {},
   "outputs": [],
   "source": [
    "def get_random_df(params, label, N=350):\n",
    "    dtype = params[0]\n",
    "    match dtype:\n",
    "        case 'normal':\n",
    "            x = np.random.normal(params[1], params[2], N)\n",
    "        #\n",
    "        case \"bimodal\":\n",
    "            x1 = np.random.normal(params[1], params[2], N//2)\n",
    "            x2 = np.random.normal(3*params[1], 0.5*params[2], N - N//2)\n",
    "            x = np.concatenate((x1, x2))\n",
    "        case _:\n",
    "            x = np.random.normal(params[1], params[2], N)\n",
    "    #\n",
    "    x = pd.Series(x, name='metric').to_frame()\n",
    "    x['group'] = label\n",
    "    return x.copy()\n",
    "#\n",
    "def gen_2_groups(params0, params1, N=350):\n",
    "    x1 = get_random_df(params0, 'control')\n",
    "    x2 = get_random_df(params1, 'case')\n",
    "    #\n",
    "    X = pd.concat((x1, x2)).copy()\n",
    "    return X\n",
    "#\n",
    "def t_tests(data, group):\n",
    "    unique = data[group].unique()\n",
    "    grouped = data.groupby(group)\n",
    "    #\n",
    "    ttests = []\n",
    "    for col in data.drop(columns=group).columns:\n",
    "        x0 = grouped.get_group(unique[0])[col]\n",
    "        x1 = grouped.get_group(unique[1])[col]\n",
    "        #\n",
    "        tmp = pg.ttest(x0, x1)\n",
    "        tmp['variable'] = col\n",
    "        ttests.append(tmp)\n",
    "    #\n",
    "    ttests = pd.concat(ttests)\n",
    "    ttests = ttests[['variable'] + list(ttests.columns[:-1])]\n",
    "    print(ttests)"
   ]
  },
  {
   "cell_type": "code",
   "execution_count": 10,
   "metadata": {},
   "outputs": [
    {
     "data": {
      "application/vnd.jupyter.widget-view+json": {
       "model_id": "6feb1920aa774b0f9d6df98f7e7cabfb",
       "version_major": 2,
       "version_minor": 0
      },
      "text/plain": [
       "interactive(children=(FloatSlider(value=0.0, description='m1', max=4.0, min=-4.0), FloatSlider(value=1.0, desc…"
      ]
     },
     "metadata": {},
     "output_type": "display_data"
    }
   ],
   "source": [
    "\n",
    "@widgets.interact(m1=(-4, 4, 0.1),\n",
    "                  v1=(.1, 2, 0.1),\n",
    "                  m2=(-2, 2, 0.1),\n",
    "                  v2=(0.1, 2, 0.1),\n",
    "                  bins=[20, 25, 30, 35])\n",
    "def _t_tests(m1, v1, m2, v2, bins):\n",
    "    #\n",
    "    params0 = ('normal', m1, v1)\n",
    "    params1 = ('normal', m2, v2)\n",
    "    X = gen_2_groups(params0, params1)\n",
    "    sns.histplot(x='metric', hue='group', data=X, \n",
    "                 bins=bins, stat='probability')\n",
    "    #\n",
    "    plt.figure()\n",
    "    #sns.boxplot(y='metric', hue='group', data=X, )\n",
    "    sns.violinplot(y='metric', hue='group', data=X, split=True)\n",
    "    #\n",
    "    print(pg.normality(X, dv='metric', group='group'))\n",
    "    print()\n",
    "    print(pg.homoscedasticity(X, dv='metric', group='group'))\n",
    "    print()\n",
    "    t_tests(X, 'group')  \n"
   ]
  },
  {
   "cell_type": "markdown",
   "metadata": {},
   "source": [
    "## Ejemplo"
   ]
  },
  {
   "cell_type": "code",
   "execution_count": 11,
   "metadata": {},
   "outputs": [
    {
     "data": {
      "text/html": [
       "<div>\n",
       "<style scoped>\n",
       "    .dataframe tbody tr th:only-of-type {\n",
       "        vertical-align: middle;\n",
       "    }\n",
       "\n",
       "    .dataframe tbody tr th {\n",
       "        vertical-align: top;\n",
       "    }\n",
       "\n",
       "    .dataframe thead th {\n",
       "        text-align: right;\n",
       "    }\n",
       "</style>\n",
       "<table border=\"1\" class=\"dataframe\">\n",
       "  <thead>\n",
       "    <tr style=\"text-align: right;\">\n",
       "      <th></th>\n",
       "      <th>id</th>\n",
       "      <th>age</th>\n",
       "      <th>heart_rate</th>\n",
       "      <th>breath_rate</th>\n",
       "      <th>glucose_blood_concentration</th>\n",
       "      <th>mexican_state_of_birth</th>\n",
       "      <th>scholarity</th>\n",
       "      <th>diagnostic</th>\n",
       "    </tr>\n",
       "  </thead>\n",
       "  <tbody>\n",
       "    <tr>\n",
       "      <th>0</th>\n",
       "      <td>1</td>\n",
       "      <td>30</td>\n",
       "      <td>78</td>\n",
       "      <td>17</td>\n",
       "      <td>206</td>\n",
       "      <td>Durango</td>\n",
       "      <td>0</td>\n",
       "      <td>diabetes</td>\n",
       "    </tr>\n",
       "    <tr>\n",
       "      <th>1</th>\n",
       "      <td>2</td>\n",
       "      <td>26</td>\n",
       "      <td>78</td>\n",
       "      <td>15</td>\n",
       "      <td>74</td>\n",
       "      <td>Campeche</td>\n",
       "      <td>4</td>\n",
       "      <td>health</td>\n",
       "    </tr>\n",
       "    <tr>\n",
       "      <th>2</th>\n",
       "      <td>3</td>\n",
       "      <td>27</td>\n",
       "      <td>85</td>\n",
       "      <td>23</td>\n",
       "      <td>152</td>\n",
       "      <td>Sonora</td>\n",
       "      <td>2</td>\n",
       "      <td>diabetes</td>\n",
       "    </tr>\n",
       "    <tr>\n",
       "      <th>3</th>\n",
       "      <td>4</td>\n",
       "      <td>31</td>\n",
       "      <td>83</td>\n",
       "      <td>21</td>\n",
       "      <td>92</td>\n",
       "      <td>Puebla</td>\n",
       "      <td>3</td>\n",
       "      <td>health</td>\n",
       "    </tr>\n",
       "    <tr>\n",
       "      <th>4</th>\n",
       "      <td>5</td>\n",
       "      <td>30</td>\n",
       "      <td>83</td>\n",
       "      <td>12</td>\n",
       "      <td>165</td>\n",
       "      <td>Zacatecas</td>\n",
       "      <td>0</td>\n",
       "      <td>diabetes</td>\n",
       "    </tr>\n",
       "  </tbody>\n",
       "</table>\n",
       "</div>"
      ],
      "text/plain": [
       "   id  age  heart_rate  breath_rate  glucose_blood_concentration  \\\n",
       "0   1   30          78           17                          206   \n",
       "1   2   26          78           15                           74   \n",
       "2   3   27          85           23                          152   \n",
       "3   4   31          83           21                           92   \n",
       "4   5   30          83           12                          165   \n",
       "\n",
       "  mexican_state_of_birth  scholarity diagnostic  \n",
       "0                Durango           0   diabetes  \n",
       "1               Campeche           4     health  \n",
       "2                 Sonora           2   diabetes  \n",
       "3                 Puebla           3     health  \n",
       "4              Zacatecas           0   diabetes  "
      ]
     },
     "execution_count": 11,
     "metadata": {},
     "output_type": "execute_result"
    }
   ],
   "source": [
    "fname = \"/home/omarpr/Dropbox/Brain/data/cursos/bioestadistica/dbs/health_data.csv\"\n",
    "data = pd.read_csv(fname)\n",
    "#\n",
    "data.head()"
   ]
  },
  {
   "cell_type": "code",
   "execution_count": 12,
   "metadata": {},
   "outputs": [
    {
     "name": "stdout",
     "output_type": "stream",
     "text": [
      "                           variable          T         dof alternative  \\\n",
      "T-test                           id   1.043705  195.566493   two-sided   \n",
      "T-test                          age   0.339363  186.628210   two-sided   \n",
      "T-test                   heart_rate  -2.658403  196.543983   two-sided   \n",
      "T-test                  breath_rate  -1.730967  197.846736   two-sided   \n",
      "T-test  glucose_blood_concentration  26.083967  129.227789   two-sided   \n",
      "T-test                   scholarity  -0.311983  195.536293   two-sided   \n",
      "\n",
      "               p-val           CI95%   cohen-d       BF10     power  \n",
      "T-test  2.979105e-01  [-7.59, 24.66]  0.147486      0.257  0.178737  \n",
      "T-test  7.347178e-01   [-0.72, 1.01]  0.048483      0.163  0.063351  \n",
      "T-test  8.497860e-03  [-3.05, -0.45]  0.374895      4.059  0.748449  \n",
      "T-test  8.501669e-02   [-2.14, 0.14]  0.241919      0.623  0.396369  \n",
      "T-test  2.459024e-53  [63.64, 74.08]  3.460395  1.358e+62  1.000000  \n",
      "T-test  7.553860e-01   [-0.47, 0.34]  0.044089      0.162  0.061026  \n"
     ]
    }
   ],
   "source": [
    "df = data.drop(columns='mexican_state_of_birth')\n",
    "#\n",
    "t_tests(df, 'diagnostic')"
   ]
  },
  {
   "cell_type": "markdown",
   "metadata": {},
   "source": [
    "## https://bit.ly/3SSgUBk"
   ]
  }
 ],
 "metadata": {
  "kernelspec": {
   "display_name": "full",
   "language": "python",
   "name": "python3"
  },
  "language_info": {
   "codemirror_mode": {
    "name": "ipython",
    "version": 3
   },
   "file_extension": ".py",
   "mimetype": "text/x-python",
   "name": "python",
   "nbconvert_exporter": "python",
   "pygments_lexer": "ipython3",
   "version": "3.11.2"
  }
 },
 "nbformat": 4,
 "nbformat_minor": 2
}
