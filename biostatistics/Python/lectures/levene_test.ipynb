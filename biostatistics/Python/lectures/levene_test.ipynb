{
 "cells": [
  {
   "cell_type": "markdown",
   "metadata": {},
   "source": [
    "# Pruebas de Homocedasticidad"
   ]
  },
  {
   "cell_type": "code",
   "execution_count": 2,
   "metadata": {},
   "outputs": [],
   "source": [
    "import numpy as np\n",
    "import pandas as pd\n",
    "import seaborn as sns\n",
    "import pingouin as pg\n",
    "\n",
    "from matplotlib import pyplot as plt\n",
    "\n",
    "import ipywidgets as widgets\n",
    "from ipywidgets import HBox, VBox\n",
    "from IPython.display import display\n",
    "%matplotlib inline"
   ]
  },
  {
   "cell_type": "code",
   "execution_count": 3,
   "metadata": {},
   "outputs": [],
   "source": [
    "def get_random_df(params, label, N=350):\n",
    "    dtype = params[0]\n",
    "    match dtype:\n",
    "        case 'normal':\n",
    "            x = np.random.normal(params[1], params[2], N)\n",
    "        #\n",
    "        case \"bimodal\":\n",
    "            x1 = np.random.normal(params[1], params[2], N//2)\n",
    "            x2 = np.random.normal(3*params[1], 0.5*params[2], N - N//2)\n",
    "            x = np.concatenate((x1, x2))\n",
    "        case _:\n",
    "            x = np.random.normal(params[1], params[2], N)\n",
    "    #\n",
    "    x = pd.Series(x, name='metric').to_frame()\n",
    "    x['group'] = label\n",
    "    return x.copy()\n",
    "#\n",
    "def gen_2_groups(params0, params1, N=350):\n",
    "    x1 = get_random_df(params0, 'control')\n",
    "    x2 = get_random_df(params1, 'case')\n",
    "    #\n",
    "    X = pd.concat((x1, x2)).copy()\n",
    "    return X"
   ]
  },
  {
   "cell_type": "code",
   "execution_count": 5,
   "metadata": {},
   "outputs": [
    {
     "data": {
      "application/vnd.jupyter.widget-view+json": {
       "model_id": "a598ab2332a443408628fea579cb31ad",
       "version_major": 2,
       "version_minor": 0
      },
      "text/plain": [
       "interactive(children=(FloatSlider(value=0.0, description='m1', max=2.0, min=-2.0), FloatSlider(value=1.0, desc…"
      ]
     },
     "metadata": {},
     "output_type": "display_data"
    }
   ],
   "source": [
    "@widgets.interact(m1=(-2, 2, 0.1),\n",
    "                  v1=(1, 2, 0.1),\n",
    "                  m2=(-2, 2, 0.1),\n",
    "                  v2=(1, 2, 0.1),\n",
    "                  bins=[10, 12, 14, 16, 18])\n",
    "def _hist(m1, v1, m2, v2, bins):\n",
    "    #\n",
    "    params0 = ('normal', m1, v1)\n",
    "    params1 = ('normal', m2, v2)\n",
    "    X = gen_2_groups(params0, params1)\n",
    "    sns.histplot(x='metric', hue='group', data=X, \n",
    "                 bins=bins, stat='probability')\n",
    "    "
   ]
  },
  {
   "cell_type": "markdown",
   "metadata": {},
   "source": [
    "## Prueba de Levene\n",
    "\n",
    "$$H_0: \\text{las varianzas son iguales}$$\n",
    "$$H_1: \\text{las varianzas no son iguales}$$"
   ]
  },
  {
   "cell_type": "code",
   "execution_count": 7,
   "metadata": {},
   "outputs": [
    {
     "data": {
      "application/vnd.jupyter.widget-view+json": {
       "model_id": "17a8975ae59e472dad2ed2848dd0dad7",
       "version_major": 2,
       "version_minor": 0
      },
      "text/plain": [
       "interactive(children=(FloatSlider(value=0.0, description='m1', max=4.0, min=-4.0), FloatSlider(value=1.0, desc…"
      ]
     },
     "metadata": {},
     "output_type": "display_data"
    }
   ],
   "source": [
    "@widgets.interact(m1=(-4, 4, 0.1),\n",
    "                  v1=(0.1, 2, 0.1),\n",
    "                  m2=(-2, 2, 0.1),\n",
    "                  v2=(0.1, 2, 0.1),\n",
    "                  bins=[16, 18, 20, 22])\n",
    "def _hist(m1, v1, m2, v2, bins):\n",
    "    #\n",
    "    params0 = ('normal', m1, v1)\n",
    "    params1 = ('normal', m2, v2)\n",
    "    X = gen_2_groups(params0, params1)\n",
    "    sns.histplot(x='metric', hue='group', data=X, \n",
    "                 bins=bins, stat='probability')\n",
    "    #\n",
    "    print(pg.normality(X, dv='metric', group='group'))\n",
    "    print()\n",
    "    print(pg.homoscedasticity(X, dv='metric', group='group'))"
   ]
  }
 ],
 "metadata": {
  "kernelspec": {
   "display_name": "full",
   "language": "python",
   "name": "python3"
  },
  "language_info": {
   "codemirror_mode": {
    "name": "ipython",
    "version": 3
   },
   "file_extension": ".py",
   "mimetype": "text/x-python",
   "name": "python",
   "nbconvert_exporter": "python",
   "pygments_lexer": "ipython3",
   "version": "3.11.2"
  }
 },
 "nbformat": 4,
 "nbformat_minor": 2
}
