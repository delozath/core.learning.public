{
 "cells": [
  {
   "cell_type": "code",
   "execution_count": null,
   "metadata": {},
   "outputs": [],
   "source": [
    "# Índice"
   ]
  },
  {
   "cell_type": "markdown",
   "metadata": {},
   "source": [
    "# Índice\n",
    "\n",
    " 1. [Introducción](./introduccion.ipynb)\n",
    " 2. Evaluación de supuestos\n",
    "    1. [Pruebas de normalidad](./gaussianity_tests.ipynb)\n",
    "    2. [Prueba de Homocedasticidad](./levene_test.ipynb)\n",
    " 3. Prueba t-Student\n",
    "    1. [Asumiendo varianzas iguales. Caso: $H_0: m_0=m1$; $H_1: m_0\\neq m1$](./t-student_tests.ipynb)"
   ]
  }
 ],
 "metadata": {
  "language_info": {
   "name": "python"
  }
 },
 "nbformat": 4,
 "nbformat_minor": 2
}
