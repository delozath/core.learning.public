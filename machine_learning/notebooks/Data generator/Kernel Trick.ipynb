{
 "cells": [
  {
   "cell_type": "code",
   "execution_count": null,
   "metadata": {},
   "outputs": [],
   "source": [
    "import numpy  as np\n",
    "import pandas as pd\n",
    "\n",
    "from matplotlib           import pyplot as plt\n",
    "from mpl_toolkits.mplot3d import Axes3D\n",
    "plt.style.use('bmh')\n",
    "\n",
    "from sklearn.svm     import SVC              as svm\n",
    "from sklearn.metrics import confusion_matrix as CM"
   ]
  },
  {
   "cell_type": "code",
   "execution_count": null,
   "metadata": {},
   "outputs": [],
   "source": [
    "def gen_index(N=300, P=.7):\n",
    "    indx  = np.arange(N)\n",
    "    np.random.shuffle(indx)\n",
    "    itrain, itest = indx[ :int(N*P) ], indx[ int(N*P): ]\n",
    "    return itrain.copy(), itest.copy()\n",
    "\n",
    "def gen_XOR_data(M,S,N=400):\n",
    "    X = np.random.multivariate_normal(M,S,N)\n",
    "    Y = -2*( X.prod(axis=1) < 0 ) + 1\n",
    "    \n",
    "    return X.copy(),Y.copy()\n",
    "\n",
    "\n",
    "def plot_borders(model, x_0=-5, x_1=5, r=100):\n",
    "    linspace = np.linspace( x_0,x_1,r )\n",
    "    grid     = np.meshgrid( linspace,linspace )\n",
    "    grid     = np.array(grid)\n",
    "    s        = grid.shape\n",
    "    grid     = grid.reshape(s[0],s[1]*s[2])\n",
    "\n",
    "    LP = model.predict_proba(grid.T)\n",
    "    plt.figure(figsize=(8,8))\n",
    "    plt.imshow( LP[:,1].reshape(s[1],s[2]),cmap='inferno' )"
   ]
  },
  {
   "cell_type": "code",
   "execution_count": null,
   "metadata": {},
   "outputs": [],
   "source": [
    "M = np.array( [0,0] )\n",
    "S = np.array([[3,0],\n",
    "              [0,3] ] )\n",
    "N = 600\n",
    "\n",
    "X, Y = gen_XOR_data(M,S,N)\n",
    "\n",
    "plt.figure(figsize=(8,8))\n",
    "plt.plot( X[Y==-1,0],X[Y==-1,1],'ro' )\n",
    "plt.plot( X[Y== 1,0],X[Y== 1,1],'bo' )"
   ]
  },
  {
   "cell_type": "code",
   "execution_count": null,
   "metadata": {},
   "outputs": [],
   "source": [
    "idxtrain, idxtest = gen_index( X.shape[0],.8 )\n",
    "\n",
    "X_Train = X[idxtrain]\n",
    "Y_Train = Y[idxtrain]\n",
    "\n",
    "X_Test  = X[idxtest]\n",
    "Y_Test  = Y[idxtest]"
   ]
  },
  {
   "cell_type": "code",
   "execution_count": null,
   "metadata": {},
   "outputs": [],
   "source": [
    "model_svm = svm(kernel='linear')\n",
    "\n",
    "model_svm.fit(X_Train,Y_Train)\n",
    "\n",
    "L = model_svm.predict(X_Test)\n",
    "CM(Y_Test,L)"
   ]
  },
  {
   "cell_type": "code",
   "execution_count": null,
   "metadata": {},
   "outputs": [],
   "source": [
    "plt.figure(figsize=(8,8))\n",
    "plt.plot( X_Test[L     ==-1,0],X_Test[L     ==-1,1],'ro' )\n",
    "plt.plot( X_Test[Y_Test==-1,0],X_Test[Y_Test==-1,1], 'o',color='orange' )"
   ]
  },
  {
   "cell_type": "code",
   "execution_count": null,
   "metadata": {},
   "outputs": [],
   "source": [
    "X_New = np.concatenate( (X, X.prod(axis=1)[:,np.newaxis]),axis=1 )\n",
    "X_New"
   ]
  },
  {
   "cell_type": "code",
   "execution_count": null,
   "metadata": {},
   "outputs": [],
   "source": [
    "fig = plt.figure( figsize=(8,8) )\n",
    "ax  = fig.add_subplot(111, projection='3d')\n",
    "\n",
    "ax.scatter( X_New[Y==-1,0], X_New[Y==-1,1], X_New[Y==-1,2], c='r', marker='o')\n",
    "ax.scatter( X_New[Y== 1,0], X_New[Y== 1,1], X_New[Y== 1,2], c='b', marker='o')"
   ]
  },
  {
   "cell_type": "code",
   "execution_count": null,
   "metadata": {
    "scrolled": true
   },
   "outputs": [],
   "source": [
    "X_Train = X_New[idxtrain]\n",
    "X_Test  = X_New[idxtest]\n",
    "\n",
    "model_svm = svm(kernel='linear',probability=True)\n",
    "model_svm.fit(X_Train,Y_Train)\n",
    "\n",
    "L = model_svm.predict(X_Test)\n",
    "\n",
    "CM(Y_Test,L)"
   ]
  },
  {
   "cell_type": "code",
   "execution_count": null,
   "metadata": {},
   "outputs": [],
   "source": [
    "linspace = np.linspace( -5,5,100 )\n",
    "grid     = np.meshgrid( linspace,linspace )\n",
    "grid     = np.array(grid)\n",
    "s        = grid.shape\n",
    "grid     = grid.reshape(s[0],s[1]*s[2])\n",
    "grid     = np.concatenate( (grid,np.zeros(s[1]*s[2])[np.newaxis] )    )\n",
    "\n",
    "LP = model_svm.predict_proba(grid.T)\n",
    "plt.imshow( LP[:,0].reshape(s[1],s[2]),cmap='inferno' )"
   ]
  },
  {
   "cell_type": "code",
   "execution_count": null,
   "metadata": {},
   "outputs": [],
   "source": [
    "from sklearn.datasets import make_circles\n",
    "\n",
    "X, Y = make_circles(n_samples=1000, factor=.3, noise=.05)\n",
    "\n",
    "plt.figure(figsize=(8,8))\n",
    "plt.plot( X[Y==0,0],X[Y==0,1],'ro' )\n",
    "plt.plot( X[Y==1,0],X[Y==1,1],'bo' )"
   ]
  },
  {
   "cell_type": "code",
   "execution_count": null,
   "metadata": {},
   "outputs": [],
   "source": [
    "idxtrain, idxtest = gen_index( X.shape[0],.8 )\n",
    "\n",
    "X_Train = X[idxtrain]\n",
    "Y_Train = Y[idxtrain]\n",
    "\n",
    "X_Test  = X[idxtest]\n",
    "Y_Test  = Y[idxtest]"
   ]
  },
  {
   "cell_type": "code",
   "execution_count": null,
   "metadata": {},
   "outputs": [],
   "source": [
    "#model_svm = svm(kernel='linear',probability=True)\n",
    "model_svm = svm(kernel='rbf',probability=True)\n",
    "model_svm.fit(X_Train,Y_Train)\n",
    "\n",
    "L = model_svm.predict(X_Test)\n",
    "\n",
    "CM(Y_Test,L)"
   ]
  },
  {
   "cell_type": "code",
   "execution_count": null,
   "metadata": {
    "scrolled": true
   },
   "outputs": [],
   "source": [
    "plot_borders(model_svm)"
   ]
  },
  {
   "cell_type": "code",
   "execution_count": null,
   "metadata": {},
   "outputs": [],
   "source": [
    "M = np.array( [0,0] )\n",
    "S = np.array([[3,0],\n",
    "              [0,3] ] )\n",
    "N = 400\n",
    "X = np.random.multivariate_normal(M,S,N)\n",
    "Y = -2*( X.prod(axis=1) < 0 ) + 1\n",
    "\n",
    "plt.figure(figsize=(8,8))\n",
    "plt.plot( X[Y==-1,0],X[Y==-1,1],'ro' )\n",
    "plt.plot( X[Y== 1,0],X[Y== 1,1],'bo' )"
   ]
  },
  {
   "cell_type": "code",
   "execution_count": null,
   "metadata": {},
   "outputs": [],
   "source": [
    "idxtrain, idxtest = gen_index( X.shape[0],.8 )\n",
    "\n",
    "X_Train = X[idxtrain]\n",
    "Y_Train = Y[idxtrain]\n",
    "\n",
    "X_Test  = X[idxtest]\n",
    "Y_Test  = Y[idxtest]\n",
    "\n",
    "model_svm = svm(kernel='rbf',probability=True)\n",
    "model_svm.fit(X_Train,Y_Train)\n",
    "\n",
    "L = model_svm.predict(X_Test)\n",
    "\n",
    "CM(Y_Test,L)"
   ]
  },
  {
   "cell_type": "code",
   "execution_count": null,
   "metadata": {},
   "outputs": [],
   "source": [
    "plot_borders(model_svm)"
   ]
  }
 ],
 "metadata": {
  "kernelspec": {
   "display_name": "Python 3",
   "language": "python",
   "name": "python3"
  },
  "language_info": {
   "codemirror_mode": {
    "name": "ipython",
    "version": 3
   },
   "file_extension": ".py",
   "mimetype": "text/x-python",
   "name": "python",
   "nbconvert_exporter": "python",
   "pygments_lexer": "ipython3",
   "version": "3.6.9"
  }
 },
 "nbformat": 4,
 "nbformat_minor": 4
}
