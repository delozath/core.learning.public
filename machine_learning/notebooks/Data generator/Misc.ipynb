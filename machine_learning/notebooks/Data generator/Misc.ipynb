{
 "cells": [
  {
   "cell_type": "code",
   "execution_count": null,
   "metadata": {},
   "outputs": [],
   "source": [
    "import numpy  as np\n",
    "import pandas as pd\n",
    "\n",
    "from matplotlib import pyplot as plt\n",
    "\n",
    "plt.style.use('bmh')"
   ]
  },
  {
   "cell_type": "code",
   "execution_count": null,
   "metadata": {},
   "outputs": [],
   "source": [
    "def gen_index(N=300, P=.7):\n",
    "    indx  = np.arange(N)\n",
    "    np.random.shuffle(indx)\n",
    "    itrain, itest = indx[ :int(N*P) ], indx[ int(N*P): ]\n",
    "    return itrain.copy(), itest.copy()"
   ]
  },
  {
   "cell_type": "code",
   "execution_count": null,
   "metadata": {},
   "outputs": [],
   "source": [
    "def plot_borders(model, x_0=-5, x_1=5, r=100):\n",
    "    linspace = np.linspace( x_0,x_1,r )\n",
    "    grid     = np.meshgrid( linspace,linspace )\n",
    "    grid     = np.array(grid)\n",
    "    s        = grid.shape\n",
    "    grid     = grid.reshape(s[0],s[1]*s[2])\n",
    "\n",
    "    LP = model.predict_proba(grid.T)\n",
    "    plt.figure(figsize=(8,8))\n",
    "    plt.imshow( LP[:,1].reshape(s[1],s[2]),cmap='inferno' )"
   ]
  },
  {
   "cell_type": "code",
   "execution_count": null,
   "metadata": {},
   "outputs": [],
   "source": [
    "from sklearn.datasets import make_circles\n",
    "\n",
    "X, Y = make_circles(n_samples=1000, factor=.3, noise=.05)\n",
    "\n",
    "plt.figure(figsize=(8,8))\n",
    "plt.plot( X[Y==0,0],X[Y==0,1],'ro' )\n",
    "plt.plot( X[Y==1,0],X[Y==1,1],'bo' )"
   ]
  }
 ],
 "metadata": {
  "kernelspec": {
   "display_name": "Python 3",
   "language": "python",
   "name": "python3"
  },
  "language_info": {
   "codemirror_mode": {
    "name": "ipython",
    "version": 3
   },
   "file_extension": ".py",
   "mimetype": "text/x-python",
   "name": "python",
   "nbconvert_exporter": "python",
   "pygments_lexer": "ipython3",
   "version": "3.6.9"
  }
 },
 "nbformat": 4,
 "nbformat_minor": 4
}
