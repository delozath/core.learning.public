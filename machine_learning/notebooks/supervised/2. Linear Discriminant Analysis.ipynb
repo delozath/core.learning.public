{
 "cells": [
  {
   "cell_type": "markdown",
   "metadata": {
    "collapsed": true
   },
   "source": [
    "# 2. Linear Discriminant Analysis"
   ]
  },
  {
   "cell_type": "markdown",
   "metadata": {},
   "source": [
    "## 2.1. Importar bibliotecas estándar\n",
    "$\\sum x_i$"
   ]
  },
  {
   "cell_type": "code",
   "execution_count": null,
   "metadata": {},
   "outputs": [],
   "source": [
    "import os\n",
    "import numpy             as np\n",
    "import pandas            as pd\n",
    "import matplotlib.pyplot as plt\n",
    "\n",
    "#Clasificador LDA\n",
    "from sklearn.discriminant_analysis import LinearDiscriminantAnalysis as LDA"
   ]
  },
  {
   "cell_type": "markdown",
   "metadata": {},
   "source": [
    "## Ejemplo 1. Iris"
   ]
  },
  {
   "cell_type": "code",
   "execution_count": null,
   "metadata": {},
   "outputs": [],
   "source": [
    "data = pd.read_csv( '../../data/iris.csv' )\n",
    "data.shape"
   ]
  },
  {
   "cell_type": "code",
   "execution_count": null,
   "metadata": {},
   "outputs": [],
   "source": [
    "colors = np.array( ['g']*data.shape[0] )\n",
    "colors.shape"
   ]
  },
  {
   "cell_type": "code",
   "execution_count": null,
   "metadata": {},
   "outputs": [],
   "source": [
    "mask = data.type=='Iris-setosa'"
   ]
  },
  {
   "cell_type": "code",
   "execution_count": null,
   "metadata": {},
   "outputs": [],
   "source": [
    "colors[ mask ] = 'r'\n",
    "colors"
   ]
  },
  {
   "cell_type": "code",
   "execution_count": null,
   "metadata": {},
   "outputs": [],
   "source": [
    "pd.plotting.scatter_matrix(data, figsize=(8, 8),alpha=.8,s=100,color=colors)\n",
    "plt.show()"
   ]
  },
  {
   "cell_type": "code",
   "execution_count": null,
   "metadata": {},
   "outputs": [],
   "source": [
    "data.loc[50:,'type']"
   ]
  },
  {
   "cell_type": "markdown",
   "metadata": {},
   "source": [
    "### Seleccionar rasgos"
   ]
  },
  {
   "cell_type": "code",
   "execution_count": null,
   "metadata": {},
   "outputs": [],
   "source": [
    "X = data.loc[:99,['sepal_l','sepal_w','petal_l','petal_w']]\n",
    "X"
   ]
  },
  {
   "cell_type": "code",
   "execution_count": null,
   "metadata": {},
   "outputs": [],
   "source": [
    "b = np.ones(X.shape[0])[:,np.newaxis]\n",
    "b"
   ]
  },
  {
   "cell_type": "markdown",
   "metadata": {},
   "source": [
    "### Crear etiquetas"
   ]
  },
  {
   "cell_type": "code",
   "execution_count": null,
   "metadata": {},
   "outputs": [],
   "source": [
    "#Crea etiquetas -1 y 1 para resolver el problema de clasificar\n",
    "# entre dos clases\n",
    "L = -2*(data.loc[:99,'type']=='Iris-setosa') + 1\n",
    "L"
   ]
  },
  {
   "cell_type": "markdown",
   "metadata": {},
   "source": [
    "## Entrenamiento para clasificar entre dos tipos de flor\n",
    "### Partir conjuntos de entrenamiento y prueba"
   ]
  },
  {
   "cell_type": "code",
   "execution_count": null,
   "metadata": {},
   "outputs": [],
   "source": [
    "N   = np.ceil( X.shape[0]*.6 ).astype('int')\n",
    "N"
   ]
  },
  {
   "cell_type": "code",
   "execution_count": null,
   "metadata": {},
   "outputs": [],
   "source": [
    "sel = np.arange( X.shape[0] )\n",
    "sel"
   ]
  },
  {
   "cell_type": "code",
   "execution_count": null,
   "metadata": {},
   "outputs": [],
   "source": [
    "# Para evitar sesgo del clasificador es necesario entrenar y probar\n",
    "# seleccionando aleatoriamente los datos de cada conjunto\n",
    "np.random.shuffle(sel)\n",
    "print (N)\n",
    "print (sel)"
   ]
  },
  {
   "cell_type": "code",
   "execution_count": null,
   "metadata": {},
   "outputs": [],
   "source": [
    "# Mostrar los índices con los que se entrenará\n",
    "sel[:N]"
   ]
  },
  {
   "cell_type": "code",
   "execution_count": null,
   "metadata": {},
   "outputs": [],
   "source": [
    "# Mostrar los índices con los que se evaluará\n",
    "sel[N:]"
   ]
  },
  {
   "cell_type": "markdown",
   "metadata": {},
   "source": [
    "### Entrenar"
   ]
  },
  {
   "cell_type": "code",
   "execution_count": null,
   "metadata": {},
   "outputs": [],
   "source": [
    "model = LDA()\n",
    "model.fit(X.loc[ sel[:N] ], L[ sel[:N] ])"
   ]
  },
  {
   "cell_type": "markdown",
   "metadata": {},
   "source": [
    "### Evaluar en un conjunto de datos no vistos"
   ]
  },
  {
   "cell_type": "code",
   "execution_count": null,
   "metadata": {},
   "outputs": [],
   "source": [
    "L_predict = model.predict( X.loc[ sel[N:] ] )"
   ]
  },
  {
   "cell_type": "code",
   "execution_count": null,
   "metadata": {},
   "outputs": [],
   "source": [
    "from sklearn.metrics import classification_report as report\n",
    "\n",
    "classes = ['Iris Setosa','Otras']\n",
    "print ( report( L[ sel[N:] ],L_predict,target_names=classes ) )"
   ]
  },
  {
   "cell_type": "markdown",
   "metadata": {},
   "source": [
    "### Interpretación de matriz de confusión [link](https://bit.ly/2Rb68oP)"
   ]
  },
  {
   "cell_type": "code",
   "execution_count": null,
   "metadata": {},
   "outputs": [],
   "source": [
    "from sklearn.metrics import confusion_matrix as cmx\n",
    "\n",
    "print ( cmx( L[ sel[N:] ],L_predict ) )"
   ]
  },
  {
   "cell_type": "markdown",
   "metadata": {},
   "source": [
    "### Parametros adicionales"
   ]
  },
  {
   "cell_type": "code",
   "execution_count": null,
   "metadata": {},
   "outputs": [],
   "source": [
    "#imprimir todos los métodos y atributos de un objeto\n",
    "print (dir(model))"
   ]
  },
  {
   "cell_type": "code",
   "execution_count": null,
   "metadata": {},
   "outputs": [],
   "source": [
    "print ( model.coef_ )"
   ]
  },
  {
   "cell_type": "code",
   "execution_count": null,
   "metadata": {},
   "outputs": [],
   "source": [
    "print ( model.intercept_ )"
   ]
  },
  {
   "cell_type": "markdown",
   "metadata": {},
   "source": [
    "## Hasta aquí revisamos en la segunda sesión"
   ]
  },
  {
   "cell_type": "markdown",
   "metadata": {},
   "source": [
    "## Ejemplo 2. Problema de tres clases"
   ]
  },
  {
   "cell_type": "code",
   "execution_count": null,
   "metadata": {},
   "outputs": [],
   "source": [
    "X = data.loc[:,['sepal_l','sepal_w','petal_l','petal_w']]\n",
    "X"
   ]
  },
  {
   "cell_type": "code",
   "execution_count": null,
   "metadata": {},
   "outputs": [],
   "source": [
    "N   = np.ceil( .6*X.shape[0]/3. ).astype('int')\n",
    "sel = np.arange( X.shape[0]/3 )\n",
    "np.random.shuffle(sel)\n",
    "\n",
    "print (N)\n",
    "print (sel)"
   ]
  },
  {
   "cell_type": "code",
   "execution_count": null,
   "metadata": {},
   "outputs": [],
   "source": [
    "X      = X.values\n",
    "X      = X.reshape( 3,50,4 )\n",
    "XTrain = X[ :,sel[:N] ] \n",
    "XTest  = X[ :,sel[N:] ] "
   ]
  },
  {
   "cell_type": "code",
   "execution_count": null,
   "metadata": {},
   "outputs": [],
   "source": [
    "Y = np.array( [1,2,3]*50 ).reshape(50,3)\n",
    "print (Y)"
   ]
  },
  {
   "cell_type": "code",
   "execution_count": null,
   "metadata": {},
   "outputs": [],
   "source": [
    "YTrain = Y[ sel[:N] ].flatten()\n",
    "YTest  = Y[ sel[N:] ].flatten()"
   ]
  },
  {
   "cell_type": "code",
   "execution_count": null,
   "metadata": {
    "scrolled": true
   },
   "outputs": [],
   "source": [
    "# Organizar en matrices NxM\n",
    "XTrain = XTrain.reshape( np.product( XTrain.shape[0:2] ),\n",
    "                         XTrain.shape[-1]  )\n",
    "XTest  = XTest .reshape( np.product( XTest.shape[0:2] ),\n",
    "                         XTest.shape[-1]  )\n",
    "print (XTrain.shape)\n",
    "print (XTest .shape)\n",
    "\n",
    "# Entrenar modelo\n",
    "model = LDA()\n",
    "model.fit(XTrain, YTrain)"
   ]
  },
  {
   "cell_type": "markdown",
   "metadata": {},
   "source": [
    "#### Tarea. Evaluar el desempeño y discutir sus resultados"
   ]
  },
  {
   "cell_type": "markdown",
   "metadata": {},
   "source": [
    "## Ejemplo 3. Monitorea de actividad"
   ]
  },
  {
   "cell_type": "markdown",
   "metadata": {},
   "source": [
    "## 2.2. Cargar archivo [Human Activity Recognition with Smartphones (Simplified)](https://www.kaggle.com/mboaglio/simplifiedhuarus)"
   ]
  },
  {
   "cell_type": "code",
   "execution_count": null,
   "metadata": {},
   "outputs": [],
   "source": [
    "data = pd.read_csv( '../../data/wearable-train.csv' )"
   ]
  },
  {
   "cell_type": "markdown",
   "metadata": {},
   "source": [
    "## 2.3. Despliegue de los datos"
   ]
  },
  {
   "cell_type": "code",
   "execution_count": null,
   "metadata": {},
   "outputs": [],
   "source": [
    "data"
   ]
  },
  {
   "cell_type": "markdown",
   "metadata": {},
   "source": [
    "#### ¿Cuántos rasgos (columnas) tiene esta base de datos? ¿Qué implicaciones tiene?"
   ]
  },
  {
   "cell_type": "markdown",
   "metadata": {},
   "source": [
    "## Análisis"
   ]
  },
  {
   "cell_type": "code",
   "execution_count": null,
   "metadata": {},
   "outputs": [],
   "source": [
    "data.describe()"
   ]
  },
  {
   "cell_type": "markdown",
   "metadata": {},
   "source": [
    "### Seleccionando aceleración media del cuerpo en los tres ejes"
   ]
  },
  {
   "cell_type": "code",
   "execution_count": null,
   "metadata": {},
   "outputs": [],
   "source": [
    "fts = ['tBodyAcc.mean.X','tBodyAcc.mean.Y','tBodyAcc.mean.Z'] \n",
    "data[ data.activity=='LAYING' ].loc[:, fts ]"
   ]
  },
  {
   "cell_type": "markdown",
   "metadata": {},
   "source": [
    "## Clasificar entre caminar y estar acostado"
   ]
  },
  {
   "cell_type": "markdown",
   "metadata": {},
   "source": [
    "### Construir la base de datos de entrenamiento"
   ]
  },
  {
   "cell_type": "code",
   "execution_count": null,
   "metadata": {},
   "outputs": [],
   "source": [
    "fts  = ['tBodyAcc.mean.X','tBodyAcc.mean.Y','tBodyAcc.mean.Z']\n",
    "X_C1 = data[ data.activity=='LAYING' ].loc[:, fts ]\n",
    "L_C1 = -np.ones( X_C1.shape[0] )"
   ]
  },
  {
   "cell_type": "code",
   "execution_count": null,
   "metadata": {},
   "outputs": [],
   "source": [
    "X_C2 = data[ data.activity=='WALKING' ].loc[:, fts ]\n",
    "L_C2 = np.ones( X_C2.shape[0] )\n",
    "\n",
    "print (X_C1.shape)\n",
    "print (X_C2.shape)"
   ]
  },
  {
   "cell_type": "code",
   "execution_count": null,
   "metadata": {},
   "outputs": [],
   "source": [
    "X_Train = np.concatenate( (X_C1,X_C2),axis=0 )\n",
    "\n",
    "print (X_Train.shape)\n",
    "print (L_C1.shape)\n",
    "print (L_C2.shape)"
   ]
  },
  {
   "cell_type": "code",
   "execution_count": null,
   "metadata": {},
   "outputs": [],
   "source": [
    "L_Train = np.concatenate( (L_C1,L_C2) )\n",
    "print (L_Train)"
   ]
  },
  {
   "cell_type": "code",
   "execution_count": null,
   "metadata": {},
   "outputs": [],
   "source": [
    "colors = np.array( ['r']*L_Train.shape[0] )\n",
    "colors[L_Train==-1] = 'b'\n",
    "print (colors)"
   ]
  },
  {
   "cell_type": "code",
   "execution_count": null,
   "metadata": {},
   "outputs": [],
   "source": [
    "pd.plotting.scatter_matrix( pd.DataFrame(X_Train), figsize=(6, 6),alpha=.8,s=100,color=colors)\n",
    "plt.show()"
   ]
  },
  {
   "cell_type": "markdown",
   "metadata": {},
   "source": [
    "### La media resulto ser un mal rasgo"
   ]
  },
  {
   "cell_type": "code",
   "execution_count": null,
   "metadata": {},
   "outputs": [],
   "source": [
    "fts  = ['tBodyAcc.std.X','tBodyAcc.std.Y','tBodyAcc.std.Z']\n",
    "X_C1 = data[ data.activity=='LAYING' ].loc[:, fts ]\n",
    "L_C1 = -np.ones( X_C1.shape[0] )\n",
    "X_C2 = data[ data.activity=='WALKING' ].loc[:, fts ]\n",
    "L_C2 = np.ones( X_C2.shape[0] )\n",
    "\n",
    "X_Train = np.concatenate( (X_C1,X_C2),axis=0 )\n",
    "L_Train = np.concatenate( (L_C1,L_C2) )\n",
    "\n",
    "colors = np.array( ['r']*L_Train.shape[0] )\n",
    "colors[L_Train==-1] = 'b'\n",
    "\n",
    "pd.plotting.scatter_matrix( pd.DataFrame(X_Train), figsize=(6, 6),alpha=.8,s=100,color=colors)\n",
    "plt.show()"
   ]
  },
  {
   "cell_type": "markdown",
   "metadata": {},
   "source": [
    "## Entrenar al clasificador"
   ]
  },
  {
   "cell_type": "markdown",
   "metadata": {},
   "source": [
    "### Partición de datos"
   ]
  },
  {
   "cell_type": "code",
   "execution_count": null,
   "metadata": {},
   "outputs": [],
   "source": [
    "N   = np.ceil( X_Train.shape[0]*.7 ).astype('int')\n",
    "sel = np.arange( X_Train.shape[0] )\n",
    "np.random.shuffle(sel)\n",
    "\n",
    "print (N)\n",
    "print (sel)"
   ]
  },
  {
   "cell_type": "markdown",
   "metadata": {},
   "source": [
    "### Crear objeto LDA para entrenar con datos X_Train, L_Train -> (Clasificador supervisado)"
   ]
  },
  {
   "cell_type": "code",
   "execution_count": null,
   "metadata": {},
   "outputs": [],
   "source": [
    "model = LDA()\n",
    "model.fit(X_Train[ sel[:N] ], L_Train[ sel[:N] ])"
   ]
  },
  {
   "cell_type": "markdown",
   "metadata": {},
   "source": [
    "### Clasificar con el método"
   ]
  },
  {
   "cell_type": "code",
   "execution_count": null,
   "metadata": {},
   "outputs": [],
   "source": [
    "L_predict = model.predict( X_Train[ sel[N:] ] )"
   ]
  },
  {
   "cell_type": "markdown",
   "metadata": {},
   "source": [
    "### Evaluación de desempeño"
   ]
  },
  {
   "cell_type": "code",
   "execution_count": null,
   "metadata": {},
   "outputs": [],
   "source": [
    "from sklearn.metrics import classification_report as report\n",
    "\n",
    "classes = ['Laying','Walking']\n",
    "print ( report( L_Train[ sel[N:] ],L_predict,target_names=classes ) )"
   ]
  },
  {
   "cell_type": "markdown",
   "metadata": {},
   "source": [
    "#### Tarea. Evalue el desempeño con la matriz de confusión y discuta sus resultados"
   ]
  },
  {
   "cell_type": "markdown",
   "metadata": {},
   "source": [
    "## Repita el procedimiento para clasificación entre sujeto caminando y de pie. Discuta sus resultados e implemente este último script en la Raspberry Pi."
   ]
  }
 ],
 "metadata": {
  "kernelspec": {
   "display_name": "Python 3",
   "language": "python",
   "name": "python3"
  },
  "language_info": {
   "codemirror_mode": {
    "name": "ipython",
    "version": 3
   },
   "file_extension": ".py",
   "mimetype": "text/x-python",
   "name": "python",
   "nbconvert_exporter": "python",
   "pygments_lexer": "ipython3",
   "version": "3.8.2"
  }
 },
 "nbformat": 4,
 "nbformat_minor": 2
}
