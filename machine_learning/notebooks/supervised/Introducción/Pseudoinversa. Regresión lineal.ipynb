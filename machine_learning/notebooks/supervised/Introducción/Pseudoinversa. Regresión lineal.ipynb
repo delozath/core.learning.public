{
 "cells": [
  {
   "cell_type": "code",
   "execution_count": null,
   "metadata": {},
   "outputs": [],
   "source": [
    "import numpy             as np\n",
    "import matplotlib.pyplot as plt"
   ]
  },
  {
   "cell_type": "code",
   "execution_count": null,
   "metadata": {},
   "outputs": [],
   "source": [
    "t  = np.linspace(0,2*np.pi,100)\n",
    "ft = np.sin(t)"
   ]
  },
  {
   "cell_type": "code",
   "execution_count": null,
   "metadata": {},
   "outputs": [],
   "source": [
    "def pseudo_inv (X: np.array, Y: np.array)->np.array:\n",
    "    \"\"\"\n",
    "      Compute the pseudoinverse matrix for regression/classification\n",
    "        -> pinv = (X^T X)^-1 X^T y\n",
    "        \n",
    "      @param X: -> shape = (n_samples,k_features)\n",
    "      @param Y: -> shape = (n_samples,1)\n",
    "      \n",
    "      @return pinv: -> shape = (k_features,1)\n",
    "    \"\"\"\n",
    "    pinv = np.dot( X.T,X )\n",
    "    pinv = np.linalg.inv(pinv)\n",
    "    pinv = np.dot( pinv,X.T )\n",
    "    pinv = np.dot( pinv,Y   )\n",
    "    \n",
    "    return pinv"
   ]
  },
  {
   "cell_type": "code",
   "execution_count": null,
   "metadata": {},
   "outputs": [],
   "source": [
    "def plot_di(X,Y,L):\n",
    "    plt.figure( figsize=(10,5) )\n",
    "    plt.plot(X,Y,'o',markersize=20)\n",
    "    plt.plot(X,L,color='orange',linewidth=3)\n",
    "    \n",
    "    for i,j,k in zip(X,Y,L):\n",
    "        plt.arrow(i,k,0,j-k,color='black')\n",
    "\n",
    "    plt.grid(True)"
   ]
  },
  {
   "cell_type": "code",
   "execution_count": null,
   "metadata": {},
   "outputs": [],
   "source": []
  },
  {
   "cell_type": "code",
   "execution_count": null,
   "metadata": {},
   "outputs": [],
   "source": [
    "plt.figure( figsize=(10,5) )\n",
    "plt.plot(t[::10],ft[::10],'o',markersize=20)\n",
    "plt.plot(t      ,ft      ,color='orange',linewidth=4)\n",
    "\n",
    "plt.grid(True)"
   ]
  },
  {
   "cell_type": "code",
   "execution_count": null,
   "metadata": {},
   "outputs": [],
   "source": [
    "plt.figure( figsize=(10,5) )\n",
    "plt.plot(t[::10],ft[::10],'o',markersize=20)\n",
    "plt.plot(t      ,ft             ,color='orange',linewidth=4)\n",
    "plt.plot(t[::10],0.5*t[::10]-1.5,color='red'   ,linewidth=4)\n",
    "\n",
    "for i,j,k in zip(t[::10],ft[::10],0.5*t[::10]-1.5):\n",
    "    plt.arrow(i,k,0,j-k,color='black')\n",
    "\n",
    "plt.grid(True)"
   ]
  },
  {
   "cell_type": "code",
   "execution_count": null,
   "metadata": {},
   "outputs": [],
   "source": [
    "X_Train = t [::10][:,np.newaxis]\n",
    "Y_Train = ft[::10][:,np.newaxis]\n",
    "Ones    = np.ones( X_Train.shape[0] )[:,np.newaxis]\n",
    "\n",
    "w = pseudo_inv(  np.concatenate( (X_Train,Ones),axis=-1 ),Y_Train  )"
   ]
  },
  {
   "cell_type": "code",
   "execution_count": null,
   "metadata": {},
   "outputs": [],
   "source": [
    "X_Test = t [1::7][:,np.newaxis]\n",
    "Y_Test = ft[1::7][:,np.newaxis]\n",
    "Ones   = np.ones( X_Test.shape[0] )[:,np.newaxis]\n",
    "\n",
    "Y_Lab  = np.dot(  np.concatenate( (X_Test,Ones),axis=-1 ),w  )"
   ]
  },
  {
   "cell_type": "code",
   "execution_count": null,
   "metadata": {},
   "outputs": [],
   "source": [
    "plot_di( X_Test[:,0],Y_Test[:,0],Y_Lab[:,0] )"
   ]
  },
  {
   "cell_type": "code",
   "execution_count": null,
   "metadata": {},
   "outputs": [],
   "source": [
    "X_Train = t [::10][:,np.newaxis]\n",
    "Y_Train = ft[::10][:,np.newaxis]\n",
    "Ones    = np.ones( X_Train.shape[0] )[:,np.newaxis]\n",
    "\n",
    "w2 = pseudo_inv(  np.concatenate( (X_Train**2, X_Train,Ones),axis=-1 ),Y_Train  )\n",
    "\n",
    "X_Test = t [1::7][:,np.newaxis]\n",
    "Y_Test = ft[1::7][:,np.newaxis]\n",
    "Ones   = np.ones( X_Test.shape[0] )[:,np.newaxis]\n",
    "\n",
    "Y_Lab  = np.dot(  np.concatenate( (X_Test**2,X_Test,Ones),axis=-1 ),w2  )\n",
    "\n",
    "plot_di( X_Test[:,0],Y_Test[:,0],Y_Lab[:,0] )"
   ]
  },
  {
   "cell_type": "code",
   "execution_count": null,
   "metadata": {},
   "outputs": [],
   "source": [
    "X_Train = t [::10][:,np.newaxis]\n",
    "Y_Train = ft[::10][:,np.newaxis]\n",
    "Ones    = np.ones( X_Train.shape[0] )[:,np.newaxis]\n",
    "\n",
    "w3 = pseudo_inv(  np.concatenate( (X_Train**4,X_Train**3,X_Train**2, X_Train,Ones),axis=-1 ),Y_Train  )\n",
    "\n",
    "X_Test = t [1::7][:,np.newaxis]\n",
    "Y_Test = ft[1::7][:,np.newaxis]\n",
    "Ones   = np.ones( X_Test.shape[0] )[:,np.newaxis]\n",
    "\n",
    "Y_Lab  = np.dot(  np.concatenate( (X_Test**4,X_Test**3,X_Test**2,X_Test,Ones),axis=-1 ),w3  )\n",
    "\n",
    "plot_di( X_Test[:,0],Y_Test[:,0],Y_Lab[:,0] )"
   ]
  },
  {
   "cell_type": "code",
   "execution_count": null,
   "metadata": {},
   "outputs": [],
   "source": [
    "print('{}\\n\\n{}\\n\\n{}'.format( str(w),str(w2),str(w3) ) )"
   ]
  },
  {
   "cell_type": "code",
   "execution_count": null,
   "metadata": {},
   "outputs": [],
   "source": [
    "X_Train  = t [::10][:,np.newaxis]\n",
    "Y_Train  = ft[::10]\n",
    "Y_Train += np.random.normal(0,.3,Y_Train.shape[0])\n",
    "Y_Train  = Y_Train[:,np.newaxis]\n",
    "Ones     = np.ones( X_Train.shape[0] )[:,np.newaxis]\n",
    "\n",
    "w3 = pseudo_inv(  np.concatenate( (X_Train**4,X_Train**3,X_Train**2, X_Train,Ones),axis=-1 ),Y_Train  )\n",
    "\n",
    "X_Test  = t [1::4][:,np.newaxis]\n",
    "Y_Test  = ft[1::4]\n",
    "Y_Test += np.random.normal(0,.1,Y_Test.shape[0])\n",
    "Y_Test  = Y_Test[:,np.newaxis]\n",
    "Ones    = np.ones( X_Test.shape[0] )[:,np.newaxis]\n",
    "\n",
    "Y_Lab  = np.dot(  np.concatenate( (X_Test**4,X_Test**3,X_Test**2,X_Test,Ones),axis=-1 ),w3  )\n",
    "\n",
    "plot_di( X_Test[:,0],Y_Test[:,0],Y_Lab[:,0] )"
   ]
  },
  {
   "cell_type": "code",
   "execution_count": null,
   "metadata": {},
   "outputs": [],
   "source": [
    "print('{}'.format( str(w3) ) )"
   ]
  }
 ],
 "metadata": {
  "kernelspec": {
   "display_name": "Python 3",
   "language": "python",
   "name": "python3"
  },
  "language_info": {
   "codemirror_mode": {
    "name": "ipython",
    "version": 3
   },
   "file_extension": ".py",
   "mimetype": "text/x-python",
   "name": "python",
   "nbconvert_exporter": "python",
   "pygments_lexer": "ipython3",
   "version": "3.6.9"
  }
 },
 "nbformat": 4,
 "nbformat_minor": 2
}
