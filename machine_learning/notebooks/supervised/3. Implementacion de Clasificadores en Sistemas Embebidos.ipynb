{
 "cells": [
  {
   "cell_type": "markdown",
   "metadata": {
    "collapsed": true
   },
   "source": [
    "# 2. Linear Discriminant Analysis"
   ]
  },
  {
   "cell_type": "markdown",
   "metadata": {},
   "source": [
    "## 2.1. Importar bibliotecas estándar"
   ]
  },
  {
   "cell_type": "code",
   "execution_count": 2,
   "metadata": {},
   "outputs": [],
   "source": [
    "import os\n",
    "import numpy             as np\n",
    "import pandas            as pd\n",
    "import matplotlib.pyplot as plt\n",
    "\n",
    "from sklearn.utils   import shuffle\n",
    "from sklearn.metrics import confusion_matrix as cmx\n",
    "\n",
    "#Clasificador LDA\n",
    "from sklearn.discriminant_analysis import LinearDiscriminantAnalysis as LDA"
   ]
  },
  {
   "cell_type": "markdown",
   "metadata": {},
   "source": [
    "## Ejemplo 1. Iris"
   ]
  },
  {
   "cell_type": "code",
   "execution_count": 3,
   "metadata": {},
   "outputs": [
    {
     "data": {
      "text/plain": [
       "(150, 5)"
      ]
     },
     "execution_count": 3,
     "metadata": {},
     "output_type": "execute_result"
    }
   ],
   "source": [
    "data = pd.read_csv( '../data/iris.csv' )\n",
    "data.shape"
   ]
  },
  {
   "cell_type": "code",
   "execution_count": 4,
   "metadata": {},
   "outputs": [
    {
     "data": {
      "text/html": [
       "<div>\n",
       "<style scoped>\n",
       "    .dataframe tbody tr th:only-of-type {\n",
       "        vertical-align: middle;\n",
       "    }\n",
       "\n",
       "    .dataframe tbody tr th {\n",
       "        vertical-align: top;\n",
       "    }\n",
       "\n",
       "    .dataframe thead th {\n",
       "        text-align: right;\n",
       "    }\n",
       "</style>\n",
       "<table border=\"1\" class=\"dataframe\">\n",
       "  <thead>\n",
       "    <tr style=\"text-align: right;\">\n",
       "      <th></th>\n",
       "      <th>sepal_l</th>\n",
       "      <th>sepal_w</th>\n",
       "      <th>petal_l</th>\n",
       "      <th>petal_w</th>\n",
       "      <th>type</th>\n",
       "    </tr>\n",
       "  </thead>\n",
       "  <tbody>\n",
       "    <tr>\n",
       "      <th>70</th>\n",
       "      <td>5.9</td>\n",
       "      <td>3.2</td>\n",
       "      <td>4.8</td>\n",
       "      <td>1.8</td>\n",
       "      <td>Iris-versicolor</td>\n",
       "    </tr>\n",
       "    <tr>\n",
       "      <th>28</th>\n",
       "      <td>5.2</td>\n",
       "      <td>3.4</td>\n",
       "      <td>1.4</td>\n",
       "      <td>0.2</td>\n",
       "      <td>Iris-setosa</td>\n",
       "    </tr>\n",
       "    <tr>\n",
       "      <th>117</th>\n",
       "      <td>7.7</td>\n",
       "      <td>3.8</td>\n",
       "      <td>6.7</td>\n",
       "      <td>2.2</td>\n",
       "      <td>Iris-virginica</td>\n",
       "    </tr>\n",
       "    <tr>\n",
       "      <th>24</th>\n",
       "      <td>4.8</td>\n",
       "      <td>3.4</td>\n",
       "      <td>1.9</td>\n",
       "      <td>0.2</td>\n",
       "      <td>Iris-setosa</td>\n",
       "    </tr>\n",
       "    <tr>\n",
       "      <th>9</th>\n",
       "      <td>4.9</td>\n",
       "      <td>3.1</td>\n",
       "      <td>1.5</td>\n",
       "      <td>0.1</td>\n",
       "      <td>Iris-setosa</td>\n",
       "    </tr>\n",
       "    <tr>\n",
       "      <th>125</th>\n",
       "      <td>7.2</td>\n",
       "      <td>3.2</td>\n",
       "      <td>6.0</td>\n",
       "      <td>1.8</td>\n",
       "      <td>Iris-virginica</td>\n",
       "    </tr>\n",
       "    <tr>\n",
       "      <th>43</th>\n",
       "      <td>5.0</td>\n",
       "      <td>3.5</td>\n",
       "      <td>1.6</td>\n",
       "      <td>0.6</td>\n",
       "      <td>Iris-setosa</td>\n",
       "    </tr>\n",
       "    <tr>\n",
       "      <th>21</th>\n",
       "      <td>5.1</td>\n",
       "      <td>3.7</td>\n",
       "      <td>1.5</td>\n",
       "      <td>0.4</td>\n",
       "      <td>Iris-setosa</td>\n",
       "    </tr>\n",
       "    <tr>\n",
       "      <th>148</th>\n",
       "      <td>6.2</td>\n",
       "      <td>3.4</td>\n",
       "      <td>5.4</td>\n",
       "      <td>2.3</td>\n",
       "      <td>Iris-virginica</td>\n",
       "    </tr>\n",
       "    <tr>\n",
       "      <th>109</th>\n",
       "      <td>7.2</td>\n",
       "      <td>3.6</td>\n",
       "      <td>6.1</td>\n",
       "      <td>2.5</td>\n",
       "      <td>Iris-virginica</td>\n",
       "    </tr>\n",
       "    <tr>\n",
       "      <th>59</th>\n",
       "      <td>5.2</td>\n",
       "      <td>2.7</td>\n",
       "      <td>3.9</td>\n",
       "      <td>1.4</td>\n",
       "      <td>Iris-versicolor</td>\n",
       "    </tr>\n",
       "    <tr>\n",
       "      <th>49</th>\n",
       "      <td>5.0</td>\n",
       "      <td>3.3</td>\n",
       "      <td>1.4</td>\n",
       "      <td>0.2</td>\n",
       "      <td>Iris-setosa</td>\n",
       "    </tr>\n",
       "    <tr>\n",
       "      <th>44</th>\n",
       "      <td>5.1</td>\n",
       "      <td>3.8</td>\n",
       "      <td>1.9</td>\n",
       "      <td>0.4</td>\n",
       "      <td>Iris-setosa</td>\n",
       "    </tr>\n",
       "    <tr>\n",
       "      <th>2</th>\n",
       "      <td>4.7</td>\n",
       "      <td>3.2</td>\n",
       "      <td>1.3</td>\n",
       "      <td>0.2</td>\n",
       "      <td>Iris-setosa</td>\n",
       "    </tr>\n",
       "    <tr>\n",
       "      <th>136</th>\n",
       "      <td>6.3</td>\n",
       "      <td>3.4</td>\n",
       "      <td>5.6</td>\n",
       "      <td>2.4</td>\n",
       "      <td>Iris-virginica</td>\n",
       "    </tr>\n",
       "    <tr>\n",
       "      <th>98</th>\n",
       "      <td>5.1</td>\n",
       "      <td>2.5</td>\n",
       "      <td>3.0</td>\n",
       "      <td>1.1</td>\n",
       "      <td>Iris-versicolor</td>\n",
       "    </tr>\n",
       "    <tr>\n",
       "      <th>7</th>\n",
       "      <td>5.0</td>\n",
       "      <td>3.4</td>\n",
       "      <td>1.5</td>\n",
       "      <td>0.2</td>\n",
       "      <td>Iris-setosa</td>\n",
       "    </tr>\n",
       "    <tr>\n",
       "      <th>37</th>\n",
       "      <td>4.9</td>\n",
       "      <td>3.1</td>\n",
       "      <td>1.5</td>\n",
       "      <td>0.1</td>\n",
       "      <td>Iris-setosa</td>\n",
       "    </tr>\n",
       "    <tr>\n",
       "      <th>145</th>\n",
       "      <td>6.7</td>\n",
       "      <td>3.0</td>\n",
       "      <td>5.2</td>\n",
       "      <td>2.3</td>\n",
       "      <td>Iris-virginica</td>\n",
       "    </tr>\n",
       "    <tr>\n",
       "      <th>79</th>\n",
       "      <td>5.7</td>\n",
       "      <td>2.6</td>\n",
       "      <td>3.5</td>\n",
       "      <td>1.0</td>\n",
       "      <td>Iris-versicolor</td>\n",
       "    </tr>\n",
       "    <tr>\n",
       "      <th>69</th>\n",
       "      <td>5.6</td>\n",
       "      <td>2.5</td>\n",
       "      <td>3.9</td>\n",
       "      <td>1.1</td>\n",
       "      <td>Iris-versicolor</td>\n",
       "    </tr>\n",
       "    <tr>\n",
       "      <th>40</th>\n",
       "      <td>5.0</td>\n",
       "      <td>3.5</td>\n",
       "      <td>1.3</td>\n",
       "      <td>0.3</td>\n",
       "      <td>Iris-setosa</td>\n",
       "    </tr>\n",
       "    <tr>\n",
       "      <th>72</th>\n",
       "      <td>6.3</td>\n",
       "      <td>2.5</td>\n",
       "      <td>4.9</td>\n",
       "      <td>1.5</td>\n",
       "      <td>Iris-versicolor</td>\n",
       "    </tr>\n",
       "    <tr>\n",
       "      <th>127</th>\n",
       "      <td>6.1</td>\n",
       "      <td>3.0</td>\n",
       "      <td>4.9</td>\n",
       "      <td>1.8</td>\n",
       "      <td>Iris-virginica</td>\n",
       "    </tr>\n",
       "    <tr>\n",
       "      <th>133</th>\n",
       "      <td>6.3</td>\n",
       "      <td>2.8</td>\n",
       "      <td>5.1</td>\n",
       "      <td>1.5</td>\n",
       "      <td>Iris-virginica</td>\n",
       "    </tr>\n",
       "    <tr>\n",
       "      <th>132</th>\n",
       "      <td>6.4</td>\n",
       "      <td>2.8</td>\n",
       "      <td>5.6</td>\n",
       "      <td>2.2</td>\n",
       "      <td>Iris-virginica</td>\n",
       "    </tr>\n",
       "    <tr>\n",
       "      <th>12</th>\n",
       "      <td>4.8</td>\n",
       "      <td>3.0</td>\n",
       "      <td>1.4</td>\n",
       "      <td>0.1</td>\n",
       "      <td>Iris-setosa</td>\n",
       "    </tr>\n",
       "    <tr>\n",
       "      <th>92</th>\n",
       "      <td>5.8</td>\n",
       "      <td>2.6</td>\n",
       "      <td>4.0</td>\n",
       "      <td>1.2</td>\n",
       "      <td>Iris-versicolor</td>\n",
       "    </tr>\n",
       "    <tr>\n",
       "      <th>120</th>\n",
       "      <td>6.9</td>\n",
       "      <td>3.2</td>\n",
       "      <td>5.7</td>\n",
       "      <td>2.3</td>\n",
       "      <td>Iris-virginica</td>\n",
       "    </tr>\n",
       "    <tr>\n",
       "      <th>149</th>\n",
       "      <td>5.9</td>\n",
       "      <td>3.0</td>\n",
       "      <td>5.1</td>\n",
       "      <td>1.8</td>\n",
       "      <td>Iris-virginica</td>\n",
       "    </tr>\n",
       "    <tr>\n",
       "      <th>...</th>\n",
       "      <td>...</td>\n",
       "      <td>...</td>\n",
       "      <td>...</td>\n",
       "      <td>...</td>\n",
       "      <td>...</td>\n",
       "    </tr>\n",
       "    <tr>\n",
       "      <th>71</th>\n",
       "      <td>6.1</td>\n",
       "      <td>2.8</td>\n",
       "      <td>4.0</td>\n",
       "      <td>1.3</td>\n",
       "      <td>Iris-versicolor</td>\n",
       "    </tr>\n",
       "    <tr>\n",
       "      <th>19</th>\n",
       "      <td>5.1</td>\n",
       "      <td>3.8</td>\n",
       "      <td>1.5</td>\n",
       "      <td>0.3</td>\n",
       "      <td>Iris-setosa</td>\n",
       "    </tr>\n",
       "    <tr>\n",
       "      <th>55</th>\n",
       "      <td>5.7</td>\n",
       "      <td>2.8</td>\n",
       "      <td>4.5</td>\n",
       "      <td>1.3</td>\n",
       "      <td>Iris-versicolor</td>\n",
       "    </tr>\n",
       "    <tr>\n",
       "      <th>33</th>\n",
       "      <td>5.5</td>\n",
       "      <td>4.2</td>\n",
       "      <td>1.4</td>\n",
       "      <td>0.2</td>\n",
       "      <td>Iris-setosa</td>\n",
       "    </tr>\n",
       "    <tr>\n",
       "      <th>0</th>\n",
       "      <td>5.1</td>\n",
       "      <td>3.5</td>\n",
       "      <td>1.4</td>\n",
       "      <td>0.2</td>\n",
       "      <td>Iris-setosa</td>\n",
       "    </tr>\n",
       "    <tr>\n",
       "      <th>41</th>\n",
       "      <td>4.5</td>\n",
       "      <td>2.3</td>\n",
       "      <td>1.3</td>\n",
       "      <td>0.3</td>\n",
       "      <td>Iris-setosa</td>\n",
       "    </tr>\n",
       "    <tr>\n",
       "      <th>73</th>\n",
       "      <td>6.1</td>\n",
       "      <td>2.8</td>\n",
       "      <td>4.7</td>\n",
       "      <td>1.2</td>\n",
       "      <td>Iris-versicolor</td>\n",
       "    </tr>\n",
       "    <tr>\n",
       "      <th>126</th>\n",
       "      <td>6.2</td>\n",
       "      <td>2.8</td>\n",
       "      <td>4.8</td>\n",
       "      <td>1.8</td>\n",
       "      <td>Iris-virginica</td>\n",
       "    </tr>\n",
       "    <tr>\n",
       "      <th>130</th>\n",
       "      <td>7.4</td>\n",
       "      <td>2.8</td>\n",
       "      <td>6.1</td>\n",
       "      <td>1.9</td>\n",
       "      <td>Iris-virginica</td>\n",
       "    </tr>\n",
       "    <tr>\n",
       "      <th>99</th>\n",
       "      <td>5.7</td>\n",
       "      <td>2.8</td>\n",
       "      <td>4.1</td>\n",
       "      <td>1.3</td>\n",
       "      <td>Iris-versicolor</td>\n",
       "    </tr>\n",
       "    <tr>\n",
       "      <th>85</th>\n",
       "      <td>6.0</td>\n",
       "      <td>3.4</td>\n",
       "      <td>4.5</td>\n",
       "      <td>1.6</td>\n",
       "      <td>Iris-versicolor</td>\n",
       "    </tr>\n",
       "    <tr>\n",
       "      <th>108</th>\n",
       "      <td>6.7</td>\n",
       "      <td>2.5</td>\n",
       "      <td>5.8</td>\n",
       "      <td>1.8</td>\n",
       "      <td>Iris-virginica</td>\n",
       "    </tr>\n",
       "    <tr>\n",
       "      <th>58</th>\n",
       "      <td>6.6</td>\n",
       "      <td>2.9</td>\n",
       "      <td>4.6</td>\n",
       "      <td>1.3</td>\n",
       "      <td>Iris-versicolor</td>\n",
       "    </tr>\n",
       "    <tr>\n",
       "      <th>140</th>\n",
       "      <td>6.7</td>\n",
       "      <td>3.1</td>\n",
       "      <td>5.6</td>\n",
       "      <td>2.4</td>\n",
       "      <td>Iris-virginica</td>\n",
       "    </tr>\n",
       "    <tr>\n",
       "      <th>115</th>\n",
       "      <td>6.4</td>\n",
       "      <td>3.2</td>\n",
       "      <td>5.3</td>\n",
       "      <td>2.3</td>\n",
       "      <td>Iris-virginica</td>\n",
       "    </tr>\n",
       "    <tr>\n",
       "      <th>32</th>\n",
       "      <td>5.2</td>\n",
       "      <td>4.1</td>\n",
       "      <td>1.5</td>\n",
       "      <td>0.1</td>\n",
       "      <td>Iris-setosa</td>\n",
       "    </tr>\n",
       "    <tr>\n",
       "      <th>22</th>\n",
       "      <td>4.6</td>\n",
       "      <td>3.6</td>\n",
       "      <td>1.0</td>\n",
       "      <td>0.2</td>\n",
       "      <td>Iris-setosa</td>\n",
       "    </tr>\n",
       "    <tr>\n",
       "      <th>75</th>\n",
       "      <td>6.6</td>\n",
       "      <td>3.0</td>\n",
       "      <td>4.4</td>\n",
       "      <td>1.4</td>\n",
       "      <td>Iris-versicolor</td>\n",
       "    </tr>\n",
       "    <tr>\n",
       "      <th>124</th>\n",
       "      <td>6.7</td>\n",
       "      <td>3.3</td>\n",
       "      <td>5.7</td>\n",
       "      <td>2.1</td>\n",
       "      <td>Iris-virginica</td>\n",
       "    </tr>\n",
       "    <tr>\n",
       "      <th>101</th>\n",
       "      <td>5.8</td>\n",
       "      <td>2.7</td>\n",
       "      <td>5.1</td>\n",
       "      <td>1.9</td>\n",
       "      <td>Iris-virginica</td>\n",
       "    </tr>\n",
       "    <tr>\n",
       "      <th>106</th>\n",
       "      <td>4.9</td>\n",
       "      <td>2.5</td>\n",
       "      <td>4.5</td>\n",
       "      <td>1.7</td>\n",
       "      <td>Iris-virginica</td>\n",
       "    </tr>\n",
       "    <tr>\n",
       "      <th>39</th>\n",
       "      <td>5.1</td>\n",
       "      <td>3.4</td>\n",
       "      <td>1.5</td>\n",
       "      <td>0.2</td>\n",
       "      <td>Iris-setosa</td>\n",
       "    </tr>\n",
       "    <tr>\n",
       "      <th>64</th>\n",
       "      <td>5.6</td>\n",
       "      <td>2.9</td>\n",
       "      <td>3.6</td>\n",
       "      <td>1.3</td>\n",
       "      <td>Iris-versicolor</td>\n",
       "    </tr>\n",
       "    <tr>\n",
       "      <th>5</th>\n",
       "      <td>5.4</td>\n",
       "      <td>3.9</td>\n",
       "      <td>1.7</td>\n",
       "      <td>0.4</td>\n",
       "      <td>Iris-setosa</td>\n",
       "    </tr>\n",
       "    <tr>\n",
       "      <th>53</th>\n",
       "      <td>5.5</td>\n",
       "      <td>2.3</td>\n",
       "      <td>4.0</td>\n",
       "      <td>1.3</td>\n",
       "      <td>Iris-versicolor</td>\n",
       "    </tr>\n",
       "    <tr>\n",
       "      <th>66</th>\n",
       "      <td>5.6</td>\n",
       "      <td>3.0</td>\n",
       "      <td>4.5</td>\n",
       "      <td>1.5</td>\n",
       "      <td>Iris-versicolor</td>\n",
       "    </tr>\n",
       "    <tr>\n",
       "      <th>78</th>\n",
       "      <td>6.0</td>\n",
       "      <td>2.9</td>\n",
       "      <td>4.5</td>\n",
       "      <td>1.5</td>\n",
       "      <td>Iris-versicolor</td>\n",
       "    </tr>\n",
       "    <tr>\n",
       "      <th>113</th>\n",
       "      <td>5.7</td>\n",
       "      <td>2.5</td>\n",
       "      <td>5.0</td>\n",
       "      <td>2.0</td>\n",
       "      <td>Iris-virginica</td>\n",
       "    </tr>\n",
       "    <tr>\n",
       "      <th>38</th>\n",
       "      <td>4.4</td>\n",
       "      <td>3.0</td>\n",
       "      <td>1.3</td>\n",
       "      <td>0.2</td>\n",
       "      <td>Iris-setosa</td>\n",
       "    </tr>\n",
       "    <tr>\n",
       "      <th>4</th>\n",
       "      <td>5.0</td>\n",
       "      <td>3.6</td>\n",
       "      <td>1.4</td>\n",
       "      <td>0.2</td>\n",
       "      <td>Iris-setosa</td>\n",
       "    </tr>\n",
       "  </tbody>\n",
       "</table>\n",
       "<p>150 rows × 5 columns</p>\n",
       "</div>"
      ],
      "text/plain": [
       "     sepal_l  sepal_w  petal_l  petal_w             type\n",
       "70       5.9      3.2      4.8      1.8  Iris-versicolor\n",
       "28       5.2      3.4      1.4      0.2      Iris-setosa\n",
       "117      7.7      3.8      6.7      2.2   Iris-virginica\n",
       "24       4.8      3.4      1.9      0.2      Iris-setosa\n",
       "9        4.9      3.1      1.5      0.1      Iris-setosa\n",
       "125      7.2      3.2      6.0      1.8   Iris-virginica\n",
       "43       5.0      3.5      1.6      0.6      Iris-setosa\n",
       "21       5.1      3.7      1.5      0.4      Iris-setosa\n",
       "148      6.2      3.4      5.4      2.3   Iris-virginica\n",
       "109      7.2      3.6      6.1      2.5   Iris-virginica\n",
       "59       5.2      2.7      3.9      1.4  Iris-versicolor\n",
       "49       5.0      3.3      1.4      0.2      Iris-setosa\n",
       "44       5.1      3.8      1.9      0.4      Iris-setosa\n",
       "2        4.7      3.2      1.3      0.2      Iris-setosa\n",
       "136      6.3      3.4      5.6      2.4   Iris-virginica\n",
       "98       5.1      2.5      3.0      1.1  Iris-versicolor\n",
       "7        5.0      3.4      1.5      0.2      Iris-setosa\n",
       "37       4.9      3.1      1.5      0.1      Iris-setosa\n",
       "145      6.7      3.0      5.2      2.3   Iris-virginica\n",
       "79       5.7      2.6      3.5      1.0  Iris-versicolor\n",
       "69       5.6      2.5      3.9      1.1  Iris-versicolor\n",
       "40       5.0      3.5      1.3      0.3      Iris-setosa\n",
       "72       6.3      2.5      4.9      1.5  Iris-versicolor\n",
       "127      6.1      3.0      4.9      1.8   Iris-virginica\n",
       "133      6.3      2.8      5.1      1.5   Iris-virginica\n",
       "132      6.4      2.8      5.6      2.2   Iris-virginica\n",
       "12       4.8      3.0      1.4      0.1      Iris-setosa\n",
       "92       5.8      2.6      4.0      1.2  Iris-versicolor\n",
       "120      6.9      3.2      5.7      2.3   Iris-virginica\n",
       "149      5.9      3.0      5.1      1.8   Iris-virginica\n",
       "..       ...      ...      ...      ...              ...\n",
       "71       6.1      2.8      4.0      1.3  Iris-versicolor\n",
       "19       5.1      3.8      1.5      0.3      Iris-setosa\n",
       "55       5.7      2.8      4.5      1.3  Iris-versicolor\n",
       "33       5.5      4.2      1.4      0.2      Iris-setosa\n",
       "0        5.1      3.5      1.4      0.2      Iris-setosa\n",
       "41       4.5      2.3      1.3      0.3      Iris-setosa\n",
       "73       6.1      2.8      4.7      1.2  Iris-versicolor\n",
       "126      6.2      2.8      4.8      1.8   Iris-virginica\n",
       "130      7.4      2.8      6.1      1.9   Iris-virginica\n",
       "99       5.7      2.8      4.1      1.3  Iris-versicolor\n",
       "85       6.0      3.4      4.5      1.6  Iris-versicolor\n",
       "108      6.7      2.5      5.8      1.8   Iris-virginica\n",
       "58       6.6      2.9      4.6      1.3  Iris-versicolor\n",
       "140      6.7      3.1      5.6      2.4   Iris-virginica\n",
       "115      6.4      3.2      5.3      2.3   Iris-virginica\n",
       "32       5.2      4.1      1.5      0.1      Iris-setosa\n",
       "22       4.6      3.6      1.0      0.2      Iris-setosa\n",
       "75       6.6      3.0      4.4      1.4  Iris-versicolor\n",
       "124      6.7      3.3      5.7      2.1   Iris-virginica\n",
       "101      5.8      2.7      5.1      1.9   Iris-virginica\n",
       "106      4.9      2.5      4.5      1.7   Iris-virginica\n",
       "39       5.1      3.4      1.5      0.2      Iris-setosa\n",
       "64       5.6      2.9      3.6      1.3  Iris-versicolor\n",
       "5        5.4      3.9      1.7      0.4      Iris-setosa\n",
       "53       5.5      2.3      4.0      1.3  Iris-versicolor\n",
       "66       5.6      3.0      4.5      1.5  Iris-versicolor\n",
       "78       6.0      2.9      4.5      1.5  Iris-versicolor\n",
       "113      5.7      2.5      5.0      2.0   Iris-virginica\n",
       "38       4.4      3.0      1.3      0.2      Iris-setosa\n",
       "4        5.0      3.6      1.4      0.2      Iris-setosa\n",
       "\n",
       "[150 rows x 5 columns]"
      ]
     },
     "execution_count": 4,
     "metadata": {},
     "output_type": "execute_result"
    }
   ],
   "source": [
    "data = shuffle(data)\n",
    "data"
   ]
  },
  {
   "cell_type": "code",
   "execution_count": 5,
   "metadata": {},
   "outputs": [],
   "source": [
    "X_C1 = data.loc[:, 'type'] == 'Iris-setosa'\n",
    "X_C2 = data.loc[:, 'type'] == 'Iris-virginica'"
   ]
  },
  {
   "cell_type": "code",
   "execution_count": 6,
   "metadata": {
    "scrolled": true
   },
   "outputs": [
    {
     "data": {
      "text/plain": [
       "70     False\n",
       "28      True\n",
       "117    False\n",
       "24      True\n",
       "9       True\n",
       "125    False\n",
       "43      True\n",
       "21      True\n",
       "148    False\n",
       "109    False\n",
       "59     False\n",
       "49      True\n",
       "44      True\n",
       "2       True\n",
       "136    False\n",
       "98     False\n",
       "7       True\n",
       "37      True\n",
       "145    False\n",
       "79     False\n",
       "69     False\n",
       "40      True\n",
       "72     False\n",
       "127    False\n",
       "133    False\n",
       "132    False\n",
       "12      True\n",
       "92     False\n",
       "120    False\n",
       "149    False\n",
       "       ...  \n",
       "71     False\n",
       "19      True\n",
       "55     False\n",
       "33      True\n",
       "0       True\n",
       "41      True\n",
       "73     False\n",
       "126    False\n",
       "130    False\n",
       "99     False\n",
       "85     False\n",
       "108    False\n",
       "58     False\n",
       "140    False\n",
       "115    False\n",
       "32      True\n",
       "22      True\n",
       "75     False\n",
       "124    False\n",
       "101    False\n",
       "106    False\n",
       "39      True\n",
       "64     False\n",
       "5       True\n",
       "53     False\n",
       "66     False\n",
       "78     False\n",
       "113    False\n",
       "38      True\n",
       "4       True\n",
       "Name: type, Length: 150, dtype: bool"
      ]
     },
     "execution_count": 6,
     "metadata": {},
     "output_type": "execute_result"
    }
   ],
   "source": [
    "X_C1"
   ]
  },
  {
   "cell_type": "code",
   "execution_count": 7,
   "metadata": {},
   "outputs": [],
   "source": [
    "N        = 10\n",
    "FV       = ['sepal_l','sepal_w','petal_l','petal_w']\n",
    "X_Train  = pd.concat( [ data.loc[ X_C1, FV][:-N],  data.loc[ X_C2, FV][:-N] ]   )\n",
    "X_Test   = pd.concat( [ data.loc[ X_C1, FV][ -N:], data.loc[ X_C2, FV][ -N:] ]  )\n",
    "\n",
    "Y_Train = -np.ones( X_C1.sum()-N )\n",
    "Y_Train =  np.concatenate( (Y_Train,np.ones( X_C2.sum()-N ) )  )\n",
    "\n",
    "Y_Test = -np.ones( N )\n",
    "Y_Test =  np.concatenate( (Y_Test,np.ones( N ) )  )"
   ]
  },
  {
   "cell_type": "code",
   "execution_count": 8,
   "metadata": {},
   "outputs": [],
   "source": [
    "X_Train = X_Train.values\n",
    "ext     = np.ones( (X_Train.shape[0],1) )\n",
    "X_Train = np.concatenate( (X_Train,ext),axis=1 )\n",
    "\n",
    "X_Test = X_Test.values\n",
    "ext    = np.ones( (X_Test.shape[0],1) )\n",
    "X_Test = np.concatenate( (X_Test,ext),axis=1 )"
   ]
  },
  {
   "cell_type": "markdown",
   "metadata": {},
   "source": [
    "### Crear etiquetas\n",
    "\n",
    "$$\\textbf{W}=(\\textbf{X}^T\\textbf{X})^{-1}\\textbf{X}^T\\textbf{y}$$\n",
    "$$\\textbf{W}=(\\textbf{X}^T\\textbf{X}+\\lambda\\textbf{I})^{-1}\\textbf{X}^T\\textbf{y}$$"
   ]
  },
  {
   "cell_type": "code",
   "execution_count": 9,
   "metadata": {},
   "outputs": [
    {
     "data": {
      "text/plain": [
       "array([-0.10858015, -0.19014452,  0.32929616,  0.39570001, -0.37648454])"
      ]
     },
     "execution_count": 9,
     "metadata": {},
     "output_type": "execute_result"
    }
   ],
   "source": [
    "inv = np.dot( X_Train.T, X_Train )\n",
    "inv = np.linalg.inv( inv )\n",
    "W   = np.dot( inv,X_Train.T )\n",
    "W   = np.dot( W,Y_Train )\n",
    "W"
   ]
  },
  {
   "cell_type": "code",
   "execution_count": 10,
   "metadata": {},
   "outputs": [],
   "source": [
    "L_es = np.dot( X_Test,W )\n",
    "L_es = -2*(L_es<0)+1"
   ]
  },
  {
   "cell_type": "raw",
   "metadata": {},
   "source": [
    "cmx( Y_Test,L_es )"
   ]
  },
  {
   "cell_type": "markdown",
   "metadata": {},
   "source": [
    "### Implementación en sistema embebido"
   ]
  },
  {
   "cell_type": "code",
   "execution_count": 111,
   "metadata": {},
   "outputs": [
    {
     "data": {
      "text/plain": [
       "array([[4.6, 3.6, 1. , 0.2, 1. ],\n",
       "       [4.8, 3.1, 1.6, 0.2, 1. ],\n",
       "       [5. , 3. , 1.6, 0.2, 1. ],\n",
       "       [4.9, 3.1, 1.5, 0.1, 1. ],\n",
       "       [4.8, 3. , 1.4, 0.3, 1. ],\n",
       "       [5.8, 4. , 1.2, 0.2, 1. ],\n",
       "       [5.4, 3.4, 1.5, 0.4, 1. ],\n",
       "       [4.4, 3.2, 1.3, 0.2, 1. ],\n",
       "       [5.2, 3.5, 1.5, 0.2, 1. ],\n",
       "       [5. , 3.5, 1.3, 0.3, 1. ],\n",
       "       [6.3, 2.5, 5. , 1.9, 1. ],\n",
       "       [7.7, 2.6, 6.9, 2.3, 1. ],\n",
       "       [7.2, 3.6, 6.1, 2.5, 1. ],\n",
       "       [7.7, 2.8, 6.7, 2. , 1. ],\n",
       "       [6.7, 3. , 5.2, 2.3, 1. ],\n",
       "       [6. , 3. , 4.8, 1.8, 1. ],\n",
       "       [6.2, 3.4, 5.4, 2.3, 1. ],\n",
       "       [5.7, 2.5, 5. , 2. , 1. ],\n",
       "       [6.5, 3. , 5.5, 1.8, 1. ],\n",
       "       [6.7, 3.1, 5.6, 2.4, 1. ]])"
      ]
     },
     "execution_count": 111,
     "metadata": {},
     "output_type": "execute_result"
    }
   ],
   "source": [
    "X_Test"
   ]
  },
  {
   "cell_type": "code",
   "execution_count": 114,
   "metadata": {},
   "outputs": [
    {
     "data": {
      "text/plain": [
       "array([-0.1181069 , -0.1672677 ,  0.3704336 ,  0.32675174, -0.4465346 ])"
      ]
     },
     "execution_count": 114,
     "metadata": {},
     "output_type": "execute_result"
    }
   ],
   "source": [
    "W"
   ]
  },
  {
   "cell_type": "code",
   "execution_count": 116,
   "metadata": {},
   "outputs": [],
   "source": [
    "X_Test = np.array([[4.6, 3.6, 1. , 0.2, 1. ],\n",
    "       [4.8, 3.1, 1.6, 0.2, 1. ],\n",
    "       [5. , 3. , 1.6, 0.2, 1. ],\n",
    "       [4.9, 3.1, 1.5, 0.1, 1. ],\n",
    "       [4.8, 3. , 1.4, 0.3, 1. ],\n",
    "       [5.8, 4. , 1.2, 0.2, 1. ],\n",
    "       [5.4, 3.4, 1.5, 0.4, 1. ],\n",
    "       [4.4, 3.2, 1.3, 0.2, 1. ],\n",
    "       [5.2, 3.5, 1.5, 0.2, 1. ],\n",
    "       [5. , 3.5, 1.3, 0.3, 1. ],\n",
    "       [6.3, 2.5, 5. , 1.9, 1. ],\n",
    "       [7.7, 2.6, 6.9, 2.3, 1. ],\n",
    "       [7.2, 3.6, 6.1, 2.5, 1. ],\n",
    "       [7.7, 2.8, 6.7, 2. , 1. ],\n",
    "       [6.7, 3. , 5.2, 2.3, 1. ],\n",
    "       [6. , 3. , 4.8, 1.8, 1. ],\n",
    "       [6.2, 3.4, 5.4, 2.3, 1. ],\n",
    "       [5.7, 2.5, 5. , 2. , 1. ],\n",
    "       [6.5, 3. , 5.5, 1.8, 1. ],\n",
    "       [6.7, 3.1, 5.6, 2.4, 1. ]])\n",
    "\n",
    "W = np.array([-0.1181069 , -0.1672677 ,  0.3704336 ,  0.32675174, -0.4465346 ])"
   ]
  },
  {
   "cell_type": "code",
   "execution_count": 130,
   "metadata": {},
   "outputs": [
    {
     "name": "stdout",
     "output_type": "stream",
     "text": [
      "-1.16,\t-1\n",
      "-0.87,\t-1\n",
      "-0.88,\t-1\n",
      "-0.96,\t-1\n",
      "-0.90,\t-1\n",
      "-1.29,\t-1\n",
      "-0.97,\t-1\n",
      "-0.95,\t-1\n",
      "-1.03,\t-1\n",
      "-1.04,\t-1\n",
      "0.86,\t1\n",
      "1.52,\t1\n",
      "1.18,\t1\n",
      "1.31,\t1\n",
      "0.94,\t1\n",
      "0.71,\t1\n",
      "1.00,\t1\n",
      "0.97,\t1\n",
      "0.91,\t1\n",
      "1.10,\t1\n"
     ]
    }
   ],
   "source": [
    "for x_test in X_Test:\n",
    "    l = np.dot( x_test,W )\n",
    "    print '{0:2.2f},\\t{1}'.format( l,  -2*(l<0)+1 )"
   ]
  },
  {
   "cell_type": "code",
   "execution_count": 15,
   "metadata": {},
   "outputs": [
    {
     "data": {
      "text/plain": [
       "LinearDiscriminantAnalysis(n_components=None, priors=None, shrinkage='auto',\n",
       "              solver='eigen', store_covariance=False, tol=0.0001)"
      ]
     },
     "execution_count": 15,
     "metadata": {},
     "output_type": "execute_result"
    }
   ],
   "source": [
    "model = LDA( shrinkage='auto', solver='eigen')\n",
    "model.fit( X_Train[:,:-1],Y_Train )"
   ]
  },
  {
   "cell_type": "code",
   "execution_count": 16,
   "metadata": {},
   "outputs": [
    {
     "data": {
      "text/plain": [
       "array([-1., -1., -1., -1., -1., -1., -1., -1., -1., -1.,  1.,  1.,  1.,\n",
       "        1.,  1.,  1.,  1.,  1.,  1.,  1.])"
      ]
     },
     "execution_count": 16,
     "metadata": {},
     "output_type": "execute_result"
    }
   ],
   "source": [
    "L_es = model.predict( X_Test[:,:-1] )\n",
    "L_es"
   ]
  },
  {
   "cell_type": "code",
   "execution_count": 137,
   "metadata": {},
   "outputs": [
    {
     "data": {
      "text/plain": [
       "array([[10,  0],\n",
       "       [ 0, 10]])"
      ]
     },
     "execution_count": 137,
     "metadata": {},
     "output_type": "execute_result"
    }
   ],
   "source": [
    "cmx( Y_Test,L_es )"
   ]
  },
  {
   "cell_type": "code",
   "execution_count": 22,
   "metadata": {},
   "outputs": [
    {
     "name": "stdout",
     "output_type": "stream",
     "text": [
      "W=[[-0.38246903 -1.24827654  1.93451445  2.6868256 ]],b=[-3.69436187]\n"
     ]
    }
   ],
   "source": [
    "print( 'W={},b={}'.format(model.coef_,model.intercept_)  )"
   ]
  },
  {
   "cell_type": "markdown",
   "metadata": {},
   "source": [
    "### Entrenar"
   ]
  },
  {
   "cell_type": "code",
   "execution_count": 138,
   "metadata": {},
   "outputs": [],
   "source": [
    "from sklearn.externals import joblib"
   ]
  },
  {
   "cell_type": "code",
   "execution_count": 140,
   "metadata": {},
   "outputs": [
    {
     "data": {
      "text/plain": [
       "['model_lda.pkl']"
      ]
     },
     "execution_count": 140,
     "metadata": {},
     "output_type": "execute_result"
    }
   ],
   "source": [
    "joblib.dump(model, 'model_lda.pkl') "
   ]
  },
  {
   "cell_type": "code",
   "execution_count": 144,
   "metadata": {},
   "outputs": [
    {
     "data": {
      "text/plain": [
       "array([[4.6, 3.6, 1. , 0.2],\n",
       "       [4.8, 3.1, 1.6, 0.2],\n",
       "       [5. , 3. , 1.6, 0.2],\n",
       "       [4.9, 3.1, 1.5, 0.1],\n",
       "       [4.8, 3. , 1.4, 0.3],\n",
       "       [5.8, 4. , 1.2, 0.2],\n",
       "       [5.4, 3.4, 1.5, 0.4],\n",
       "       [4.4, 3.2, 1.3, 0.2],\n",
       "       [5.2, 3.5, 1.5, 0.2],\n",
       "       [5. , 3.5, 1.3, 0.3],\n",
       "       [6.3, 2.5, 5. , 1.9],\n",
       "       [7.7, 2.6, 6.9, 2.3],\n",
       "       [7.2, 3.6, 6.1, 2.5],\n",
       "       [7.7, 2.8, 6.7, 2. ],\n",
       "       [6.7, 3. , 5.2, 2.3],\n",
       "       [6. , 3. , 4.8, 1.8],\n",
       "       [6.2, 3.4, 5.4, 2.3],\n",
       "       [5.7, 2.5, 5. , 2. ],\n",
       "       [6.5, 3. , 5.5, 1.8],\n",
       "       [6.7, 3.1, 5.6, 2.4]])"
      ]
     },
     "execution_count": 144,
     "metadata": {},
     "output_type": "execute_result"
    }
   ],
   "source": [
    "X_Test[:,:-1]"
   ]
  },
  {
   "cell_type": "code",
   "execution_count": 141,
   "metadata": {},
   "outputs": [],
   "source": [
    "from sklearn.externals import joblib"
   ]
  },
  {
   "cell_type": "code",
   "execution_count": 143,
   "metadata": {},
   "outputs": [],
   "source": [
    "model = joblib.load('model_lda.pkl')"
   ]
  },
  {
   "cell_type": "code",
   "execution_count": 146,
   "metadata": {},
   "outputs": [],
   "source": [
    "X_Test = np.array([[4.6, 3.6, 1. , 0.2],\n",
    "       [4.8, 3.1, 1.6, 0.2],\n",
    "       [5. , 3. , 1.6, 0.2],\n",
    "       [4.9, 3.1, 1.5, 0.1],\n",
    "       [4.8, 3. , 1.4, 0.3],\n",
    "       [5.8, 4. , 1.2, 0.2],\n",
    "       [5.4, 3.4, 1.5, 0.4],\n",
    "       [4.4, 3.2, 1.3, 0.2],\n",
    "       [5.2, 3.5, 1.5, 0.2],\n",
    "       [5. , 3.5, 1.3, 0.3],\n",
    "       [6.3, 2.5, 5. , 1.9],\n",
    "       [7.7, 2.6, 6.9, 2.3],\n",
    "       [7.2, 3.6, 6.1, 2.5],\n",
    "       [7.7, 2.8, 6.7, 2. ],\n",
    "       [6.7, 3. , 5.2, 2.3],\n",
    "       [6. , 3. , 4.8, 1.8],\n",
    "       [6.2, 3.4, 5.4, 2.3],\n",
    "       [5.7, 2.5, 5. , 2. ],\n",
    "       [6.5, 3. , 5.5, 1.8],\n",
    "       [6.7, 3.1, 5.6, 2.4]])"
   ]
  },
  {
   "cell_type": "markdown",
   "metadata": {},
   "source": [
    "### Parametros adicionales"
   ]
  },
  {
   "cell_type": "code",
   "execution_count": 158,
   "metadata": {},
   "outputs": [
    {
     "name": "stdout",
     "output_type": "stream",
     "text": [
      "-1.00,\t-1.00\n",
      "-1.00,\t-1.00\n",
      "-1.00,\t-1.00\n",
      "-1.00,\t-1.00\n",
      "-1.00,\t-1.00\n",
      "-1.00,\t-1.00\n",
      "-1.00,\t-1.00\n",
      "-1.00,\t-1.00\n",
      "-1.00,\t-1.00\n",
      "-1.00,\t-1.00\n",
      "1.00,\t1.00\n",
      "1.00,\t1.00\n",
      "1.00,\t1.00\n",
      "1.00,\t1.00\n",
      "1.00,\t1.00\n",
      "1.00,\t1.00\n",
      "1.00,\t1.00\n",
      "1.00,\t1.00\n",
      "1.00,\t1.00\n",
      "1.00,\t1.00\n"
     ]
    }
   ],
   "source": [
    "for x_test,y_test in zip( X_Test,Y_Test ):\n",
    "    l = model.predict( x_test[np.newaxis] )\n",
    "    print '{0:2.2f},\\t{1:2.2f}'.format( y_test,l[0] )"
   ]
  },
  {
   "cell_type": "markdown",
   "metadata": {},
   "source": [
    "## 2.2. Cargar archivo [Human Activity Recognition with Smartphones (Simplified)](https://www.kaggle.com/mboaglio/simplifiedhuarus)"
   ]
  },
  {
   "cell_type": "code",
   "execution_count": null,
   "metadata": {},
   "outputs": [],
   "source": [
    "data = pd.read_csv( '../data/wearable-train.csv' )"
   ]
  },
  {
   "cell_type": "markdown",
   "metadata": {},
   "source": [
    "## 2.3. Despliegue de los datos"
   ]
  },
  {
   "cell_type": "code",
   "execution_count": null,
   "metadata": {},
   "outputs": [],
   "source": [
    "data"
   ]
  },
  {
   "cell_type": "markdown",
   "metadata": {},
   "source": [
    "## Análisis"
   ]
  },
  {
   "cell_type": "code",
   "execution_count": null,
   "metadata": {},
   "outputs": [],
   "source": [
    "data.describe()"
   ]
  },
  {
   "cell_type": "markdown",
   "metadata": {},
   "source": [
    "### Seleccionando aceleración media del cuerpo en los tres ejes"
   ]
  },
  {
   "cell_type": "code",
   "execution_count": 161,
   "metadata": {},
   "outputs": [],
   "source": [
    "FV = ['tBodyAcc.mean.X', 'tBodyAcc.mean.Y', 'tBodyAcc.mean.Z', 'tGravityAcc.mean.X', 'tGravityAcc.mean.Y', 'tGravityAcc.mean.Z', 'tBodyGyro.mean.X', 'tBodyGyro.mean.Y', 'tBodyGyro.mean.Z','fBodyAcc.mean.X','fBodyAcc.mean.Y','fBodyAcc.mean.Z','angle.X.gravityMean','angle.Y.gravityMean','angle.Z.gravityMean']"
   ]
  },
  {
   "cell_type": "markdown",
   "metadata": {},
   "source": [
    "## Clasificar entre caminar y estar acostado"
   ]
  }
 ],
 "metadata": {
  "kernelspec": {
   "display_name": "Python 2",
   "language": "python",
   "name": "python2"
  },
  "language_info": {
   "codemirror_mode": {
    "name": "ipython",
    "version": 2
   },
   "file_extension": ".py",
   "mimetype": "text/x-python",
   "name": "python",
   "nbconvert_exporter": "python",
   "pygments_lexer": "ipython2",
   "version": "2.7.14"
  }
 },
 "nbformat": 4,
 "nbformat_minor": 2
}
