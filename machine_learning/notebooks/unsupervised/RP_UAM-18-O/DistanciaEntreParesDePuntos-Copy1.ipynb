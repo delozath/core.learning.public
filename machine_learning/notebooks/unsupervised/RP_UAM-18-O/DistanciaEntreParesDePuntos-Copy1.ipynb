{
 "cells": [
  {
   "cell_type": "code",
   "execution_count": 15,
   "metadata": {
    "colab": {},
    "colab_type": "code",
    "id": "kLhPnSMLGech"
   },
   "outputs": [],
   "source": [
    "import numpy\n",
    "import numpy as np\n",
    "import matplotlib.pyplot as plt\n",
    "%matplotlib inline"
   ]
  },
  {
   "cell_type": "code",
   "execution_count": 51,
   "metadata": {
    "colab": {
     "base_uri": "https://localhost:8080/",
     "height": 268
    },
    "colab_type": "code",
    "executionInfo": {
     "elapsed": 443,
     "status": "ok",
     "timestamp": 1538090625240,
     "user": {
      "displayName": "Oscar Yáñez",
      "photoUrl": "",
      "userId": "17374698393674571684"
     },
     "user_tz": 300
    },
    "id": "JCicXh8vGiVD",
    "outputId": "59ea8f7c-1f19-4560-ece4-b95f50b2f5fe"
   },
   "outputs": [
    {
     "data": {
      "image/png": "[encoded data removed]",
      "text/plain": [
       "<Figure size 432x288 with 1 Axes>"
      ]
     },
     "metadata": {},
     "output_type": "display_data"
    }
   ],
   "source": [
    "# Genera datos aleatorios en 2D: 10 puntos, 4 centros\n",
    "X = numpy.random.randn(10,2)\n",
    "C = numpy.random.randn(4,2)\n",
    "\n",
    "plt.scatter(X[:,0], X[:,1], color='black');\n",
    "plt.scatter(C[:,0], C[:,1], color='red');\n",
    "plt.grid(True)"
   ]
  },
  {
   "cell_type": "code",
   "execution_count": 61,
   "metadata": {
    "colab": {},
    "colab_type": "code",
    "id": "DA798bmPG1xf"
   },
   "outputs": [],
   "source": [
    "# Calcula distancias cuadradas de todos los datos de X a cada dato de C\n",
    "def distancia_cuadrada(X,C):\n",
    "  \"\"\"Calcula cuadrados de las distancias de cada punto en X a cada punto en C.\"\"\"\n",
    "  # Obtiene dimensiones de las matrices\n",
    "  (Xr, Xc) = X.shape\n",
    "  (Cr, Cc) = C.shape\n",
    "  # Calcula distancias cuadradas\n",
    "  d2 = numpy.outer(numpy.sum(numpy.square(X), axis=1), numpy.ones((Cr, 1))) + \\\n",
    "       numpy.outer(numpy.ones((Xr, 1)),numpy.sum(numpy.square(C), axis=1)) - \\\n",
    "       2*numpy.dot(X, C.transpose())\n",
    "  # Evita distancias cuadradas negeativas por redondeo\n",
    "  d2[d2 < 0] = 0\n",
    "  return d2\n",
    "\n",
    "def dist_eucl2(X,C):\n",
    "    D  = X[:,:,np.newaxis] - np.transpose( C[np.newaxis],(0,2,1) )\n",
    "    D  = np.transpose(D,(0,2,1))\n",
    "    D  = np.square(D).sum(axis=-1)\n",
    "    return np.argsort(D,axis=1).copy()\n",
    "\n",
    "def dist_eucl_pw(X,C,p):\n",
    "    D  = X[:,:,np.newaxis] - np.transpose( C[np.newaxis],(0,2,1) )\n",
    "    D  = np.transpose(D,(0,2,1))\n",
    "    D  = np.power(D,p).sum(axis=-1)\n",
    "    return np.argsort(D,axis=1).copy()\n",
    "\n",
    "def encuentra_vecino_mas_cercano(X, C):\n",
    "  \"\"\"Encuentra entre los puntos de C el más cercano a cada punto de X.\"\"\"\n",
    "  # Calcula distancias cuadradas\n",
    "  d2 = distancia_cuadrada(X, C)\n",
    "  # Encuentra los vecinos mas cercanos\n",
    "  nn = numpy.argsort(d2, axis=1)  \n",
    "  return nn[:,0]"
   ]
  },
  {
   "cell_type": "code",
   "execution_count": 56,
   "metadata": {
    "colab": {
     "base_uri": "https://localhost:8080/",
     "height": 268
    },
    "colab_type": "code",
    "executionInfo": {
     "elapsed": 491,
     "status": "ok",
     "timestamp": 1538090632607,
     "user": {
      "displayName": "Oscar Yáñez",
      "photoUrl": "",
      "userId": "17374698393674571684"
     },
     "user_tz": 300
    },
    "id": "hORZLan9IJNd",
    "outputId": "0cefd968-91b2-4ae1-b0c5-ccfab255c261"
   },
   "outputs": [
    {
     "name": "stdout",
     "output_type": "stream",
     "text": [
      "[1 0 0 1 0 0 3 1 0 3]\n",
      "[1 0 0 1 0 0 3 1 0 3]\n",
      "[1 0 0 1 0 0 3 1 0 3]\n"
     ]
    },
    {
     "data": {
      "image/png": "[encoded data removed]",
      "text/plain": [
       "<Figure size 432x288 with 1 Axes>"
      ]
     },
     "metadata": {},
     "output_type": "display_data"
    }
   ],
   "source": [
    "# Encuentra vecinos de X en C\n",
    "nn  = encuentra_vecino_mas_cercano(X,C)\n",
    "nna = dist_eucl2  (X,C  )[:,0]\n",
    "nnb = dist_eucl_pw(X,C,2.)[:,0]\n",
    "print (nn )\n",
    "print (nna)\n",
    "print (nnb)\n",
    "# Grafica datos y muestra parejas de vecinos\n",
    "plt.scatter(X[:,0], X[:,1], color='black');\n",
    "plt.scatter(C[:,0], C[:,1], color='red');\n",
    "plt.grid(True)\n",
    "for i in range(X.shape[0]):\n",
    "  plt.arrow(X[i,0],X[i,1],C[nn[i],0]-X[i,0],C[nn[i],1]-X[i,1]);\n"
   ]
  },
  {
   "cell_type": "code",
   "execution_count": 66,
   "metadata": {},
   "outputs": [],
   "source": [
    "X = numpy.random.randn(1000,100)\n",
    "\n",
    "#dX = encuentra_vecino_mas_cercano(X, X)\n",
    "#dX = dist_eucl2  (X,X)\n",
    "dX = dist_eucl_pw(X,X,2)"
   ]
  },
  {
   "cell_type": "code",
   "execution_count": 25,
   "metadata": {},
   "outputs": [
    {
     "data": {
      "text/plain": [
       "(1000, 1000)"
      ]
     },
     "execution_count": 25,
     "metadata": {},
     "output_type": "execute_result"
    }
   ],
   "source": [
    "dX.shape"
   ]
  },
  {
   "cell_type": "code",
   "execution_count": 27,
   "metadata": {
    "colab": {
     "base_uri": "https://localhost:8080/",
     "height": 264
    },
    "colab_type": "code",
    "executionInfo": {
     "elapsed": 455,
     "status": "ok",
     "timestamp": 1538090849746,
     "user": {
      "displayName": "Oscar Yáñez",
      "photoUrl": "",
      "userId": "17374698393674571684"
     },
     "user_tz": 300
    },
    "id": "w9RTlyn4IMPs",
    "outputId": "4aa3bdc9-e0f0-4ea8-abf6-407d3a389534"
   },
   "outputs": [
    {
     "data": {
      "image/png": "[encoded data removed]",
      "text/plain": [
       "<Figure size 432x288 with 1 Axes>"
      ]
     },
     "metadata": {},
     "output_type": "display_data"
    }
   ],
   "source": [
    "# Encuentra las distancias cuadradas de todos los datos de X contra todos ellos\n",
    "#dX = distancia_cuadrada(X,X)\n",
    "# Encuentra el vecino más cercano de cada punto de entre los puntos de X\n",
    "# Ojo: no puede usarse nuestra función porque cada dasto es el más cercano a si mismo\n",
    "#inx = numpy.argsort(dX, axis=1)[:,1]\n",
    "inx = dX[:,0]\n",
    "# Grafica datos y conecta los vecinos mas cercanos\n",
    "plt.scatter(X[:,0], X[:,1], color='black');\n",
    "plt.grid(True)\n",
    "for i in range(X.shape[0]):\n",
    "  plt.arrow(X[i,0],X[i,1],X[inx[i],0]-X[i,0],X[inx[i],1]-X[i,1],color='red');"
   ]
  },
  {
   "cell_type": "code",
   "execution_count": null,
   "metadata": {},
   "outputs": [],
   "source": []
  }
 ],
 "metadata": {
  "colab": {
   "collapsed_sections": [],
   "name": "DistanciaEntreParesDePuntos.ipynb",
   "provenance": [],
   "toc_visible": true,
   "version": "0.3.2"
  },
  "kernelspec": {
   "display_name": "Python 3",
   "language": "python",
   "name": "python3"
  },
  "language_info": {
   "codemirror_mode": {
    "name": "ipython",
    "version": 3
   },
   "file_extension": ".py",
   "mimetype": "text/x-python",
   "name": "python",
   "nbconvert_exporter": "python",
   "pygments_lexer": "ipython3",
   "version": "3.6.9"
  }
 },
 "nbformat": 4,
 "nbformat_minor": 1
}
