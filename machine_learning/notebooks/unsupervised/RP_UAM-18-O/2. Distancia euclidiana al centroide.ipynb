{
 "cells": [
  {
   "cell_type": "markdown",
   "metadata": {
    "colab_type": "text",
    "id": "5Qm0x6PC1CZU"
   },
   "source": [
    "# Métricas de distancias"
   ]
  },
  {
   "cell_type": "code",
   "execution_count": null,
   "metadata": {
    "colab": {},
    "colab_type": "code",
    "id": "SLVwyKg50ak4"
   },
   "outputs": [],
   "source": [
    "# Carga bibliotecas\n",
    "import numpy             as np\n",
    "import matplotlib.pyplot as plt\n",
    "\n",
    "from sklearn import datasets\n",
    "\n",
    "%matplotlib inline"
   ]
  },
  {
   "cell_type": "code",
   "execution_count": null,
   "metadata": {
    "colab": {},
    "colab_type": "code",
    "id": "FlP9o3YL3bdZ"
   },
   "outputs": [],
   "source": [
    "# Genera N datos\n",
    "N = 80"
   ]
  },
  {
   "cell_type": "code",
   "execution_count": null,
   "metadata": {
    "colab": {
     "base_uri": "https://localhost:8080/",
     "height": 323
    },
    "colab_type": "code",
    "executionInfo": {
     "elapsed": 1248,
     "status": "ok",
     "timestamp": 1537211966683,
     "user": {
      "displayName": "Oscar Yáñez",
      "photoUrl": "//lh5.googleusercontent.com/-Prxq0ut7kXg/AAAAAAAAAAI/AAAAAAAAAUE/0_0fIeQegvk/s50-c-k-no/photo.jpg",
      "userId": "101681087597011654825"
     },
     "user_tz": 300
    },
    "id": "2wgYkhkM7cJ2",
    "outputId": "fcea5e7d-e07b-48b9-87f0-4ce157595ee2"
   },
   "outputs": [],
   "source": [
    "# Blobs de distinta varianza\n",
    "Xblobs, Lblobs = datasets.make_blobs(n_samples=N, cluster_std=[1.0, 2.5, 0.5],\n",
    "                                       random_state=170)\n"
   ]
  },
  {
   "cell_type": "code",
   "execution_count": null,
   "metadata": {},
   "outputs": [],
   "source": [
    "\"\"\"\n",
    " @note: solo se grafican los vectores con etiquetas Lblobs=0\n",
    " @X_m: media de X\n",
    "\"\"\"\n",
    "X   = Xblobs[Lblobs==0]\n",
    "X_m = X.mean(axis=0)\n",
    "\n",
    "plt.figure(figsize=(5,5))\n",
    "plt.axes().set_aspect('equal', 'datalim')\n",
    "plt.plot(X[:,0],X[:,1],'ok',markersize=10,alpha=.8)\n",
    "plt.plot(X_m[0],X_m[1],'or',markersize=15,alpha=.8)\n",
    "plt.grid(True)\n",
    "plt.show()"
   ]
  },
  {
   "cell_type": "markdown",
   "metadata": {},
   "source": [
    "### Distancia euclidiana\n",
    "$$ D^2=\\|x-\\hat{x}\\|^2 = (x-\\hat{x})^T(x-\\hat{x}) = \\sum_{i=1}^N(x_i-\\hat{x}_i)^2,$$\n",
    "donde $x,\\hat{x}\\in\\mathbb{R}^N$, $\\hat{x}$ es la media de $x$; $x, \\hat{x}_i$ representan respectivamente la $i$-ésima componente de sus correspondientes vectores."
   ]
  },
  {
   "cell_type": "markdown",
   "metadata": {},
   "source": [
    "### Implementación vectorial\n",
    "\n",
    "Se puede ver como un producto punto entre vectores"
   ]
  },
  {
   "cell_type": "code",
   "execution_count": null,
   "metadata": {},
   "outputs": [],
   "source": [
    "D = []\n",
    "for x in X:\n",
    "    d = x-X_m\n",
    "    D.append( np.dot( d,d ) )\n",
    "\n",
    "D = np.array(D)"
   ]
  },
  {
   "cell_type": "code",
   "execution_count": null,
   "metadata": {},
   "outputs": [],
   "source": [
    "\"\"\"\n",
    " @note: La versión completamente vectorial y optimizada queda fuera del alcance de este curso\n",
    " @note: No se requiere evaluar la raiz cuadrada ya que el cuadrado es una función que crece monotónicamente\n",
    "\"\"\"\n",
    "D"
   ]
  },
  {
   "cell_type": "code",
   "execution_count": null,
   "metadata": {},
   "outputs": [],
   "source": [
    "plt.figure(figsize=(7,7))\n",
    "plt.axes().set_aspect('equal', 'datalim')\n",
    "plt.plot(X[:,0],X[:,1],'ok',markersize=10,alpha=.8)\n",
    "plt.plot(X_m[0],X_m[1],'or',markersize=15,alpha=.8)\n",
    "plt.grid(True)\n",
    "for i,j in enumerate( X ):\n",
    "    plt.arrow(X[i,0],X[i,1],X_m[0]-X[i,0],X_m[1]-X[i,1])"
   ]
  },
  {
   "cell_type": "code",
   "execution_count": null,
   "metadata": {},
   "outputs": [],
   "source": [
    "\"\"\"\n",
    " @note: Las líneas representan la distancia euclidiana del k-ésimo vector al vector media del conglomerado \n",
    "\"\"\"\n",
    "print ('')"
   ]
  },
  {
   "cell_type": "code",
   "execution_count": null,
   "metadata": {},
   "outputs": [],
   "source": [
    "\"\"\"\n",
    " @note: solo se grafican los vectores con etiquetas Lblobs=0\n",
    " @X_m: media de X\n",
    "\"\"\"\n",
    "X1   = Xblobs[Lblobs==0]\n",
    "X2   = Xblobs[Lblobs==1]\n",
    "X1_m = X1.mean(axis=0)\n",
    "X2_m = X2.mean(axis=0)\n",
    "\n",
    "plt.figure(figsize=(5,5))\n",
    "plt.axes().set_aspect('equal', 'datalim')\n",
    "plt.plot(X1[:,0],X1[:,1],'ok',markersize=10,alpha=.8)\n",
    "plt.plot(X1_m[0],X1_m[1],'or',markersize=15,alpha=.8)\n",
    "\n",
    "plt.plot(X2[:,0],X2[:,1],'ob',markersize=10,alpha=.8)\n",
    "plt.plot(X2_m[0],X2_m[1],'og',markersize=15,alpha=.8)\n",
    "plt.grid(True)\n",
    "plt.show()"
   ]
  },
  {
   "cell_type": "markdown",
   "metadata": {},
   "source": [
    "Ahora suponga que no sabe las clases de los aglomerados, entonces la gráfica se vería de la siguiente forma"
   ]
  },
  {
   "cell_type": "code",
   "execution_count": null,
   "metadata": {
    "scrolled": true
   },
   "outputs": [],
   "source": [
    "\"\"\"\n",
    " @note: solo se grafican los vectores con etiquetas Lblobs=0\n",
    " @X_m: media de X\n",
    "\"\"\"\n",
    "X1   = Xblobs[Lblobs==0]\n",
    "X2   = Xblobs[Lblobs==1]\n",
    "X1_m = X1.mean(axis=0)\n",
    "X2_m = X2.mean(axis=0)\n",
    "\n",
    "plt.figure(figsize=(5,5))\n",
    "plt.axes().set_aspect('equal', 'datalim')\n",
    "plt.plot(X1[:,0],X1[:,1],'ok',markersize=10,alpha=.8)\n",
    "\n",
    "plt.plot(X2[:,0],X2[:,1],'ok',markersize=10,alpha=.8)\n",
    "\n",
    "plt.grid(True)\n",
    "plt.show()"
   ]
  },
  {
   "cell_type": "markdown",
   "metadata": {},
   "source": [
    "¿Cómo estimaría los conglomerados dado que no tiene las etiquetas?\n",
    "\n",
    "Este es el problema que resuelve el aprendizaje no supervisado o *clustering*"
   ]
  }
 ],
 "metadata": {
  "colab": {
   "collapsed_sections": [],
   "name": "conjuntos_de_prueba_2d.ipynb",
   "provenance": [],
   "version": "0.3.2"
  },
  "kernelspec": {
   "display_name": "Python 2",
   "language": "python",
   "name": "python2"
  },
  "language_info": {
   "codemirror_mode": {
    "name": "ipython",
    "version": 2
   },
   "file_extension": ".py",
   "mimetype": "text/x-python",
   "name": "python",
   "nbconvert_exporter": "python",
   "pygments_lexer": "ipython2",
   "version": "2.7.14"
  }
 },
 "nbformat": 4,
 "nbformat_minor": 1
}
