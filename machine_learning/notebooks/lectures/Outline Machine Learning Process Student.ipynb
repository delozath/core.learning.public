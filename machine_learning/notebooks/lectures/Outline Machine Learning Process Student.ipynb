{
 "cells": [
  {
   "cell_type": "markdown",
   "metadata": {},
   "source": [
    "# Outline Pattern Recognition Process"
   ]
  },
  {
   "cell_type": "code",
   "execution_count": 1,
   "metadata": {},
   "outputs": [],
   "source": [
    "# Comen+\n",
    "import numpy as np\n",
    "\n",
    "from matplotlib       import pyplot     as plt\n",
    "from sklearn.datasets import make_blobs as blobs"
   ]
  },
  {
   "cell_type": "markdown",
   "metadata": {},
   "source": [
    "#### Importar bibliiotecas\n",
    "\n",
    "$$\\sum x^2$$"
   ]
  },
  {
   "cell_type": "markdown",
   "metadata": {},
   "source": [
    "## 1. Regresión Lineal"
   ]
  },
  {
   "cell_type": "code",
   "execution_count": null,
   "metadata": {},
   "outputs": [],
   "source": [
    "def extend_x(X: np.array)->np.array:\n",
    "    \"\"\"\n",
    "      Appends a colum of ones to the X matrix\n",
    "        -> X_ex = [X Ones]\n",
    "      \n",
    "      @param X: -> shape = (n_samples,k_features)\n",
    "      \n",
    "      @return X_ex: -> shape = (n_samples,k_features+1)\n",
    "    \"\"\"\n",
    "    \n",
    "    \n",
    "    return "
   ]
  },
  {
   "cell_type": "code",
   "execution_count": null,
   "metadata": {},
   "outputs": [],
   "source": [
    "def pseudo_inv (X: np.array, Y: np.array)->np.array:\n",
    "    \"\"\"\n",
    "      Compute the pseudoinverse matrix for regression/classification\n",
    "        -> pinv = (X^T X)^-1 X^T y\n",
    "        \n",
    "      @param X: -> shape = (n_samples,k_features)\n",
    "      @param Y: -> shape = (n_samples,1)\n",
    "      \n",
    "      @return pinv: -> shape = (k_features,1)\n",
    "    \"\"\"\n",
    "    \n",
    "    \n",
    "    return pinv"
   ]
  },
  {
   "cell_type": "code",
   "execution_count": null,
   "metadata": {},
   "outputs": [],
   "source": [
    "N    = 400\n",
    "X, Y = blobs( n_samples=N,\n",
    "              centers  =[ [-4,3],[1,2] ],\n",
    "              cluster_std=[1.5,1.25] )\n",
    "\n",
    "plt.figure(figsize=(8,5))\n",
    "plt.plot( X[:,0],X[:,1], 'o', color='green' )\n",
    "plt.grid(True)"
   ]
  },
  {
   "cell_type": "code",
   "execution_count": null,
   "metadata": {},
   "outputs": [],
   "source": [
    "#calcular W\n",
    "\n",
    "print(W)"
   ]
  },
  {
   "cell_type": "code",
   "execution_count": null,
   "metadata": {
    "scrolled": true
   },
   "outputs": [],
   "source": [
    "#utilizar W\n",
    "reg = np.dot(X_ext,W)\n",
    "\n",
    "plt.figure(figsize=(8,5))\n",
    "plt.plot( X[:,0],X[:,1], 'o', color='green' )\n",
    "plt.plot( X[:,0],reg   , 'o', color='blue' )\n",
    "plt.grid(True)"
   ]
  },
  {
   "cell_type": "markdown",
   "metadata": {},
   "source": [
    "## 2. Regresión cuadrática"
   ]
  },
  {
   "cell_type": "code",
   "execution_count": null,
   "metadata": {},
   "outputs": [],
   "source": [
    "Y_cuad = 0.5*X[:,0:1]**2 + 3.2*X[:,0:1] - 5\n",
    "Y_cuad = Y_cuad + np.random.normal( 0,.75,Y_cuad.shape )\n",
    "\n",
    "plt.figure(figsize=(8,5))\n",
    "plt.plot( X_cuad[:,0],Y_cuad[:,0], 'o', color='green' )\n",
    "plt.grid(True)"
   ]
  },
  {
   "cell_type": "code",
   "execution_count": null,
   "metadata": {},
   "outputs": [],
   "source": [
    "#¿Cómo se modifica el vector de entrenamiento en este caso?\n",
    "\n",
    "print(W)"
   ]
  },
  {
   "cell_type": "code",
   "execution_count": null,
   "metadata": {
    "scrolled": true
   },
   "outputs": [],
   "source": [
    "#Evaluar la regresión cuadratica\n",
    "reg = np.dot(X_ext,W)\n",
    "\n",
    "plt.figure(figsize=(8,5))\n",
    "plt.plot( X[:,0],Y_cuad, 'o', color='green' )\n",
    "plt.plot( X[:,0],reg   , 'o', color='blue' )\n",
    "plt.grid(True)"
   ]
  },
  {
   "cell_type": "markdown",
   "metadata": {},
   "source": [
    "## 3. Pseudoinversa como clasificador"
   ]
  },
  {
   "cell_type": "code",
   "execution_count": null,
   "metadata": {},
   "outputs": [],
   "source": [
    "N    = 1000\n",
    "X, Y = blobs( n_samples=N,\n",
    "              centers  =[ [-4,3],[1,2] ],\n",
    "              cluster_std=[1.5,1.25] )\n",
    "\n",
    "plt.figure(figsize=(8,5))\n",
    "plt.plot( X[Y==0,0],X[Y==0,1], 'o', color='green' )\n",
    "plt.plot( X[Y==1,0],X[Y==1,1], 'o', color='blue' )\n",
    "plt.grid(True)"
   ]
  },
  {
   "cell_type": "code",
   "execution_count": null,
   "metadata": {},
   "outputs": [],
   "source": [
    "NT = 700\n",
    "NE = N-NT\n",
    "\n",
    "index = np.arange(N)\n",
    "np.random.shuffle(index)\n",
    "\n",
    "XT = X[ index[   :NT] ]\n",
    "XE = X[ index[-NE:  ] ]\n",
    "\n",
    "YT = -2*(Y[ index[   :NT] ]==0) + 1\n",
    "YE = -2*(Y[ index[-NE:  ] ]==0) + 1"
   ]
  },
  {
   "cell_type": "code",
   "execution_count": null,
   "metadata": {},
   "outputs": [],
   "source": [
    "k = 7\n",
    "\n",
    "folds "
   ]
  },
  {
   "cell_type": "code",
   "execution_count": null,
   "metadata": {},
   "outputs": [],
   "source": [
    "def c_matrix(Y,L):\n",
    "    \n",
    "    T = np.array( [ [-1, -1],\n",
    "                    [-1,  1],\n",
    "                    [ 1, -1],\n",
    "                    [ 1,  1]  ] \n",
    "                )\n",
    "    \n",
    "    return "
   ]
  },
  {
   "cell_type": "code",
   "execution_count": null,
   "metadata": {},
   "outputs": [],
   "source": [
    "for f in folds:\n",
    "    X_Train = \n",
    "    Y_Train = \n",
    "    X_Test  = \n",
    "    Y_Test  = \n",
    "    \n",
    "    W       = pseudo_inv(X_Train,Y_Train)\n",
    "    \n",
    "    Y_Lab   = \n",
    "    Y_Lab   = \n",
    "    \n",
    "    print(  c_matrix( Y_Test[:,np.newaxis],Y_Lab[:,np.newaxis] )  )"
   ]
  }
 ],
 "metadata": {
  "kernelspec": {
   "display_name": "Python 3",
   "language": "python",
   "name": "python3"
  },
  "language_info": {
   "codemirror_mode": {
    "name": "ipython",
    "version": 3
   },
   "file_extension": ".py",
   "mimetype": "text/x-python",
   "name": "python",
   "nbconvert_exporter": "python",
   "pygments_lexer": "ipython3",
   "version": "3.6.7"
  }
 },
 "nbformat": 4,
 "nbformat_minor": 2
}
