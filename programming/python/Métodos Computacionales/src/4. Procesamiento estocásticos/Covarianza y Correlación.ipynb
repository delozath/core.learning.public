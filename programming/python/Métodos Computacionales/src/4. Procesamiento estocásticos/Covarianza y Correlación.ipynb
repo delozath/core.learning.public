{
 "cells": [
  {
   "cell_type": "code",
   "execution_count": null,
   "metadata": {},
   "outputs": [],
   "source": [
    "import numpy             as np\n",
    "\n",
    "from scipy                import fftpack as fft\n",
    "from matplotlib           import pyplot  as plt"
   ]
  },
  {
   "cell_type": "markdown",
   "metadata": {},
   "source": [
    "## Datos gaussianos multivariados"
   ]
  },
  {
   "cell_type": "code",
   "execution_count": null,
   "metadata": {
    "scrolled": true
   },
   "outputs": [],
   "source": [
    "m = np.array([-1,-3])\n",
    "S = np.array([ [1, 0],\n",
    "               [0, 1]  ])\n",
    "print(m)\n",
    "print(S)\n",
    "\n",
    "X = np.random.multivariate_normal( m,S,10000)\n",
    "\n",
    "print('\\n',X.shape)\n",
    "\n",
    "plt.figure( figsize=(5,5) )\n",
    "plt.title( 'Gráfica de dispersión' )\n",
    "plt.plot(X[:,0],X[:,1], '.')\n",
    "plt.grid(True)"
   ]
  },
  {
   "cell_type": "code",
   "execution_count": null,
   "metadata": {},
   "outputs": [],
   "source": [
    "plt.figure( figsize=(6,5) )\n",
    "plt.title( 'Histograma conjunto, el color representa la altura' )\n",
    "plt.hist2d( X[:,0],X[:,1],bins=np.sqrt(X.size), cmap='inferno' )\n",
    "plt.colorbar()\n",
    "plt.grid(True)"
   ]
  },
  {
   "cell_type": "markdown",
   "metadata": {},
   "source": [
    "## Coeficiente de correlación de Pearson"
   ]
  },
  {
   "cell_type": "code",
   "execution_count": null,
   "metadata": {
    "scrolled": true
   },
   "outputs": [],
   "source": [
    "import os\n",
    "\n",
    "path  = os.path.abspath(\"../../data\")\n",
    "fname = 'rec02_001.txt'\n",
    "\n",
    "data = np.loadtxt(path+'/'+fname,delimiter='\\t',dtype='str')\n",
    "data  = data.astype('float')[2000:6000]\n",
    "\n",
    "plt.figure( figsize=(12,4) )\n",
    "plt.plot( data[:,0], data[:,2], color='green'  )\n",
    "plt.plot( data[:,0], data[:,4], color='orange' )\n",
    "plt.grid(True)\n",
    "plt.show()"
   ]
  },
  {
   "cell_type": "code",
   "execution_count": null,
   "metadata": {},
   "outputs": [],
   "source": [
    "plt.figure( figsize=(12,4) )\n",
    "plt.title('Gráfica de dispersión entre Onda de pulso y EKG')\n",
    "plt.plot( data[:,4], data[:,2],'.' )\n",
    "plt.grid(True)\n",
    "plt.show()"
   ]
  },
  {
   "cell_type": "markdown",
   "metadata": {},
   "source": [
    "### Coeficiente de correlación a partir de bibliotecas de python"
   ]
  },
  {
   "cell_type": "code",
   "execution_count": null,
   "metadata": {},
   "outputs": [],
   "source": [
    "from scipy.stats import pearsonr\n",
    "pearsonr(  data[:,4], data[:,2]  )"
   ]
  },
  {
   "cell_type": "markdown",
   "metadata": {},
   "source": [
    "### Coeficiente de correlación a partir de la definición\n",
    "\n",
    "$$r = \\dfrac{ C_{ij} }{ \\sqrt{C_{ii}}\\sqrt{C_{jj}} }$$\n",
    "\n",
    "donde $C_{mn}$ es la covarianza la entre los procesos $m$ y $n$. "
   ]
  },
  {
   "cell_type": "code",
   "execution_count": null,
   "metadata": {
    "scrolled": true
   },
   "outputs": [],
   "source": [
    "S = np.cov( data[:,4], data[:,2] )\n",
    "\n",
    "print(S)\n",
    "S[0,1]/np.product( np.sqrt( S.diagonal() ) )"
   ]
  },
  {
   "cell_type": "code",
   "execution_count": null,
   "metadata": {},
   "outputs": [],
   "source": [
    "## Retomando el ejemplo de gaussianas multivariadas"
   ]
  },
  {
   "cell_type": "code",
   "execution_count": null,
   "metadata": {},
   "outputs": [],
   "source": [
    "m = np.array([-1,-3])\n",
    "S = np.array([ [1, .9],\n",
    "               [.9, 1]  ])\n",
    "print(m)\n",
    "print(S)\n",
    "\n",
    "X = np.random.multivariate_normal( m,S,1000)\n",
    "\n",
    "print('\\n',X.shape)\n",
    "\n",
    "plt.figure( figsize=(5,5) )\n",
    "plt.title( 'Gráfica de dispersión' )\n",
    "plt.plot(X[:,0],X[:,1], '.')\n",
    "plt.grid(True)"
   ]
  },
  {
   "cell_type": "code",
   "execution_count": null,
   "metadata": {},
   "outputs": [],
   "source": [
    "S = np.cov( X[:,0],X[:,1] )\n",
    "\n",
    "print(S)\n",
    "S[0,1]/np.product( np.sqrt( S.diagonal() ) )"
   ]
  }
 ],
 "metadata": {
  "kernelspec": {
   "display_name": "Python 3",
   "language": "python",
   "name": "python3"
  },
  "language_info": {
   "codemirror_mode": {
    "name": "ipython",
    "version": 3
   },
   "file_extension": ".py",
   "mimetype": "text/x-python",
   "name": "python",
   "nbconvert_exporter": "python",
   "pygments_lexer": "ipython3",
   "version": "3.6.8"
  }
 },
 "nbformat": 4,
 "nbformat_minor": 2
}
