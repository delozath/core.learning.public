{
 "cells": [
  {
   "cell_type": "code",
   "execution_count": null,
   "metadata": {},
   "outputs": [],
   "source": [
    "import os\n",
    "\n",
    "import numpy             as np\n",
    "\n",
    "from scipy.signal import chirp, hilbert\n",
    "from matplotlib   import pyplot  as plt"
   ]
  },
  {
   "cell_type": "markdown",
   "metadata": {},
   "source": [
    "### Coeficiente de correlación a partir de bibliotecas de python"
   ]
  },
  {
   "cell_type": "code",
   "execution_count": null,
   "metadata": {},
   "outputs": [],
   "source": [
    "L  = 2.5\n",
    "sr = 400\n",
    "t  = np.linspace(0,L,L*sr)\n",
    "\n",
    "sn = chirp( t,10,t[-1],50,method='quadratic' )\n",
    "\n",
    "plt.figure( figsize=(12,4) )\n",
    "plt.plot( t, sn )\n",
    "plt.grid(True)"
   ]
  },
  {
   "cell_type": "code",
   "execution_count": null,
   "metadata": {},
   "outputs": [],
   "source": [
    "sn *= np.sin(1.5*np.pi*2.5*t)\n",
    "\n",
    "plt.figure( figsize=(12,4) )\n",
    "plt.plot( t, sn )\n",
    "plt.grid(True)"
   ]
  },
  {
   "cell_type": "code",
   "execution_count": null,
   "metadata": {
    "scrolled": false
   },
   "outputs": [],
   "source": [
    "H = hilbert(sn)\n",
    "\n",
    "ev = np.abs(H)\n",
    "\n",
    "plt.figure( figsize=(12,4) )\n",
    "plt.plot( t, sn   , color ='black' )\n",
    "plt.plot( t, ev   , color ='green' )\n",
    "plt.plot( t, sn**2, color ='orange' )\n",
    "plt.grid(True)\n",
    "plt.show()"
   ]
  },
  {
   "cell_type": "markdown",
   "metadata": {},
   "source": [
    "## Estimadores de área"
   ]
  },
  {
   "cell_type": "code",
   "execution_count": null,
   "metadata": {
    "scrolled": true
   },
   "outputs": [],
   "source": [
    "print( np.trapz( np.abs(ev   ),dx=1/sr ) )\n",
    "print( np.trapz( np.abs(sn**2),dx=1/sr ) )"
   ]
  },
  {
   "cell_type": "markdown",
   "metadata": {},
   "source": [
    "Recordando que el área del trapecio es:\n",
    "$$ A = h\\dfrac{a+b}{2}\\,, $$\n",
    "\n",
    "donde $a$, $b$ corresponden a las alturas del trapecio y $h$ a su base"
   ]
  },
  {
   "cell_type": "code",
   "execution_count": null,
   "metadata": {},
   "outputs": [],
   "source": [
    "print( 'Sumas de Riemann : ' , ev.sum()/sr )\n",
    "print( 'Regla trapezoidal: ',0.5*( ev[:-1] + ev[1:] ).sum()/sr )"
   ]
  },
  {
   "cell_type": "markdown",
   "metadata": {},
   "source": [
    "## Aplicación es señales reales"
   ]
  },
  {
   "cell_type": "code",
   "execution_count": null,
   "metadata": {
    "scrolled": true
   },
   "outputs": [],
   "source": [
    "path  = os.path.abspath(\"../../data\")\n",
    "fname = 'rec02_001.txt'\n",
    "\n",
    "data = np.loadtxt(path+'/'+fname,delimiter='\\t',dtype='str')\n",
    "data  = data.astype('float')[2000:6000,2]\n",
    "\n",
    "plt.figure( figsize=(12,4) )\n",
    "plt.plot( data, color='green'  )\n",
    "plt.grid(True)\n",
    "plt.show()"
   ]
  },
  {
   "cell_type": "code",
   "execution_count": null,
   "metadata": {},
   "outputs": [],
   "source": [
    "H = hilbert(data)\n",
    "\n",
    "ev = np.abs(H)\n",
    "\n",
    "plt.figure( figsize=(12,4) )\n",
    "plt.plot( data[:1200], color ='green' )\n",
    "plt.plot(   ev[:1200], color ='orange' )\n",
    "plt.grid(True)\n",
    "plt.show()"
   ]
  },
  {
   "cell_type": "markdown",
   "metadata": {},
   "source": [
    "La envolvente no fue detectada satisfactoriamente, veamos qué ocurre cuando se analiza un EMG"
   ]
  },
  {
   "cell_type": "code",
   "execution_count": null,
   "metadata": {
    "scrolled": true
   },
   "outputs": [],
   "source": [
    "import wfdb\n",
    "#Registro de EMG de Physionet\n",
    "path  = os.path.abspath(\"../../data\")\n",
    "fname = '/emg_healthy'\n",
    "data  = wfdb.rdsamp(path+fname)\n",
    "\n",
    "sr   = data[1]['fs']\n",
    "data = data[0][:12000:,0]\n",
    "\n",
    "\n",
    "plt.figure( figsize=(12,4) )\n",
    "plt.plot( data, color='green'  )\n",
    "plt.grid(True)\n",
    "plt.show()"
   ]
  },
  {
   "cell_type": "code",
   "execution_count": null,
   "metadata": {},
   "outputs": [],
   "source": [
    "H = hilbert(data)\n",
    "\n",
    "ev = np.abs(H)\n",
    "\n",
    "plt.figure( figsize=(12,4) )\n",
    "plt.plot( data[:1200], color ='green' )\n",
    "plt.plot(   ev[:1200], color ='orange' )\n",
    "plt.grid(True)\n",
    "plt.show()"
   ]
  },
  {
   "cell_type": "code",
   "execution_count": null,
   "metadata": {
    "scrolled": true
   },
   "outputs": [],
   "source": [
    "print( 'Sumas de Riemann : ' , ev[:1200].sum()/sr )\n",
    "print( 'Regla trapezoidal: ',0.5*( ev[:1200-1] + ev[1:1200] ).sum()/sr )"
   ]
  }
 ],
 "metadata": {
  "kernelspec": {
   "display_name": "Python 3",
   "language": "python",
   "name": "python3"
  },
  "language_info": {
   "codemirror_mode": {
    "name": "ipython",
    "version": 3
   },
   "file_extension": ".py",
   "mimetype": "text/x-python",
   "name": "python",
   "nbconvert_exporter": "python",
   "pygments_lexer": "ipython3",
   "version": "3.6.8"
  }
 },
 "nbformat": 4,
 "nbformat_minor": 2
}
