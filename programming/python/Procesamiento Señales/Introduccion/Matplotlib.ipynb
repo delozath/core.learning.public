{
 "cells": [
  {
   "cell_type": "markdown",
   "metadata": {},
   "source": [
    "[Matplotlib](https://matplotlib.org), [Galería y ejemplos](https://matplotlib.org/gallery/index.html)\n",
    "\n",
    "codependencia entre numpy y matplotlib"
   ]
  },
  {
   "cell_type": "code",
   "execution_count": null,
   "metadata": {},
   "outputs": [],
   "source": [
    "import numpy             as np\n",
    "import matplotlib.pyplot as plt"
   ]
  },
  {
   "cell_type": "code",
   "execution_count": null,
   "metadata": {},
   "outputs": [],
   "source": [
    "t = np.linspace(0,5,500)\n",
    "y = np.sin(2*np.pi*t)"
   ]
  },
  {
   "cell_type": "code",
   "execution_count": null,
   "metadata": {},
   "outputs": [],
   "source": [
    "plt.plot(t,y)\n",
    "plt.show()"
   ]
  },
  {
   "cell_type": "markdown",
   "metadata": {},
   "source": [
    "Modificando propiedades básicas"
   ]
  },
  {
   "cell_type": "code",
   "execution_count": null,
   "metadata": {},
   "outputs": [],
   "source": [
    "t = np.linspace(0,5,500)\n",
    "y = np.sin(2*np.pi*t)\n",
    "\n",
    "plt.plot(t,y,'r')\n",
    "plt.show()"
   ]
  },
  {
   "cell_type": "code",
   "execution_count": null,
   "metadata": {},
   "outputs": [],
   "source": [
    "t = np.linspace(0,5,500)\n",
    "y = np.sin(2*np.pi*t)\n",
    "\n",
    "plt.plot(t,y,'r')\n",
    "plt.grid(True)\n",
    "plt.show()"
   ]
  },
  {
   "cell_type": "code",
   "execution_count": null,
   "metadata": {},
   "outputs": [],
   "source": [
    "t = np.linspace(0,5,500)\n",
    "y = np.sin(2*np.pi*t)\n",
    "\n",
    "plt.figure('Seno')\n",
    "plt.plot(t,y,'r')\n",
    "plt.grid(True)\n",
    "plt.show()"
   ]
  },
  {
   "cell_type": "code",
   "execution_count": null,
   "metadata": {},
   "outputs": [],
   "source": [
    "t = np.linspace(0,5,500)\n",
    "y = np.sin(2*np.pi*t)\n",
    "\n",
    "plt.figure('Seno',figsize=(12,4))\n",
    "plt.plot(t,y,'r')\n",
    "plt.grid(True)\n",
    "plt.show()"
   ]
  },
  {
   "cell_type": "code",
   "execution_count": null,
   "metadata": {},
   "outputs": [],
   "source": [
    "t = np.linspace(0,5,500)\n",
    "y = np.sin(2*np.pi*t)\n",
    "\n",
    "plt.figure('Seno',figsize=(12,4))\n",
    "plt.plot(t,y,'r',linewidth=5)\n",
    "plt.grid(True)\n",
    "plt.show()"
   ]
  },
  {
   "cell_type": "markdown",
   "metadata": {},
   "source": [
    "Graficar seno y coseno. La grafica no se muestra hasta el comando show"
   ]
  },
  {
   "cell_type": "code",
   "execution_count": null,
   "metadata": {},
   "outputs": [],
   "source": [
    "t = np.linspace(0,5,500)\n",
    "y = np.sin(2*np.pi*t)\n",
    "w = np.cos(2*np.pi*t)\n",
    "\n",
    "#seno\n",
    "plt.figure('Seno, Coseno',figsize=(12,4))\n",
    "plt.plot(t,y,'r',linewidth=5)\n",
    "plt.grid(True)\n",
    "\n",
    "#coseno\n",
    "plt.plot(t,w,'b',linewidth=5)\n",
    "plt.grid(True)\n",
    "\n",
    "plt.show()"
   ]
  },
  {
   "cell_type": "markdown",
   "metadata": {},
   "source": [
    "Graficas por separado"
   ]
  },
  {
   "cell_type": "code",
   "execution_count": null,
   "metadata": {},
   "outputs": [],
   "source": [
    "t = np.linspace(0,5,500)\n",
    "y = np.sin(2*np.pi*t)\n",
    "w = np.cos(2*np.pi*t)\n",
    "\n",
    "#seno\n",
    "plt.figure('Seno',figsize=(12,4))\n",
    "plt.plot(t,y,'r',linewidth=5)\n",
    "plt.grid(True)\n",
    "\n",
    "#coseno\n",
    "plt.figure('Coseno',figsize=(12,4))\n",
    "plt.plot(t,w,'b',linewidth=5)\n",
    "plt.grid(True)\n",
    "\n",
    "plt.show()"
   ]
  },
  {
   "cell_type": "markdown",
   "metadata": {},
   "source": [
    "Titulo y nombre de ejes"
   ]
  },
  {
   "cell_type": "code",
   "execution_count": null,
   "metadata": {},
   "outputs": [],
   "source": [
    "t = np.linspace(0,5,500)\n",
    "y = np.sin(2*np.pi*t)\n",
    "w = np.cos(2*np.pi*t)\n",
    "\n",
    "#seno\n",
    "plt.figure('Seno, Coseno',figsize=(12,4))\n",
    "plt.plot(t,y,'r',linewidth=5)\n",
    "plt.grid(True)\n",
    "\n",
    "#coseno\n",
    "plt.plot(t,w,'b',linewidth=5)\n",
    "plt.grid(True)\n",
    "\n",
    "plt.title ('Simulador de EEG'  ,fontsize=20)\n",
    "plt.ylabel('Amplitud [$\\mu$V]',fontsize=14)\n",
    "plt.xlabel('Tiempo [s]'        ,fontsize=14)\n",
    "\n",
    "plt.show()"
   ]
  },
  {
   "cell_type": "markdown",
   "metadata": {},
   "source": [
    "Se utiliza sintáxis de [Latex](https://www.latex-project.org) para simbolos en este caso la letra griega para micro tiene la sintáxis *\\$\\mu\\$*"
   ]
  },
  {
   "cell_type": "code",
   "execution_count": null,
   "metadata": {},
   "outputs": [],
   "source": [
    "t = np.linspace(0,5,500)\n",
    "y = np.sin(2*np.pi*t)\n",
    "w = np.cos(2*np.pi*t)\n",
    "\n",
    "#seno\n",
    "plt.figure('Seno, Coseno',figsize=(12,4))\n",
    "plt.plot(t,y,'r',linewidth=5,label='CZ')\n",
    "plt.grid(True)\n",
    "\n",
    "#coseno\n",
    "plt.plot(t,w,'b',linewidth=5,label='PZ')\n",
    "plt.grid(True)\n",
    "plt.legend()\n",
    "\n",
    "plt.title ('Simulador de EEG'  ,fontsize=20)\n",
    "plt.ylabel('Amplitud [$\\mu$V]',fontsize=14)\n",
    "plt.xlabel('Tiempo [s]'        ,fontsize=14)\n",
    "\n",
    "plt.show()"
   ]
  },
  {
   "cell_type": "markdown",
   "metadata": {},
   "source": [
    "[Regresar numpy](Numpy.ipynb)"
   ]
  }
 ],
 "metadata": {
  "kernelspec": {
   "display_name": "Python 3",
   "language": "python",
   "name": "python3"
  },
  "language_info": {
   "codemirror_mode": {
    "name": "ipython",
    "version": 3
   },
   "file_extension": ".py",
   "mimetype": "text/x-python",
   "name": "python",
   "nbconvert_exporter": "python",
   "pygments_lexer": "ipython3",
   "version": "3.6.8"
  }
 },
 "nbformat": 4,
 "nbformat_minor": 2
}
