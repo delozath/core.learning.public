{
 "cells": [
  {
   "cell_type": "markdown",
   "metadata": {},
   "source": [
    "# 1. Introducción a Python v3.7"
   ]
  },
  {
   "cell_type": "markdown",
   "metadata": {},
   "source": [
    "## Origen del nombre\n",
    "\n",
    "<br></br>\n",
    "In December 1989, I was looking for a **hobby** programming project that would keep me occupied during the week around Christmas. My office would be closed, but I had a home computer, and not much else on my hands. I decided to **write an interpreter for the new scripting language** I had been thinking about lately: a descendant of ABC that would appeal to Unix/C hackers. I chose Python as a working title for the project, being in a slightly irreverent mood.\n",
    "\n",
    "<br></br>\n",
    "<div align=\"right\"> Guido van Rossum </div>\n",
    "\n",
    "El origen del nombre es el grupo de humoristas Monty Python\n",
    "<br></br>\n",
    "<img src=\"../../images/monty-python.png\" alt=\"Movie: Monty python and the holy grail (1971)\" style=\"width: 250px;\"/>\n",
    "\n",
    "\n",
    "\n"
   ]
  },
  {
   "cell_type": "markdown",
   "metadata": {},
   "source": [
    "## 1.1. ¿Qué es Python?\n",
    "\n",
    "Lenguaje de programación interpretado, multi-paradigma\n",
    "\n",
    "<img src=\"../../images/Frankenstein-python.png\" alt=\"German vs Greece philosopher football match\" style=\"width: 400px;\"/>"
   ]
  },
  {
   "cell_type": "markdown",
   "metadata": {},
   "source": [
    "## 1.2 Arquitectura de Python\n",
    "<br></br>\n",
    "<img src=\"../../images/python-architecture.png\" alt=\"Python paradigm\" style=\"width: 500px;\"/>\n",
    "\n",
    "<br></br>\n",
    "*Nota:* Las imágenes utilizadas para este diagrama son propiedad de cada proyecto y sólo son mostradas con fines informativos."
   ]
  },
  {
   "cell_type": "markdown",
   "metadata": {},
   "source": [
    "## 1.3. Instalación"
   ]
  },
  {
   "cell_type": "markdown",
   "metadata": {},
   "source": [
    "### Windows\n",
    "Descargar la instalación completa ~500 MB de [Anaconda](https://www.anaconda.com/download/) para python v3.7; seguir los pasos de instalación.\n",
    "\n",
    "### Mac\n",
    "Descargar la instalación completa ~600 MB de [Anaconda](https://www.anaconda.com/download/) para python v3.7; seguir los pasos de instalación.\n",
    "\n",
    "### Linux\n",
    "Aunque también se puede descargar de [Anaconda](https://www.anaconda.com/download/), como en los dos casos anteriores; se propone un script que instala Python 3.7 en distribuciones basadas en Debian. La ventaja de este método de instalación es que el código se compila para que pueda ser ejecutado en varios núcleos a la vez, disminuyendo el tiempo de ejecución en tareas computacionalmente complejas. Con las adecuaciones correctas, este script también puede utilizarse en Mac.\n",
    "\n",
    "```bash\n",
    "sudo -s\n",
    "\n",
    "apt build-dep python\n",
    "apt install python-pip\n",
    "apt build-dep python-numpy python-scipy\n",
    "\n",
    "pip install --upgrade pip\n",
    "pip install --upgrade numpy scipy\n",
    "pip install --upgrade scikit-learn\n",
    "pip install --upgrade jupyter\n",
    "pip install --upgrade matplotlib\n",
    "pip install --upgrade seaborn\n",
    "pip install --upgrade scikit-image\n",
    "pip install --upgrade wfdb\n",
    "pip install --upgrade pandas\n",
    "\n",
    "apt install python-setuptools python-mdp python-biosig spyder \n",
    "```\n"
   ]
  },
  {
   "cell_type": "markdown",
   "metadata": {},
   "source": [
    "## 1.4. Ambientes de desarrollo\n",
    "\n",
    "|Ambiente |Ejecución          |Uso           |\n",
    "|:---     |:----              |----          |\n",
    "|IPy\\[\\]  |Interactiva        |Aprender      |\n",
    "|Jupyter  |Interactiva        |Aprender/Notas|\n",
    "|Spyder   |Completa/Depuración|Desarrollo    |\n",
    "|Consola + Editor de texto  |Completa/Depuración|Desarrollo    |\n"
   ]
  },
  {
   "cell_type": "markdown",
   "metadata": {},
   "source": [
    "## 1.5. Bibliteca Estándar de Python\n",
    "\n",
    "La [Python Standard Library](https://docs.python.org/2/library/) tiene bibliotecas para diversas aplicaciones: operaciones matemáticas, protocolos de comunicación, estructuras de datos, bases de datos, interacción con el sistema de archivos, gestión de algunos tipos de archivos, etc.\n",
    "\n",
    "Ejemplos de bibliotecas son: math, sys, re, os, logging, collections, struct, list, hash, random, socket, XML, etc."
   ]
  },
  {
   "cell_type": "markdown",
   "metadata": {},
   "source": [
    "## 1.6. Operaciones básicas"
   ]
  },
  {
   "cell_type": "code",
   "execution_count": null,
   "metadata": {},
   "outputs": [],
   "source": [
    "print( 'Hola Mundo' )"
   ]
  },
  {
   "cell_type": "code",
   "execution_count": null,
   "metadata": {},
   "outputs": [],
   "source": [
    "5+2"
   ]
  },
  {
   "cell_type": "code",
   "execution_count": null,
   "metadata": {},
   "outputs": [],
   "source": [
    "2/5"
   ]
  },
  {
   "cell_type": "code",
   "execution_count": null,
   "metadata": {},
   "outputs": [],
   "source": [
    "2/5."
   ]
  },
  {
   "cell_type": "code",
   "execution_count": null,
   "metadata": {},
   "outputs": [],
   "source": [
    "2**5"
   ]
  },
  {
   "cell_type": "code",
   "execution_count": null,
   "metadata": {},
   "outputs": [],
   "source": [
    "sqrt(4.)"
   ]
  },
  {
   "cell_type": "markdown",
   "metadata": {},
   "source": [
    "<hr></hr>\n",
    "La celda anterior debió generar un error, esto se debe a que la función para calcular la raíz cuadrada no es parte de la biblioteca estándar de python. En las siguientes secciones se explicarán las diversas formas de importar bibliotecas."
   ]
  },
  {
   "cell_type": "markdown",
   "metadata": {},
   "source": [
    "## 1.7. Gestión de Bibliotecas\n",
    "\n",
    "El núcleo de python se inicializa cargando las bibliotecas indispensables para el su funcionamiento."
   ]
  },
  {
   "cell_type": "markdown",
   "metadata": {},
   "source": [
    "#### math: biblioteca de funciones matemáticas"
   ]
  },
  {
   "cell_type": "code",
   "execution_count": null,
   "metadata": {},
   "outputs": [],
   "source": [
    "import math\n",
    "\n",
    "print( math.sqrt(4.) )"
   ]
  },
  {
   "cell_type": "markdown",
   "metadata": {},
   "source": [
    "#### random: biblioteca de funciones para generar números aleatorios"
   ]
  },
  {
   "cell_type": "code",
   "execution_count": null,
   "metadata": {},
   "outputs": [],
   "source": [
    "import random\n",
    "\n",
    "print( random.gauss(0,1) )"
   ]
  },
  {
   "cell_type": "markdown",
   "metadata": {},
   "source": [
    "### Variantes del proceso de importación: asignar un alias"
   ]
  },
  {
   "cell_type": "code",
   "execution_count": null,
   "metadata": {},
   "outputs": [],
   "source": [
    "import math   as mt\n",
    "import random as rd\n",
    "\n",
    "print( mt.sqrt(4.)   )\n",
    "print( rd.gauss(0,1) )"
   ]
  },
  {
   "cell_type": "markdown",
   "metadata": {},
   "source": [
    "### Variantes del proceso de importación: importar una función específica"
   ]
  },
  {
   "cell_type": "code",
   "execution_count": null,
   "metadata": {},
   "outputs": [],
   "source": [
    "from math   import sqrt\n",
    "from random import gauss\n",
    "\n",
    "print( sqrt(4.)   )\n",
    "print( gauss(0,1) )"
   ]
  },
  {
   "cell_type": "code",
   "execution_count": null,
   "metadata": {},
   "outputs": [],
   "source": [
    "from math import sin, cos, tan, pi\n",
    "\n",
    "print( sin(pi/2) )\n",
    "print( cos(pi/2) )\n",
    "print( tan(pi/3) )\n"
   ]
  },
  {
   "cell_type": "markdown",
   "metadata": {},
   "source": [
    "### Variantes del proceso de importación: importar funciones específicas y asignar un alias"
   ]
  },
  {
   "cell_type": "code",
   "execution_count": null,
   "metadata": {},
   "outputs": [],
   "source": [
    "from math   import sqrt  as sq\n",
    "from random import gauss as rdg, randrange as rdrr\n",
    "\n",
    "print( sq(4.)     )\n",
    "print( rdg(0,1)   )\n",
    "print( rdrr(5,20) )\n"
   ]
  },
  {
   "cell_type": "markdown",
   "metadata": {},
   "source": [
    "## 1.8. Funciones auxiliares"
   ]
  },
  {
   "cell_type": "markdown",
   "metadata": {},
   "source": [
    "#### dir: desplegar lista de atributos y funciones de una biblioteca"
   ]
  },
  {
   "cell_type": "code",
   "execution_count": null,
   "metadata": {},
   "outputs": [],
   "source": [
    "import random\n",
    "\n",
    "print( dir(random) )"
   ]
  },
  {
   "cell_type": "markdown",
   "metadata": {},
   "source": [
    "#### help: deplegar la ayuda de una biblioteca"
   ]
  },
  {
   "cell_type": "code",
   "execution_count": null,
   "metadata": {},
   "outputs": [],
   "source": [
    "import random\n",
    "\n",
    "print( help(random) )"
   ]
  },
  {
   "cell_type": "markdown",
   "metadata": {},
   "source": [
    "#### help: deplegar la ayuda de una función"
   ]
  },
  {
   "cell_type": "code",
   "execution_count": null,
   "metadata": {},
   "outputs": [],
   "source": [
    "import random\n",
    "\n",
    "print( help(random.gauss) )"
   ]
  },
  {
   "cell_type": "markdown",
   "metadata": {},
   "source": [
    "#### help: deplegar la ayuda de una función con alias"
   ]
  },
  {
   "cell_type": "code",
   "execution_count": null,
   "metadata": {},
   "outputs": [],
   "source": [
    "from random import gauss as rdg\n",
    "\n",
    "print( help(rdg) )"
   ]
  },
  {
   "cell_type": "markdown",
   "metadata": {},
   "source": [
    "## 1.9. Tipos de datos básicos"
   ]
  },
  {
   "cell_type": "markdown",
   "metadata": {},
   "source": [
    "Las variables se asignan en tiempo de ejecución, por lo que no requieren ser declaradas.\n"
   ]
  },
  {
   "cell_type": "code",
   "execution_count": null,
   "metadata": {},
   "outputs": [],
   "source": [
    "x = 1\n",
    "print(x)\n",
    "\n",
    "x = 1.\n",
    "print(x)\n",
    "\n",
    "x = 'a'\n",
    "print(x)\n",
    "\n",
    "x = 'hola mundo'\n",
    "print(x)\n",
    "\n",
    "x = True\n",
    "print(x)\n",
    "\n",
    "x = 5 - 1j\n",
    "print(x)"
   ]
  },
  {
   "cell_type": "markdown",
   "metadata": {},
   "source": [
    "### Variantes en la definición de cadenas de caracteres"
   ]
  },
  {
   "cell_type": "code",
   "execution_count": null,
   "metadata": {
    "scrolled": true
   },
   "outputs": [],
   "source": [
    "#apostrofe\n",
    "x = 'hola'\n",
    "print(x)\n",
    "\n",
    "#comillas\n",
    "x = \"hola\"\n",
    "print(x)\n",
    "\n",
    "#triple comilla\n",
    "x = \"\"\"\\tEsta sirve\n",
    "        para texto en varias \n",
    "        lineas\"\"\"\n",
    "print(x)\n"
   ]
  },
  {
   "cell_type": "markdown",
   "metadata": {},
   "source": [
    "## 1.10. Funciones del núcleo de python"
   ]
  },
  {
   "cell_type": "markdown",
   "metadata": {},
   "source": [
    "#### len(x): regresa la longitud (número de elementos) de x"
   ]
  },
  {
   "cell_type": "code",
   "execution_count": null,
   "metadata": {},
   "outputs": [],
   "source": [
    "x = \"hola\"\n",
    "print( x )\n",
    "print( len(x) )"
   ]
  },
  {
   "cell_type": "markdown",
   "metadata": {},
   "source": [
    "#### int(x): convierte x en un entero"
   ]
  },
  {
   "cell_type": "code",
   "execution_count": null,
   "metadata": {},
   "outputs": [],
   "source": [
    "x = 27.25658\n",
    "print( int(x) )"
   ]
  },
  {
   "cell_type": "markdown",
   "metadata": {},
   "source": [
    "#### float(x): convierte x en un número de punto flotante"
   ]
  },
  {
   "cell_type": "code",
   "execution_count": null,
   "metadata": {},
   "outputs": [],
   "source": [
    "x = 1\n",
    "print( float(x) )"
   ]
  },
  {
   "cell_type": "code",
   "execution_count": null,
   "metadata": {},
   "outputs": [],
   "source": [
    "x = '-2.8598'\n",
    "y = float(x)\n",
    "print( x+'1' )\n",
    "print( y+ 1  )"
   ]
  },
  {
   "cell_type": "markdown",
   "metadata": {},
   "source": [
    "## 1.11. Entrada estándar\n",
    "\n",
    "El método *input* es el que lee datos ingresados por la entrada estándar (teclado) y los asigna a una variable siempre en formato texto."
   ]
  },
  {
   "cell_type": "code",
   "execution_count": null,
   "metadata": {},
   "outputs": [],
   "source": [
    "data = input('ingresa un valor: ')"
   ]
  },
  {
   "cell_type": "code",
   "execution_count": null,
   "metadata": {},
   "outputs": [],
   "source": [
    "print( data )"
   ]
  },
  {
   "cell_type": "code",
   "execution_count": null,
   "metadata": {},
   "outputs": [],
   "source": [
    "print( data + 2.7 )"
   ]
  },
  {
   "cell_type": "markdown",
   "metadata": {},
   "source": [
    "<br></br>\n",
    "La celda anterior debió generar un error, por la codificación en texto, en todo caso, se puede utilizar la concatenación:"
   ]
  },
  {
   "cell_type": "code",
   "execution_count": null,
   "metadata": {},
   "outputs": [],
   "source": [
    "print( data + '2.7' )"
   ]
  },
  {
   "cell_type": "markdown",
   "metadata": {},
   "source": [
    "Finalmente, a continuación se muestran un par de *snippet* para conversión entre datos"
   ]
  },
  {
   "cell_type": "code",
   "execution_count": null,
   "metadata": {},
   "outputs": [],
   "source": [
    "data = input('ingresa un dato: ')\n",
    "\n",
    "print(      float(data) + 2.7 )  \n",
    "print( int( float(data) + 2.7 )  )"
   ]
  }
 ],
 "metadata": {
  "kernelspec": {
   "display_name": "Python 3",
   "language": "python",
   "name": "python3"
  },
  "language_info": {
   "codemirror_mode": {
    "name": "ipython",
    "version": 3
   },
   "file_extension": ".py",
   "mimetype": "text/x-python",
   "name": "python",
   "nbconvert_exporter": "python",
   "pygments_lexer": "ipython3",
   "version": "3.6.8"
  }
 },
 "nbformat": 4,
 "nbformat_minor": 2
}
