{
 "cells": [
  {
   "cell_type": "markdown",
   "metadata": {},
   "source": [
    "# Diccionarios\n",
    "\n",
    "Los diccionarios se pueden considerar una generalización de una lista ya que el índice deja de ser un número entero y puede ser otro objeto"
   ]
  },
  {
   "cell_type": "code",
   "execution_count": null,
   "metadata": {},
   "outputs": [],
   "source": [
    "x = [  1, [7,8,-1,0.5],'negro' ]"
   ]
  },
  {
   "cell_type": "code",
   "execution_count": null,
   "metadata": {},
   "outputs": [],
   "source": [
    "print (x[0])\n",
    "print (x[1])\n",
    "print (x[2])"
   ]
  },
  {
   "cell_type": "code",
   "execution_count": null,
   "metadata": {},
   "outputs": [],
   "source": [
    "x = {'id':1,'parametros':[7,8,-1,0.5],'color':'negro', 2:5, 7:'Hola'}"
   ]
  },
  {
   "cell_type": "code",
   "execution_count": null,
   "metadata": {},
   "outputs": [],
   "source": [
    "x.keys()"
   ]
  },
  {
   "cell_type": "code",
   "execution_count": null,
   "metadata": {},
   "outputs": [],
   "source": [
    "print (x['id']          )\n",
    "print (x['color']       )\n",
    "print (x['parametros']  )\n",
    "print (x[2]             )\n",
    "print (x[7]             )"
   ]
  },
  {
   "cell_type": "code",
   "execution_count": null,
   "metadata": {},
   "outputs": [],
   "source": [
    "print (x[0])"
   ]
  },
  {
   "cell_type": "markdown",
   "metadata": {},
   "source": [
    "La celda anterior debió generar un error ya que a diferencia de un arreglo, un diccionario no tiene elementos consecutivos, por eso en este caso x[0] no existe en el diccionario"
   ]
  },
  {
   "cell_type": "markdown",
   "metadata": {},
   "source": [
    "#### Se agrega directamente con la nueva llave (key)"
   ]
  },
  {
   "cell_type": "code",
   "execution_count": null,
   "metadata": {},
   "outputs": [],
   "source": [
    "x['nuevo'] = 12\n",
    "print(x)"
   ]
  },
  {
   "cell_type": "code",
   "execution_count": null,
   "metadata": {},
   "outputs": [],
   "source": [
    "x['otro nuevo'] = '123456'\n",
    "x[365]          = 1E-10\n",
    "\n",
    "print( x.keys() )"
   ]
  },
  {
   "cell_type": "code",
   "execution_count": null,
   "metadata": {},
   "outputs": [],
   "source": [
    "for i in x:\n",
    "    print(i)"
   ]
  },
  {
   "cell_type": "markdown",
   "metadata": {},
   "source": [
    "# List Comprehensions\n",
    "\n",
    "Definición de listas\n",
    "```python\n",
    "x = [ op(i) for i in iterador ]\n",
    "```\n",
    "\n",
    "Crea un arreglo de los elementos dados por op(i) para cada elemento *i* de un iterador (cadena, lista, numpy, etc)."
   ]
  },
  {
   "cell_type": "code",
   "execution_count": null,
   "metadata": {},
   "outputs": [],
   "source": [
    "x = [ 2*i for i in range(10) ]\n",
    "print(x)"
   ]
  },
  {
   "cell_type": "markdown",
   "metadata": {},
   "source": [
    "De forma similar para diccionarios, pero con llaves\n",
    "```python\n",
    "x = { k:op(i) for k,i in iterador }\n",
    "```\n",
    "\n",
    "Crea un diccionario de los elementos dados por op(i) para cada elemento *i* de un iterador (cadena, lista, numpy, etc), en este caso se espera que el iterador contenga las llaves *k* de cada elemento del diccionario"
   ]
  },
  {
   "cell_type": "code",
   "execution_count": null,
   "metadata": {},
   "outputs": [],
   "source": [
    "keys = 'ABCDEFG'\n",
    "x    = {k:i**2 for i,k in enumerate(keys) } \n",
    "\n",
    "print( x.keys() )\n",
    "print( x )"
   ]
  },
  {
   "cell_type": "markdown",
   "metadata": {},
   "source": [
    "## Condicionales\n",
    "\n",
    "```python\n",
    "x = [ op(i) if cond else op2(i) for i in iterador ]\n",
    "```\n",
    "\n",
    "Si se comple *cond* se agrega a la lista *op(i)* en caso contrario *op2(i)*"
   ]
  },
  {
   "cell_type": "code",
   "execution_count": null,
   "metadata": {},
   "outputs": [],
   "source": [
    "x = [i if i%5!=0 else 0 for i in range(50) ]\n",
    "print(x)"
   ]
  },
  {
   "cell_type": "markdown",
   "metadata": {},
   "source": [
    "### Skip\n",
    "\n",
    "Para solamente asignar los valores que cumplan una condición la sintaxis cambia\n",
    "\n",
    "```python\n",
    "x = [ op(i) for i in iterador if cond ]\n",
    "```"
   ]
  },
  {
   "cell_type": "code",
   "execution_count": null,
   "metadata": {},
   "outputs": [],
   "source": [
    "x = [i for i in range(50) if i%5!=0 ]\n",
    "print(x)"
   ]
  }
 ],
 "metadata": {
  "kernelspec": {
   "display_name": "Python 3",
   "language": "python",
   "name": "python3"
  },
  "language_info": {
   "codemirror_mode": {
    "name": "ipython",
    "version": 3
   },
   "file_extension": ".py",
   "mimetype": "text/x-python",
   "name": "python",
   "nbconvert_exporter": "python",
   "pygments_lexer": "ipython3",
   "version": "3.6.8"
  }
 },
 "nbformat": 4,
 "nbformat_minor": 2
}
