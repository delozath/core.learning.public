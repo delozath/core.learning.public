{
 "cells": [
  {
   "cell_type": "markdown",
   "id": "4c0632e3",
   "metadata": {},
   "source": [
    "# Introducción a Python\n",
    "\n",
    "## Tipos de variables"
   ]
  },
  {
   "cell_type": "code",
   "execution_count": 2,
   "id": "cc10a11f",
   "metadata": {},
   "outputs": [
    {
     "name": "stdout",
     "output_type": "stream",
     "text": [
      "10\n"
     ]
    }
   ],
   "source": [
    "x = 10\n",
    "print(x)"
   ]
  },
  {
   "cell_type": "code",
   "execution_count": 3,
   "id": "b4dce361",
   "metadata": {},
   "outputs": [
    {
     "data": {
      "text/plain": [
       "int"
      ]
     },
     "execution_count": 3,
     "metadata": {},
     "output_type": "execute_result"
    }
   ],
   "source": [
    "type(x)"
   ]
  },
  {
   "cell_type": "code",
   "execution_count": 4,
   "id": "378066b0",
   "metadata": {},
   "outputs": [
    {
     "name": "stdout",
     "output_type": "stream",
     "text": [
      "10.5\n"
     ]
    }
   ],
   "source": [
    "x = 10.5\n",
    "print(x)"
   ]
  },
  {
   "cell_type": "code",
   "execution_count": 5,
   "id": "61f95fa7",
   "metadata": {},
   "outputs": [
    {
     "data": {
      "text/plain": [
       "float"
      ]
     },
     "execution_count": 5,
     "metadata": {},
     "output_type": "execute_result"
    }
   ],
   "source": [
    "type(x)"
   ]
  },
  {
   "cell_type": "code",
   "execution_count": 6,
   "id": "91311b0c",
   "metadata": {},
   "outputs": [
    {
     "name": "stdout",
     "output_type": "stream",
     "text": [
      "fayd 23-I\n"
     ]
    }
   ],
   "source": [
    "x = 'fayd 23-I'\n",
    "print(x)"
   ]
  },
  {
   "cell_type": "code",
   "execution_count": 7,
   "id": "d7aa1283",
   "metadata": {},
   "outputs": [
    {
     "data": {
      "text/plain": [
       "str"
      ]
     },
     "execution_count": 7,
     "metadata": {},
     "output_type": "execute_result"
    }
   ],
   "source": [
    "type(x)"
   ]
  },
  {
   "cell_type": "markdown",
   "id": "e100371d",
   "metadata": {},
   "source": [
    "# Estructuras de Control\n",
    " - Ramificaciones\n",
    "   - if-else if-else: if-elif-else\n",
    " - Loops\n",
    "   - for\n",
    "   - while\n",
    "  "
   ]
  },
  {
   "cell_type": "code",
   "execution_count": 8,
   "id": "007f739f",
   "metadata": {},
   "outputs": [
    {
     "name": "stdout",
     "output_type": "stream",
     "text": [
      "mayor\n"
     ]
    }
   ],
   "source": [
    "x = 10\n",
    "if x<5:\n",
    "    print(\"menor\")\n",
    "    -\n",
    "    -\n",
    "    -\n",
    "    -\n",
    "else:\n",
    "    print(\"mayor\")"
   ]
  },
  {
   "cell_type": "code",
   "execution_count": 9,
   "id": "901cc1bc",
   "metadata": {},
   "outputs": [
    {
     "ename": "SyntaxError",
     "evalue": "invalid syntax (1302902597.py, line 3)",
     "output_type": "error",
     "traceback": [
      "\u001b[0;36m  File \u001b[0;32m\"/tmp/ipykernel_24999/1302902597.py\"\u001b[0;36m, line \u001b[0;32m3\u001b[0m\n\u001b[0;31m    if (x<5){\u001b[0m\n\u001b[0m            ^\u001b[0m\n\u001b[0;31mSyntaxError\u001b[0m\u001b[0;31m:\u001b[0m invalid syntax\n"
     ]
    }
   ],
   "source": [
    "#bloque de código en C\n",
    "x = 10;\n",
    "if (x<5){\n",
    "printf(\"menor\");\n",
    "-;\n",
    "-;\n",
    "-;\n",
    "-;\n",
    "}\n",
    "else{\n",
    "printf(\"mayor\");\n",
    "}"
   ]
  },
  {
   "cell_type": "code",
   "execution_count": 10,
   "id": "1633acc4",
   "metadata": {},
   "outputs": [
    {
     "name": "stdout",
     "output_type": "stream",
     "text": [
      "positivo\n"
     ]
    }
   ],
   "source": [
    "x = 10\n",
    "if x<0:\n",
    "    print(\"negativo\")\n",
    "elif x==0:\n",
    "    print(\"cero\")\n",
    "else:\n",
    "    print(\"positivo\")"
   ]
  },
  {
   "cell_type": "code",
   "execution_count": null,
   "id": "52998e4e",
   "metadata": {},
   "outputs": [],
   "source": [
    "# Equivalente en C\n",
    "x = 10;\n",
    "if (x<0){\n",
    "printf(\"negativo\");\n",
    "}\n",
    "elif (x==0){\n",
    "printf(\"cero\");\n",
    "}\n",
    "else{\n",
    "printf(\"positivo\");\n",
    "}"
   ]
  },
  {
   "cell_type": "markdown",
   "id": "3bfa4620",
   "metadata": {},
   "source": [
    "## Resolver la ecuación cuadrática\n",
    "Ecuación:\n",
    "$$ ax^2 + bx + c = 0$$\n",
    "\n",
    "Solución:\n",
    "$$x_{1,2} = \\dfrac{-b\\pm \\sqrt{b^2 - 4ac}}{2a}$$ "
   ]
  },
  {
   "cell_type": "code",
   "execution_count": 13,
   "id": "90523057",
   "metadata": {},
   "outputs": [],
   "source": [
    "import math"
   ]
  },
  {
   "cell_type": "code",
   "execution_count": 29,
   "id": "89480976",
   "metadata": {},
   "outputs": [],
   "source": [
    "a = 1\n",
    "b = 2\n",
    "c = 4"
   ]
  },
  {
   "cell_type": "code",
   "execution_count": 35,
   "id": "a7722c16",
   "metadata": {
    "scrolled": true
   },
   "outputs": [
    {
     "name": "stdout",
     "output_type": "stream",
     "text": [
      "x_1 = -1.0 +  1.732j\n",
      "x_2 = -1.0 -  1.732j\n"
     ]
    }
   ],
   "source": [
    "# Discriminante\n",
    "arg = b**2 - 4*a*c\n",
    "if arg>=0:\n",
    "    D = math.sqrt(arg)\n",
    "else:\n",
    "    D = math.sqrt(-arg)\n",
    "#\n",
    "if arg>0:\n",
    "    x_1 = (-b + D)/(2*a)\n",
    "    x_2 = (-b - D)/(2*a)\n",
    "    print(\"x1 =\", x_1)\n",
    "    print(\"x2 =\", x_2)\n",
    "#\n",
    "elif arg==0:\n",
    "    x_1 = x_2 = -b/(2*a)\n",
    "    print(\"x1 =\", x_1)\n",
    "    print(\"x2 =\", x_2)\n",
    "#\n",
    "else:\n",
    "    x_1_re = -b/(2*a)\n",
    "    x_1_im = D/(2*a)\n",
    "    x_2_re = -b/(2*a)\n",
    "    x_2_im = -D/(2*a)\n",
    "    print(f\"x_1 = {x_1_re} + {x_1_im:6.3f}j\")\n",
    "    print(f\"x_2 = {x_1_re} - {x_1_im:6.3f}j\")\n",
    "\n",
    "    \n"
   ]
  },
  {
   "cell_type": "markdown",
   "id": "f5ba3a64",
   "metadata": {},
   "source": [
    "## Ciclos for"
   ]
  },
  {
   "cell_type": "code",
   "execution_count": null,
   "id": "6d5572b1",
   "metadata": {},
   "outputs": [],
   "source": [
    "# ciclos for en C\n",
    "int suma = 0;\n",
    "for (int i=0; i<15; i++){\n",
    "    suma = suma + 1;\n",
    "}"
   ]
  },
  {
   "cell_type": "code",
   "execution_count": 37,
   "id": "d18ba746",
   "metadata": {},
   "outputs": [
    {
     "name": "stdout",
     "output_type": "stream",
     "text": [
      "2\n",
      "-1\n",
      "5\n",
      "hola\n",
      "0.57\n"
     ]
    }
   ],
   "source": [
    "for i in (2, -1, 5, 'hola', 0.57):\n",
    "    print(i)"
   ]
  },
  {
   "cell_type": "code",
   "execution_count": 43,
   "id": "8a0bca04",
   "metadata": {},
   "outputs": [
    {
     "name": "stdout",
     "output_type": "stream",
     "text": [
      "105\n"
     ]
    }
   ],
   "source": [
    "suma = 0\n",
    "for i in range(15):\n",
    "    suma += i # suma = suma + i\n",
    "#\n",
    "print(suma)"
   ]
  },
  {
   "cell_type": "markdown",
   "id": "2c5a8562",
   "metadata": {},
   "source": [
    "# Estructuras de datos\n",
    "## Listas (list)\n",
    "## Arreglos (numpy.array)\n",
    "\n",
    "# Plot"
   ]
  }
 ],
 "metadata": {
  "kernelspec": {
   "display_name": "Python 3 (ipykernel)",
   "language": "python",
   "name": "python3"
  },
  "language_info": {
   "codemirror_mode": {
    "name": "ipython",
    "version": 3
   },
   "file_extension": ".py",
   "mimetype": "text/x-python",
   "name": "python",
   "nbconvert_exporter": "python",
   "pygments_lexer": "ipython3",
   "version": "3.10.7"
  }
 },
 "nbformat": 4,
 "nbformat_minor": 5
}
