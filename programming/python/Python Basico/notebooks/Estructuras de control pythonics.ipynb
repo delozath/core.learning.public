{
 "cells": [
  {
   "cell_type": "markdown",
   "metadata": {},
   "source": [
    "# C. Estructuras de control *pythonics*"
   ]
  },
  {
   "cell_type": "markdown",
   "metadata": {},
   "source": [
    "Python posee una sintáxis que obliga al programador a escribir código legible, ya que a diferencia de C, C++, Java u otros lenguajes de programación de alto nivel, la indicación de inicio o fin de una estructura de control no se marca con llave que abre *{* y llave que cierra *}*, respectivamente, sino con tabulación."
   ]
  },
  {
   "cell_type": "markdown",
   "metadata": {},
   "source": [
    "<br></br>\n",
    "## Estructura de contro *for*\n",
    "\n",
    "El uso de *for* en python se describirá a partir del siguiente problema:\n",
    "<p style=\"background-color:#D8E3CF;\">\n",
    "De la lista de apellidos Aguilera, Bojorges, Dorantes, Martinez, y Mejia, el bot capturista necesita imprimir en pantalla un apellido por fila.</p>"
   ]
  },
  {
   "cell_type": "markdown",
   "metadata": {},
   "source": [
    "La solución en C sería:\n",
    "\n",
    "```C\n",
    "#include  <stdio.h>\n",
    "int main(void)\n",
    "{\n",
    "    char * apellidos[] = { \"Aguilera\", \"Bojorges\", \"Dorantes\", \"Martinez\", \"Mejia\"};\n",
    " \n",
    "    for(int i=0;i<5;i++){\n",
    "      printf( \"%d\\t%s\\n\",i,apellidos[i] );\n",
    "    }\n",
    "}\n",
    "```"
   ]
  },
  {
   "cell_type": "markdown",
   "metadata": {},
   "source": [
    "<p style=\"background-color:#D8E3CF;\">\n",
    " La transliteración directa del código de C a python es la siguiente\n",
    "</p>"
   ]
  },
  {
   "cell_type": "code",
   "execution_count": 2,
   "metadata": {},
   "outputs": [
    {
     "name": "stdout",
     "output_type": "stream",
     "text": [
      "0 Aguilera\n",
      "1 Bojorges\n",
      "2 Dorantes\n",
      "3 Martinez\n",
      "4 Mejia\n"
     ]
    }
   ],
   "source": [
    "x = [\"Aguilera\", \"Bojorges\", \"Dorantes\", \"Martinez\", \"Mejia\"]\n",
    "\n",
    "l = len(x)\n",
    "for i in range(l):\n",
    "    print (i, x[i]) #parte del for\n"
   ]
  },
  {
   "cell_type": "markdown",
   "metadata": {},
   "source": [
    "El ciclo for en python es del tipo <i>for-each</i>, es decir, toma cada uno de los valores de un objeto iterable y lo asigna a una variable; el ciclo se rompe una vez que se han terminado de asignar todos los elementos del objeto iterable.\n",
    "\n",
    "La función del núcleo de python <i>range(a,b)</i> genera un iterador entre los valores \\[a,b); si solo se especifica *a*, el intervalo irá de \\[0, a).\n",
    "\n",
    "De esta forma, la sintaxis\n",
    "\n",
    "```python\n",
    "    for i in range(l):\n",
    "```\n",
    "Asigna a <i>i</i> cada uno de los valores del intervalo especificado por range(l).\n",
    "\n",
    "En python, el bloque de instrucciones que deben ejecutarse en el ciclo for, se indican con tabulador adicional respecto al tabulador base del for; esto equivale al { BLOQUE; } en C.\n",
    "\n",
    "Por otra parte, dado que los objetos list son iterables, la sintaxis\n",
    "\n",
    "```python\n",
    "  x = [1,20,50,'fin']\n",
    "  for i in x:\n",
    "    print(i)\n",
    "  \n",
    "  print(i, ' otra vez')\n",
    "```\n",
    "imprimirá en pantalla:\n",
    "\n",
    "```bash\n",
    "  1\n",
    "  20\n",
    "  50\n",
    "  fin\n",
    "  fin otra vez\n",
    "```\n",
    "\n",
    "Se observa que la variable <i>i</i> permanece con el último valor asignado\n"
   ]
  },
  {
   "cell_type": "markdown",
   "metadata": {},
   "source": [
    "<p style=\"background-color:#D8E3CF;\">\n",
    " Reescribiendo la solución del bot capturista con una sintaxis más <i>pythonic</i>\n",
    "</p>"
   ]
  },
  {
   "cell_type": "code",
   "execution_count": 3,
   "metadata": {},
   "outputs": [
    {
     "name": "stdout",
     "output_type": "stream",
     "text": [
      "Aguilera\n",
      "Bojorges\n",
      "Dorantes\n",
      "Martinez\n",
      "Mejia\n"
     ]
    }
   ],
   "source": [
    "x = [\"Aguilera\", \"Bojorges\", \"Dorantes\", \"Martinez\", \"Mejia\"]\n",
    "for i in x:\n",
    "    print(i)"
   ]
  },
  {
   "cell_type": "markdown",
   "metadata": {},
   "source": [
    "<p style=\"background-color:#D8E3CF;\">\n",
    " Para generar una variable que enumere automáticamente cada elemento iterado se utiliza la función del núcleo de python <i>enumerate</i>\n",
    "</p>"
   ]
  },
  {
   "cell_type": "code",
   "execution_count": 4,
   "metadata": {},
   "outputs": [
    {
     "name": "stdout",
     "output_type": "stream",
     "text": [
      "0 Aguilera\n",
      "1 Bojorges\n",
      "2 Dorantes\n",
      "3 Martinez\n",
      "4 Mejia\n"
     ]
    }
   ],
   "source": [
    "x = [\"Aguilera\", \"Bojorges\", \"Dorantes\", \"Martinez\", \"Mejia\"]\n",
    "for n,i in enumerate(x):\n",
    "    print(n,i)"
   ]
  },
  {
   "cell_type": "markdown",
   "metadata": {},
   "source": [
    "### Iterando multiples listas\n",
    "<p style=\"background-color:#D8E3CF;\">\n",
    " El bot capturista debe imprimir el nombre y apellido de algunos personajes famosos, el problema es que dichos datos están divididos en dos dos listas una para nombres y otra para apellidos. Ayuda al bot a resolver su problema.\n",
    "</p>\n",
    "\n",
    "En este caso la función del núcleo de python \n",
    "\n",
    "```python\n",
    "  zip(x,y)\n",
    "```\n",
    "Genera un objeto iterable de las parejas que se forman al ir recorriendo secuencialmente las listas x, y.\n",
    "\n",
    "<p style=\"background-color:#D8E3CF;\">\n",
    " La solución entonces, implica utilizar for con el iterador zip(), de la siguiente forma\n",
    "</p>\n"
   ]
  },
  {
   "cell_type": "code",
   "execution_count": 8,
   "metadata": {},
   "outputs": [
    {
     "name": "stdout",
     "output_type": "stream",
     "text": [
      "Virgina Wolf\n",
      "Johann Sebastian Matropiero\n",
      "Miguel Saavedra\n",
      "Alejandro Dumas\n",
      "Gabriela Mistral\n"
     ]
    }
   ],
   "source": [
    "x = [\"Wolf\"      , \"Matropiero\"            , \"Saavedra\", \"Dumas\" , \"Mistral\"   ]\n",
    "y = [\"Virgina\"   , \"Johann Sebastian\"    , \"Miguel\"  , \"Alejandro\", \"Gabriela\"]\n",
    "\n",
    "for i,j in zip( y,x ):\n",
    "    print (i,j)"
   ]
  },
  {
   "cell_type": "markdown",
   "metadata": {},
   "source": [
    "<p style=\"background-color:#D8E3CF;\">\n",
    " Si se quisiera imprimir también el índice consecutivo iniciando en 1:\n",
    "</p>"
   ]
  },
  {
   "cell_type": "code",
   "execution_count": 9,
   "metadata": {},
   "outputs": [
    {
     "name": "stdout",
     "output_type": "stream",
     "text": [
      "1 Virgina Wolf\n",
      "2 Johann Sebastian Matropiero\n",
      "3 Miguel Saavedra\n",
      "4 Alejandro Dumas\n",
      "5 Gabriela Mistral\n"
     ]
    }
   ],
   "source": [
    "for n,(i,j) in enumerate(  zip( y,x )  ):\n",
    "    print (n+1,i,j)"
   ]
  },
  {
   "cell_type": "markdown",
   "metadata": {},
   "source": [
    "¿Qué ocurre si las listas no son del mismo tamaño?"
   ]
  },
  {
   "cell_type": "code",
   "execution_count": 10,
   "metadata": {},
   "outputs": [
    {
     "name": "stdout",
     "output_type": "stream",
     "text": [
      "['Wolf', 'Matropiero', 'Saavedra', 'Dumas', 'Mistral'] 5\n",
      "['Virgina', 'Johann Sebastian', 'Miguel', 'Alejandro', 'Gabriela', 'Hipatia'] 6\n"
     ]
    }
   ],
   "source": [
    "y.append('Hipatia')\n",
    "print ( x,len(x) )\n",
    "print ( y,len(y) )"
   ]
  },
  {
   "cell_type": "code",
   "execution_count": 12,
   "metadata": {},
   "outputs": [
    {
     "name": "stdout",
     "output_type": "stream",
     "text": [
      "1 Virgina Wolf\n",
      "2 Johann Sebastian Matropiero\n",
      "3 Miguel Saavedra\n",
      "4 Alejandro Dumas\n",
      "5 Gabriela Mistral\n"
     ]
    }
   ],
   "source": [
    "for n,(i,j) in enumerate(  zip( y,x )  ):\n",
    "    print (n+1,i,j)"
   ]
  },
  {
   "cell_type": "markdown",
   "metadata": {},
   "source": [
    "#### ¿Qué ocurrió con el registro de Hipatia?\n",
    "\n",
    "### Relacionar más de dos listas"
   ]
  },
  {
   "cell_type": "code",
   "execution_count": 16,
   "metadata": {},
   "outputs": [
    {
     "name": "stdout",
     "output_type": "stream",
     "text": [
      "1 Virgina Wolf Licenciatura\n",
      "2 Johann Sebastian Matropiero Licenciatura\n",
      "3 Miguel Saavedra Posgrado\n",
      "4 Alejandro Dumas Licenciatura\n",
      "5 Gabriela Mistral Posgrado\n"
     ]
    }
   ],
   "source": [
    "z = [\"Licenciatura\", \"Licenciatura\", \"Posgrado\", \"Licenciatura\", \"Posgrado\"]\n",
    "for n,(i,j,k) in enumerate(  zip( y,x,z )  ):\n",
    "    print (n+1,i,j,k)"
   ]
  },
  {
   "cell_type": "markdown",
   "metadata": {},
   "source": [
    "<br/>\n",
    "<p style=\"background-color:#D8E3CF;\">\n",
    "El bot capturista tiene tarea de álgebra lineal, debe diseñar un programa que llene automáticamente una matriz de N$\\times$M con una numeración consecutiva. Ayudalo a que no se desvele.\n",
    "</p>\n",
    "\n",
    "<p style=\"background-color:#D8E3CF;\">\n",
    "  En primer lugar se leeran los datos de teclado con el tamaño de la matriz, asumiendo un formato <i>M,N</i>, por ejemplo:\n",
    "</p>\n",
    "\n",
    "```bash\n",
    " Tamaño de la matriz en formato M,N: 5,6\n",
    "```\n",
    "\n",
    "<p style=\"background-color:#D8E3CF;\">\n",
    "   se utilizaría para generar una matríz de 5 filas y 6 columnas\n",
    "</p>"
   ]
  },
  {
   "cell_type": "code",
   "execution_count": 23,
   "metadata": {
    "scrolled": true
   },
   "outputs": [
    {
     "name": "stdout",
     "output_type": "stream",
     "text": [
      "Tamaño de la matriz en formato M,N: 8,4\n",
      "8,4\n"
     ]
    }
   ],
   "source": [
    "Size  = input('Tamaño de la matriz en formato M,N: ')\n",
    "print(Size)"
   ]
  },
  {
   "cell_type": "markdown",
   "metadata": {},
   "source": [
    "\n",
    "<p style=\"background-color:#D8E3CF;\">\n",
    "   El siguiente paso es convertir las cadenas de texto a enteros\n",
    "</p>"
   ]
  },
  {
   "cell_type": "code",
   "execution_count": 24,
   "metadata": {},
   "outputs": [],
   "source": [
    "Size = Size.replace(' ','')\n",
    "Size = Size.split(',')\n",
    "\n",
    "M,N = int(Size[0]), int(Size[1])"
   ]
  },
  {
   "cell_type": "markdown",
   "metadata": {},
   "source": [
    "<p style=\"background-color:#D8E3CF;\">\n",
    "  Finalmente, se realiza el llenado de la matriz\n",
    "</p>"
   ]
  },
  {
   "cell_type": "code",
   "execution_count": 25,
   "metadata": {},
   "outputs": [
    {
     "name": "stdout",
     "output_type": "stream",
     "text": [
      "[[0, 1, 2, 3], [4, 5, 6, 7], [8, 9, 10, 11], [12, 13, 14, 15], [16, 17, 18, 19], [20, 21, 22, 23], [24, 25, 26, 27], [28, 29, 30, 31]]\n"
     ]
    }
   ],
   "source": [
    "x = []\n",
    "for m,i in enumerate( range(M) ):\n",
    "    tmp = []\n",
    "    for n,j in enumerate( range(N) ):\n",
    "        tmp.append( n+m*N )\n",
    "    \n",
    "    x.append(tmp)\n",
    "\n",
    "print (x)"
   ]
  },
  {
   "cell_type": "code",
   "execution_count": 26,
   "metadata": {},
   "outputs": [
    {
     "name": "stdout",
     "output_type": "stream",
     "text": [
      "[0, 1, 2, 3]\n",
      "[4, 5, 6, 7]\n",
      "[8, 9, 10, 11]\n",
      "[12, 13, 14, 15]\n",
      "[16, 17, 18, 19]\n",
      "[20, 21, 22, 23]\n",
      "[24, 25, 26, 27]\n",
      "[28, 29, 30, 31]\n"
     ]
    }
   ],
   "source": [
    "for i in x:\n",
    "    print (i)"
   ]
  },
  {
   "cell_type": "markdown",
   "metadata": {},
   "source": [
    "#### Del código para llenar la matriz, ¿Cuáles sentencias le pertenecen al primer *for*, y cuáles al segundo?"
   ]
  }
 ],
 "metadata": {
  "kernelspec": {
   "display_name": "Python 3",
   "language": "python",
   "name": "python3"
  },
  "language_info": {
   "codemirror_mode": {
    "name": "ipython",
    "version": 3
   },
   "file_extension": ".py",
   "mimetype": "text/x-python",
   "name": "python",
   "nbconvert_exporter": "python",
   "pygments_lexer": "ipython3",
   "version": "3.6.8"
  }
 },
 "nbformat": 4,
 "nbformat_minor": 2
}
