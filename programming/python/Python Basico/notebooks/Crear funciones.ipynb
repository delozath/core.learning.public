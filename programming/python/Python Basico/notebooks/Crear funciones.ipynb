{
 "cells": [
  {
   "cell_type": "markdown",
   "metadata": {},
   "source": [
    "# Crear funciones"
   ]
  },
  {
   "cell_type": "code",
   "execution_count": null,
   "metadata": {},
   "outputs": [],
   "source": [
    "#Estos deben ser importados en el programa principal\n",
    "import numpy             as np\n",
    "import matplotlib.pyplot as plt"
   ]
  },
  {
   "cell_type": "markdown",
   "metadata": {},
   "source": [
    "### Sintáxis\n",
    "\n",
    "```python\n",
    "def nombre_funcion (param1, param2): #No olvidar los dos puntos\n",
    "    #recordar que todo lo tabulado pertenece a la funcion\n",
    "    instruccion1\n",
    "    instruccion2\n",
    "    \n",
    "    #si se dejan espacios entre instrucciones, tambien debe haber tabulacion\n",
    "    #si no la hay, implica que la funcion ha terminado\n",
    "    instruccion2\n",
    "    instruccion4\n",
    "    \n",
    "    return valor#la funcion puede no regresar valores\n",
    "```"
   ]
  },
  {
   "cell_type": "markdown",
   "metadata": {},
   "source": [
    "Ejemplo. Función que convierta una lista en un numpy array. Debe regresar la lista convertida y además, la suma, promedio, máximo y mínimo de una"
   ]
  },
  {
   "cell_type": "code",
   "execution_count": null,
   "metadata": {},
   "outputs": [],
   "source": [
    "def calcs(datos):\n",
    "    a  = np.array( datos )\n",
    "    ma = a.max()\n",
    "    mi = a.min()\n",
    "    s  = a.sum()\n",
    "    p  = a.mean()\n",
    "    return a.copy(),ma,mi,s,p"
   ]
  },
  {
   "cell_type": "markdown",
   "metadata": {},
   "source": [
    "Uso de la función"
   ]
  },
  {
   "cell_type": "code",
   "execution_count": null,
   "metadata": {},
   "outputs": [],
   "source": [
    "x = [1,5,8,-2,4,12]\n",
    "r = calcs(x)\n",
    "\n",
    "print( r[0]  )\n",
    "print( r[1:] )"
   ]
  }
 ],
 "metadata": {
  "kernelspec": {
   "display_name": "Python 3",
   "language": "python",
   "name": "python3"
  },
  "language_info": {
   "codemirror_mode": {
    "name": "ipython",
    "version": 3
   },
   "file_extension": ".py",
   "mimetype": "text/x-python",
   "name": "python",
   "nbconvert_exporter": "python",
   "pygments_lexer": "ipython3",
   "version": "3.6.8"
  }
 },
 "nbformat": 4,
 "nbformat_minor": 2
}
